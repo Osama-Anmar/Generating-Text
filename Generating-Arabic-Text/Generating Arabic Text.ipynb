{
 "cells": [
  {
   "cell_type": "markdown",
   "metadata": {},
   "source": [
    "# Import Libraries"
   ]
  },
  {
   "cell_type": "code",
   "execution_count": 1,
   "metadata": {},
   "outputs": [],
   "source": [
    "import tensorflow as tf\n",
    "import numpy as np\n",
    "import warnings\n",
    "import os\n",
    "import matplotlib.pyplot as plt\n",
    "from arabic_text_normalization import text_normalization\n",
    "tf.random.set_seed(1)"
   ]
  },
  {
   "cell_type": "markdown",
   "metadata": {},
   "source": [
    "# Ignore Warnings"
   ]
  },
  {
   "cell_type": "code",
   "execution_count": 2,
   "metadata": {},
   "outputs": [],
   "source": [
    "os.environ['TF_CPP_MIN_LOG_LEVEL'] = '3'\n",
    "warnings.filterwarnings(action='ignore')"
   ]
  },
  {
   "cell_type": "markdown",
   "metadata": {},
   "source": [
    "# Read Data"
   ]
  },
  {
   "cell_type": "code",
   "execution_count": 3,
   "metadata": {},
   "outputs": [],
   "source": [
    "Corpus = open('Stories.txt', encoding='utf8').read().split(\"\\n\")\n",
    "Corpus = [text_normalization(text) for text in Corpus]"
   ]
  },
  {
   "cell_type": "markdown",
   "metadata": {},
   "source": [
    "# Preprocessing Data For Deep Learning Model"
   ]
  },
  {
   "cell_type": "code",
   "execution_count": 4,
   "metadata": {},
   "outputs": [
    {
     "data": {
      "text/plain": [
       "10433"
      ]
     },
     "execution_count": 4,
     "metadata": {},
     "output_type": "execute_result"
    }
   ],
   "source": [
    "tokenizer = tf.keras.preprocessing.text.Tokenizer()\n",
    "tokenizer.fit_on_texts(Corpus)\n",
    "all_words = len(tokenizer.word_index) + 1\n",
    "all_words"
   ]
  },
  {
   "cell_type": "markdown",
   "metadata": {},
   "source": [
    "# Generate Input Sequences"
   ]
  },
  {
   "cell_type": "code",
   "execution_count": 5,
   "metadata": {},
   "outputs": [],
   "source": [
    "input_sequence_ = []\n",
    "for line in Corpus:\n",
    "    token = tokenizer.texts_to_sequences([line])[0]\n",
    "    for i in range(1, len(token)):\n",
    "        n_grams = token[:i+1]\n",
    "        input_sequence_.append(n_grams)\n",
    "        \n",
    "max_length =  max([len(x) for x in input_sequence_])\n",
    "input_sequence_ = np.array(tf.keras.utils.pad_sequences(input_sequence_, maxlen= max_length, padding='pre'))"
   ]
  },
  {
   "cell_type": "markdown",
   "metadata": {},
   "source": [
    "# Generate Train And Label Data For Model"
   ]
  },
  {
   "cell_type": "code",
   "execution_count": 6,
   "metadata": {},
   "outputs": [],
   "source": [
    "train, label = input_sequence_[:,:-1], input_sequence_[:,-1]"
   ]
  },
  {
   "cell_type": "markdown",
   "metadata": {},
   "source": [
    "# Convert Label Data"
   ]
  },
  {
   "cell_type": "code",
   "execution_count": 7,
   "metadata": {},
   "outputs": [],
   "source": [
    "label = tf.keras.utils.to_categorical(label, num_classes=all_words)"
   ]
  },
  {
   "cell_type": "markdown",
   "metadata": {},
   "source": [
    "# Deep Learning Models"
   ]
  },
  {
   "cell_type": "code",
   "execution_count": 8,
   "metadata": {},
   "outputs": [],
   "source": [
    "early_stop = tf.keras.callbacks.EarlyStopping(\n",
    "    monitor='accuracy',\n",
    "    patience=3,\n",
    "    restore_best_weights=True,\n",
    ")"
   ]
  },
  {
   "cell_type": "markdown",
   "metadata": {},
   "source": [
    "**1-LSTM**"
   ]
  },
  {
   "cell_type": "code",
   "execution_count": 9,
   "metadata": {},
   "outputs": [],
   "source": [
    "LSTM = tf.keras.Sequential([\n",
    "                tf.keras.layers.Embedding(input_dim = all_words, output_dim=100, input_length=max_length-1),\n",
    "                tf.keras.layers.LSTM(128, return_sequences=True),\n",
    "                tf.keras.layers.LSTM(64, return_sequences=False),\n",
    "                tf.keras.layers.Dense(all_words, activation= 'softmax')\n",
    "                ])     "
   ]
  },
  {
   "cell_type": "code",
   "execution_count": 10,
   "metadata": {},
   "outputs": [],
   "source": [
    "LSTM.compile(\n",
    "    loss=tf.keras.losses.CategoricalCrossentropy(), \n",
    "    optimizer=tf.keras.optimizers.legacy.Adam(), \n",
    "    metrics=['accuracy'])"
   ]
  },
  {
   "cell_type": "code",
   "execution_count": 11,
   "metadata": {},
   "outputs": [
    {
     "name": "stdout",
     "output_type": "stream",
     "text": [
      "Epoch 1/150\n",
      "1312/1312 [==============================] - 70s 51ms/step - loss: 8.1573 - accuracy: 0.0214\n",
      "Epoch 2/150\n",
      "1312/1312 [==============================] - 69s 53ms/step - loss: 7.6126 - accuracy: 0.0269\n",
      "Epoch 3/150\n",
      "1312/1312 [==============================] - 71s 54ms/step - loss: 7.3185 - accuracy: 0.0339\n",
      "Epoch 4/150\n",
      "1312/1312 [==============================] - 68s 52ms/step - loss: 7.0609 - accuracy: 0.0444\n",
      "Epoch 5/150\n",
      "1312/1312 [==============================] - 68s 52ms/step - loss: 6.8125 - accuracy: 0.0564\n",
      "Epoch 6/150\n",
      "1312/1312 [==============================] - 68s 52ms/step - loss: 6.5612 - accuracy: 0.0676\n",
      "Epoch 7/150\n",
      "1312/1312 [==============================] - 68s 52ms/step - loss: 6.3126 - accuracy: 0.0786\n",
      "Epoch 8/150\n",
      "1312/1312 [==============================] - 69s 53ms/step - loss: 6.0685 - accuracy: 0.0882\n",
      "Epoch 9/150\n",
      "1312/1312 [==============================] - 69s 53ms/step - loss: 5.8217 - accuracy: 0.0990\n",
      "Epoch 10/150\n",
      "1312/1312 [==============================] - 69s 53ms/step - loss: 5.5802 - accuracy: 0.1136\n",
      "Epoch 11/150\n",
      "1312/1312 [==============================] - 70s 54ms/step - loss: 5.3502 - accuracy: 0.1263\n",
      "Epoch 12/150\n",
      "1312/1312 [==============================] - 69s 53ms/step - loss: 5.1185 - accuracy: 0.1402\n",
      "Epoch 13/150\n",
      "1312/1312 [==============================] - 71s 54ms/step - loss: 4.8939 - accuracy: 0.1528\n",
      "Epoch 14/150\n",
      "1312/1312 [==============================] - 71s 54ms/step - loss: 4.6765 - accuracy: 0.1674\n",
      "Epoch 15/150\n",
      "1312/1312 [==============================] - 67s 51ms/step - loss: 4.4677 - accuracy: 0.1838\n",
      "Epoch 16/150\n",
      "1312/1312 [==============================] - 69s 53ms/step - loss: 4.2693 - accuracy: 0.2002\n",
      "Epoch 17/150\n",
      "1312/1312 [==============================] - 69s 53ms/step - loss: 4.0738 - accuracy: 0.2197\n",
      "Epoch 18/150\n",
      "1312/1312 [==============================] - 70s 53ms/step - loss: 3.8836 - accuracy: 0.2413\n",
      "Epoch 19/150\n",
      "1312/1312 [==============================] - 69s 53ms/step - loss: 3.6967 - accuracy: 0.2652\n",
      "Epoch 20/150\n",
      "1312/1312 [==============================] - 70s 53ms/step - loss: 3.5201 - accuracy: 0.2911\n",
      "Epoch 21/150\n",
      "1312/1312 [==============================] - 69s 53ms/step - loss: 3.3478 - accuracy: 0.3172\n",
      "Epoch 22/150\n",
      "1312/1312 [==============================] - 69s 53ms/step - loss: 3.1823 - accuracy: 0.3454\n",
      "Epoch 23/150\n",
      "1312/1312 [==============================] - 69s 53ms/step - loss: 3.0216 - accuracy: 0.3719\n",
      "Epoch 24/150\n",
      "1312/1312 [==============================] - 70s 53ms/step - loss: 2.8694 - accuracy: 0.4041\n",
      "Epoch 25/150\n",
      "1312/1312 [==============================] - 69s 53ms/step - loss: 2.7227 - accuracy: 0.4347\n",
      "Epoch 26/150\n",
      "1312/1312 [==============================] - 69s 53ms/step - loss: 2.5842 - accuracy: 0.4637\n",
      "Epoch 27/150\n",
      "1312/1312 [==============================] - 69s 53ms/step - loss: 2.4557 - accuracy: 0.4897\n",
      "Epoch 28/150\n",
      "1312/1312 [==============================] - 70s 53ms/step - loss: 2.3319 - accuracy: 0.5161\n",
      "Epoch 29/150\n",
      "1312/1312 [==============================] - 71s 54ms/step - loss: 2.2119 - accuracy: 0.5413\n",
      "Epoch 30/150\n",
      "1312/1312 [==============================] - 69s 53ms/step - loss: 2.1042 - accuracy: 0.5634\n",
      "Epoch 31/150\n",
      "1312/1312 [==============================] - 67s 51ms/step - loss: 1.9997 - accuracy: 0.5853\n",
      "Epoch 32/150\n",
      "1312/1312 [==============================] - 70s 53ms/step - loss: 1.9026 - accuracy: 0.6055\n",
      "Epoch 33/150\n",
      "1312/1312 [==============================] - 71s 54ms/step - loss: 1.8109 - accuracy: 0.6241\n",
      "Epoch 34/150\n",
      "1312/1312 [==============================] - 70s 54ms/step - loss: 1.7197 - accuracy: 0.6428\n",
      "Epoch 35/150\n",
      "1312/1312 [==============================] - 72s 55ms/step - loss: 1.6387 - accuracy: 0.6582\n",
      "Epoch 36/150\n",
      "1312/1312 [==============================] - 73s 55ms/step - loss: 1.5534 - accuracy: 0.6780\n",
      "Epoch 37/150\n",
      "1312/1312 [==============================] - 70s 53ms/step - loss: 1.4798 - accuracy: 0.6947\n",
      "Epoch 38/150\n",
      "1312/1312 [==============================] - 70s 54ms/step - loss: 1.4085 - accuracy: 0.7086\n",
      "Epoch 39/150\n",
      "1312/1312 [==============================] - 71s 54ms/step - loss: 1.3398 - accuracy: 0.7247\n",
      "Epoch 40/150\n",
      "1312/1312 [==============================] - 71s 54ms/step - loss: 1.2728 - accuracy: 0.7384\n",
      "Epoch 41/150\n",
      "1312/1312 [==============================] - 70s 54ms/step - loss: 1.2163 - accuracy: 0.7486\n",
      "Epoch 42/150\n",
      "1312/1312 [==============================] - 70s 53ms/step - loss: 1.1574 - accuracy: 0.7612\n",
      "Epoch 43/150\n",
      "1312/1312 [==============================] - 70s 53ms/step - loss: 1.0987 - accuracy: 0.7760\n",
      "Epoch 44/150\n",
      "1312/1312 [==============================] - 70s 53ms/step - loss: 1.0488 - accuracy: 0.7867\n",
      "Epoch 45/150\n",
      "1312/1312 [==============================] - 70s 53ms/step - loss: 0.9987 - accuracy: 0.7967\n",
      "Epoch 46/150\n",
      "1312/1312 [==============================] - 70s 53ms/step - loss: 0.9537 - accuracy: 0.8065\n",
      "Epoch 47/150\n",
      "1312/1312 [==============================] - 71s 54ms/step - loss: 0.9051 - accuracy: 0.8174\n",
      "Epoch 48/150\n",
      "1312/1312 [==============================] - 70s 53ms/step - loss: 0.8630 - accuracy: 0.8254\n",
      "Epoch 49/150\n",
      "1312/1312 [==============================] - 70s 54ms/step - loss: 0.8264 - accuracy: 0.8350\n",
      "Epoch 50/150\n",
      "1312/1312 [==============================] - 70s 54ms/step - loss: 0.7824 - accuracy: 0.8436\n",
      "Epoch 51/150\n",
      "1312/1312 [==============================] - 70s 53ms/step - loss: 0.7503 - accuracy: 0.8507\n",
      "Epoch 52/150\n",
      "1312/1312 [==============================] - 70s 54ms/step - loss: 0.7157 - accuracy: 0.8607\n",
      "Epoch 53/150\n",
      "1312/1312 [==============================] - 72s 55ms/step - loss: 0.6823 - accuracy: 0.8676\n",
      "Epoch 54/150\n",
      "1312/1312 [==============================] - 71s 54ms/step - loss: 0.6511 - accuracy: 0.8742\n",
      "Epoch 55/150\n",
      "1312/1312 [==============================] - 72s 55ms/step - loss: 0.6200 - accuracy: 0.8804\n",
      "Epoch 56/150\n",
      "1312/1312 [==============================] - 70s 53ms/step - loss: 0.5948 - accuracy: 0.8844\n",
      "Epoch 57/150\n",
      "1312/1312 [==============================] - 73s 56ms/step - loss: 0.5699 - accuracy: 0.8908\n",
      "Epoch 58/150\n",
      "1312/1312 [==============================] - 76s 58ms/step - loss: 0.5434 - accuracy: 0.8968\n",
      "Epoch 59/150\n",
      "1312/1312 [==============================] - 75s 57ms/step - loss: 0.5208 - accuracy: 0.9002\n",
      "Epoch 60/150\n",
      "1312/1312 [==============================] - 76s 58ms/step - loss: 0.5003 - accuracy: 0.9050\n",
      "Epoch 61/150\n",
      "1312/1312 [==============================] - 71s 54ms/step - loss: 0.4757 - accuracy: 0.9108\n",
      "Epoch 62/150\n",
      "1312/1312 [==============================] - 69s 53ms/step - loss: 0.4602 - accuracy: 0.9128\n",
      "Epoch 63/150\n",
      "1312/1312 [==============================] - 70s 53ms/step - loss: 0.4404 - accuracy: 0.9153\n",
      "Epoch 64/150\n",
      "1312/1312 [==============================] - 71s 54ms/step - loss: 0.4231 - accuracy: 0.9189\n",
      "Epoch 65/150\n",
      "1312/1312 [==============================] - 70s 54ms/step - loss: 0.4078 - accuracy: 0.9221\n",
      "Epoch 66/150\n",
      "1312/1312 [==============================] - 70s 53ms/step - loss: 0.3949 - accuracy: 0.9241\n",
      "Epoch 67/150\n",
      "1312/1312 [==============================] - 67s 51ms/step - loss: 0.3804 - accuracy: 0.9272\n",
      "Epoch 68/150\n",
      "1312/1312 [==============================] - 67s 51ms/step - loss: 0.3655 - accuracy: 0.9291\n",
      "Epoch 69/150\n",
      "1312/1312 [==============================] - 67s 51ms/step - loss: 0.3503 - accuracy: 0.9326\n",
      "Epoch 70/150\n",
      "1312/1312 [==============================] - 67s 51ms/step - loss: 0.3457 - accuracy: 0.9338\n",
      "Epoch 71/150\n",
      "1312/1312 [==============================] - 67s 51ms/step - loss: 0.3298 - accuracy: 0.9351\n",
      "Epoch 72/150\n",
      "1312/1312 [==============================] - 67s 51ms/step - loss: 0.3220 - accuracy: 0.9357\n",
      "Epoch 73/150\n",
      "1312/1312 [==============================] - 67s 51ms/step - loss: 0.3140 - accuracy: 0.9367\n",
      "Epoch 74/150\n",
      "1312/1312 [==============================] - 67s 51ms/step - loss: 0.3015 - accuracy: 0.9394\n",
      "Epoch 75/150\n",
      "1312/1312 [==============================] - 71s 54ms/step - loss: 0.2915 - accuracy: 0.9409\n",
      "Epoch 76/150\n",
      "1312/1312 [==============================] - 67s 51ms/step - loss: 0.2874 - accuracy: 0.9413\n",
      "Epoch 77/150\n",
      "1312/1312 [==============================] - 70s 54ms/step - loss: 0.2868 - accuracy: 0.9412\n",
      "Epoch 78/150\n",
      "1312/1312 [==============================] - 72s 55ms/step - loss: 0.2713 - accuracy: 0.9436\n",
      "Epoch 79/150\n",
      "1312/1312 [==============================] - 70s 54ms/step - loss: 0.2581 - accuracy: 0.9454\n",
      "Epoch 80/150\n",
      "1312/1312 [==============================] - 69s 52ms/step - loss: 0.2589 - accuracy: 0.9456\n",
      "Epoch 81/150\n",
      "1312/1312 [==============================] - 72s 55ms/step - loss: 0.2574 - accuracy: 0.9449\n",
      "Epoch 82/150\n",
      "1312/1312 [==============================] - 72s 55ms/step - loss: 0.2458 - accuracy: 0.9466\n",
      "Epoch 83/150\n",
      "1312/1312 [==============================] - 70s 53ms/step - loss: 0.2443 - accuracy: 0.9468\n",
      "Epoch 84/150\n",
      "1312/1312 [==============================] - 71s 54ms/step - loss: 0.2358 - accuracy: 0.9480\n",
      "Epoch 85/150\n",
      "1312/1312 [==============================] - 71s 54ms/step - loss: 0.2346 - accuracy: 0.9476\n",
      "Epoch 86/150\n",
      "1312/1312 [==============================] - 70s 54ms/step - loss: 0.2338 - accuracy: 0.9478\n",
      "Epoch 87/150\n",
      "1312/1312 [==============================] - 75s 57ms/step - loss: 0.2222 - accuracy: 0.9501\n",
      "Epoch 88/150\n",
      "1312/1312 [==============================] - 74s 57ms/step - loss: 0.2237 - accuracy: 0.9491\n",
      "Epoch 89/150\n",
      "1312/1312 [==============================] - 69s 52ms/step - loss: 0.2204 - accuracy: 0.9499\n",
      "Epoch 90/150\n",
      "1312/1312 [==============================] - 72s 55ms/step - loss: 0.2105 - accuracy: 0.9506\n",
      "Epoch 91/150\n",
      "1312/1312 [==============================] - 70s 53ms/step - loss: 0.2100 - accuracy: 0.9510\n",
      "Epoch 92/150\n",
      "1312/1312 [==============================] - 70s 53ms/step - loss: 0.2213 - accuracy: 0.9484\n",
      "Epoch 93/150\n",
      "1312/1312 [==============================] - 70s 53ms/step - loss: 0.2043 - accuracy: 0.9514\n",
      "Epoch 94/150\n",
      "1312/1312 [==============================] - 70s 53ms/step - loss: 0.1990 - accuracy: 0.9518\n",
      "Epoch 95/150\n",
      "1312/1312 [==============================] - 69s 53ms/step - loss: 0.2082 - accuracy: 0.9500\n",
      "Epoch 96/150\n",
      "1312/1312 [==============================] - 70s 53ms/step - loss: 0.2030 - accuracy: 0.9508\n",
      "Epoch 97/150\n",
      "1312/1312 [==============================] - 71s 54ms/step - loss: 0.1900 - accuracy: 0.9533\n",
      "Epoch 98/150\n",
      "1312/1312 [==============================] - 71s 54ms/step - loss: 0.1946 - accuracy: 0.9517\n",
      "Epoch 99/150\n",
      "1312/1312 [==============================] - 70s 53ms/step - loss: 0.2107 - accuracy: 0.9477\n",
      "Epoch 100/150\n",
      "1312/1312 [==============================] - 70s 53ms/step - loss: 0.1936 - accuracy: 0.9514\n"
     ]
    }
   ],
   "source": [
    "with tf.device('gpu:0'):\n",
    "    history = LSTM.fit(train, label, epochs=150, callbacks=[early_stop])"
   ]
  },
  {
   "cell_type": "code",
   "execution_count": 12,
   "metadata": {},
   "outputs": [],
   "source": [
    "accuracy = history.history['accuracy']\n",
    "loss = history.history['loss']  "
   ]
  },
  {
   "cell_type": "code",
   "execution_count": 13,
   "metadata": {},
   "outputs": [
    {
     "data": {
      "image/png": "[encoded data removed]",
      "text/plain": [
       "<Figure size 640x480 with 1 Axes>"
      ]
     },
     "metadata": {},
     "output_type": "display_data"
    }
   ],
   "source": [
    "plt.plot(accuracy, label='Accuracy')\n",
    "plt.plot(loss, label='Loss')\n",
    "plt.legend()\n",
    "plt.show()"
   ]
  },
  {
   "cell_type": "markdown",
   "metadata": {},
   "source": [
    "**2-GRU**"
   ]
  },
  {
   "cell_type": "code",
   "execution_count": 14,
   "metadata": {},
   "outputs": [],
   "source": [
    "GRU = tf.keras.Sequential([\n",
    "                tf.keras.layers.Embedding(input_dim = all_words, output_dim=100, input_length=max_length-1),\n",
    "                tf.keras.layers.GRU(128, return_sequences=False),\n",
    "                tf.keras.layers.Dense(all_words, activation= 'softmax')\n",
    "                ])   "
   ]
  },
  {
   "cell_type": "code",
   "execution_count": 15,
   "metadata": {},
   "outputs": [],
   "source": [
    "GRU.compile(\n",
    "    loss=tf.keras.losses.CategoricalCrossentropy(), \n",
    "    optimizer=tf.keras.optimizers.legacy.Adam(), \n",
    "    metrics=['accuracy'])"
   ]
  },
  {
   "cell_type": "code",
   "execution_count": 16,
   "metadata": {},
   "outputs": [
    {
     "name": "stdout",
     "output_type": "stream",
     "text": [
      "Epoch 1/150\n",
      "1312/1312 [==============================] - 69s 51ms/step - loss: 8.0816 - accuracy: 0.0246\n",
      "Epoch 2/150\n",
      "1312/1312 [==============================] - 61s 47ms/step - loss: 7.1094 - accuracy: 0.0516\n",
      "Epoch 3/150\n",
      "1312/1312 [==============================] - 61s 46ms/step - loss: 6.2876 - accuracy: 0.0853\n",
      "Epoch 4/150\n",
      "1312/1312 [==============================] - 63s 48ms/step - loss: 5.5032 - accuracy: 0.1160\n",
      "Epoch 5/150\n",
      "1312/1312 [==============================] - 64s 48ms/step - loss: 4.7679 - accuracy: 0.1590\n",
      "Epoch 6/150\n",
      "1312/1312 [==============================] - 75s 58ms/step - loss: 4.0858 - accuracy: 0.2357\n",
      "Epoch 7/150\n",
      "1312/1312 [==============================] - 67s 51ms/step - loss: 3.4671 - accuracy: 0.3315\n",
      "Epoch 8/150\n",
      "1312/1312 [==============================] - 61s 47ms/step - loss: 2.9053 - accuracy: 0.4328\n",
      "Epoch 9/150\n",
      "1312/1312 [==============================] - 62s 47ms/step - loss: 2.4216 - accuracy: 0.5197\n",
      "Epoch 10/150\n",
      "1312/1312 [==============================] - 61s 47ms/step - loss: 2.0155 - accuracy: 0.5988\n",
      "Epoch 11/150\n",
      "1312/1312 [==============================] - 61s 46ms/step - loss: 1.6859 - accuracy: 0.6618\n",
      "Epoch 12/150\n",
      "1312/1312 [==============================] - 61s 46ms/step - loss: 1.4156 - accuracy: 0.7159\n",
      "Epoch 13/150\n",
      "1312/1312 [==============================] - 60s 46ms/step - loss: 1.1940 - accuracy: 0.7593\n",
      "Epoch 14/150\n",
      "1312/1312 [==============================] - 60s 46ms/step - loss: 1.0139 - accuracy: 0.7975\n",
      "Epoch 15/150\n",
      "1312/1312 [==============================] - 60s 46ms/step - loss: 0.8618 - accuracy: 0.8290\n",
      "Epoch 16/150\n",
      "1312/1312 [==============================] - 62s 47ms/step - loss: 0.7387 - accuracy: 0.8529\n",
      "Epoch 17/150\n",
      "1312/1312 [==============================] - 60s 46ms/step - loss: 0.6333 - accuracy: 0.8765\n",
      "Epoch 18/150\n",
      "1312/1312 [==============================] - 64s 49ms/step - loss: 0.5525 - accuracy: 0.8919\n",
      "Epoch 19/150\n",
      "1312/1312 [==============================] - 59s 45ms/step - loss: 0.4824 - accuracy: 0.9063\n",
      "Epoch 20/150\n",
      "1312/1312 [==============================] - 66s 50ms/step - loss: 0.4276 - accuracy: 0.9157\n",
      "Epoch 21/150\n",
      "1312/1312 [==============================] - 61s 46ms/step - loss: 0.3816 - accuracy: 0.9266\n",
      "Epoch 22/150\n",
      "1312/1312 [==============================] - 60s 46ms/step - loss: 0.3438 - accuracy: 0.9329\n",
      "Epoch 23/150\n",
      "1312/1312 [==============================] - 60s 46ms/step - loss: 0.3129 - accuracy: 0.9377\n",
      "Epoch 24/150\n",
      "1312/1312 [==============================] - 60s 46ms/step - loss: 0.2886 - accuracy: 0.9413\n",
      "Epoch 25/150\n",
      "1312/1312 [==============================] - 64s 48ms/step - loss: 0.2641 - accuracy: 0.9462\n",
      "Epoch 26/150\n",
      "1312/1312 [==============================] - 62s 47ms/step - loss: 0.2510 - accuracy: 0.9480\n",
      "Epoch 27/150\n",
      "1312/1312 [==============================] - 61s 47ms/step - loss: 0.2376 - accuracy: 0.9489\n",
      "Epoch 28/150\n",
      "1312/1312 [==============================] - 65s 49ms/step - loss: 0.2312 - accuracy: 0.9495\n",
      "Epoch 29/150\n",
      "1312/1312 [==============================] - 60s 46ms/step - loss: 0.2169 - accuracy: 0.9517\n",
      "Epoch 30/150\n",
      "1312/1312 [==============================] - 60s 46ms/step - loss: 0.2090 - accuracy: 0.9526\n",
      "Epoch 31/150\n",
      "1312/1312 [==============================] - 59s 45ms/step - loss: 0.2057 - accuracy: 0.9521\n",
      "Epoch 32/150\n",
      "1312/1312 [==============================] - 59s 45ms/step - loss: 0.2003 - accuracy: 0.9529\n",
      "Epoch 33/150\n",
      "1312/1312 [==============================] - 60s 46ms/step - loss: 0.1976 - accuracy: 0.9529\n",
      "Epoch 34/150\n",
      "1312/1312 [==============================] - 83s 64ms/step - loss: 0.1897 - accuracy: 0.9544\n",
      "Epoch 35/150\n",
      "1312/1312 [==============================] - 60s 46ms/step - loss: 0.1870 - accuracy: 0.9539\n",
      "Epoch 36/150\n",
      "1312/1312 [==============================] - 57s 44ms/step - loss: 0.1893 - accuracy: 0.9533\n",
      "Epoch 37/150\n",
      "1312/1312 [==============================] - 57s 43ms/step - loss: 0.1852 - accuracy: 0.9540\n"
     ]
    }
   ],
   "source": [
    "with tf.device('gpu:0'):\n",
    "    history = GRU.fit(train, label, epochs=150, callbacks=[early_stop])"
   ]
  },
  {
   "cell_type": "code",
   "execution_count": 17,
   "metadata": {},
   "outputs": [],
   "source": [
    "accuracy = history.history['accuracy']\n",
    "loss = history.history['loss']  "
   ]
  },
  {
   "cell_type": "code",
   "execution_count": 18,
   "metadata": {},
   "outputs": [
    {
     "data": {
      "image/png": "[encoded data removed]",
      "text/plain": [
       "<Figure size 640x480 with 1 Axes>"
      ]
     },
     "metadata": {},
     "output_type": "display_data"
    }
   ],
   "source": [
    "plt.plot(accuracy, label='Accuracy')\n",
    "plt.plot(loss, label='Loss')\n",
    "plt.legend()\n",
    "plt.show()"
   ]
  },
  {
   "cell_type": "markdown",
   "metadata": {},
   "source": [
    "**3-Bidirectional LSTM**"
   ]
  },
  {
   "cell_type": "code",
   "execution_count": 19,
   "metadata": {},
   "outputs": [],
   "source": [
    "Bidirectional_LSTM = tf.keras.Sequential([\n",
    "                tf.keras.layers.Embedding(input_dim = all_words, output_dim=100, input_length=max_length-1),\n",
    "                tf.keras.layers.Bidirectional(tf.keras.layers.LSTM(128, return_sequences=False)),\n",
    "                tf.keras.layers.Dense(all_words, activation= 'softmax')\n",
    "                ])   "
   ]
  },
  {
   "cell_type": "code",
   "execution_count": 20,
   "metadata": {},
   "outputs": [],
   "source": [
    "Bidirectional_LSTM.compile(\n",
    "    loss=tf.keras.losses.CategoricalCrossentropy(), \n",
    "    optimizer=tf.keras.optimizers.legacy.Adam(), \n",
    "    metrics=['accuracy'])"
   ]
  },
  {
   "cell_type": "code",
   "execution_count": 21,
   "metadata": {},
   "outputs": [
    {
     "name": "stdout",
     "output_type": "stream",
     "text": [
      "Epoch 1/150\n",
      "1312/1312 [==============================] - 89s 65ms/step - loss: 8.0649 - accuracy: 0.0247\n",
      "Epoch 2/150\n",
      "1312/1312 [==============================] - 87s 66ms/step - loss: 7.2499 - accuracy: 0.0452\n",
      "Epoch 3/150\n",
      "1312/1312 [==============================] - 85s 65ms/step - loss: 6.5360 - accuracy: 0.0736\n",
      "Epoch 4/150\n",
      "1312/1312 [==============================] - 85s 65ms/step - loss: 5.8692 - accuracy: 0.0992\n",
      "Epoch 5/150\n",
      "1312/1312 [==============================] - 85s 65ms/step - loss: 5.2312 - accuracy: 0.1286\n",
      "Epoch 6/150\n",
      "1312/1312 [==============================] - 85s 64ms/step - loss: 4.6230 - accuracy: 0.1755\n",
      "Epoch 7/150\n",
      "1312/1312 [==============================] - 87s 66ms/step - loss: 4.0551 - accuracy: 0.2465\n",
      "Epoch 8/150\n",
      "1312/1312 [==============================] - 86s 65ms/step - loss: 3.5214 - accuracy: 0.3330\n",
      "Epoch 9/150\n",
      "1312/1312 [==============================] - 90s 69ms/step - loss: 3.0303 - accuracy: 0.4198\n",
      "Epoch 10/150\n",
      "1312/1312 [==============================] - 107s 82ms/step - loss: 2.5897 - accuracy: 0.5044\n",
      "Epoch 11/150\n",
      "1312/1312 [==============================] - 95s 72ms/step - loss: 2.2086 - accuracy: 0.5731\n",
      "Epoch 12/150\n",
      "1312/1312 [==============================] - 92s 70ms/step - loss: 1.8838 - accuracy: 0.6358\n",
      "Epoch 13/150\n",
      "1312/1312 [==============================] - 91s 69ms/step - loss: 1.6065 - accuracy: 0.6900\n",
      "Epoch 14/150\n",
      "1312/1312 [==============================] - 91s 69ms/step - loss: 1.3686 - accuracy: 0.7395\n",
      "Epoch 15/150\n",
      "1312/1312 [==============================] - 90s 69ms/step - loss: 1.1663 - accuracy: 0.7817\n",
      "Epoch 16/150\n",
      "1312/1312 [==============================] - 91s 70ms/step - loss: 0.9949 - accuracy: 0.8161\n",
      "Epoch 17/150\n",
      "1312/1312 [==============================] - 90s 69ms/step - loss: 0.8467 - accuracy: 0.8447\n",
      "Epoch 18/150\n",
      "1312/1312 [==============================] - 89s 68ms/step - loss: 0.7294 - accuracy: 0.8703\n",
      "Epoch 19/150\n",
      "1312/1312 [==============================] - 94s 72ms/step - loss: 0.6214 - accuracy: 0.8887\n",
      "Epoch 20/150\n",
      "1312/1312 [==============================] - 111s 85ms/step - loss: 0.5349 - accuracy: 0.9054\n",
      "Epoch 21/150\n",
      "1312/1312 [==============================] - 96s 73ms/step - loss: 0.4674 - accuracy: 0.9171\n",
      "Epoch 22/150\n",
      "1312/1312 [==============================] - 96s 73ms/step - loss: 0.4075 - accuracy: 0.9283\n",
      "Epoch 23/150\n",
      "1312/1312 [==============================] - 97s 74ms/step - loss: 0.3597 - accuracy: 0.9340\n",
      "Epoch 24/150\n",
      "1312/1312 [==============================] - 118s 90ms/step - loss: 0.3186 - accuracy: 0.9400\n",
      "Epoch 25/150\n",
      "1312/1312 [==============================] - 91s 70ms/step - loss: 0.2908 - accuracy: 0.9437\n",
      "Epoch 26/150\n",
      "1312/1312 [==============================] - 95s 73ms/step - loss: 0.2634 - accuracy: 0.9480\n",
      "Epoch 27/150\n",
      "1312/1312 [==============================] - 97s 74ms/step - loss: 0.2441 - accuracy: 0.9491\n",
      "Epoch 28/150\n",
      "1312/1312 [==============================] - 95s 72ms/step - loss: 0.2302 - accuracy: 0.9508\n",
      "Epoch 29/150\n",
      "1312/1312 [==============================] - 98s 75ms/step - loss: 0.2162 - accuracy: 0.9519\n",
      "Epoch 30/150\n",
      "1312/1312 [==============================] - 93s 71ms/step - loss: 0.2055 - accuracy: 0.9531\n",
      "Epoch 31/150\n",
      "1312/1312 [==============================] - 99s 76ms/step - loss: 0.1984 - accuracy: 0.9534\n",
      "Epoch 32/150\n",
      "1312/1312 [==============================] - 103s 79ms/step - loss: 0.1880 - accuracy: 0.9546\n",
      "Epoch 33/150\n",
      "1312/1312 [==============================] - 101s 77ms/step - loss: 0.1811 - accuracy: 0.9547\n",
      "Epoch 34/150\n",
      "1312/1312 [==============================] - 96s 73ms/step - loss: 0.1773 - accuracy: 0.9546\n",
      "Epoch 35/150\n",
      "1312/1312 [==============================] - 96s 73ms/step - loss: 0.1806 - accuracy: 0.9539\n",
      "Epoch 36/150\n",
      "1312/1312 [==============================] - 98s 74ms/step - loss: 0.1714 - accuracy: 0.9547\n",
      "Epoch 37/150\n",
      "1312/1312 [==============================] - 105s 80ms/step - loss: 0.1661 - accuracy: 0.9555\n",
      "Epoch 38/150\n",
      "1312/1312 [==============================] - 92s 70ms/step - loss: 0.1627 - accuracy: 0.9559\n",
      "Epoch 39/150\n",
      "1312/1312 [==============================] - 94s 71ms/step - loss: 0.1636 - accuracy: 0.9556\n",
      "Epoch 40/150\n",
      "1312/1312 [==============================] - 99s 76ms/step - loss: 0.1656 - accuracy: 0.9548\n",
      "Epoch 41/150\n",
      "1312/1312 [==============================] - 96s 74ms/step - loss: 0.1597 - accuracy: 0.9551\n"
     ]
    }
   ],
   "source": [
    "with tf.device('gpu:0'):\n",
    "    history = Bidirectional_LSTM.fit(train, label, epochs=150, callbacks=[early_stop])"
   ]
  },
  {
   "cell_type": "code",
   "execution_count": 22,
   "metadata": {},
   "outputs": [],
   "source": [
    "accuracy = history.history['accuracy']\n",
    "loss = history.history['loss']  "
   ]
  },
  {
   "cell_type": "code",
   "execution_count": 23,
   "metadata": {},
   "outputs": [
    {
     "data": {
      "image/png": "[encoded data removed]",
      "text/plain": [
       "<Figure size 640x480 with 1 Axes>"
      ]
     },
     "metadata": {},
     "output_type": "display_data"
    }
   ],
   "source": [
    "plt.plot(accuracy, label='Accuracy')\n",
    "plt.plot(loss, label='Loss')\n",
    "plt.legend()\n",
    "plt.show()"
   ]
  },
  {
   "cell_type": "markdown",
   "metadata": {},
   "source": [
    "# Predict Next Word"
   ]
  },
  {
   "cell_type": "markdown",
   "metadata": {},
   "source": [
    "**1-LSTM**"
   ]
  },
  {
   "cell_type": "code",
   "execution_count": 38,
   "metadata": {},
   "outputs": [
    {
     "name": "stdout",
     "output_type": "stream",
     "text": [
      " الْغَرِيبُ\n",
      " الْغَرِيبُ الْأَمِيرَةُ\n",
      " الْغَرِيبُ الْأَمِيرَةُ الثَّانِي\n",
      " الْغَرِيبُ الْأَمِيرَةُ الثَّانِي الْعَمْلَاقَ\n",
      " الْغَرِيبُ الْأَمِيرَةُ الثَّانِي الْعَمْلَاقَ الْأَوَّلَ\n",
      " الْغَرِيبُ الْأَمِيرَةُ الثَّانِي الْعَمْلَاقَ الْأَوَّلَ بِقُوَّةٍ\n",
      " الْغَرِيبُ الْأَمِيرَةُ الثَّانِي الْعَمْلَاقَ الْأَوَّلَ بِقُوَّةٍ فَقَامَ\n",
      " الْغَرِيبُ الْأَمِيرَةُ الثَّانِي الْعَمْلَاقَ الْأَوَّلَ بِقُوَّةٍ فَقَامَ الْأَوَّلُ\n",
      " الْغَرِيبُ الْأَمِيرَةُ الثَّانِي الْعَمْلَاقَ الْأَوَّلَ بِقُوَّةٍ فَقَامَ الْأَوَّلُ وَضَرَبَ\n",
      " الْغَرِيبُ الْأَمِيرَةُ الثَّانِي الْعَمْلَاقَ الْأَوَّلَ بِقُوَّةٍ فَقَامَ الْأَوَّلُ وَضَرَبَ الثَّانِي\n",
      " الْغَرِيبُ الْأَمِيرَةُ الثَّانِي الْعَمْلَاقَ الْأَوَّلَ بِقُوَّةٍ فَقَامَ الْأَوَّلُ وَضَرَبَ الثَّانِي بَقِي\n",
      " الْغَرِيبُ الْأَمِيرَةُ الثَّانِي الْعَمْلَاقَ الْأَوَّلَ بِقُوَّةٍ فَقَامَ الْأَوَّلُ وَضَرَبَ الثَّانِي بَقِي الْعِمْلَاقَانِ\n",
      " \n",
      "Full Generated Text:  الْغَرِيبُ الْأَمِيرَةُ الثَّانِي الْعَمْلَاقَ الْأَوَّلَ بِقُوَّةٍ فَقَامَ الْأَوَّلُ وَضَرَبَ الثَّانِي بَقِي الْعِمْلَاقَانِ\n"
     ]
    }
   ],
   "source": [
    "text = \"\"\n",
    "number_of_words = 12\n",
    "for _ in range(number_of_words): \n",
    "    token_list = tokenizer.texts_to_sequences([text])[0] \n",
    "    token_list = tf.keras.utils.pad_sequences([token_list], maxlen=max_length-1, padding='pre') \n",
    "    predicted_probs = LSTM.predict(token_list, verbose=0) \n",
    "    word = tokenizer.index_word[np.argmax(predicted_probs)] \n",
    "    text += \" \" + word \n",
    "    print(text)\n",
    "print(\" \")\n",
    "print(\"Full Generated Text:\", text) "
   ]
  },
  {
   "cell_type": "markdown",
   "metadata": {},
   "source": [
    "**2-GRU**"
   ]
  },
  {
   "cell_type": "code",
   "execution_count": 57,
   "metadata": {},
   "outputs": [
    {
     "name": "stdout",
     "output_type": "stream",
     "text": [
      " أَخَذَ\n",
      " أَخَذَ أَحْمدُ\n",
      " أَخَذَ أَحْمدُ الْبَقَرَةَ\n",
      " أَخَذَ أَحْمدُ الْبَقَرَةَ وَعَادَ\n",
      " أَخَذَ أَحْمدُ الْبَقَرَةَ وَعَادَ إِلَى\n",
      " أَخَذَ أَحْمدُ الْبَقَرَةَ وَعَادَ إِلَى الْبَيْتِ\n",
      " أَخَذَ أَحْمدُ الْبَقَرَةَ وَعَادَ إِلَى الْبَيْتِ ثُمَّ\n",
      " أَخَذَ أَحْمدُ الْبَقَرَةَ وَعَادَ إِلَى الْبَيْتِ ثُمَّ أَدْخَلَ\n",
      " أَخَذَ أَحْمدُ الْبَقَرَةَ وَعَادَ إِلَى الْبَيْتِ ثُمَّ أَدْخَلَ الْبَقَرَةَ\n",
      " أَخَذَ أَحْمدُ الْبَقَرَةَ وَعَادَ إِلَى الْبَيْتِ ثُمَّ أَدْخَلَ الْبَقَرَةَ إِلَى\n",
      " أَخَذَ أَحْمدُ الْبَقَرَةَ وَعَادَ إِلَى الْبَيْتِ ثُمَّ أَدْخَلَ الْبَقَرَةَ إِلَى الْحَظِيرَةِ\n",
      " أَخَذَ أَحْمدُ الْبَقَرَةَ وَعَادَ إِلَى الْبَيْتِ ثُمَّ أَدْخَلَ الْبَقَرَةَ إِلَى الْحَظِيرَةِ وَذَهَبَ\n",
      " أَخَذَ أَحْمدُ الْبَقَرَةَ وَعَادَ إِلَى الْبَيْتِ ثُمَّ أَدْخَلَ الْبَقَرَةَ إِلَى الْحَظِيرَةِ وَذَهَبَ إِلَى\n",
      " أَخَذَ أَحْمدُ الْبَقَرَةَ وَعَادَ إِلَى الْبَيْتِ ثُمَّ أَدْخَلَ الْبَقَرَةَ إِلَى الْحَظِيرَةِ وَذَهَبَ إِلَى أَبِيهِ\n",
      " \n",
      "Full Generated Text:  أَخَذَ أَحْمدُ الْبَقَرَةَ وَعَادَ إِلَى الْبَيْتِ ثُمَّ أَدْخَلَ الْبَقَرَةَ إِلَى الْحَظِيرَةِ وَذَهَبَ إِلَى أَبِيهِ\n"
     ]
    }
   ],
   "source": [
    "text = \"\"\n",
    "number_of_words = 14\n",
    "for _ in range(number_of_words): \n",
    "    token_list = tokenizer.texts_to_sequences([text])[0] \n",
    "    token_list = tf.keras.utils.pad_sequences([token_list], maxlen=max_length-1, padding='pre') \n",
    "    predicted_probs = GRU.predict(token_list, verbose=0) \n",
    "    word = tokenizer.index_word[np.argmax(predicted_probs)] \n",
    "    text += \" \" + word \n",
    "    print(text)\n",
    "print(\" \")\n",
    "print(\"Full Generated Text:\", text) "
   ]
  },
  {
   "cell_type": "markdown",
   "metadata": {},
   "source": [
    "**3-Bidirectional LSTM**"
   ]
  },
  {
   "cell_type": "code",
   "execution_count": 40,
   "metadata": {},
   "outputs": [
    {
     "name": "stdout",
     "output_type": "stream",
     "text": [
      " الْأُمُّ\n",
      " الْأُمُّ اِبْنَهَا\n",
      " الْأُمُّ اِبْنَهَا سَافَرَ\n",
      " الْأُمُّ اِبْنَهَا سَافَرَ بَطَلُ\n",
      " الْأُمُّ اِبْنَهَا سَافَرَ بَطَلُ أَثِينَا\n",
      " الْأُمُّ اِبْنَهَا سَافَرَ بَطَلُ أَثِينَا إِلَى\n",
      " الْأُمُّ اِبْنَهَا سَافَرَ بَطَلُ أَثِينَا إِلَى مَدِينَةِ\n",
      " الْأُمُّ اِبْنَهَا سَافَرَ بَطَلُ أَثِينَا إِلَى مَدِينَةِ أَبِيهِ\n",
      " الْأُمُّ اِبْنَهَا سَافَرَ بَطَلُ أَثِينَا إِلَى مَدِينَةِ أَبِيهِ جَابَهَ\n",
      " الْأُمُّ اِبْنَهَا سَافَرَ بَطَلُ أَثِينَا إِلَى مَدِينَةِ أَبِيهِ جَابَهَ بَطَلُ\n",
      " الْأُمُّ اِبْنَهَا سَافَرَ بَطَلُ أَثِينَا إِلَى مَدِينَةِ أَبِيهِ جَابَهَ بَطَلُ أَثِينَا\n",
      " الْأُمُّ اِبْنَهَا سَافَرَ بَطَلُ أَثِينَا إِلَى مَدِينَةِ أَبِيهِ جَابَهَ بَطَلُ أَثِينَا الْكَثِيرَ\n",
      " \n",
      "Full Generated Text:  الْأُمُّ اِبْنَهَا سَافَرَ بَطَلُ أَثِينَا إِلَى مَدِينَةِ أَبِيهِ جَابَهَ بَطَلُ أَثِينَا الْكَثِيرَ\n"
     ]
    }
   ],
   "source": [
    "text = \"\"\n",
    "number_of_words = 12\n",
    "for _ in range(number_of_words): \n",
    "    token_list = tokenizer.texts_to_sequences([text])[0] \n",
    "    token_list = tf.keras.utils.pad_sequences([token_list], maxlen=max_length-1, padding='pre') \n",
    "    predicted_probs = Bidirectional_LSTM.predict(token_list, verbose=0) \n",
    "    word = tokenizer.index_word[np.argmax(predicted_probs)] \n",
    "    text += \" \" + word \n",
    "    print(text)\n",
    "print(\" \")\n",
    "print(\"Full Generated Text:\", text) "
   ]
  },
  {
   "cell_type": "markdown",
   "metadata": {},
   "source": [
    "# Save The Models"
   ]
  },
  {
   "cell_type": "code",
   "execution_count": 41,
   "metadata": {},
   "outputs": [],
   "source": [
    "LSTM.save('Arabic_LSTM.h5')"
   ]
  },
  {
   "cell_type": "code",
   "execution_count": 42,
   "metadata": {},
   "outputs": [],
   "source": [
    "Bidirectional_LSTM.save('Arabic_Bidirectional_LSTM.h5')"
   ]
  },
  {
   "cell_type": "code",
   "execution_count": 43,
   "metadata": {},
   "outputs": [],
   "source": [
    "GRU.save('Arabic_GRU.h5')"
   ]
  },
  {
   "cell_type": "code",
   "execution_count": null,
   "metadata": {},
   "outputs": [],
   "source": []
  }
 ],
 "metadata": {
  "kernelspec": {
   "display_name": "Python 3",
   "language": "python",
   "name": "python3"
  },
  "language_info": {
   "codemirror_mode": {
    "name": "ipython",
    "version": 3
   },
   "file_extension": ".py",
   "mimetype": "text/x-python",
   "name": "python",
   "nbconvert_exporter": "python",
   "pygments_lexer": "ipython3",
   "version": "3.11.9"
  }
 },
 "nbformat": 4,
 "nbformat_minor": 2
}
