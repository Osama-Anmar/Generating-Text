{
 "cells": [
  {
   "cell_type": "markdown",
   "metadata": {},
   "source": [
    "# Import Libraries"
   ]
  },
  {
   "cell_type": "code",
   "execution_count": 1,
   "metadata": {},
   "outputs": [],
   "source": [
    "import tensorflow as tf\n",
    "import numpy as np\n",
    "import warnings\n",
    "import os\n",
    "import matplotlib.pyplot as plt\n",
    "from text_normalization import text_normalization\n",
    "tf.random.set_seed(1)"
   ]
  },
  {
   "cell_type": "markdown",
   "metadata": {},
   "source": [
    "# Ignore Warnings"
   ]
  },
  {
   "cell_type": "code",
   "execution_count": 2,
   "metadata": {},
   "outputs": [],
   "source": [
    "os.environ['TF_CPP_MIN_LOG_LEVEL'] = '3'\n",
    "warnings.filterwarnings(action='ignore')"
   ]
  },
  {
   "cell_type": "markdown",
   "metadata": {},
   "source": [
    "# Read Data"
   ]
  },
  {
   "cell_type": "code",
   "execution_count": 3,
   "metadata": {},
   "outputs": [],
   "source": [
    "Corpus = open('Stories.txt', encoding='utf8').read().split(\"\\n\")\n",
    "Corpus = [text_normalization(text) for text in Corpus]"
   ]
  },
  {
   "cell_type": "markdown",
   "metadata": {},
   "source": [
    "# Preprocessing Data For Deep Learning Model"
   ]
  },
  {
   "cell_type": "code",
   "execution_count": 4,
   "metadata": {},
   "outputs": [
    {
     "data": {
      "text/plain": [
       "10433"
      ]
     },
     "execution_count": 4,
     "metadata": {},
     "output_type": "execute_result"
    }
   ],
   "source": [
    "tokenizer = tf.keras.preprocessing.text.Tokenizer()\n",
    "tokenizer.fit_on_texts(Corpus)\n",
    "all_words = len(tokenizer.word_index) + 1\n",
    "all_words"
   ]
  },
  {
   "cell_type": "markdown",
   "metadata": {},
   "source": [
    "# Generate Input Sequences"
   ]
  },
  {
   "cell_type": "code",
   "execution_count": 5,
   "metadata": {},
   "outputs": [],
   "source": [
    "input_sequence_ = []\n",
    "for line in Corpus:\n",
    "    token = tokenizer.texts_to_sequences([line])[0]\n",
    "    for i in range(1, len(token)):\n",
    "        n_grams = token[:i+1]\n",
    "        input_sequence_.append(n_grams)\n",
    "        \n",
    "max_length =  max([len(x) for x in input_sequence_])\n",
    "input_sequence_ = np.array(tf.keras.utils.pad_sequences(input_sequence_, maxlen= max_length, padding='pre'))"
   ]
  },
  {
   "cell_type": "markdown",
   "metadata": {},
   "source": [
    "# Generate Train And Label Data For Model"
   ]
  },
  {
   "cell_type": "code",
   "execution_count": 6,
   "metadata": {},
   "outputs": [],
   "source": [
    "train, label = input_sequence_[:,:-1], input_sequence_[:,-1]"
   ]
  },
  {
   "cell_type": "markdown",
   "metadata": {},
   "source": [
    "# Convert Label Data"
   ]
  },
  {
   "cell_type": "code",
   "execution_count": 7,
   "metadata": {},
   "outputs": [],
   "source": [
    "label = tf.keras.utils.to_categorical(label, num_classes=all_words)"
   ]
  },
  {
   "cell_type": "markdown",
   "metadata": {},
   "source": [
    "# Deep Learning Models"
   ]
  },
  {
   "cell_type": "code",
   "execution_count": 8,
   "metadata": {},
   "outputs": [],
   "source": [
    "early_stop = tf.keras.callbacks.EarlyStopping(\n",
    "    monitor='accuracy',\n",
    "    patience=3,\n",
    "    restore_best_weights=True,\n",
    ")"
   ]
  },
  {
   "cell_type": "markdown",
   "metadata": {},
   "source": [
    "**1-LSTM**"
   ]
  },
  {
   "cell_type": "code",
   "execution_count": 9,
   "metadata": {},
   "outputs": [],
   "source": [
    "LSTM = tf.keras.Sequential([\n",
    "                tf.keras.layers.Embedding(input_dim = all_words, output_dim=100, input_length=max_length-1),\n",
    "                tf.keras.layers.LSTM(128, return_sequences=False),\n",
    "                tf.keras.layers.Dense(all_words, activation= 'softmax')\n",
    "                ])     "
   ]
  },
  {
   "cell_type": "code",
   "execution_count": 10,
   "metadata": {},
   "outputs": [],
   "source": [
    "LSTM.compile(\n",
    "    loss=tf.keras.losses.CategoricalCrossentropy(), \n",
    "    optimizer=tf.keras.optimizers.legacy.Adam(), \n",
    "    metrics=['accuracy'])"
   ]
  },
  {
   "cell_type": "code",
   "execution_count": 11,
   "metadata": {},
   "outputs": [
    {
     "name": "stdout",
     "output_type": "stream",
     "text": [
      "Epoch 1/150\n",
      "1312/1312 [==============================] - 56s 42ms/step - loss: 8.0991 - accuracy: 0.0234\n",
      "Epoch 2/150\n",
      "1312/1312 [==============================] - 55s 42ms/step - loss: 7.3786 - accuracy: 0.0381\n",
      "Epoch 3/150\n",
      "1312/1312 [==============================] - 56s 42ms/step - loss: 6.7435 - accuracy: 0.0657\n",
      "Epoch 4/150\n",
      "1312/1312 [==============================] - 56s 43ms/step - loss: 6.1051 - accuracy: 0.0907\n",
      "Epoch 5/150\n",
      "1312/1312 [==============================] - 56s 43ms/step - loss: 5.4936 - accuracy: 0.1161\n",
      "Epoch 6/150\n",
      "1312/1312 [==============================] - 56s 43ms/step - loss: 4.9050 - accuracy: 0.1529\n",
      "Epoch 7/150\n",
      "1312/1312 [==============================] - 56s 43ms/step - loss: 4.3515 - accuracy: 0.2067\n",
      "Epoch 8/150\n",
      "1312/1312 [==============================] - 56s 43ms/step - loss: 3.8231 - accuracy: 0.2813\n",
      "Epoch 9/150\n",
      "1312/1312 [==============================] - 57s 43ms/step - loss: 3.3299 - accuracy: 0.3696\n",
      "Epoch 10/150\n",
      "1312/1312 [==============================] - 57s 43ms/step - loss: 2.8736 - accuracy: 0.4516\n",
      "Epoch 11/150\n",
      "1312/1312 [==============================] - 56s 43ms/step - loss: 2.4677 - accuracy: 0.5284\n",
      "Epoch 12/150\n",
      "1312/1312 [==============================] - 56s 43ms/step - loss: 2.1173 - accuracy: 0.5951\n",
      "Epoch 13/150\n",
      "1312/1312 [==============================] - 57s 43ms/step - loss: 1.8205 - accuracy: 0.6512\n",
      "Epoch 14/150\n",
      "1312/1312 [==============================] - 55s 42ms/step - loss: 1.5644 - accuracy: 0.7015\n",
      "Epoch 15/150\n",
      "1312/1312 [==============================] - 54s 41ms/step - loss: 1.3463 - accuracy: 0.7451\n",
      "Epoch 16/150\n",
      "1312/1312 [==============================] - 54s 41ms/step - loss: 1.1574 - accuracy: 0.7822\n",
      "Epoch 17/150\n",
      "1312/1312 [==============================] - 55s 42ms/step - loss: 0.9936 - accuracy: 0.8162\n",
      "Epoch 18/150\n",
      "1312/1312 [==============================] - 57s 43ms/step - loss: 0.8553 - accuracy: 0.8429\n",
      "Epoch 19/150\n",
      "1312/1312 [==============================] - 58s 44ms/step - loss: 0.7396 - accuracy: 0.8662\n",
      "Epoch 20/150\n",
      "1312/1312 [==============================] - 57s 44ms/step - loss: 0.6388 - accuracy: 0.8856\n",
      "Epoch 21/150\n",
      "1312/1312 [==============================] - 58s 44ms/step - loss: 0.5538 - accuracy: 0.9031\n",
      "Epoch 22/150\n",
      "1312/1312 [==============================] - 58s 44ms/step - loss: 0.4825 - accuracy: 0.9154\n",
      "Epoch 23/150\n",
      "1312/1312 [==============================] - 58s 44ms/step - loss: 0.4229 - accuracy: 0.9262\n",
      "Epoch 24/150\n",
      "1312/1312 [==============================] - 58s 44ms/step - loss: 0.3735 - accuracy: 0.9322\n",
      "Epoch 25/150\n",
      "1312/1312 [==============================] - 55s 42ms/step - loss: 0.3342 - accuracy: 0.9391\n",
      "Epoch 26/150\n",
      "1312/1312 [==============================] - 56s 43ms/step - loss: 0.3013 - accuracy: 0.9436\n",
      "Epoch 27/150\n",
      "1312/1312 [==============================] - 57s 44ms/step - loss: 0.2764 - accuracy: 0.9467\n",
      "Epoch 28/150\n",
      "1312/1312 [==============================] - 58s 44ms/step - loss: 0.2540 - accuracy: 0.9491\n",
      "Epoch 29/150\n",
      "1312/1312 [==============================] - 55s 42ms/step - loss: 0.2370 - accuracy: 0.9501\n",
      "Epoch 30/150\n",
      "1312/1312 [==============================] - 55s 42ms/step - loss: 0.2211 - accuracy: 0.9521\n",
      "Epoch 31/150\n",
      "1312/1312 [==============================] - 55s 42ms/step - loss: 0.2092 - accuracy: 0.9533\n",
      "Epoch 32/150\n",
      "1312/1312 [==============================] - 55s 42ms/step - loss: 0.2011 - accuracy: 0.9531\n",
      "Epoch 33/150\n",
      "1312/1312 [==============================] - 57s 43ms/step - loss: 0.1926 - accuracy: 0.9545\n",
      "Epoch 34/150\n",
      "1312/1312 [==============================] - 57s 43ms/step - loss: 0.1853 - accuracy: 0.9542\n",
      "Epoch 35/150\n",
      "1312/1312 [==============================] - 57s 43ms/step - loss: 0.1807 - accuracy: 0.9544\n",
      "Epoch 36/150\n",
      "1312/1312 [==============================] - 57s 43ms/step - loss: 0.1753 - accuracy: 0.9553\n",
      "Epoch 37/150\n",
      "1312/1312 [==============================] - 57s 43ms/step - loss: 0.1745 - accuracy: 0.9557\n",
      "Epoch 38/150\n",
      "1312/1312 [==============================] - 57s 43ms/step - loss: 0.1681 - accuracy: 0.9557\n",
      "Epoch 39/150\n",
      "1312/1312 [==============================] - 57s 43ms/step - loss: 0.1649 - accuracy: 0.9558\n",
      "Epoch 40/150\n",
      "1312/1312 [==============================] - 57s 43ms/step - loss: 0.1625 - accuracy: 0.9557\n",
      "Epoch 41/150\n",
      "1312/1312 [==============================] - 57s 43ms/step - loss: 0.1607 - accuracy: 0.9556\n",
      "Epoch 42/150\n",
      "1312/1312 [==============================] - 56s 43ms/step - loss: 0.1620 - accuracy: 0.9560\n",
      "Epoch 43/150\n",
      "1312/1312 [==============================] - 56s 43ms/step - loss: 0.1607 - accuracy: 0.9556\n",
      "Epoch 44/150\n",
      "1312/1312 [==============================] - 57s 43ms/step - loss: 0.1544 - accuracy: 0.9557\n",
      "Epoch 45/150\n",
      "1312/1312 [==============================] - 57s 43ms/step - loss: 0.1527 - accuracy: 0.9560\n"
     ]
    }
   ],
   "source": [
    "with tf.device('gpu:0'):\n",
    "    history = LSTM.fit(train, label, epochs=150, callbacks=[early_stop])"
   ]
  },
  {
   "cell_type": "code",
   "execution_count": 12,
   "metadata": {},
   "outputs": [],
   "source": [
    "accuracy = history.history['accuracy']\n",
    "loss = history.history['loss']  "
   ]
  },
  {
   "cell_type": "code",
   "execution_count": 13,
   "metadata": {},
   "outputs": [
    {
     "data": {
      "image/png": "[encoded data removed]",
      "text/plain": [
       "<Figure size 640x480 with 1 Axes>"
      ]
     },
     "metadata": {},
     "output_type": "display_data"
    }
   ],
   "source": [
    "plt.plot(accuracy, label='Accuracy')\n",
    "plt.plot(loss, label='Loss')\n",
    "plt.legend()\n",
    "plt.show()"
   ]
  },
  {
   "cell_type": "markdown",
   "metadata": {},
   "source": [
    "**2-GRU**"
   ]
  },
  {
   "cell_type": "code",
   "execution_count": 14,
   "metadata": {},
   "outputs": [],
   "source": [
    "GRU = tf.keras.Sequential([\n",
    "                tf.keras.layers.Embedding(input_dim = all_words, output_dim=100, input_length=max_length-1),\n",
    "                tf.keras.layers.GRU(128, return_sequences=False),\n",
    "                tf.keras.layers.Dense(all_words, activation= 'softmax')\n",
    "                ])   "
   ]
  },
  {
   "cell_type": "code",
   "execution_count": 15,
   "metadata": {},
   "outputs": [],
   "source": [
    "GRU.compile(\n",
    "    loss=tf.keras.losses.CategoricalCrossentropy(), \n",
    "    optimizer=tf.keras.optimizers.legacy.Adam(), \n",
    "    metrics=['accuracy'])"
   ]
  },
  {
   "cell_type": "code",
   "execution_count": 16,
   "metadata": {},
   "outputs": [
    {
     "name": "stdout",
     "output_type": "stream",
     "text": [
      "Epoch 1/150\n",
      "1312/1312 [==============================] - 65s 48ms/step - loss: 8.0897 - accuracy: 0.0254\n",
      "Epoch 2/150\n",
      "1312/1312 [==============================] - 58s 44ms/step - loss: 7.1061 - accuracy: 0.0525\n",
      "Epoch 3/150\n",
      "1312/1312 [==============================] - 57s 44ms/step - loss: 6.2833 - accuracy: 0.0844\n",
      "Epoch 4/150\n",
      "1312/1312 [==============================] - 58s 44ms/step - loss: 5.4934 - accuracy: 0.1162\n",
      "Epoch 5/150\n",
      "1312/1312 [==============================] - 57s 44ms/step - loss: 4.7495 - accuracy: 0.1638\n",
      "Epoch 6/150\n",
      "1312/1312 [==============================] - 57s 44ms/step - loss: 4.0606 - accuracy: 0.2375\n",
      "Epoch 7/150\n",
      "1312/1312 [==============================] - 57s 44ms/step - loss: 3.4400 - accuracy: 0.3355\n",
      "Epoch 8/150\n",
      "1312/1312 [==============================] - 57s 44ms/step - loss: 2.8792 - accuracy: 0.4337\n",
      "Epoch 9/150\n",
      "1312/1312 [==============================] - 57s 44ms/step - loss: 2.4001 - accuracy: 0.5239\n",
      "Epoch 10/150\n",
      "1312/1312 [==============================] - 57s 44ms/step - loss: 2.0000 - accuracy: 0.5986\n",
      "Epoch 11/150\n",
      "1312/1312 [==============================] - 57s 44ms/step - loss: 1.6746 - accuracy: 0.6618\n",
      "Epoch 12/150\n",
      "1312/1312 [==============================] - 57s 44ms/step - loss: 1.4110 - accuracy: 0.7151\n",
      "Epoch 13/150\n",
      "1312/1312 [==============================] - 57s 44ms/step - loss: 1.1936 - accuracy: 0.7592\n",
      "Epoch 14/150\n",
      "1312/1312 [==============================] - 57s 44ms/step - loss: 1.0127 - accuracy: 0.7968\n",
      "Epoch 15/150\n",
      "1312/1312 [==============================] - 57s 43ms/step - loss: 0.8619 - accuracy: 0.8285\n",
      "Epoch 16/150\n",
      "1312/1312 [==============================] - 57s 43ms/step - loss: 0.7385 - accuracy: 0.8531\n",
      "Epoch 17/150\n",
      "1312/1312 [==============================] - 57s 43ms/step - loss: 0.6371 - accuracy: 0.8747\n",
      "Epoch 18/150\n",
      "1312/1312 [==============================] - 57s 43ms/step - loss: 0.5514 - accuracy: 0.8935\n",
      "Epoch 19/150\n",
      "1312/1312 [==============================] - 57s 43ms/step - loss: 0.4830 - accuracy: 0.9062\n",
      "Epoch 20/150\n",
      "1312/1312 [==============================] - 57s 43ms/step - loss: 0.4269 - accuracy: 0.9175\n",
      "Epoch 21/150\n",
      "1312/1312 [==============================] - 57s 44ms/step - loss: 0.3830 - accuracy: 0.9262\n",
      "Epoch 22/150\n",
      "1312/1312 [==============================] - 57s 43ms/step - loss: 0.3422 - accuracy: 0.9340\n",
      "Epoch 23/150\n",
      "1312/1312 [==============================] - 57s 43ms/step - loss: 0.3122 - accuracy: 0.9384\n",
      "Epoch 24/150\n",
      "1312/1312 [==============================] - 57s 43ms/step - loss: 0.2886 - accuracy: 0.9415\n",
      "Epoch 25/150\n",
      "1312/1312 [==============================] - 57s 43ms/step - loss: 0.2670 - accuracy: 0.9452\n",
      "Epoch 26/150\n",
      "1312/1312 [==============================] - 57s 43ms/step - loss: 0.2508 - accuracy: 0.9473\n",
      "Epoch 27/150\n",
      "1312/1312 [==============================] - 57s 43ms/step - loss: 0.2414 - accuracy: 0.9486\n",
      "Epoch 28/150\n",
      "1312/1312 [==============================] - 56s 43ms/step - loss: 0.2257 - accuracy: 0.9510\n",
      "Epoch 29/150\n",
      "1312/1312 [==============================] - 57s 43ms/step - loss: 0.2157 - accuracy: 0.9511\n",
      "Epoch 30/150\n",
      "1312/1312 [==============================] - 57s 43ms/step - loss: 0.2124 - accuracy: 0.9523\n",
      "Epoch 31/150\n",
      "1312/1312 [==============================] - 56s 43ms/step - loss: 0.2060 - accuracy: 0.9525\n",
      "Epoch 32/150\n",
      "1312/1312 [==============================] - 56s 43ms/step - loss: 0.1998 - accuracy: 0.9532\n",
      "Epoch 33/150\n",
      "1312/1312 [==============================] - 56s 43ms/step - loss: 0.1956 - accuracy: 0.9537\n",
      "Epoch 34/150\n",
      "1312/1312 [==============================] - 56s 43ms/step - loss: 0.1907 - accuracy: 0.9538\n",
      "Epoch 35/150\n",
      "1312/1312 [==============================] - 56s 43ms/step - loss: 0.1871 - accuracy: 0.9533\n",
      "Epoch 36/150\n",
      "1312/1312 [==============================] - 56s 43ms/step - loss: 0.1892 - accuracy: 0.9536\n",
      "Epoch 37/150\n",
      "1312/1312 [==============================] - 56s 43ms/step - loss: 0.1872 - accuracy: 0.9533\n"
     ]
    }
   ],
   "source": [
    "with tf.device('gpu:0'):\n",
    "    history = GRU.fit(train, label, epochs=150, callbacks=[early_stop])"
   ]
  },
  {
   "cell_type": "code",
   "execution_count": 17,
   "metadata": {},
   "outputs": [],
   "source": [
    "accuracy = history.history['accuracy']\n",
    "loss = history.history['loss']  "
   ]
  },
  {
   "cell_type": "code",
   "execution_count": 18,
   "metadata": {},
   "outputs": [
    {
     "data": {
      "image/png": "[encoded data removed]",
      "text/plain": [
       "<Figure size 640x480 with 1 Axes>"
      ]
     },
     "metadata": {},
     "output_type": "display_data"
    }
   ],
   "source": [
    "plt.plot(accuracy, label='Accuracy')\n",
    "plt.plot(loss, label='Loss')\n",
    "plt.legend()\n",
    "plt.show()"
   ]
  },
  {
   "cell_type": "markdown",
   "metadata": {},
   "source": [
    "**3-Bidirectional LSTM**"
   ]
  },
  {
   "cell_type": "code",
   "execution_count": 19,
   "metadata": {},
   "outputs": [],
   "source": [
    "Bidirectional_LSTM = tf.keras.Sequential([\n",
    "                tf.keras.layers.Embedding(input_dim = all_words, output_dim=100, input_length=max_length-1),\n",
    "                tf.keras.layers.Bidirectional(tf.keras.layers.LSTM(256, return_sequences=False)),\n",
    "                tf.keras.layers.Dense(all_words, activation= 'softmax')\n",
    "                ])   "
   ]
  },
  {
   "cell_type": "code",
   "execution_count": 20,
   "metadata": {},
   "outputs": [],
   "source": [
    "Bidirectional_LSTM.compile(\n",
    "    loss=tf.keras.losses.CategoricalCrossentropy(), \n",
    "    optimizer=tf.keras.optimizers.legacy.Adam(), \n",
    "    metrics=['accuracy'])"
   ]
  },
  {
   "cell_type": "code",
   "execution_count": 21,
   "metadata": {},
   "outputs": [
    {
     "name": "stdout",
     "output_type": "stream",
     "text": [
      "Epoch 1/150\n",
      "1312/1312 [==============================] - 114s 84ms/step - loss: 8.0313 - accuracy: 0.0244\n",
      "Epoch 2/150\n",
      "1312/1312 [==============================] - 106s 80ms/step - loss: 7.0654 - accuracy: 0.0578\n",
      "Epoch 3/150\n",
      "1312/1312 [==============================] - 106s 81ms/step - loss: 6.1582 - accuracy: 0.0920\n",
      "Epoch 4/150\n",
      "1312/1312 [==============================] - 106s 81ms/step - loss: 5.1867 - accuracy: 0.1292\n",
      "Epoch 5/150\n",
      "1312/1312 [==============================] - 106s 81ms/step - loss: 4.2140 - accuracy: 0.1980\n",
      "Epoch 6/150\n",
      "1312/1312 [==============================] - 107s 81ms/step - loss: 3.3147 - accuracy: 0.3324\n",
      "Epoch 7/150\n",
      "1312/1312 [==============================] - 107s 81ms/step - loss: 2.5707 - accuracy: 0.4706\n",
      "Epoch 8/150\n",
      "1312/1312 [==============================] - 107s 81ms/step - loss: 1.9979 - accuracy: 0.5865\n",
      "Epoch 9/150\n",
      "1312/1312 [==============================] - 107s 82ms/step - loss: 1.5619 - accuracy: 0.6798\n",
      "Epoch 10/150\n",
      "1312/1312 [==============================] - 107s 82ms/step - loss: 1.2253 - accuracy: 0.7534\n",
      "Epoch 11/150\n",
      "1312/1312 [==============================] - 107s 82ms/step - loss: 0.9591 - accuracy: 0.8140\n",
      "Epoch 12/150\n",
      "1312/1312 [==============================] - 107s 82ms/step - loss: 0.7509 - accuracy: 0.8582\n",
      "Epoch 13/150\n",
      "1312/1312 [==============================] - 107s 82ms/step - loss: 0.5906 - accuracy: 0.8909\n",
      "Epoch 14/150\n",
      "1312/1312 [==============================] - 107s 82ms/step - loss: 0.4715 - accuracy: 0.9155\n",
      "Epoch 15/150\n",
      "1312/1312 [==============================] - 109s 83ms/step - loss: 0.3873 - accuracy: 0.9302\n",
      "Epoch 16/150\n",
      "1312/1312 [==============================] - 123s 94ms/step - loss: 0.3272 - accuracy: 0.9379\n",
      "Epoch 17/150\n",
      "1312/1312 [==============================] - 109s 83ms/step - loss: 0.2875 - accuracy: 0.9430\n",
      "Epoch 18/150\n",
      "1312/1312 [==============================] - 113s 86ms/step - loss: 0.2656 - accuracy: 0.9457\n",
      "Epoch 19/150\n",
      "1312/1312 [==============================] - 121s 92ms/step - loss: 0.2501 - accuracy: 0.9466\n",
      "Epoch 20/150\n",
      "1312/1312 [==============================] - 113s 86ms/step - loss: 0.2403 - accuracy: 0.9483\n",
      "Epoch 21/150\n",
      "1312/1312 [==============================] - 125s 95ms/step - loss: 0.2148 - accuracy: 0.9518\n",
      "Epoch 22/150\n",
      "1312/1312 [==============================] - 122s 93ms/step - loss: 0.1986 - accuracy: 0.9530\n",
      "Epoch 23/150\n",
      "1312/1312 [==============================] - 127s 97ms/step - loss: 0.2016 - accuracy: 0.9530\n",
      "Epoch 24/150\n",
      "1312/1312 [==============================] - 127s 97ms/step - loss: 0.2366 - accuracy: 0.9457\n",
      "Epoch 25/150\n",
      "1312/1312 [==============================] - 131s 100ms/step - loss: 0.2053 - accuracy: 0.9506\n"
     ]
    }
   ],
   "source": [
    "with tf.device('gpu:0'):\n",
    "    history = Bidirectional_LSTM.fit(train, label, epochs=150, callbacks=[early_stop])"
   ]
  },
  {
   "cell_type": "code",
   "execution_count": 22,
   "metadata": {},
   "outputs": [],
   "source": [
    "accuracy = history.history['accuracy']\n",
    "loss = history.history['loss']  "
   ]
  },
  {
   "cell_type": "code",
   "execution_count": 23,
   "metadata": {},
   "outputs": [
    {
     "data": {
      "image/png": "[encoded data removed]",
      "text/plain": [
       "<Figure size 640x480 with 1 Axes>"
      ]
     },
     "metadata": {},
     "output_type": "display_data"
    }
   ],
   "source": [
    "plt.plot(accuracy, label='Accuracy')\n",
    "plt.plot(loss, label='Loss')\n",
    "plt.legend()\n",
    "plt.show()"
   ]
  },
  {
   "cell_type": "markdown",
   "metadata": {},
   "source": [
    "# Generating Text"
   ]
  },
  {
   "cell_type": "markdown",
   "metadata": {},
   "source": [
    "**1-LSTM**"
   ]
  },
  {
   "cell_type": "code",
   "execution_count": 24,
   "metadata": {},
   "outputs": [
    {
     "name": "stdout",
     "output_type": "stream",
     "text": [
      "Generated Text:  الْأُمُّ اِبْنَهَا سَافَرَ بَطَلُ أَثِينَا إِلَى مَدِينَةِ أَبِيهِ جَابَهَ بَطَلُ أَثِينَا الْكَثِيرَ مِنَ الْمَخَاطِرِ هَزَمَ بَطَلُ أَثِينَا كُلَّ الْأَشْرَارِ أَصْبَحَ النَّاسُ يُنَادُونَهُ بَطَلُ أَثِينَا عَرَفَتْ سَاحِرَةٌ شِرِّيرَةٌ أَنَّ بَطَلَ أَثِينَا هُوَ اِبْنُ الْمَلِكِ قَالَتِ السَّاحِرَةُ يُرِيدُ بَطَلُ أَثِينَا أَنْ يُبَدِّلَ الأَشْرِعَةَ السَّوْدَاءَ اِقْتَرَبَتِ السَّفِينَةُ مِنْ أَثِينَا كَانَ مَلِكُ أَثِينَا وَاقِفًا\n"
     ]
    }
   ],
   "source": [
    "text = \"\"\n",
    "number_of_words = 50\n",
    "  \n",
    "for _ in range(number_of_words): \n",
    "    token_list = tokenizer.texts_to_sequences([text])[0] \n",
    "    token_list = tf.keras.utils.pad_sequences([token_list], maxlen=max_length-1, padding='pre') \n",
    "    predicted_probs = LSTM.predict(token_list, verbose=0) \n",
    "    word = tokenizer.index_word[np.argmax(predicted_probs)] \n",
    "    text += \" \" + word \n",
    "  \n",
    "print(\"Generated Text:\", text) "
   ]
  },
  {
   "cell_type": "markdown",
   "metadata": {},
   "source": [
    "**2-GRU**"
   ]
  },
  {
   "cell_type": "code",
   "execution_count": 25,
   "metadata": {},
   "outputs": [
    {
     "name": "stdout",
     "output_type": "stream",
     "text": [
      "Generated Text:  الزَّوْجَةُ وَقَالَتْ لَا ظَنَنْتُ أَنِّي أَحْلُمُ أَوْ أَنِّي جُنِنْتُ هَذَا وَإِلَا طَرَدْتُكِ مِنْ بَيْتِي لَقَدْ أَرَادَ أَنْ أَنْ يَبْقَى فِي الْخَطَرِ حَتَّى لَا يَرَاهُ النَّاسُ قَالَتِ الزَّوْجَةُ هَذَا صَحِيحٌ رُبَّمَا أَرَادَ ذَلِكَ وَعَادَتْ إِلَى بَيْتِهَا كَيْ تَنْتَظِرَ زَوْجَهَا وَبَعْدَ مُنْتَصَفِ اللَّيْلِ عَادَتِ الزَّوْجَةُ إِلَى بَيْتِ عَلِي بَابَا وَقَالَت قَلْبِي غَيْرُ مُرْتَاحٍ أَبَدًا يَا عَلِي بَابَا\n"
     ]
    }
   ],
   "source": [
    "text = \"\"\n",
    "number_of_words = 55\n",
    "  \n",
    "for _ in range(number_of_words): \n",
    "    token_list = tokenizer.texts_to_sequences([text])[0] \n",
    "    token_list = tf.keras.utils.pad_sequences([token_list], maxlen=max_length-1, padding='pre') \n",
    "    predicted_probs = GRU.predict(token_list, verbose=0) \n",
    "    word = tokenizer.index_word[np.argmax(predicted_probs)] \n",
    "    text += \" \" + word \n",
    "  \n",
    "print(\"Generated Text:\", text) "
   ]
  },
  {
   "cell_type": "markdown",
   "metadata": {},
   "source": [
    "**3-Bidirectional LSTM**"
   ]
  },
  {
   "cell_type": "code",
   "execution_count": 30,
   "metadata": {},
   "outputs": [
    {
     "name": "stdout",
     "output_type": "stream",
     "text": [
      "Generated Text:  الزَّوْجَةُ وَقَالَتْ سَوْفَ يُعَاقِبُكَ أَبُوكَ أَيْنَ لَا هَذِهِ الْمَلِكُ قَوِيَّةً تُرِيدُ لِأَنَّ هَذِهِ الأَرْضَ وَعَنْ هِيَ عَظِيمَةٌ كَبِيرَةٍ وَلَا أَحَدَ كُودُورَ عِنْدَمَا جَاءَ اللَّهُ بِهِ إِلَى النَّوْمِ فِي فَايِفَ مَاتُوا عِنْدَمَا التُّفَّاحَةَ كَثِيرٌ مِنَ اللُّصُوصِ سَوْفَ يَأْخُذُكَ التِّمْثَالُ الْمَسْحُورُ إِلَى بِلَادِكَ فِي عَشَرَةِ أَيَّامٍ لَا تَذْكُرْ اِسْمَ اللَّهِ وَأَنْتَ فِي\n"
     ]
    }
   ],
   "source": [
    "text = \"\"\n",
    "number_of_words = 50\n",
    "  \n",
    "for _ in range(number_of_words): \n",
    "    token_list = tokenizer.texts_to_sequences([text])[0] \n",
    "    token_list = tf.keras.utils.pad_sequences([token_list], maxlen=max_length-1, padding='pre') \n",
    "    predicted_probs = Bidirectional_LSTM.predict(token_list, verbose=0) \n",
    "    word = tokenizer.index_word[np.argmax(predicted_probs)] \n",
    "    text += \" \" + word \n",
    "  \n",
    "print(\"Generated Text:\", text) "
   ]
  },
  {
   "cell_type": "markdown",
   "metadata": {},
   "source": [
    "# Save The Models"
   ]
  },
  {
   "cell_type": "code",
   "execution_count": 27,
   "metadata": {},
   "outputs": [],
   "source": [
    "LSTM.save('Arabic_LSTM.h5')"
   ]
  },
  {
   "cell_type": "code",
   "execution_count": 28,
   "metadata": {},
   "outputs": [],
   "source": [
    "Bidirectional_LSTM.save('Arabic_Bidirectional_LSTM.h5')"
   ]
  },
  {
   "cell_type": "code",
   "execution_count": 29,
   "metadata": {},
   "outputs": [],
   "source": [
    "GRU.save('Arabic_GRU.h5')"
   ]
  },
  {
   "cell_type": "code",
   "execution_count": null,
   "metadata": {},
   "outputs": [],
   "source": []
  }
 ],
 "metadata": {
  "kernelspec": {
   "display_name": "Python 3",
   "language": "python",
   "name": "python3"
  },
  "language_info": {
   "codemirror_mode": {
    "name": "ipython",
    "version": 3
   },
   "file_extension": ".py",
   "mimetype": "text/x-python",
   "name": "python",
   "nbconvert_exporter": "python",
   "pygments_lexer": "ipython3",
   "version": "3.11.9"
  }
 },
 "nbformat": 4,
 "nbformat_minor": 2
}
