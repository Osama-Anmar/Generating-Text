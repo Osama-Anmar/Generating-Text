{
 "cells": [
  {
   "cell_type": "markdown",
   "metadata": {},
   "source": [
    "# Import Libraries"
   ]
  },
  {
   "cell_type": "code",
   "execution_count": 1,
   "metadata": {},
   "outputs": [],
   "source": [
    "import tensorflow as tf\n",
    "import numpy as np\n",
    "import warnings\n",
    "import os\n",
    "import matplotlib.pyplot as plt\n",
    "from arabic_text_normalization import text_normalization\n",
    "tf.random.set_seed(1)"
   ]
  },
  {
   "cell_type": "markdown",
   "metadata": {},
   "source": [
    "# Ignore Warnings"
   ]
  },
  {
   "cell_type": "code",
   "execution_count": 2,
   "metadata": {},
   "outputs": [],
   "source": [
    "os.environ['TF_CPP_MIN_LOG_LEVEL'] = '3'\n",
    "warnings.filterwarnings(action='ignore')"
   ]
  },
  {
   "cell_type": "markdown",
   "metadata": {},
   "source": [
    "# Read Data"
   ]
  },
  {
   "cell_type": "code",
   "execution_count": 3,
   "metadata": {},
   "outputs": [],
   "source": [
    "Corpus = open('Arabic Kids Stories.txt', encoding='utf8').read().split(\"\\n\")\n",
    "Corpus = [text_normalization(text) for text in Corpus]"
   ]
  },
  {
   "cell_type": "markdown",
   "metadata": {},
   "source": [
    "# Preprocessing Data For Deep Learning Model"
   ]
  },
  {
   "cell_type": "code",
   "execution_count": 4,
   "metadata": {},
   "outputs": [
    {
     "data": {
      "text/plain": [
       "10433"
      ]
     },
     "execution_count": 4,
     "metadata": {},
     "output_type": "execute_result"
    }
   ],
   "source": [
    "tokenizer = tf.keras.preprocessing.text.Tokenizer()\n",
    "tokenizer.fit_on_texts(Corpus)\n",
    "all_words = len(tokenizer.word_index) + 1\n",
    "all_words"
   ]
  },
  {
   "cell_type": "markdown",
   "metadata": {},
   "source": [
    "# Generate Input Sequences"
   ]
  },
  {
   "cell_type": "code",
   "execution_count": 5,
   "metadata": {},
   "outputs": [],
   "source": [
    "input_sequence_ = []\n",
    "for line in Corpus:\n",
    "    token = tokenizer.texts_to_sequences([line])[0]\n",
    "    for i in range(1, len(token)):\n",
    "        n_grams = token[:i+1]\n",
    "        input_sequence_.append(n_grams)\n",
    "        \n",
    "max_length =  max([len(x) for x in input_sequence_])\n",
    "input_sequence_ = np.array(tf.keras.utils.pad_sequences(input_sequence_, maxlen= max_length, padding='pre'))"
   ]
  },
  {
   "cell_type": "code",
   "execution_count": 6,
   "metadata": {},
   "outputs": [
    {
     "data": {
      "text/plain": [
       "168"
      ]
     },
     "execution_count": 6,
     "metadata": {},
     "output_type": "execute_result"
    }
   ],
   "source": [
    "max_length"
   ]
  },
  {
   "cell_type": "markdown",
   "metadata": {},
   "source": [
    "# Generate Train And Label Data For Model"
   ]
  },
  {
   "cell_type": "code",
   "execution_count": 7,
   "metadata": {},
   "outputs": [],
   "source": [
    "train, label = input_sequence_[:,:-1], input_sequence_[:,-1]"
   ]
  },
  {
   "cell_type": "markdown",
   "metadata": {},
   "source": [
    "# Convert Label Data"
   ]
  },
  {
   "cell_type": "code",
   "execution_count": 8,
   "metadata": {},
   "outputs": [],
   "source": [
    "label = tf.keras.utils.to_categorical(label, num_classes=all_words)"
   ]
  },
  {
   "cell_type": "markdown",
   "metadata": {},
   "source": [
    "# Deep Learning Models"
   ]
  },
  {
   "cell_type": "code",
   "execution_count": 9,
   "metadata": {},
   "outputs": [],
   "source": [
    "early_stop = tf.keras.callbacks.EarlyStopping(\n",
    "    monitor='accuracy',\n",
    "    patience=3,\n",
    "    restore_best_weights=True,\n",
    ")"
   ]
  },
  {
   "cell_type": "markdown",
   "metadata": {},
   "source": [
    "**1-LSTM**"
   ]
  },
  {
   "cell_type": "code",
   "execution_count": 10,
   "metadata": {},
   "outputs": [],
   "source": [
    "LSTM = tf.keras.Sequential([\n",
    "                tf.keras.layers.Embedding(input_dim = all_words, output_dim=100, input_length=max_length-1),\n",
    "                tf.keras.layers.LSTM(128, return_sequences=True),\n",
    "                tf.keras.layers.LSTM(64, return_sequences=False),\n",
    "                tf.keras.layers.Dense(all_words, activation= 'softmax')\n",
    "                ])     "
   ]
  },
  {
   "cell_type": "code",
   "execution_count": 11,
   "metadata": {},
   "outputs": [],
   "source": [
    "LSTM.compile(\n",
    "    loss=tf.keras.losses.CategoricalCrossentropy(), \n",
    "    optimizer=tf.keras.optimizers.legacy.Adam(), \n",
    "    metrics=['accuracy'])"
   ]
  },
  {
   "cell_type": "code",
   "execution_count": 12,
   "metadata": {},
   "outputs": [
    {
     "name": "stdout",
     "output_type": "stream",
     "text": [
      "Epoch 1/150\n",
      "1312/1312 [==============================] - 71s 52ms/step - loss: 8.1267 - accuracy: 0.0229\n",
      "Epoch 2/150\n",
      "1312/1312 [==============================] - 69s 53ms/step - loss: 7.5844 - accuracy: 0.0284\n",
      "Epoch 3/150\n",
      "1312/1312 [==============================] - 71s 54ms/step - loss: 7.3153 - accuracy: 0.0339\n",
      "Epoch 4/150\n",
      "1312/1312 [==============================] - 70s 53ms/step - loss: 7.0771 - accuracy: 0.0421\n",
      "Epoch 5/150\n",
      "1312/1312 [==============================] - 69s 53ms/step - loss: 6.8604 - accuracy: 0.0505\n",
      "Epoch 6/150\n",
      "1312/1312 [==============================] - 70s 53ms/step - loss: 6.6478 - accuracy: 0.0584\n",
      "Epoch 7/150\n",
      "1312/1312 [==============================] - 71s 54ms/step - loss: 6.4407 - accuracy: 0.0666\n",
      "Epoch 8/150\n",
      "1312/1312 [==============================] - 69s 53ms/step - loss: 6.2415 - accuracy: 0.0752\n",
      "Epoch 9/150\n",
      "1312/1312 [==============================] - 68s 52ms/step - loss: 6.0559 - accuracy: 0.0839\n",
      "Epoch 10/150\n",
      "1312/1312 [==============================] - 69s 53ms/step - loss: 5.8711 - accuracy: 0.0937\n",
      "Epoch 11/150\n",
      "1312/1312 [==============================] - 70s 53ms/step - loss: 5.6832 - accuracy: 0.1012\n",
      "Epoch 12/150\n",
      "1312/1312 [==============================] - 70s 53ms/step - loss: 5.4892 - accuracy: 0.1116\n",
      "Epoch 13/150\n",
      "1312/1312 [==============================] - 69s 52ms/step - loss: 5.3001 - accuracy: 0.1220\n",
      "Epoch 14/150\n",
      "1312/1312 [==============================] - 69s 53ms/step - loss: 5.1118 - accuracy: 0.1331\n",
      "Epoch 15/150\n",
      "1312/1312 [==============================] - 69s 53ms/step - loss: 4.9208 - accuracy: 0.1438\n",
      "Epoch 16/150\n",
      "1312/1312 [==============================] - 70s 53ms/step - loss: 4.7405 - accuracy: 0.1551\n",
      "Epoch 17/150\n",
      "1312/1312 [==============================] - 69s 53ms/step - loss: 4.5576 - accuracy: 0.1670\n",
      "Epoch 18/150\n",
      "1312/1312 [==============================] - 69s 53ms/step - loss: 4.3654 - accuracy: 0.1828\n",
      "Epoch 19/150\n",
      "1312/1312 [==============================] - 70s 53ms/step - loss: 4.1635 - accuracy: 0.2013\n",
      "Epoch 20/150\n",
      "1312/1312 [==============================] - 70s 53ms/step - loss: 3.9767 - accuracy: 0.2204\n",
      "Epoch 21/150\n",
      "1312/1312 [==============================] - 70s 54ms/step - loss: 3.8044 - accuracy: 0.2463\n",
      "Epoch 22/150\n",
      "1312/1312 [==============================] - 70s 54ms/step - loss: 3.6409 - accuracy: 0.2674\n",
      "Epoch 23/150\n",
      "1312/1312 [==============================] - 69s 53ms/step - loss: 3.4866 - accuracy: 0.2941\n",
      "Epoch 24/150\n",
      "1312/1312 [==============================] - 70s 53ms/step - loss: 3.3401 - accuracy: 0.3197\n",
      "Epoch 25/150\n",
      "1312/1312 [==============================] - 69s 53ms/step - loss: 3.2016 - accuracy: 0.3468\n",
      "Epoch 26/150\n",
      "1312/1312 [==============================] - 68s 52ms/step - loss: 3.0676 - accuracy: 0.3713\n",
      "Epoch 27/150\n",
      "1312/1312 [==============================] - 68s 52ms/step - loss: 2.9433 - accuracy: 0.3955\n",
      "Epoch 28/150\n",
      "1312/1312 [==============================] - 68s 52ms/step - loss: 2.8220 - accuracy: 0.4206\n",
      "Epoch 29/150\n",
      "1312/1312 [==============================] - 68s 52ms/step - loss: 2.7060 - accuracy: 0.4422\n",
      "Epoch 30/150\n",
      "1312/1312 [==============================] - 71s 54ms/step - loss: 2.5945 - accuracy: 0.4629\n",
      "Epoch 31/150\n",
      "1312/1312 [==============================] - 70s 54ms/step - loss: 2.4878 - accuracy: 0.4862\n",
      "Epoch 32/150\n",
      "1312/1312 [==============================] - 70s 54ms/step - loss: 2.3857 - accuracy: 0.5043\n",
      "Epoch 33/150\n",
      "1312/1312 [==============================] - 71s 54ms/step - loss: 2.2899 - accuracy: 0.5232\n",
      "Epoch 34/150\n",
      "1312/1312 [==============================] - 71s 54ms/step - loss: 2.1942 - accuracy: 0.5450\n",
      "Epoch 35/150\n",
      "1312/1312 [==============================] - 74s 56ms/step - loss: 2.1063 - accuracy: 0.5611\n",
      "Epoch 36/150\n",
      "1312/1312 [==============================] - 72s 55ms/step - loss: 2.0205 - accuracy: 0.5790\n",
      "Epoch 37/150\n",
      "1312/1312 [==============================] - 71s 54ms/step - loss: 1.9389 - accuracy: 0.5944\n",
      "Epoch 38/150\n",
      "1312/1312 [==============================] - 73s 56ms/step - loss: 1.8604 - accuracy: 0.6099\n",
      "Epoch 39/150\n",
      "1312/1312 [==============================] - 70s 53ms/step - loss: 1.7825 - accuracy: 0.6262\n",
      "Epoch 40/150\n",
      "1312/1312 [==============================] - 70s 53ms/step - loss: 1.7124 - accuracy: 0.6393\n",
      "Epoch 41/150\n",
      "1312/1312 [==============================] - 70s 53ms/step - loss: 1.6438 - accuracy: 0.6569\n",
      "Epoch 42/150\n",
      "1312/1312 [==============================] - 70s 53ms/step - loss: 1.5762 - accuracy: 0.6697\n",
      "Epoch 43/150\n",
      "1312/1312 [==============================] - 71s 54ms/step - loss: 1.5141 - accuracy: 0.6825\n",
      "Epoch 44/150\n",
      "1312/1312 [==============================] - 70s 53ms/step - loss: 1.4514 - accuracy: 0.6960\n",
      "Epoch 45/150\n",
      "1312/1312 [==============================] - 70s 53ms/step - loss: 1.3950 - accuracy: 0.7079\n",
      "Epoch 46/150\n",
      "1312/1312 [==============================] - 72s 55ms/step - loss: 1.3393 - accuracy: 0.7206\n",
      "Epoch 47/150\n",
      "1312/1312 [==============================] - 70s 54ms/step - loss: 1.2851 - accuracy: 0.7308\n",
      "Epoch 48/150\n",
      "1312/1312 [==============================] - 72s 55ms/step - loss: 1.2346 - accuracy: 0.7422\n",
      "Epoch 49/150\n",
      "1312/1312 [==============================] - 70s 54ms/step - loss: 1.1849 - accuracy: 0.7518\n",
      "Epoch 50/150\n",
      "1312/1312 [==============================] - 72s 55ms/step - loss: 1.1384 - accuracy: 0.7629\n",
      "Epoch 51/150\n",
      "1312/1312 [==============================] - 70s 54ms/step - loss: 1.0918 - accuracy: 0.7734\n",
      "Epoch 52/150\n",
      "1312/1312 [==============================] - 70s 54ms/step - loss: 1.0502 - accuracy: 0.7841\n",
      "Epoch 53/150\n",
      "1312/1312 [==============================] - 72s 55ms/step - loss: 1.0089 - accuracy: 0.7902\n",
      "Epoch 54/150\n",
      "1312/1312 [==============================] - 71s 54ms/step - loss: 0.9671 - accuracy: 0.8003\n",
      "Epoch 55/150\n",
      "1312/1312 [==============================] - 72s 55ms/step - loss: 0.9288 - accuracy: 0.8071\n",
      "Epoch 56/150\n",
      "1312/1312 [==============================] - 88s 67ms/step - loss: 0.8946 - accuracy: 0.8147\n",
      "Epoch 57/150\n",
      "1312/1312 [==============================] - 73s 56ms/step - loss: 0.8571 - accuracy: 0.8235\n",
      "Epoch 58/150\n",
      "1312/1312 [==============================] - 72s 55ms/step - loss: 0.8250 - accuracy: 0.8302\n",
      "Epoch 59/150\n",
      "1312/1312 [==============================] - 71s 54ms/step - loss: 0.7940 - accuracy: 0.8390\n",
      "Epoch 60/150\n",
      "1312/1312 [==============================] - 70s 54ms/step - loss: 0.7626 - accuracy: 0.8446\n",
      "Epoch 61/150\n",
      "1312/1312 [==============================] - 73s 56ms/step - loss: 0.7343 - accuracy: 0.8510\n",
      "Epoch 62/150\n",
      "1312/1312 [==============================] - 71s 54ms/step - loss: 0.7086 - accuracy: 0.8569\n",
      "Epoch 63/150\n",
      "1312/1312 [==============================] - 70s 53ms/step - loss: 0.6781 - accuracy: 0.8635\n",
      "Epoch 64/150\n",
      "1312/1312 [==============================] - 70s 53ms/step - loss: 0.6545 - accuracy: 0.8676\n",
      "Epoch 65/150\n",
      "1312/1312 [==============================] - 70s 53ms/step - loss: 0.6308 - accuracy: 0.8728\n",
      "Epoch 66/150\n",
      "1312/1312 [==============================] - 69s 53ms/step - loss: 0.6082 - accuracy: 0.8778\n",
      "Epoch 67/150\n",
      "1312/1312 [==============================] - 69s 53ms/step - loss: 0.5858 - accuracy: 0.8830\n",
      "Epoch 68/150\n",
      "1312/1312 [==============================] - 69s 53ms/step - loss: 0.5641 - accuracy: 0.8879\n",
      "Epoch 69/150\n",
      "1312/1312 [==============================] - 69s 53ms/step - loss: 0.5481 - accuracy: 0.8887\n",
      "Epoch 70/150\n",
      "1312/1312 [==============================] - 69s 53ms/step - loss: 0.5260 - accuracy: 0.8956\n",
      "Epoch 71/150\n",
      "1312/1312 [==============================] - 70s 53ms/step - loss: 0.5080 - accuracy: 0.8977\n",
      "Epoch 72/150\n",
      "1312/1312 [==============================] - 69s 53ms/step - loss: 0.4957 - accuracy: 0.9011\n",
      "Epoch 73/150\n",
      "1312/1312 [==============================] - 70s 53ms/step - loss: 0.4727 - accuracy: 0.9058\n",
      "Epoch 74/150\n",
      "1312/1312 [==============================] - 69s 53ms/step - loss: 0.4572 - accuracy: 0.9088\n",
      "Epoch 75/150\n",
      "1312/1312 [==============================] - 70s 53ms/step - loss: 0.4464 - accuracy: 0.9095\n",
      "Epoch 76/150\n",
      "1312/1312 [==============================] - 70s 53ms/step - loss: 0.4301 - accuracy: 0.9150\n",
      "Epoch 77/150\n",
      "1312/1312 [==============================] - 70s 53ms/step - loss: 0.4129 - accuracy: 0.9183\n",
      "Epoch 78/150\n",
      "1312/1312 [==============================] - 71s 54ms/step - loss: 0.4044 - accuracy: 0.9184\n",
      "Epoch 79/150\n",
      "1312/1312 [==============================] - 70s 54ms/step - loss: 0.3874 - accuracy: 0.9222\n",
      "Epoch 80/150\n",
      "1312/1312 [==============================] - 71s 54ms/step - loss: 0.3799 - accuracy: 0.9234\n",
      "Epoch 81/150\n",
      "1312/1312 [==============================] - 70s 54ms/step - loss: 0.3681 - accuracy: 0.9254\n",
      "Epoch 82/150\n",
      "1312/1312 [==============================] - 70s 53ms/step - loss: 0.3566 - accuracy: 0.9274\n",
      "Epoch 83/150\n",
      "1312/1312 [==============================] - 70s 53ms/step - loss: 0.3435 - accuracy: 0.9300\n",
      "Epoch 84/150\n",
      "1312/1312 [==============================] - 71s 54ms/step - loss: 0.3356 - accuracy: 0.9304\n",
      "Epoch 85/150\n",
      "1312/1312 [==============================] - 70s 53ms/step - loss: 0.3313 - accuracy: 0.9315\n",
      "Epoch 86/150\n",
      "1312/1312 [==============================] - 70s 53ms/step - loss: 0.3169 - accuracy: 0.9357\n",
      "Epoch 87/150\n",
      "1312/1312 [==============================] - 70s 53ms/step - loss: 0.3107 - accuracy: 0.9360\n",
      "Epoch 88/150\n",
      "1312/1312 [==============================] - 70s 54ms/step - loss: 0.3037 - accuracy: 0.9372\n",
      "Epoch 89/150\n",
      "1312/1312 [==============================] - 70s 53ms/step - loss: 0.2953 - accuracy: 0.9381\n",
      "Epoch 90/150\n",
      "1312/1312 [==============================] - 71s 54ms/step - loss: 0.2862 - accuracy: 0.9403\n",
      "Epoch 91/150\n",
      "1312/1312 [==============================] - 70s 54ms/step - loss: 0.2818 - accuracy: 0.9409\n",
      "Epoch 92/150\n",
      "1312/1312 [==============================] - 70s 54ms/step - loss: 0.2763 - accuracy: 0.9417\n",
      "Epoch 93/150\n",
      "1312/1312 [==============================] - 71s 54ms/step - loss: 0.2664 - accuracy: 0.9436\n",
      "Epoch 94/150\n",
      "1312/1312 [==============================] - 71s 54ms/step - loss: 0.2641 - accuracy: 0.9435\n",
      "Epoch 95/150\n",
      "1312/1312 [==============================] - 70s 54ms/step - loss: 0.2595 - accuracy: 0.9437\n",
      "Epoch 96/150\n",
      "1312/1312 [==============================] - 70s 54ms/step - loss: 0.2586 - accuracy: 0.9442\n",
      "Epoch 97/150\n",
      "1312/1312 [==============================] - 70s 54ms/step - loss: 0.2441 - accuracy: 0.9466\n",
      "Epoch 98/150\n",
      "1312/1312 [==============================] - 70s 54ms/step - loss: 0.2393 - accuracy: 0.9474\n",
      "Epoch 99/150\n",
      "1312/1312 [==============================] - 70s 54ms/step - loss: 0.2391 - accuracy: 0.9465\n",
      "Epoch 100/150\n",
      "1312/1312 [==============================] - 71s 54ms/step - loss: 0.2355 - accuracy: 0.9478\n",
      "Epoch 101/150\n",
      "1312/1312 [==============================] - 71s 54ms/step - loss: 0.2313 - accuracy: 0.9484\n",
      "Epoch 102/150\n",
      "1312/1312 [==============================] - 71s 54ms/step - loss: 0.2230 - accuracy: 0.9499\n",
      "Epoch 103/150\n",
      "1312/1312 [==============================] - 71s 54ms/step - loss: 0.2243 - accuracy: 0.9485\n",
      "Epoch 104/150\n",
      "1312/1312 [==============================] - 71s 54ms/step - loss: 0.2254 - accuracy: 0.9488\n",
      "Epoch 105/150\n",
      "1312/1312 [==============================] - 71s 54ms/step - loss: 0.2138 - accuracy: 0.9511\n",
      "Epoch 106/150\n",
      "1312/1312 [==============================] - 71s 54ms/step - loss: 0.2083 - accuracy: 0.9516\n",
      "Epoch 107/150\n",
      "1312/1312 [==============================] - 71s 54ms/step - loss: 0.2116 - accuracy: 0.9506\n",
      "Epoch 108/150\n",
      "1312/1312 [==============================] - 71s 54ms/step - loss: 0.2091 - accuracy: 0.9500\n",
      "Epoch 109/150\n",
      "1312/1312 [==============================] - 71s 54ms/step - loss: 0.2041 - accuracy: 0.9516\n",
      "Epoch 110/150\n",
      "1312/1312 [==============================] - 70s 54ms/step - loss: 0.2032 - accuracy: 0.9520\n",
      "Epoch 111/150\n",
      "1312/1312 [==============================] - 71s 54ms/step - loss: 0.2026 - accuracy: 0.9512\n",
      "Epoch 112/150\n",
      "1312/1312 [==============================] - 70s 54ms/step - loss: 0.1954 - accuracy: 0.9521\n",
      "Epoch 113/150\n",
      "1312/1312 [==============================] - 71s 54ms/step - loss: 0.1985 - accuracy: 0.9522\n",
      "Epoch 114/150\n",
      "1312/1312 [==============================] - 71s 54ms/step - loss: 0.1966 - accuracy: 0.9518\n",
      "Epoch 115/150\n",
      "1312/1312 [==============================] - 71s 54ms/step - loss: 0.1898 - accuracy: 0.9526\n",
      "Epoch 116/150\n",
      "1312/1312 [==============================] - 71s 54ms/step - loss: 0.1898 - accuracy: 0.9526\n",
      "Epoch 117/150\n",
      "1312/1312 [==============================] - 71s 54ms/step - loss: 0.1918 - accuracy: 0.9518\n",
      "Epoch 118/150\n",
      "1312/1312 [==============================] - 71s 54ms/step - loss: 0.1852 - accuracy: 0.9531\n",
      "Epoch 119/150\n",
      "1312/1312 [==============================] - 71s 54ms/step - loss: 0.1844 - accuracy: 0.9535\n",
      "Epoch 120/150\n",
      "1312/1312 [==============================] - 70s 54ms/step - loss: 0.1885 - accuracy: 0.9515\n",
      "Epoch 121/150\n",
      "1312/1312 [==============================] - 70s 54ms/step - loss: 0.1788 - accuracy: 0.9540\n",
      "Epoch 122/150\n",
      "1312/1312 [==============================] - 71s 54ms/step - loss: 0.1799 - accuracy: 0.9531\n",
      "Epoch 123/150\n",
      "1312/1312 [==============================] - 70s 54ms/step - loss: 0.1778 - accuracy: 0.9537\n",
      "Epoch 124/150\n",
      "1312/1312 [==============================] - 70s 54ms/step - loss: 0.1748 - accuracy: 0.9546\n",
      "Epoch 125/150\n",
      "1312/1312 [==============================] - 71s 54ms/step - loss: 0.1788 - accuracy: 0.9533\n",
      "Epoch 126/150\n",
      "1312/1312 [==============================] - 71s 54ms/step - loss: 0.1821 - accuracy: 0.9519\n",
      "Epoch 127/150\n",
      "1312/1312 [==============================] - 71s 54ms/step - loss: 0.1754 - accuracy: 0.9538\n"
     ]
    }
   ],
   "source": [
    "with tf.device('gpu:0'):\n",
    "    history = LSTM.fit(train, label, epochs=150, callbacks=[early_stop])"
   ]
  },
  {
   "cell_type": "code",
   "execution_count": 13,
   "metadata": {},
   "outputs": [],
   "source": [
    "accuracy = history.history['accuracy']\n",
    "loss = history.history['loss']  "
   ]
  },
  {
   "cell_type": "code",
   "execution_count": 14,
   "metadata": {},
   "outputs": [
    {
     "data": {
      "image/png": "[encoded data removed]",
      "text/plain": [
       "<Figure size 640x480 with 1 Axes>"
      ]
     },
     "metadata": {},
     "output_type": "display_data"
    }
   ],
   "source": [
    "plt.plot(accuracy, label='Accuracy')\n",
    "plt.plot(loss, label='Loss')\n",
    "plt.legend()\n",
    "plt.show()"
   ]
  },
  {
   "cell_type": "markdown",
   "metadata": {},
   "source": [
    "**2-GRU**"
   ]
  },
  {
   "cell_type": "code",
   "execution_count": 15,
   "metadata": {},
   "outputs": [],
   "source": [
    "GRU = tf.keras.Sequential([\n",
    "                tf.keras.layers.Embedding(input_dim = all_words, output_dim=100, input_length=max_length-1),\n",
    "                tf.keras.layers.GRU(128, return_sequences=False),\n",
    "                tf.keras.layers.Dense(all_words, activation= 'softmax')\n",
    "                ])   "
   ]
  },
  {
   "cell_type": "code",
   "execution_count": 16,
   "metadata": {},
   "outputs": [],
   "source": [
    "GRU.compile(\n",
    "    loss=tf.keras.losses.CategoricalCrossentropy(), \n",
    "    optimizer=tf.keras.optimizers.legacy.Adam(), \n",
    "    metrics=['accuracy'])"
   ]
  },
  {
   "cell_type": "code",
   "execution_count": 17,
   "metadata": {},
   "outputs": [
    {
     "name": "stdout",
     "output_type": "stream",
     "text": [
      "Epoch 1/150\n",
      "1312/1312 [==============================] - 68s 50ms/step - loss: 8.0787 - accuracy: 0.0251\n",
      "Epoch 2/150\n",
      "1312/1312 [==============================] - 60s 46ms/step - loss: 7.1095 - accuracy: 0.0514\n",
      "Epoch 3/150\n",
      "1312/1312 [==============================] - 60s 46ms/step - loss: 6.2893 - accuracy: 0.0838\n",
      "Epoch 4/150\n",
      "1312/1312 [==============================] - 60s 46ms/step - loss: 5.5103 - accuracy: 0.1163\n",
      "Epoch 5/150\n",
      "1312/1312 [==============================] - 61s 47ms/step - loss: 4.7798 - accuracy: 0.1609\n",
      "Epoch 6/150\n",
      "1312/1312 [==============================] - 71s 54ms/step - loss: 4.1024 - accuracy: 0.2352\n",
      "Epoch 7/150\n",
      "1312/1312 [==============================] - 91s 70ms/step - loss: 3.4883 - accuracy: 0.3306\n",
      "Epoch 8/150\n",
      "1312/1312 [==============================] - 70s 53ms/step - loss: 2.9302 - accuracy: 0.4296\n",
      "Epoch 9/150\n",
      "1312/1312 [==============================] - 76s 58ms/step - loss: 2.4463 - accuracy: 0.5165\n",
      "Epoch 10/150\n",
      "1312/1312 [==============================] - 67s 51ms/step - loss: 2.0410 - accuracy: 0.5953\n",
      "Epoch 11/150\n",
      "1312/1312 [==============================] - 66s 50ms/step - loss: 1.7134 - accuracy: 0.6558\n",
      "Epoch 12/150\n",
      "1312/1312 [==============================] - 67s 51ms/step - loss: 1.4431 - accuracy: 0.7094\n",
      "Epoch 13/150\n",
      "1312/1312 [==============================] - 69s 53ms/step - loss: 1.2219 - accuracy: 0.7544\n",
      "Epoch 14/150\n",
      "1312/1312 [==============================] - 72s 55ms/step - loss: 1.0372 - accuracy: 0.7923\n",
      "Epoch 15/150\n",
      "1312/1312 [==============================] - 62s 47ms/step - loss: 0.8843 - accuracy: 0.8228\n",
      "Epoch 16/150\n",
      "1312/1312 [==============================] - 64s 49ms/step - loss: 0.7576 - accuracy: 0.8492\n",
      "Epoch 17/150\n",
      "1312/1312 [==============================] - 66s 50ms/step - loss: 0.6516 - accuracy: 0.8729\n",
      "Epoch 18/150\n",
      "1312/1312 [==============================] - 59s 45ms/step - loss: 0.5647 - accuracy: 0.8912\n",
      "Epoch 19/150\n",
      "1312/1312 [==============================] - 59s 45ms/step - loss: 0.4932 - accuracy: 0.9062\n",
      "Epoch 20/150\n",
      "1312/1312 [==============================] - 58s 44ms/step - loss: 0.4360 - accuracy: 0.9158\n",
      "Epoch 21/150\n",
      "1312/1312 [==============================] - 58s 44ms/step - loss: 0.3893 - accuracy: 0.9257\n",
      "Epoch 22/150\n",
      "1312/1312 [==============================] - 58s 44ms/step - loss: 0.3477 - accuracy: 0.9332\n",
      "Epoch 23/150\n",
      "1312/1312 [==============================] - 58s 44ms/step - loss: 0.3163 - accuracy: 0.9379\n",
      "Epoch 24/150\n",
      "1312/1312 [==============================] - 61s 46ms/step - loss: 0.2904 - accuracy: 0.9410\n",
      "Epoch 25/150\n",
      "1312/1312 [==============================] - 60s 46ms/step - loss: 0.2716 - accuracy: 0.9435\n",
      "Epoch 26/150\n",
      "1312/1312 [==============================] - 59s 45ms/step - loss: 0.2540 - accuracy: 0.9470\n",
      "Epoch 27/150\n",
      "1312/1312 [==============================] - 58s 44ms/step - loss: 0.2422 - accuracy: 0.9488\n",
      "Epoch 28/150\n",
      "1312/1312 [==============================] - 58s 44ms/step - loss: 0.2287 - accuracy: 0.9503\n",
      "Epoch 29/150\n",
      "1312/1312 [==============================] - 67s 51ms/step - loss: 0.2183 - accuracy: 0.9512\n",
      "Epoch 30/150\n",
      "1312/1312 [==============================] - 61s 47ms/step - loss: 0.2112 - accuracy: 0.9517\n",
      "Epoch 31/150\n",
      "1312/1312 [==============================] - 61s 46ms/step - loss: 0.2077 - accuracy: 0.9520\n",
      "Epoch 32/150\n",
      "1312/1312 [==============================] - 76s 58ms/step - loss: 0.2007 - accuracy: 0.9526\n",
      "Epoch 33/150\n",
      "1312/1312 [==============================] - 84s 64ms/step - loss: 0.1964 - accuracy: 0.9532\n",
      "Epoch 34/150\n",
      "1312/1312 [==============================] - 100s 76ms/step - loss: 0.1895 - accuracy: 0.9537\n",
      "Epoch 35/150\n",
      "1312/1312 [==============================] - 69s 53ms/step - loss: 0.1948 - accuracy: 0.9523\n",
      "Epoch 36/150\n",
      "1312/1312 [==============================] - 74s 57ms/step - loss: 0.1940 - accuracy: 0.9524\n",
      "Epoch 37/150\n",
      "1312/1312 [==============================] - 81s 62ms/step - loss: 0.1832 - accuracy: 0.9541\n",
      "Epoch 38/150\n",
      "1312/1312 [==============================] - 60s 46ms/step - loss: 0.1790 - accuracy: 0.9547\n",
      "Epoch 39/150\n",
      "1312/1312 [==============================] - 58s 44ms/step - loss: 0.1760 - accuracy: 0.9547\n",
      "Epoch 40/150\n",
      "1312/1312 [==============================] - 58s 44ms/step - loss: 0.1808 - accuracy: 0.9540\n",
      "Epoch 41/150\n",
      "1312/1312 [==============================] - 57s 43ms/step - loss: 0.1840 - accuracy: 0.9526\n"
     ]
    }
   ],
   "source": [
    "with tf.device('gpu:0'):\n",
    "    history = GRU.fit(train, label, epochs=150, callbacks=[early_stop])"
   ]
  },
  {
   "cell_type": "code",
   "execution_count": 18,
   "metadata": {},
   "outputs": [],
   "source": [
    "accuracy = history.history['accuracy']\n",
    "loss = history.history['loss']  "
   ]
  },
  {
   "cell_type": "code",
   "execution_count": 19,
   "metadata": {},
   "outputs": [
    {
     "data": {
      "image/png": "[encoded data removed]",
      "text/plain": [
       "<Figure size 640x480 with 1 Axes>"
      ]
     },
     "metadata": {},
     "output_type": "display_data"
    }
   ],
   "source": [
    "plt.plot(accuracy, label='Accuracy')\n",
    "plt.plot(loss, label='Loss')\n",
    "plt.legend()\n",
    "plt.show()"
   ]
  },
  {
   "cell_type": "markdown",
   "metadata": {},
   "source": [
    "**3-Bidirectional LSTM**"
   ]
  },
  {
   "cell_type": "code",
   "execution_count": 20,
   "metadata": {},
   "outputs": [],
   "source": [
    "Bidirectional_LSTM = tf.keras.Sequential([\n",
    "                tf.keras.layers.Embedding(input_dim = all_words, output_dim=100, input_length=max_length-1),\n",
    "                tf.keras.layers.Bidirectional(tf.keras.layers.LSTM(128, return_sequences=False)),\n",
    "                tf.keras.layers.Dense(all_words, activation= 'softmax')\n",
    "                ])   "
   ]
  },
  {
   "cell_type": "code",
   "execution_count": 21,
   "metadata": {},
   "outputs": [],
   "source": [
    "Bidirectional_LSTM.compile(\n",
    "    loss=tf.keras.losses.CategoricalCrossentropy(), \n",
    "    optimizer=tf.keras.optimizers.legacy.Adam(), \n",
    "    metrics=['accuracy'])"
   ]
  },
  {
   "cell_type": "code",
   "execution_count": 22,
   "metadata": {},
   "outputs": [
    {
     "name": "stdout",
     "output_type": "stream",
     "text": [
      "Epoch 1/150\n",
      "1312/1312 [==============================] - 99s 73ms/step - loss: 8.0708 - accuracy: 0.0253\n",
      "Epoch 2/150\n",
      "1312/1312 [==============================] - 86s 66ms/step - loss: 7.2198 - accuracy: 0.0474\n",
      "Epoch 3/150\n",
      "1312/1312 [==============================] - 99s 75ms/step - loss: 6.4725 - accuracy: 0.0770\n",
      "Epoch 4/150\n",
      "1312/1312 [==============================] - 94s 72ms/step - loss: 5.8066 - accuracy: 0.1035\n",
      "Epoch 5/150\n",
      "1312/1312 [==============================] - 92s 70ms/step - loss: 5.1879 - accuracy: 0.1289\n",
      "Epoch 6/150\n",
      "1312/1312 [==============================] - 83s 63ms/step - loss: 4.5967 - accuracy: 0.1750\n",
      "Epoch 7/150\n",
      "1312/1312 [==============================] - 84s 64ms/step - loss: 4.0435 - accuracy: 0.2434\n",
      "Epoch 8/150\n",
      "1312/1312 [==============================] - 91s 69ms/step - loss: 3.5196 - accuracy: 0.3280\n",
      "Epoch 9/150\n",
      "1312/1312 [==============================] - 91s 69ms/step - loss: 3.0375 - accuracy: 0.4145\n",
      "Epoch 10/150\n",
      "1312/1312 [==============================] - 92s 70ms/step - loss: 2.6012 - accuracy: 0.4987\n",
      "Epoch 11/150\n",
      "1312/1312 [==============================] - 86s 65ms/step - loss: 2.2243 - accuracy: 0.5696\n",
      "Epoch 12/150\n",
      "1312/1312 [==============================] - 85s 65ms/step - loss: 1.9009 - accuracy: 0.6327\n",
      "Epoch 13/150\n",
      "1312/1312 [==============================] - 86s 66ms/step - loss: 1.6256 - accuracy: 0.6861\n",
      "Epoch 14/150\n",
      "1312/1312 [==============================] - 86s 66ms/step - loss: 1.3891 - accuracy: 0.7339\n",
      "Epoch 15/150\n",
      "1312/1312 [==============================] - 86s 66ms/step - loss: 1.1844 - accuracy: 0.7754\n",
      "Epoch 16/150\n",
      "1312/1312 [==============================] - 86s 66ms/step - loss: 1.0119 - accuracy: 0.8106\n",
      "Epoch 17/150\n",
      "1312/1312 [==============================] - 84s 64ms/step - loss: 0.8619 - accuracy: 0.8399\n",
      "Epoch 18/150\n",
      "1312/1312 [==============================] - 85s 64ms/step - loss: 0.7371 - accuracy: 0.8660\n",
      "Epoch 19/150\n",
      "1312/1312 [==============================] - 87s 66ms/step - loss: 0.6320 - accuracy: 0.8850\n",
      "Epoch 20/150\n",
      "1312/1312 [==============================] - 86s 65ms/step - loss: 0.5452 - accuracy: 0.9036\n",
      "Epoch 21/150\n",
      "1312/1312 [==============================] - 86s 66ms/step - loss: 0.4729 - accuracy: 0.9157\n",
      "Epoch 22/150\n",
      "1312/1312 [==============================] - 88s 67ms/step - loss: 0.4146 - accuracy: 0.9261\n",
      "Epoch 23/150\n",
      "1312/1312 [==============================] - 94s 72ms/step - loss: 0.3642 - accuracy: 0.9345\n",
      "Epoch 24/150\n",
      "1312/1312 [==============================] - 87s 67ms/step - loss: 0.3258 - accuracy: 0.9394\n",
      "Epoch 25/150\n",
      "1312/1312 [==============================] - 86s 65ms/step - loss: 0.2935 - accuracy: 0.9432\n",
      "Epoch 26/150\n",
      "1312/1312 [==============================] - 95s 72ms/step - loss: 0.2701 - accuracy: 0.9459\n",
      "Epoch 27/150\n",
      "1312/1312 [==============================] - 97s 74ms/step - loss: 0.2499 - accuracy: 0.9491\n",
      "Epoch 28/150\n",
      "1312/1312 [==============================] - 90s 69ms/step - loss: 0.2319 - accuracy: 0.9508\n",
      "Epoch 29/150\n",
      "1312/1312 [==============================] - 83s 64ms/step - loss: 0.2176 - accuracy: 0.9518\n",
      "Epoch 30/150\n",
      "1312/1312 [==============================] - 86s 65ms/step - loss: 0.2052 - accuracy: 0.9536\n",
      "Epoch 31/150\n",
      "1312/1312 [==============================] - 93s 71ms/step - loss: 0.1980 - accuracy: 0.9535\n",
      "Epoch 32/150\n",
      "1312/1312 [==============================] - 91s 70ms/step - loss: 0.1929 - accuracy: 0.9540\n",
      "Epoch 33/150\n",
      "1312/1312 [==============================] - 85s 65ms/step - loss: 0.1881 - accuracy: 0.9545\n",
      "Epoch 34/150\n",
      "1312/1312 [==============================] - 97s 74ms/step - loss: 0.1818 - accuracy: 0.9546\n",
      "Epoch 35/150\n",
      "1312/1312 [==============================] - 85s 64ms/step - loss: 0.1741 - accuracy: 0.9551\n",
      "Epoch 36/150\n",
      "1312/1312 [==============================] - 83s 64ms/step - loss: 0.1704 - accuracy: 0.9553\n",
      "Epoch 37/150\n",
      "1312/1312 [==============================] - 83s 64ms/step - loss: 0.1712 - accuracy: 0.9554\n",
      "Epoch 38/150\n",
      "1312/1312 [==============================] - 84s 64ms/step - loss: 0.1754 - accuracy: 0.9548\n",
      "Epoch 39/150\n",
      "1312/1312 [==============================] - 84s 64ms/step - loss: 0.1631 - accuracy: 0.9561\n",
      "Epoch 40/150\n",
      "1312/1312 [==============================] - 85s 65ms/step - loss: 0.1579 - accuracy: 0.9559\n",
      "Epoch 41/150\n",
      "1312/1312 [==============================] - 84s 64ms/step - loss: 0.1609 - accuracy: 0.9554\n",
      "Epoch 42/150\n",
      "1312/1312 [==============================] - 84s 64ms/step - loss: 0.1668 - accuracy: 0.9548\n"
     ]
    }
   ],
   "source": [
    "with tf.device('gpu:0'):\n",
    "    history = Bidirectional_LSTM.fit(train, label, epochs=150, callbacks=[early_stop])"
   ]
  },
  {
   "cell_type": "code",
   "execution_count": 23,
   "metadata": {},
   "outputs": [],
   "source": [
    "accuracy = history.history['accuracy']\n",
    "loss = history.history['loss']  "
   ]
  },
  {
   "cell_type": "code",
   "execution_count": 24,
   "metadata": {},
   "outputs": [
    {
     "data": {
      "image/png": "[encoded data removed]",
      "text/plain": [
       "<Figure size 640x480 with 1 Axes>"
      ]
     },
     "metadata": {},
     "output_type": "display_data"
    }
   ],
   "source": [
    "plt.plot(accuracy, label='Accuracy')\n",
    "plt.plot(loss, label='Loss')\n",
    "plt.legend()\n",
    "plt.show()"
   ]
  },
  {
   "cell_type": "markdown",
   "metadata": {},
   "source": [
    "# Testing The Model"
   ]
  },
  {
   "cell_type": "markdown",
   "metadata": {},
   "source": [
    "**1-LSTM**"
   ]
  },
  {
   "cell_type": "code",
   "execution_count": 25,
   "metadata": {},
   "outputs": [
    {
     "name": "stdout",
     "output_type": "stream",
     "text": [
      "اِبْتَسَمَ الشَّيْخُ الْغَرِيبُ  وَشَكَرَ\n",
      "اِبْتَسَمَ الشَّيْخُ الْغَرِيبُ  وَشَكَرَ أَبَا\n",
      "اِبْتَسَمَ الشَّيْخُ الْغَرِيبُ  وَشَكَرَ أَبَا سَعِيدٍ\n",
      "اِبْتَسَمَ الشَّيْخُ الْغَرِيبُ  وَشَكَرَ أَبَا سَعِيدٍ وَفِي\n",
      "اِبْتَسَمَ الشَّيْخُ الْغَرِيبُ  وَشَكَرَ أَبَا سَعِيدٍ وَفِي الْيَوْمِ\n",
      "اِبْتَسَمَ الشَّيْخُ الْغَرِيبُ  وَشَكَرَ أَبَا سَعِيدٍ وَفِي الْيَوْمِ التَّالِي\n",
      "اِبْتَسَمَ الشَّيْخُ الْغَرِيبُ  وَشَكَرَ أَبَا سَعِيدٍ وَفِي الْيَوْمِ التَّالِي غَادَر\n",
      "اِبْتَسَمَ الشَّيْخُ الْغَرِيبُ  وَشَكَرَ أَبَا سَعِيدٍ وَفِي الْيَوْمِ التَّالِي غَادَر الشَّيْخُ\n",
      "اِبْتَسَمَ الشَّيْخُ الْغَرِيبُ  وَشَكَرَ أَبَا سَعِيدٍ وَفِي الْيَوْمِ التَّالِي غَادَر الشَّيْخُ الْغَرِيبُ\n",
      "اِبْتَسَمَ الشَّيْخُ الْغَرِيبُ  وَشَكَرَ أَبَا سَعِيدٍ وَفِي الْيَوْمِ التَّالِي غَادَر الشَّيْخُ الْغَرِيبُ بَغْدَادَ\n",
      "اِبْتَسَمَ الشَّيْخُ الْغَرِيبُ  وَشَكَرَ أَبَا سَعِيدٍ وَفِي الْيَوْمِ التَّالِي غَادَر الشَّيْخُ الْغَرِيبُ بَغْدَادَ إِلَى\n",
      "اِبْتَسَمَ الشَّيْخُ الْغَرِيبُ  وَشَكَرَ أَبَا سَعِيدٍ وَفِي الْيَوْمِ التَّالِي غَادَر الشَّيْخُ الْغَرِيبُ بَغْدَادَ إِلَى مَكَّةَ\n",
      "اِبْتَسَمَ الشَّيْخُ الْغَرِيبُ  وَشَكَرَ أَبَا سَعِيدٍ وَفِي الْيَوْمِ التَّالِي غَادَر الشَّيْخُ الْغَرِيبُ بَغْدَادَ إِلَى مَكَّةَ كَانَ\n",
      "اِبْتَسَمَ الشَّيْخُ الْغَرِيبُ  وَشَكَرَ أَبَا سَعِيدٍ وَفِي الْيَوْمِ التَّالِي غَادَر الشَّيْخُ الْغَرِيبُ بَغْدَادَ إِلَى مَكَّةَ كَانَ الشَّيْخُ\n",
      "اِبْتَسَمَ الشَّيْخُ الْغَرِيبُ  وَشَكَرَ أَبَا سَعِيدٍ وَفِي الْيَوْمِ التَّالِي غَادَر الشَّيْخُ الْغَرِيبُ بَغْدَادَ إِلَى مَكَّةَ كَانَ الشَّيْخُ الْغَرِيبُ\n",
      "اِبْتَسَمَ الشَّيْخُ الْغَرِيبُ  وَشَكَرَ أَبَا سَعِيدٍ وَفِي الْيَوْمِ التَّالِي غَادَر الشَّيْخُ الْغَرِيبُ بَغْدَادَ إِلَى مَكَّةَ كَانَ الشَّيْخُ الْغَرِيبُ يُفَكِّرُ\n",
      "اِبْتَسَمَ الشَّيْخُ الْغَرِيبُ  وَشَكَرَ أَبَا سَعِيدٍ وَفِي الْيَوْمِ التَّالِي غَادَر الشَّيْخُ الْغَرِيبُ بَغْدَادَ إِلَى مَكَّةَ كَانَ الشَّيْخُ الْغَرِيبُ يُفَكِّرُ أَنَّهُ\n",
      "اِبْتَسَمَ الشَّيْخُ الْغَرِيبُ  وَشَكَرَ أَبَا سَعِيدٍ وَفِي الْيَوْمِ التَّالِي غَادَر الشَّيْخُ الْغَرِيبُ بَغْدَادَ إِلَى مَكَّةَ كَانَ الشَّيْخُ الْغَرِيبُ يُفَكِّرُ أَنَّهُ اِخْتَارَ\n",
      "اِبْتَسَمَ الشَّيْخُ الْغَرِيبُ  وَشَكَرَ أَبَا سَعِيدٍ وَفِي الْيَوْمِ التَّالِي غَادَر الشَّيْخُ الْغَرِيبُ بَغْدَادَ إِلَى مَكَّةَ كَانَ الشَّيْخُ الْغَرِيبُ يُفَكِّرُ أَنَّهُ اِخْتَارَ الرَّجُلَ\n",
      "اِبْتَسَمَ الشَّيْخُ الْغَرِيبُ  وَشَكَرَ أَبَا سَعِيدٍ وَفِي الْيَوْمِ التَّالِي غَادَر الشَّيْخُ الْغَرِيبُ بَغْدَادَ إِلَى مَكَّةَ كَانَ الشَّيْخُ الْغَرِيبُ يُفَكِّرُ أَنَّهُ اِخْتَارَ الرَّجُلَ الْمُنَاسِبَ\n",
      " \n",
      "Full Generated Text: اِبْتَسَمَ الشَّيْخُ الْغَرِيبُ  وَشَكَرَ أَبَا سَعِيدٍ وَفِي الْيَوْمِ التَّالِي غَادَر الشَّيْخُ الْغَرِيبُ بَغْدَادَ إِلَى مَكَّةَ كَانَ الشَّيْخُ الْغَرِيبُ يُفَكِّرُ أَنَّهُ اِخْتَارَ الرَّجُلَ الْمُنَاسِبَ\n"
     ]
    }
   ],
   "source": [
    "text = \"اِبْتَسَمَ الشَّيْخُ الْغَرِيبُ \"\n",
    "number_of_words = 20\n",
    "for _ in range(number_of_words): \n",
    "    token_list = tokenizer.texts_to_sequences([text])[0] \n",
    "    token_list = tf.keras.utils.pad_sequences([token_list], maxlen=max_length-1, padding='pre') \n",
    "    predicted_probs = LSTM.predict(token_list, verbose=0) \n",
    "    word = tokenizer.index_word[np.argmax(predicted_probs)] \n",
    "    text += \" \" + word \n",
    "    print(text)\n",
    "print(\" \")\n",
    "print(\"Full Generated Text:\", text) "
   ]
  },
  {
   "cell_type": "markdown",
   "metadata": {},
   "source": [
    "**2-GRU**"
   ]
  },
  {
   "cell_type": "code",
   "execution_count": 26,
   "metadata": {},
   "outputs": [
    {
     "name": "stdout",
     "output_type": "stream",
     "text": [
      "وَعِنْدَمَا طَلَعَتِ الشَّمْسُ، هَرَبَ الأَعْدَاءُ فَأَسْرَعَتْ\n",
      "وَعِنْدَمَا طَلَعَتِ الشَّمْسُ، هَرَبَ الأَعْدَاءُ فَأَسْرَعَتْ الْأَمِيْرَةُ\n",
      "وَعِنْدَمَا طَلَعَتِ الشَّمْسُ، هَرَبَ الأَعْدَاءُ فَأَسْرَعَتْ الْأَمِيْرَةُ إلَى\n",
      "وَعِنْدَمَا طَلَعَتِ الشَّمْسُ، هَرَبَ الأَعْدَاءُ فَأَسْرَعَتْ الْأَمِيْرَةُ إلَى الْقَصْرِ\n",
      "وَعِنْدَمَا طَلَعَتِ الشَّمْسُ، هَرَبَ الأَعْدَاءُ فَأَسْرَعَتْ الْأَمِيْرَةُ إلَى الْقَصْرِ وَقَدْ\n",
      "وَعِنْدَمَا طَلَعَتِ الشَّمْسُ، هَرَبَ الأَعْدَاءُ فَأَسْرَعَتْ الْأَمِيْرَةُ إلَى الْقَصْرِ وَقَدْ فَهِمَتْ\n",
      "وَعِنْدَمَا طَلَعَتِ الشَّمْسُ، هَرَبَ الأَعْدَاءُ فَأَسْرَعَتْ الْأَمِيْرَةُ إلَى الْقَصْرِ وَقَدْ فَهِمَتْ خُطَّةَ\n",
      "وَعِنْدَمَا طَلَعَتِ الشَّمْسُ، هَرَبَ الأَعْدَاءُ فَأَسْرَعَتْ الْأَمِيْرَةُ إلَى الْقَصْرِ وَقَدْ فَهِمَتْ خُطَّةَ أَخِيْهَا\n",
      "وَعِنْدَمَا طَلَعَتِ الشَّمْسُ، هَرَبَ الأَعْدَاءُ فَأَسْرَعَتْ الْأَمِيْرَةُ إلَى الْقَصْرِ وَقَدْ فَهِمَتْ خُطَّةَ أَخِيْهَا وَعِنْدَمَا\n",
      "وَعِنْدَمَا طَلَعَتِ الشَّمْسُ، هَرَبَ الأَعْدَاءُ فَأَسْرَعَتْ الْأَمِيْرَةُ إلَى الْقَصْرِ وَقَدْ فَهِمَتْ خُطَّةَ أَخِيْهَا وَعِنْدَمَا دَخَلَتْ\n",
      "وَعِنْدَمَا طَلَعَتِ الشَّمْسُ، هَرَبَ الأَعْدَاءُ فَأَسْرَعَتْ الْأَمِيْرَةُ إلَى الْقَصْرِ وَقَدْ فَهِمَتْ خُطَّةَ أَخِيْهَا وَعِنْدَمَا دَخَلَتْ غُرْفَتَهَا\n",
      "وَعِنْدَمَا طَلَعَتِ الشَّمْسُ، هَرَبَ الأَعْدَاءُ فَأَسْرَعَتْ الْأَمِيْرَةُ إلَى الْقَصْرِ وَقَدْ فَهِمَتْ خُطَّةَ أَخِيْهَا وَعِنْدَمَا دَخَلَتْ غُرْفَتَهَا طَعَنَتْ\n",
      "وَعِنْدَمَا طَلَعَتِ الشَّمْسُ، هَرَبَ الأَعْدَاءُ فَأَسْرَعَتْ الْأَمِيْرَةُ إلَى الْقَصْرِ وَقَدْ فَهِمَتْ خُطَّةَ أَخِيْهَا وَعِنْدَمَا دَخَلَتْ غُرْفَتَهَا طَعَنَتْ زَوْجَهَا\n",
      "وَعِنْدَمَا طَلَعَتِ الشَّمْسُ، هَرَبَ الأَعْدَاءُ فَأَسْرَعَتْ الْأَمِيْرَةُ إلَى الْقَصْرِ وَقَدْ فَهِمَتْ خُطَّةَ أَخِيْهَا وَعِنْدَمَا دَخَلَتْ غُرْفَتَهَا طَعَنَتْ زَوْجَهَا فِي\n",
      "وَعِنْدَمَا طَلَعَتِ الشَّمْسُ، هَرَبَ الأَعْدَاءُ فَأَسْرَعَتْ الْأَمِيْرَةُ إلَى الْقَصْرِ وَقَدْ فَهِمَتْ خُطَّةَ أَخِيْهَا وَعِنْدَمَا دَخَلَتْ غُرْفَتَهَا طَعَنَتْ زَوْجَهَا فِي فَخْذِهِ\n",
      "وَعِنْدَمَا طَلَعَتِ الشَّمْسُ، هَرَبَ الأَعْدَاءُ فَأَسْرَعَتْ الْأَمِيْرَةُ إلَى الْقَصْرِ وَقَدْ فَهِمَتْ خُطَّةَ أَخِيْهَا وَعِنْدَمَا دَخَلَتْ غُرْفَتَهَا طَعَنَتْ زَوْجَهَا فِي فَخْذِهِ الْأَيْسَرِ\n",
      "وَعِنْدَمَا طَلَعَتِ الشَّمْسُ، هَرَبَ الأَعْدَاءُ فَأَسْرَعَتْ الْأَمِيْرَةُ إلَى الْقَصْرِ وَقَدْ فَهِمَتْ خُطَّةَ أَخِيْهَا وَعِنْدَمَا دَخَلَتْ غُرْفَتَهَا طَعَنَتْ زَوْجَهَا فِي فَخْذِهِ الْأَيْسَرِ لَكِنَّ\n",
      "وَعِنْدَمَا طَلَعَتِ الشَّمْسُ، هَرَبَ الأَعْدَاءُ فَأَسْرَعَتْ الْأَمِيْرَةُ إلَى الْقَصْرِ وَقَدْ فَهِمَتْ خُطَّةَ أَخِيْهَا وَعِنْدَمَا دَخَلَتْ غُرْفَتَهَا طَعَنَتْ زَوْجَهَا فِي فَخْذِهِ الْأَيْسَرِ لَكِنَّ رَابِيزُو\n",
      "وَعِنْدَمَا طَلَعَتِ الشَّمْسُ، هَرَبَ الأَعْدَاءُ فَأَسْرَعَتْ الْأَمِيْرَةُ إلَى الْقَصْرِ وَقَدْ فَهِمَتْ خُطَّةَ أَخِيْهَا وَعِنْدَمَا دَخَلَتْ غُرْفَتَهَا طَعَنَتْ زَوْجَهَا فِي فَخْذِهِ الْأَيْسَرِ لَكِنَّ رَابِيزُو لَمْ\n",
      "وَعِنْدَمَا طَلَعَتِ الشَّمْسُ، هَرَبَ الأَعْدَاءُ فَأَسْرَعَتْ الْأَمِيْرَةُ إلَى الْقَصْرِ وَقَدْ فَهِمَتْ خُطَّةَ أَخِيْهَا وَعِنْدَمَا دَخَلَتْ غُرْفَتَهَا طَعَنَتْ زَوْجَهَا فِي فَخْذِهِ الْأَيْسَرِ لَكِنَّ رَابِيزُو لَمْ يَشْعُرْ\n",
      " \n",
      "Full Generated Text: وَعِنْدَمَا طَلَعَتِ الشَّمْسُ، هَرَبَ الأَعْدَاءُ فَأَسْرَعَتْ الْأَمِيْرَةُ إلَى الْقَصْرِ وَقَدْ فَهِمَتْ خُطَّةَ أَخِيْهَا وَعِنْدَمَا دَخَلَتْ غُرْفَتَهَا طَعَنَتْ زَوْجَهَا فِي فَخْذِهِ الْأَيْسَرِ لَكِنَّ رَابِيزُو لَمْ يَشْعُرْ\n"
     ]
    }
   ],
   "source": [
    "text = \"وَعِنْدَمَا طَلَعَتِ الشَّمْسُ، هَرَبَ الأَعْدَاءُ\"\n",
    "number_of_words = 20\n",
    "for _ in range(number_of_words): \n",
    "    token_list = tokenizer.texts_to_sequences([text])[0] \n",
    "    token_list = tf.keras.utils.pad_sequences([token_list], maxlen=max_length-1, padding='pre') \n",
    "    predicted_probs = GRU.predict(token_list, verbose=0) \n",
    "    word = tokenizer.index_word[np.argmax(predicted_probs)] \n",
    "    text += \" \" + word \n",
    "    print(text)\n",
    "print(\" \")\n",
    "print(\"Full Generated Text:\", text) "
   ]
  },
  {
   "cell_type": "markdown",
   "metadata": {},
   "source": [
    "**3-Bidirectional LSTM**"
   ]
  },
  {
   "cell_type": "code",
   "execution_count": 34,
   "metadata": {},
   "outputs": [
    {
     "name": "stdout",
     "output_type": "stream",
     "text": [
      "حَبَسَ رَابِيزُو دُمُوعَهُ وَخَرَجَ وَمَعَهُ حِصَانُهُ فَقَطْ ظَلَّ\n",
      "حَبَسَ رَابِيزُو دُمُوعَهُ وَخَرَجَ وَمَعَهُ حِصَانُهُ فَقَطْ ظَلَّ رَابِيزُو\n",
      "حَبَسَ رَابِيزُو دُمُوعَهُ وَخَرَجَ وَمَعَهُ حِصَانُهُ فَقَطْ ظَلَّ رَابِيزُو يَمْشِي\n",
      "حَبَسَ رَابِيزُو دُمُوعَهُ وَخَرَجَ وَمَعَهُ حِصَانُهُ فَقَطْ ظَلَّ رَابِيزُو يَمْشِي طَوِيلًا\n",
      "حَبَسَ رَابِيزُو دُمُوعَهُ وَخَرَجَ وَمَعَهُ حِصَانُهُ فَقَطْ ظَلَّ رَابِيزُو يَمْشِي طَوِيلًا وَهُوَ\n",
      "حَبَسَ رَابِيزُو دُمُوعَهُ وَخَرَجَ وَمَعَهُ حِصَانُهُ فَقَطْ ظَلَّ رَابِيزُو يَمْشِي طَوِيلًا وَهُوَ حَزِينٌ\n",
      "حَبَسَ رَابِيزُو دُمُوعَهُ وَخَرَجَ وَمَعَهُ حِصَانُهُ فَقَطْ ظَلَّ رَابِيزُو يَمْشِي طَوِيلًا وَهُوَ حَزِينٌ جِدًّا\n",
      "حَبَسَ رَابِيزُو دُمُوعَهُ وَخَرَجَ وَمَعَهُ حِصَانُهُ فَقَطْ ظَلَّ رَابِيزُو يَمْشِي طَوِيلًا وَهُوَ حَزِينٌ جِدًّا كَانَ\n",
      "حَبَسَ رَابِيزُو دُمُوعَهُ وَخَرَجَ وَمَعَهُ حِصَانُهُ فَقَطْ ظَلَّ رَابِيزُو يَمْشِي طَوِيلًا وَهُوَ حَزِينٌ جِدًّا كَانَ رَابِيزُو\n",
      "حَبَسَ رَابِيزُو دُمُوعَهُ وَخَرَجَ وَمَعَهُ حِصَانُهُ فَقَطْ ظَلَّ رَابِيزُو يَمْشِي طَوِيلًا وَهُوَ حَزِينٌ جِدًّا كَانَ رَابِيزُو يَمْشِي\n",
      "حَبَسَ رَابِيزُو دُمُوعَهُ وَخَرَجَ وَمَعَهُ حِصَانُهُ فَقَطْ ظَلَّ رَابِيزُو يَمْشِي طَوِيلًا وَهُوَ حَزِينٌ جِدًّا كَانَ رَابِيزُو يَمْشِي دُونَ\n",
      "حَبَسَ رَابِيزُو دُمُوعَهُ وَخَرَجَ وَمَعَهُ حِصَانُهُ فَقَطْ ظَلَّ رَابِيزُو يَمْشِي طَوِيلًا وَهُوَ حَزِينٌ جِدًّا كَانَ رَابِيزُو يَمْشِي دُونَ هَدَفٍ\n",
      "حَبَسَ رَابِيزُو دُمُوعَهُ وَخَرَجَ وَمَعَهُ حِصَانُهُ فَقَطْ ظَلَّ رَابِيزُو يَمْشِي طَوِيلًا وَهُوَ حَزِينٌ جِدًّا كَانَ رَابِيزُو يَمْشِي دُونَ هَدَفٍ لَمْ\n",
      "حَبَسَ رَابِيزُو دُمُوعَهُ وَخَرَجَ وَمَعَهُ حِصَانُهُ فَقَطْ ظَلَّ رَابِيزُو يَمْشِي طَوِيلًا وَهُوَ حَزِينٌ جِدًّا كَانَ رَابِيزُو يَمْشِي دُونَ هَدَفٍ لَمْ يَعْرِفْ\n",
      "حَبَسَ رَابِيزُو دُمُوعَهُ وَخَرَجَ وَمَعَهُ حِصَانُهُ فَقَطْ ظَلَّ رَابِيزُو يَمْشِي طَوِيلًا وَهُوَ حَزِينٌ جِدًّا كَانَ رَابِيزُو يَمْشِي دُونَ هَدَفٍ لَمْ يَعْرِفْ إِلَى\n",
      "حَبَسَ رَابِيزُو دُمُوعَهُ وَخَرَجَ وَمَعَهُ حِصَانُهُ فَقَطْ ظَلَّ رَابِيزُو يَمْشِي طَوِيلًا وَهُوَ حَزِينٌ جِدًّا كَانَ رَابِيزُو يَمْشِي دُونَ هَدَفٍ لَمْ يَعْرِفْ إِلَى أَيْنَ\n",
      "حَبَسَ رَابِيزُو دُمُوعَهُ وَخَرَجَ وَمَعَهُ حِصَانُهُ فَقَطْ ظَلَّ رَابِيزُو يَمْشِي طَوِيلًا وَهُوَ حَزِينٌ جِدًّا كَانَ رَابِيزُو يَمْشِي دُونَ هَدَفٍ لَمْ يَعْرِفْ إِلَى أَيْنَ يُمْكِنُ\n",
      "حَبَسَ رَابِيزُو دُمُوعَهُ وَخَرَجَ وَمَعَهُ حِصَانُهُ فَقَطْ ظَلَّ رَابِيزُو يَمْشِي طَوِيلًا وَهُوَ حَزِينٌ جِدًّا كَانَ رَابِيزُو يَمْشِي دُونَ هَدَفٍ لَمْ يَعْرِفْ إِلَى أَيْنَ يُمْكِنُ أَنْ\n",
      "حَبَسَ رَابِيزُو دُمُوعَهُ وَخَرَجَ وَمَعَهُ حِصَانُهُ فَقَطْ ظَلَّ رَابِيزُو يَمْشِي طَوِيلًا وَهُوَ حَزِينٌ جِدًّا كَانَ رَابِيزُو يَمْشِي دُونَ هَدَفٍ لَمْ يَعْرِفْ إِلَى أَيْنَ يُمْكِنُ أَنْ يَذْهَبَ\n",
      "حَبَسَ رَابِيزُو دُمُوعَهُ وَخَرَجَ وَمَعَهُ حِصَانُهُ فَقَطْ ظَلَّ رَابِيزُو يَمْشِي طَوِيلًا وَهُوَ حَزِينٌ جِدًّا كَانَ رَابِيزُو يَمْشِي دُونَ هَدَفٍ لَمْ يَعْرِفْ إِلَى أَيْنَ يُمْكِنُ أَنْ يَذْهَبَ وَذَاتَ\n",
      "حَبَسَ رَابِيزُو دُمُوعَهُ وَخَرَجَ وَمَعَهُ حِصَانُهُ فَقَطْ ظَلَّ رَابِيزُو يَمْشِي طَوِيلًا وَهُوَ حَزِينٌ جِدًّا كَانَ رَابِيزُو يَمْشِي دُونَ هَدَفٍ لَمْ يَعْرِفْ إِلَى أَيْنَ يُمْكِنُ أَنْ يَذْهَبَ وَذَاتَ مَرَّةٍ\n",
      "حَبَسَ رَابِيزُو دُمُوعَهُ وَخَرَجَ وَمَعَهُ حِصَانُهُ فَقَطْ ظَلَّ رَابِيزُو يَمْشِي طَوِيلًا وَهُوَ حَزِينٌ جِدًّا كَانَ رَابِيزُو يَمْشِي دُونَ هَدَفٍ لَمْ يَعْرِفْ إِلَى أَيْنَ يُمْكِنُ أَنْ يَذْهَبَ وَذَاتَ مَرَّةٍ وَقَفَ\n",
      "حَبَسَ رَابِيزُو دُمُوعَهُ وَخَرَجَ وَمَعَهُ حِصَانُهُ فَقَطْ ظَلَّ رَابِيزُو يَمْشِي طَوِيلًا وَهُوَ حَزِينٌ جِدًّا كَانَ رَابِيزُو يَمْشِي دُونَ هَدَفٍ لَمْ يَعْرِفْ إِلَى أَيْنَ يُمْكِنُ أَنْ يَذْهَبَ وَذَاتَ مَرَّةٍ وَقَفَ رَابِيزُو\n",
      "حَبَسَ رَابِيزُو دُمُوعَهُ وَخَرَجَ وَمَعَهُ حِصَانُهُ فَقَطْ ظَلَّ رَابِيزُو يَمْشِي طَوِيلًا وَهُوَ حَزِينٌ جِدًّا كَانَ رَابِيزُو يَمْشِي دُونَ هَدَفٍ لَمْ يَعْرِفْ إِلَى أَيْنَ يُمْكِنُ أَنْ يَذْهَبَ وَذَاتَ مَرَّةٍ وَقَفَ رَابِيزُو وَهُوَ\n",
      "حَبَسَ رَابِيزُو دُمُوعَهُ وَخَرَجَ وَمَعَهُ حِصَانُهُ فَقَطْ ظَلَّ رَابِيزُو يَمْشِي طَوِيلًا وَهُوَ حَزِينٌ جِدًّا كَانَ رَابِيزُو يَمْشِي دُونَ هَدَفٍ لَمْ يَعْرِفْ إِلَى أَيْنَ يُمْكِنُ أَنْ يَذْهَبَ وَذَاتَ مَرَّةٍ وَقَفَ رَابِيزُو وَهُوَ يَنْظُرُ\n",
      "حَبَسَ رَابِيزُو دُمُوعَهُ وَخَرَجَ وَمَعَهُ حِصَانُهُ فَقَطْ ظَلَّ رَابِيزُو يَمْشِي طَوِيلًا وَهُوَ حَزِينٌ جِدًّا كَانَ رَابِيزُو يَمْشِي دُونَ هَدَفٍ لَمْ يَعْرِفْ إِلَى أَيْنَ يُمْكِنُ أَنْ يَذْهَبَ وَذَاتَ مَرَّةٍ وَقَفَ رَابِيزُو وَهُوَ يَنْظُرُ إِلَى\n",
      "حَبَسَ رَابِيزُو دُمُوعَهُ وَخَرَجَ وَمَعَهُ حِصَانُهُ فَقَطْ ظَلَّ رَابِيزُو يَمْشِي طَوِيلًا وَهُوَ حَزِينٌ جِدًّا كَانَ رَابِيزُو يَمْشِي دُونَ هَدَفٍ لَمْ يَعْرِفْ إِلَى أَيْنَ يُمْكِنُ أَنْ يَذْهَبَ وَذَاتَ مَرَّةٍ وَقَفَ رَابِيزُو وَهُوَ يَنْظُرُ إِلَى السَّمَاءِ\n",
      "حَبَسَ رَابِيزُو دُمُوعَهُ وَخَرَجَ وَمَعَهُ حِصَانُهُ فَقَطْ ظَلَّ رَابِيزُو يَمْشِي طَوِيلًا وَهُوَ حَزِينٌ جِدًّا كَانَ رَابِيزُو يَمْشِي دُونَ هَدَفٍ لَمْ يَعْرِفْ إِلَى أَيْنَ يُمْكِنُ أَنْ يَذْهَبَ وَذَاتَ مَرَّةٍ وَقَفَ رَابِيزُو وَهُوَ يَنْظُرُ إِلَى السَّمَاءِ وَفَجْأَةً\n",
      "حَبَسَ رَابِيزُو دُمُوعَهُ وَخَرَجَ وَمَعَهُ حِصَانُهُ فَقَطْ ظَلَّ رَابِيزُو يَمْشِي طَوِيلًا وَهُوَ حَزِينٌ جِدًّا كَانَ رَابِيزُو يَمْشِي دُونَ هَدَفٍ لَمْ يَعْرِفْ إِلَى أَيْنَ يُمْكِنُ أَنْ يَذْهَبَ وَذَاتَ مَرَّةٍ وَقَفَ رَابِيزُو وَهُوَ يَنْظُرُ إِلَى السَّمَاءِ وَفَجْأَةً سَمِعَ\n",
      "حَبَسَ رَابِيزُو دُمُوعَهُ وَخَرَجَ وَمَعَهُ حِصَانُهُ فَقَطْ ظَلَّ رَابِيزُو يَمْشِي طَوِيلًا وَهُوَ حَزِينٌ جِدًّا كَانَ رَابِيزُو يَمْشِي دُونَ هَدَفٍ لَمْ يَعْرِفْ إِلَى أَيْنَ يُمْكِنُ أَنْ يَذْهَبَ وَذَاتَ مَرَّةٍ وَقَفَ رَابِيزُو وَهُوَ يَنْظُرُ إِلَى السَّمَاءِ وَفَجْأَةً سَمِعَ صَوْتَ\n",
      "حَبَسَ رَابِيزُو دُمُوعَهُ وَخَرَجَ وَمَعَهُ حِصَانُهُ فَقَطْ ظَلَّ رَابِيزُو يَمْشِي طَوِيلًا وَهُوَ حَزِينٌ جِدًّا كَانَ رَابِيزُو يَمْشِي دُونَ هَدَفٍ لَمْ يَعْرِفْ إِلَى أَيْنَ يُمْكِنُ أَنْ يَذْهَبَ وَذَاتَ مَرَّةٍ وَقَفَ رَابِيزُو وَهُوَ يَنْظُرُ إِلَى السَّمَاءِ وَفَجْأَةً سَمِعَ صَوْتَ خُيُولٍ\n",
      "حَبَسَ رَابِيزُو دُمُوعَهُ وَخَرَجَ وَمَعَهُ حِصَانُهُ فَقَطْ ظَلَّ رَابِيزُو يَمْشِي طَوِيلًا وَهُوَ حَزِينٌ جِدًّا كَانَ رَابِيزُو يَمْشِي دُونَ هَدَفٍ لَمْ يَعْرِفْ إِلَى أَيْنَ يُمْكِنُ أَنْ يَذْهَبَ وَذَاتَ مَرَّةٍ وَقَفَ رَابِيزُو وَهُوَ يَنْظُرُ إِلَى السَّمَاءِ وَفَجْأَةً سَمِعَ صَوْتَ خُيُولٍ تَجْرِي\n",
      "حَبَسَ رَابِيزُو دُمُوعَهُ وَخَرَجَ وَمَعَهُ حِصَانُهُ فَقَطْ ظَلَّ رَابِيزُو يَمْشِي طَوِيلًا وَهُوَ حَزِينٌ جِدًّا كَانَ رَابِيزُو يَمْشِي دُونَ هَدَفٍ لَمْ يَعْرِفْ إِلَى أَيْنَ يُمْكِنُ أَنْ يَذْهَبَ وَذَاتَ مَرَّةٍ وَقَفَ رَابِيزُو وَهُوَ يَنْظُرُ إِلَى السَّمَاءِ وَفَجْأَةً سَمِعَ صَوْتَ خُيُولٍ تَجْرِي مُسْرِعَةً\n",
      "حَبَسَ رَابِيزُو دُمُوعَهُ وَخَرَجَ وَمَعَهُ حِصَانُهُ فَقَطْ ظَلَّ رَابِيزُو يَمْشِي طَوِيلًا وَهُوَ حَزِينٌ جِدًّا كَانَ رَابِيزُو يَمْشِي دُونَ هَدَفٍ لَمْ يَعْرِفْ إِلَى أَيْنَ يُمْكِنُ أَنْ يَذْهَبَ وَذَاتَ مَرَّةٍ وَقَفَ رَابِيزُو وَهُوَ يَنْظُرُ إِلَى السَّمَاءِ وَفَجْأَةً سَمِعَ صَوْتَ خُيُولٍ تَجْرِي مُسْرِعَةً وَرَأَى\n",
      "حَبَسَ رَابِيزُو دُمُوعَهُ وَخَرَجَ وَمَعَهُ حِصَانُهُ فَقَطْ ظَلَّ رَابِيزُو يَمْشِي طَوِيلًا وَهُوَ حَزِينٌ جِدًّا كَانَ رَابِيزُو يَمْشِي دُونَ هَدَفٍ لَمْ يَعْرِفْ إِلَى أَيْنَ يُمْكِنُ أَنْ يَذْهَبَ وَذَاتَ مَرَّةٍ وَقَفَ رَابِيزُو وَهُوَ يَنْظُرُ إِلَى السَّمَاءِ وَفَجْأَةً سَمِعَ صَوْتَ خُيُولٍ تَجْرِي مُسْرِعَةً وَرَأَى غُبَارًا\n",
      " \n",
      "Full Generated Text: حَبَسَ رَابِيزُو دُمُوعَهُ وَخَرَجَ وَمَعَهُ حِصَانُهُ فَقَطْ ظَلَّ رَابِيزُو يَمْشِي طَوِيلًا وَهُوَ حَزِينٌ جِدًّا كَانَ رَابِيزُو يَمْشِي دُونَ هَدَفٍ لَمْ يَعْرِفْ إِلَى أَيْنَ يُمْكِنُ أَنْ يَذْهَبَ وَذَاتَ مَرَّةٍ وَقَفَ رَابِيزُو وَهُوَ يَنْظُرُ إِلَى السَّمَاءِ وَفَجْأَةً سَمِعَ صَوْتَ خُيُولٍ تَجْرِي مُسْرِعَةً وَرَأَى غُبَارًا\n"
     ]
    }
   ],
   "source": [
    "text = \"حَبَسَ رَابِيزُو دُمُوعَهُ وَخَرَجَ وَمَعَهُ حِصَانُهُ فَقَطْ\"\n",
    "number_of_words = 35\n",
    "for _ in range(number_of_words): \n",
    "    token_list = tokenizer.texts_to_sequences([text])[0] \n",
    "    token_list = tf.keras.utils.pad_sequences([token_list], maxlen=max_length-1, padding='pre') \n",
    "    predicted_probs = Bidirectional_LSTM.predict(token_list, verbose=0) \n",
    "    word = tokenizer.index_word[np.argmax(predicted_probs)] \n",
    "    text += \" \" + word \n",
    "    print(text)\n",
    "print(\" \")\n",
    "print(\"Full Generated Text:\", text) "
   ]
  },
  {
   "cell_type": "markdown",
   "metadata": {},
   "source": [
    "# Save The Models"
   ]
  },
  {
   "cell_type": "code",
   "execution_count": 28,
   "metadata": {},
   "outputs": [],
   "source": [
    "LSTM.save('Arabic_LSTM.h5')"
   ]
  },
  {
   "cell_type": "code",
   "execution_count": 29,
   "metadata": {},
   "outputs": [],
   "source": [
    "Bidirectional_LSTM.save('Arabic_Bidirectional_LSTM.h5')"
   ]
  },
  {
   "cell_type": "code",
   "execution_count": 30,
   "metadata": {},
   "outputs": [],
   "source": [
    "GRU.save('Arabic_GRU.h5')"
   ]
  },
  {
   "cell_type": "markdown",
   "metadata": {},
   "source": [
    "# Save The Tokenizer"
   ]
  },
  {
   "cell_type": "code",
   "execution_count": 31,
   "metadata": {},
   "outputs": [],
   "source": [
    "import pickle\n",
    "with open('arabic_tokenizer.pickle', 'wb') as handle:\n",
    "    pickle.dump(tokenizer, handle, protocol=pickle.HIGHEST_PROTOCOL)"
   ]
  },
  {
   "cell_type": "code",
   "execution_count": null,
   "metadata": {},
   "outputs": [],
   "source": []
  }
 ],
 "metadata": {
  "kernelspec": {
   "display_name": "Python 3",
   "language": "python",
   "name": "python3"
  },
  "language_info": {
   "codemirror_mode": {
    "name": "ipython",
    "version": 3
   },
   "file_extension": ".py",
   "mimetype": "text/x-python",
   "name": "python",
   "nbconvert_exporter": "python",
   "pygments_lexer": "ipython3",
   "version": "3.11.9"
  }
 },
 "nbformat": 4,
 "nbformat_minor": 2
}
