{
  "cells": [
    {
      "cell_type": "markdown",
      "metadata": {
        "id": "hDnJxFAX5TDV"
      },
      "source": [
        "**Import Libraries**"
      ]
    },
    {
      "cell_type": "code",
      "execution_count": 1,
      "metadata": {
        "id": "aWiD7Cel5TDW"
      },
      "outputs": [],
      "source": [
        "import tensorflow as tf\n",
        "import numpy as np\n",
        "import warnings\n",
        "import os\n",
        "import random\n",
        "random.seed(42)\n",
        "np.random.seed(42)\n",
        "os.environ['PYTHONHASHSEED'] = str(42)\n",
        "tf.random.set_seed(42)\n",
        "from nlp_model_text_preprocessing import index_the_words, text_to_sequence, pad_sequences, one_hot_encoding, index_the_char, text_to_sequence_char, char_sequence_to_text, word_sequence_to_text\n",
        "from english_text_normalization import text_normalization\n",
        "from deep_learning import nlp_model_word, nlp_model_char, model_compile_word, model_compile_char, model_fit, plot_word_model_change, plot_char_model_change\n",
        "from model_testing import model_testing_char, model_testing_word\n",
        "from transformers_models import load_dataset, data_collator, train_arguments, training_, save_model_tokenizer, transformer_testing,transformes_model\n",
        "from read_data import read_file\n",
        "from generate_train_label import generate_train_label_word, generate_train_label_char\n",
        "from model_check_point import check_point\n",
        "tf.keras.utils.set_random_seed(42)\n",
        "tf.config.experimental.enable_op_determinism()"
      ]
    },
    {
      "cell_type": "markdown",
      "metadata": {
        "id": "3Dd3hmAE5TDX"
      },
      "source": [
        "**Ignore Warnings**"
      ]
    },
    {
      "cell_type": "code",
      "execution_count": 2,
      "metadata": {
        "id": "m6Tiw3PH5TDX"
      },
      "outputs": [],
      "source": [
        "os.environ['TF_CPP_MIN_LOG_LEVEL'] = '3'\n",
        "warnings.filterwarnings(action='ignore')"
      ]
    },
    {
      "cell_type": "markdown",
      "metadata": {
        "id": "O8haQ7P05TDX"
      },
      "source": [
        "**Read Data**"
      ]
    },
    {
      "cell_type": "code",
      "execution_count": null,
      "metadata": {
        "id": "DB8YvI6g5TDX",
        "outputId": "2e30605b-1868-4e65-d387-f82ef34a6e55"
      },
      "outputs": [
        {
          "data": {
            "text/plain": [
              "3668"
            ]
          },
          "execution_count": 3,
          "metadata": {},
          "output_type": "execute_result"
        }
      ],
      "source": [
        "Corpus = read_file(file_path=\"The Alchemist.txt\", text_normalization=text_normalization)\n",
        "len(Corpus)"
      ]
    },
    {
      "cell_type": "code",
      "execution_count": null,
      "metadata": {
        "id": "_gYz1TTE5TDX"
      },
      "outputs": [],
      "source": [
        "with open('Cleaned_Corpus.txt', 'w') as f:\n",
        "    for line in Corpus:\n",
        "        f.write(line + '\\n')"
      ]
    },
    {
      "cell_type": "markdown",
      "metadata": {
        "id": "jUXNdXyH5TDY"
      },
      "source": [
        "**Generate Early Stop Depending On Value Of Loss**"
      ]
    },
    {
      "cell_type": "code",
      "execution_count": null,
      "metadata": {
        "id": "WFlB1GBw5TDY"
      },
      "outputs": [],
      "source": [
        "early_stop_ = tf.keras.callbacks.EarlyStopping(\n",
        "    monitor='loss',\n",
        "    patience=5,\n",
        "    mode = 'min',\n",
        "    restore_best_weights=True,\n",
        ")"
      ]
    },
    {
      "cell_type": "markdown",
      "metadata": {
        "id": "LnjS8mGi5TDY"
      },
      "source": [
        "**1-Tokens Based On Word**"
      ]
    },
    {
      "cell_type": "code",
      "execution_count": null,
      "metadata": {
        "id": "Lv9fHjXq5TDY",
        "outputId": "08040c25-e96a-4a46-8eea-de2748424d08"
      },
      "outputs": [
        {
          "data": {
            "text/plain": [
              "3382"
            ]
          },
          "execution_count": 6,
          "metadata": {},
          "output_type": "execute_result"
        }
      ],
      "source": [
        "# Generate Word To Index, Index To Word, And Find Count Of All Words\n",
        "all_words, words_index, index_to_words = index_the_words(Corpus)\n",
        "all_words"
      ]
    },
    {
      "cell_type": "code",
      "execution_count": null,
      "metadata": {
        "id": "i9AQ0Bqg5TDY",
        "outputId": "d1b404b4-2bbf-4577-a264-fcdfda4701e5"
      },
      "outputs": [
        {
          "data": {
            "text/plain": [
              "24"
            ]
          },
          "execution_count": 7,
          "metadata": {},
          "output_type": "execute_result"
        }
      ],
      "source": [
        "max_length_word, train, labels = generate_train_label_word(Corpus, text_to_sequence, words_index, pad_sequences)\n",
        "max_length_word"
      ]
    },
    {
      "cell_type": "code",
      "execution_count": null,
      "metadata": {
        "id": "R1QW7UVL5TDY",
        "outputId": "d27daa22-26e7-4d83-dfad-b73fe738befc"
      },
      "outputs": [
        {
          "data": {
            "text/plain": [
              "array([[0., 0., 0., ..., 0., 0., 0.],\n",
              "       [0., 0., 0., ..., 0., 0., 0.],\n",
              "       [0., 0., 0., ..., 0., 0., 0.],\n",
              "       ...,\n",
              "       [0., 0., 0., ..., 0., 0., 0.],\n",
              "       [0., 0., 0., ..., 0., 0., 0.],\n",
              "       [0., 0., 0., ..., 0., 0., 0.]])"
            ]
          },
          "execution_count": 8,
          "metadata": {},
          "output_type": "execute_result"
        }
      ],
      "source": [
        "# Convert Label Data\n",
        "label = one_hot_encoding(labels, all_words)\n",
        "label"
      ]
    },
    {
      "cell_type": "markdown",
      "metadata": {
        "id": "0729I-bE5TDY"
      },
      "source": [
        "*Deep Learning Models*"
      ]
    },
    {
      "cell_type": "code",
      "execution_count": null,
      "metadata": {
        "id": "aJpFmN1V5TDY",
        "outputId": "f9dd8f49-44e9-48ce-9dc3-3d1ed03b2db3"
      },
      "outputs": [
        {
          "name": "stdout",
          "output_type": "stream",
          "text": [
            "Epoch 1/150\n",
            "1100/1100 [==============================] - 18s 15ms/step - loss: 6.0076 - accuracy: 0.0973\n",
            "Epoch 2/150\n",
            "1100/1100 [==============================] - 17s 15ms/step - loss: 5.3767 - accuracy: 0.1396\n",
            "Epoch 3/150\n",
            "1100/1100 [==============================] - 16s 15ms/step - loss: 4.9802 - accuracy: 0.1681\n",
            "Epoch 4/150\n",
            "1100/1100 [==============================] - 15s 13ms/step - loss: 4.6828 - accuracy: 0.1880\n",
            "Epoch 5/150\n",
            "1100/1100 [==============================] - 14s 13ms/step - loss: 4.4420 - accuracy: 0.2026\n",
            "Epoch 6/150\n",
            "1100/1100 [==============================] - 14s 12ms/step - loss: 4.2345 - accuracy: 0.2175\n",
            "Epoch 7/150\n",
            "1100/1100 [==============================] - 14s 13ms/step - loss: 4.0406 - accuracy: 0.2301\n",
            "Epoch 8/150\n",
            "1100/1100 [==============================] - 15s 13ms/step - loss: 3.8583 - accuracy: 0.2439\n",
            "Epoch 9/150\n",
            "1100/1100 [==============================] - 14s 13ms/step - loss: 3.6841 - accuracy: 0.2596\n",
            "Epoch 10/150\n",
            "1100/1100 [==============================] - 15s 13ms/step - loss: 3.5156 - accuracy: 0.2784\n",
            "Epoch 11/150\n",
            "1100/1100 [==============================] - 14s 13ms/step - loss: 3.3500 - accuracy: 0.2978\n",
            "Epoch 12/150\n",
            "1100/1100 [==============================] - 15s 13ms/step - loss: 3.1936 - accuracy: 0.3166\n",
            "Epoch 13/150\n",
            "1100/1100 [==============================] - 14s 13ms/step - loss: 3.0424 - accuracy: 0.3399\n",
            "Epoch 14/150\n",
            "1100/1100 [==============================] - 14s 12ms/step - loss: 2.8999 - accuracy: 0.3633\n",
            "Epoch 15/150\n",
            "1100/1100 [==============================] - 14s 13ms/step - loss: 2.7619 - accuracy: 0.3869\n",
            "Epoch 16/150\n",
            "1100/1100 [==============================] - 14s 13ms/step - loss: 2.6331 - accuracy: 0.4098\n",
            "Epoch 17/150\n",
            "1100/1100 [==============================] - 14s 13ms/step - loss: 2.5110 - accuracy: 0.4339\n",
            "Epoch 18/150\n",
            "1100/1100 [==============================] - 14s 13ms/step - loss: 2.3956 - accuracy: 0.4574\n",
            "Epoch 19/150\n",
            "1100/1100 [==============================] - 14s 12ms/step - loss: 2.2818 - accuracy: 0.4804\n",
            "Epoch 20/150\n",
            "1100/1100 [==============================] - 14s 12ms/step - loss: 2.1764 - accuracy: 0.5023\n",
            "Epoch 21/150\n",
            "1100/1100 [==============================] - 14s 12ms/step - loss: 2.0766 - accuracy: 0.5253\n",
            "Epoch 22/150\n",
            "1100/1100 [==============================] - 14s 12ms/step - loss: 1.9820 - accuracy: 0.5449\n",
            "Epoch 23/150\n",
            "1100/1100 [==============================] - 14s 12ms/step - loss: 1.8923 - accuracy: 0.5653\n",
            "Epoch 24/150\n",
            "1100/1100 [==============================] - 14s 12ms/step - loss: 1.8066 - accuracy: 0.5845\n",
            "Epoch 25/150\n",
            "1100/1100 [==============================] - 14s 12ms/step - loss: 1.7243 - accuracy: 0.6028\n",
            "Epoch 26/150\n",
            "1100/1100 [==============================] - 14s 12ms/step - loss: 1.6478 - accuracy: 0.6211\n",
            "Epoch 27/150\n",
            "1100/1100 [==============================] - 14s 12ms/step - loss: 1.5732 - accuracy: 0.6384\n",
            "Epoch 28/150\n",
            "1100/1100 [==============================] - 14s 12ms/step - loss: 1.5032 - accuracy: 0.6555\n",
            "Epoch 29/150\n",
            "1100/1100 [==============================] - 14s 12ms/step - loss: 1.4380 - accuracy: 0.6703\n",
            "Epoch 30/150\n",
            "1100/1100 [==============================] - 14s 12ms/step - loss: 1.3742 - accuracy: 0.6831\n",
            "Epoch 31/150\n",
            "1100/1100 [==============================] - 14s 12ms/step - loss: 1.3145 - accuracy: 0.6981\n",
            "Epoch 32/150\n",
            "1100/1100 [==============================] - 14s 12ms/step - loss: 1.2590 - accuracy: 0.7118\n",
            "Epoch 33/150\n",
            "1100/1100 [==============================] - 14s 12ms/step - loss: 1.2043 - accuracy: 0.7242\n",
            "Epoch 34/150\n",
            "1100/1100 [==============================] - 14s 12ms/step - loss: 1.1544 - accuracy: 0.7360\n",
            "Epoch 35/150\n",
            "1100/1100 [==============================] - 14s 12ms/step - loss: 1.1049 - accuracy: 0.7485\n",
            "Epoch 36/150\n",
            "1100/1100 [==============================] - 14s 12ms/step - loss: 1.0596 - accuracy: 0.7594\n",
            "Epoch 37/150\n",
            "1100/1100 [==============================] - 14s 12ms/step - loss: 1.0171 - accuracy: 0.7690\n",
            "Epoch 38/150\n",
            "1100/1100 [==============================] - 14s 12ms/step - loss: 0.9773 - accuracy: 0.7794\n",
            "Epoch 39/150\n",
            "1100/1100 [==============================] - 14s 12ms/step - loss: 0.9369 - accuracy: 0.7866\n",
            "Epoch 40/150\n",
            "1100/1100 [==============================] - 14s 12ms/step - loss: 0.9009 - accuracy: 0.7967\n",
            "Epoch 41/150\n",
            "1100/1100 [==============================] - 14s 13ms/step - loss: 0.8650 - accuracy: 0.8053\n",
            "Epoch 42/150\n",
            "1100/1100 [==============================] - 14s 12ms/step - loss: 0.8320 - accuracy: 0.8135\n",
            "Epoch 43/150\n",
            "1100/1100 [==============================] - 14s 12ms/step - loss: 0.8047 - accuracy: 0.8176\n",
            "Epoch 44/150\n",
            "1100/1100 [==============================] - 14s 12ms/step - loss: 0.7714 - accuracy: 0.8271\n",
            "Epoch 45/150\n",
            "1100/1100 [==============================] - 14s 12ms/step - loss: 0.7431 - accuracy: 0.8340\n",
            "Epoch 46/150\n",
            "1100/1100 [==============================] - 14s 12ms/step - loss: 0.7195 - accuracy: 0.8392\n",
            "Epoch 47/150\n",
            "1100/1100 [==============================] - 14s 12ms/step - loss: 0.6948 - accuracy: 0.8450\n",
            "Epoch 48/150\n",
            "1100/1100 [==============================] - 14s 13ms/step - loss: 0.6713 - accuracy: 0.8490\n",
            "Epoch 49/150\n",
            "1100/1100 [==============================] - 14s 13ms/step - loss: 0.6500 - accuracy: 0.8543\n",
            "Epoch 50/150\n",
            "1100/1100 [==============================] - 14s 13ms/step - loss: 0.6280 - accuracy: 0.8585\n",
            "Epoch 51/150\n",
            "1100/1100 [==============================] - 14s 12ms/step - loss: 0.6121 - accuracy: 0.8617\n",
            "Epoch 52/150\n",
            "1100/1100 [==============================] - 14s 12ms/step - loss: 0.5914 - accuracy: 0.8663\n",
            "Epoch 53/150\n",
            "1100/1100 [==============================] - 14s 13ms/step - loss: 0.5763 - accuracy: 0.8696\n",
            "Epoch 54/150\n",
            "1100/1100 [==============================] - 14s 12ms/step - loss: 0.5579 - accuracy: 0.8719\n",
            "Epoch 55/150\n",
            "1100/1100 [==============================] - 14s 13ms/step - loss: 0.5470 - accuracy: 0.8740\n",
            "Epoch 56/150\n",
            "1100/1100 [==============================] - 14s 13ms/step - loss: 0.5321 - accuracy: 0.8778\n",
            "Epoch 57/150\n",
            "1100/1100 [==============================] - 14s 13ms/step - loss: 0.5209 - accuracy: 0.8789\n",
            "Epoch 58/150\n",
            "1100/1100 [==============================] - 14s 12ms/step - loss: 0.5089 - accuracy: 0.8814\n",
            "Epoch 59/150\n",
            "1100/1100 [==============================] - 14s 13ms/step - loss: 0.4950 - accuracy: 0.8833\n",
            "Epoch 60/150\n",
            "1100/1100 [==============================] - 14s 12ms/step - loss: 0.4863 - accuracy: 0.8858\n",
            "Epoch 61/150\n",
            "1100/1100 [==============================] - 13s 12ms/step - loss: 0.4772 - accuracy: 0.8854\n",
            "Epoch 62/150\n",
            "1100/1100 [==============================] - 13s 12ms/step - loss: 0.4696 - accuracy: 0.8872\n",
            "Epoch 63/150\n",
            "1100/1100 [==============================] - 13s 12ms/step - loss: 0.4575 - accuracy: 0.8890\n",
            "Epoch 64/150\n",
            "1100/1100 [==============================] - 15s 13ms/step - loss: 0.4532 - accuracy: 0.8889\n",
            "Epoch 65/150\n",
            "1100/1100 [==============================] - 15s 13ms/step - loss: 0.4459 - accuracy: 0.8901\n",
            "Epoch 66/150\n",
            "1100/1100 [==============================] - 17s 15ms/step - loss: 0.4370 - accuracy: 0.8926\n",
            "Epoch 67/150\n",
            "1100/1100 [==============================] - 15s 14ms/step - loss: 0.4317 - accuracy: 0.8929\n",
            "Epoch 68/150\n",
            "1100/1100 [==============================] - 14s 13ms/step - loss: 0.4248 - accuracy: 0.8927\n",
            "Epoch 69/150\n",
            "1100/1100 [==============================] - 14s 13ms/step - loss: 0.4189 - accuracy: 0.8948\n",
            "Epoch 70/150\n",
            "1100/1100 [==============================] - 14s 13ms/step - loss: 0.4171 - accuracy: 0.8930\n",
            "Epoch 71/150\n",
            "1100/1100 [==============================] - 14s 13ms/step - loss: 0.4118 - accuracy: 0.8941\n",
            "Epoch 72/150\n",
            "1100/1100 [==============================] - 14s 13ms/step - loss: 0.4079 - accuracy: 0.8955\n",
            "Epoch 73/150\n",
            "1100/1100 [==============================] - 14s 13ms/step - loss: 0.4047 - accuracy: 0.8950\n",
            "Epoch 74/150\n",
            "1100/1100 [==============================] - 14s 13ms/step - loss: 0.3988 - accuracy: 0.8950\n",
            "Epoch 75/150\n",
            "1100/1100 [==============================] - 14s 13ms/step - loss: 0.3934 - accuracy: 0.8953\n",
            "Epoch 76/150\n",
            "1100/1100 [==============================] - 15s 13ms/step - loss: 0.3885 - accuracy: 0.8972\n",
            "Epoch 77/150\n",
            "1100/1100 [==============================] - 16s 14ms/step - loss: 0.3906 - accuracy: 0.8962\n",
            "Epoch 78/150\n",
            "1100/1100 [==============================] - 14s 13ms/step - loss: 0.3849 - accuracy: 0.8966\n",
            "Epoch 79/150\n",
            "1100/1100 [==============================] - 14s 12ms/step - loss: 0.3817 - accuracy: 0.8971\n",
            "Epoch 80/150\n",
            "1100/1100 [==============================] - 14s 13ms/step - loss: 0.3802 - accuracy: 0.8976\n",
            "Epoch 81/150\n",
            "1100/1100 [==============================] - 14s 13ms/step - loss: 0.3760 - accuracy: 0.8975\n",
            "Epoch 82/150\n",
            "1100/1100 [==============================] - 14s 13ms/step - loss: 0.3756 - accuracy: 0.8968\n",
            "Epoch 83/150\n",
            "1100/1100 [==============================] - 14s 13ms/step - loss: 0.3723 - accuracy: 0.8970\n",
            "Epoch 84/150\n",
            "1100/1100 [==============================] - 14s 13ms/step - loss: 0.3701 - accuracy: 0.8981\n",
            "Epoch 85/150\n",
            "1100/1100 [==============================] - 14s 13ms/step - loss: 0.3702 - accuracy: 0.8959\n",
            "Epoch 86/150\n",
            "1100/1100 [==============================] - 14s 13ms/step - loss: 0.3654 - accuracy: 0.8982\n",
            "Epoch 87/150\n",
            "1100/1100 [==============================] - 14s 13ms/step - loss: 0.3622 - accuracy: 0.8972\n",
            "Epoch 88/150\n",
            "1100/1100 [==============================] - 14s 12ms/step - loss: 0.3636 - accuracy: 0.8983\n",
            "Epoch 89/150\n",
            "1100/1100 [==============================] - 14s 13ms/step - loss: 0.3595 - accuracy: 0.8979\n",
            "Epoch 90/150\n",
            "1100/1100 [==============================] - 14s 13ms/step - loss: 0.3613 - accuracy: 0.8973\n",
            "Epoch 91/150\n",
            "1100/1100 [==============================] - 14s 13ms/step - loss: 0.3608 - accuracy: 0.8973\n",
            "Epoch 92/150\n",
            "1100/1100 [==============================] - 14s 13ms/step - loss: 0.3615 - accuracy: 0.8968\n",
            "Epoch 93/150\n",
            "1100/1100 [==============================] - 14s 13ms/step - loss: 0.3542 - accuracy: 0.8973\n",
            "Epoch 94/150\n",
            "1100/1100 [==============================] - 14s 13ms/step - loss: 0.3508 - accuracy: 0.8986\n",
            "Epoch 95/150\n",
            "1100/1100 [==============================] - 14s 13ms/step - loss: 0.3544 - accuracy: 0.8970\n",
            "Epoch 96/150\n",
            "1100/1100 [==============================] - 14s 12ms/step - loss: 0.3536 - accuracy: 0.8986\n",
            "Epoch 97/150\n",
            "1100/1100 [==============================] - 14s 12ms/step - loss: 0.3515 - accuracy: 0.8978\n",
            "Epoch 98/150\n",
            "1100/1100 [==============================] - 14s 12ms/step - loss: 0.3504 - accuracy: 0.8981\n",
            "Epoch 99/150\n",
            "1100/1100 [==============================] - 14s 13ms/step - loss: 0.3499 - accuracy: 0.8987\n",
            "Epoch 100/150\n",
            "1100/1100 [==============================] - 14s 13ms/step - loss: 0.3482 - accuracy: 0.8980\n",
            "Epoch 101/150\n",
            "1100/1100 [==============================] - 14s 13ms/step - loss: 0.3474 - accuracy: 0.8977\n",
            "Epoch 102/150\n",
            "1100/1100 [==============================] - 14s 12ms/step - loss: 0.3436 - accuracy: 0.8984\n",
            "Epoch 103/150\n",
            "1100/1100 [==============================] - 14s 12ms/step - loss: 0.3447 - accuracy: 0.8984\n",
            "Epoch 104/150\n",
            "1100/1100 [==============================] - 14s 12ms/step - loss: 0.3453 - accuracy: 0.8982\n",
            "Epoch 105/150\n",
            "1100/1100 [==============================] - 14s 13ms/step - loss: 0.3460 - accuracy: 0.8984\n",
            "Epoch 106/150\n",
            "1100/1100 [==============================] - 14s 13ms/step - loss: 0.3437 - accuracy: 0.8977\n",
            "Epoch 107/150\n",
            "1100/1100 [==============================] - 14s 13ms/step - loss: 0.3419 - accuracy: 0.8980\n",
            "Epoch 108/150\n",
            "1100/1100 [==============================] - 14s 13ms/step - loss: 0.3418 - accuracy: 0.8976\n",
            "Epoch 109/150\n",
            "1100/1100 [==============================] - 14s 13ms/step - loss: 0.3423 - accuracy: 0.8978\n",
            "Epoch 110/150\n",
            "1100/1100 [==============================] - 14s 13ms/step - loss: 0.3380 - accuracy: 0.8992\n",
            "Epoch 111/150\n",
            "1100/1100 [==============================] - 14s 12ms/step - loss: 0.3414 - accuracy: 0.8984\n",
            "Epoch 112/150\n",
            "1100/1100 [==============================] - 14s 13ms/step - loss: 0.3413 - accuracy: 0.8978\n",
            "Epoch 113/150\n",
            "1100/1100 [==============================] - 14s 12ms/step - loss: 0.3448 - accuracy: 0.8980\n",
            "Epoch 114/150\n",
            "1100/1100 [==============================] - 14s 13ms/step - loss: 0.3332 - accuracy: 0.8990\n",
            "Epoch 115/150\n",
            "1100/1100 [==============================] - 14s 12ms/step - loss: 0.3314 - accuracy: 0.9002\n",
            "Epoch 116/150\n",
            "1100/1100 [==============================] - 14s 13ms/step - loss: 0.3421 - accuracy: 0.8971\n",
            "Epoch 117/150\n",
            "1100/1100 [==============================] - 14s 13ms/step - loss: 0.3527 - accuracy: 0.8952\n",
            "Epoch 118/150\n",
            "1100/1100 [==============================] - 15s 14ms/step - loss: 0.3329 - accuracy: 0.8979\n",
            "Epoch 119/150\n",
            "1100/1100 [==============================] - 15s 13ms/step - loss: 0.3274 - accuracy: 0.8997\n",
            "Epoch 120/150\n",
            "1100/1100 [==============================] - 14s 12ms/step - loss: 0.3357 - accuracy: 0.8978\n",
            "Epoch 121/150\n",
            "1100/1100 [==============================] - 14s 13ms/step - loss: 0.3404 - accuracy: 0.8967\n",
            "Epoch 122/150\n",
            "1100/1100 [==============================] - 15s 14ms/step - loss: 0.3321 - accuracy: 0.8990\n",
            "Epoch 123/150\n",
            "1100/1100 [==============================] - 18s 16ms/step - loss: 0.3317 - accuracy: 0.8986\n",
            "Epoch 124/150\n",
            "1100/1100 [==============================] - 15s 14ms/step - loss: 0.3329 - accuracy: 0.8985\n"
          ]
        },
        {
          "data": {
            "image/png": "[encoded data removed]",
            "text/plain": [
              "<Figure size 640x480 with 1 Axes>"
            ]
          },
          "metadata": {},
          "output_type": "display_data"
        }
      ],
      "source": [
        "# 1-LSTM\n",
        "english_lstm_check_point_1 = check_point('English_Lstm_1')\n",
        "lstm_model = tf.keras.layers.LSTM(units=128, return_sequences=False)\n",
        "LSTM_1 = nlp_model_word(input_dim = all_words, output_dim = 100, input_length = max_length_word, unit = all_words, model = lstm_model)\n",
        "model_compile_word(model =LSTM_1, optimizer=tf.keras.optimizers.legacy.Adam(), loss=tf.keras.losses.CategoricalCrossentropy(), metrics=['accuracy'])\n",
        "history = model_fit(model=LSTM_1, Data=train, Label=label, epochs=150, early_stop=early_stop_, checkpoint=english_lstm_check_point_1 ,batch_size=32)\n",
        "plot_word_model_change(history=history)"
      ]
    },
    {
      "cell_type": "code",
      "execution_count": null,
      "metadata": {
        "id": "toQBwdTj5TDY",
        "outputId": "55b23e74-1ed1-413b-85da-ee260225887d"
      },
      "outputs": [
        {
          "name": "stdout",
          "output_type": "stream",
          "text": [
            "Epoch 1/150\n",
            "550/550 [==============================] - 16s 24ms/step - loss: 6.0428 - accuracy: 0.0967\n",
            "Epoch 2/150\n",
            "550/550 [==============================] - 12s 22ms/step - loss: 5.4588 - accuracy: 0.1327\n",
            "Epoch 3/150\n",
            "550/550 [==============================] - 12s 22ms/step - loss: 5.0983 - accuracy: 0.1595\n",
            "Epoch 4/150\n",
            "550/550 [==============================] - 12s 22ms/step - loss: 4.8129 - accuracy: 0.1793\n",
            "Epoch 5/150\n",
            "550/550 [==============================] - 12s 22ms/step - loss: 4.5993 - accuracy: 0.1951\n",
            "Epoch 6/150\n",
            "550/550 [==============================] - 12s 21ms/step - loss: 4.4232 - accuracy: 0.2057\n",
            "Epoch 7/150\n",
            "550/550 [==============================] - 12s 22ms/step - loss: 4.2650 - accuracy: 0.2155\n",
            "Epoch 8/150\n",
            "550/550 [==============================] - 12s 21ms/step - loss: 4.1187 - accuracy: 0.2262\n",
            "Epoch 9/150\n",
            "550/550 [==============================] - 12s 22ms/step - loss: 3.9831 - accuracy: 0.2383\n",
            "Epoch 10/150\n",
            "550/550 [==============================] - 12s 21ms/step - loss: 3.8499 - accuracy: 0.2497\n",
            "Epoch 11/150\n",
            "550/550 [==============================] - 11s 21ms/step - loss: 3.7196 - accuracy: 0.2598\n",
            "Epoch 12/150\n",
            "550/550 [==============================] - 12s 21ms/step - loss: 3.5946 - accuracy: 0.2722\n",
            "Epoch 13/150\n",
            "550/550 [==============================] - 13s 23ms/step - loss: 3.4705 - accuracy: 0.2874\n",
            "Epoch 14/150\n",
            "550/550 [==============================] - 12s 22ms/step - loss: 3.3500 - accuracy: 0.3029\n",
            "Epoch 15/150\n",
            "550/550 [==============================] - 12s 21ms/step - loss: 3.2321 - accuracy: 0.3173\n",
            "Epoch 16/150\n",
            "550/550 [==============================] - 12s 21ms/step - loss: 3.1191 - accuracy: 0.3338\n",
            "Epoch 17/150\n",
            "550/550 [==============================] - 12s 22ms/step - loss: 3.0094 - accuracy: 0.3537\n",
            "Epoch 18/150\n",
            "550/550 [==============================] - 13s 23ms/step - loss: 2.9046 - accuracy: 0.3714\n",
            "Epoch 19/150\n",
            "550/550 [==============================] - 13s 23ms/step - loss: 2.8033 - accuracy: 0.3873\n",
            "Epoch 20/150\n",
            "550/550 [==============================] - 12s 23ms/step - loss: 2.7045 - accuracy: 0.4053\n",
            "Epoch 21/150\n",
            "550/550 [==============================] - 12s 22ms/step - loss: 2.6120 - accuracy: 0.4216\n",
            "Epoch 22/150\n",
            "550/550 [==============================] - 12s 22ms/step - loss: 2.5233 - accuracy: 0.4380\n",
            "Epoch 23/150\n",
            "550/550 [==============================] - 17s 32ms/step - loss: 2.4364 - accuracy: 0.4545\n",
            "Epoch 24/150\n",
            "550/550 [==============================] - 12s 22ms/step - loss: 2.3529 - accuracy: 0.4732\n",
            "Epoch 25/150\n",
            "550/550 [==============================] - 12s 22ms/step - loss: 2.2751 - accuracy: 0.4880\n",
            "Epoch 26/150\n",
            "550/550 [==============================] - 11s 20ms/step - loss: 2.1985 - accuracy: 0.5013\n",
            "Epoch 27/150\n",
            "550/550 [==============================] - 11s 20ms/step - loss: 2.1213 - accuracy: 0.5186\n",
            "Epoch 28/150\n",
            "550/550 [==============================] - 11s 19ms/step - loss: 2.0475 - accuracy: 0.5336\n",
            "Epoch 29/150\n",
            "550/550 [==============================] - 10s 19ms/step - loss: 1.9764 - accuracy: 0.5491\n",
            "Epoch 30/150\n",
            "550/550 [==============================] - 10s 19ms/step - loss: 1.9054 - accuracy: 0.5660\n",
            "Epoch 31/150\n",
            "550/550 [==============================] - 10s 19ms/step - loss: 1.8372 - accuracy: 0.5795\n",
            "Epoch 32/150\n",
            "550/550 [==============================] - 10s 19ms/step - loss: 1.7706 - accuracy: 0.5946\n",
            "Epoch 33/150\n",
            "550/550 [==============================] - 10s 19ms/step - loss: 1.7057 - accuracy: 0.6090\n",
            "Epoch 34/150\n",
            "550/550 [==============================] - 10s 19ms/step - loss: 1.6433 - accuracy: 0.6233\n",
            "Epoch 35/150\n",
            "550/550 [==============================] - 11s 19ms/step - loss: 1.5809 - accuracy: 0.6410\n",
            "Epoch 36/150\n",
            "550/550 [==============================] - 10s 19ms/step - loss: 1.5221 - accuracy: 0.6541\n",
            "Epoch 37/150\n",
            "550/550 [==============================] - 10s 19ms/step - loss: 1.4626 - accuracy: 0.6665\n",
            "Epoch 38/150\n",
            "550/550 [==============================] - 10s 19ms/step - loss: 1.4073 - accuracy: 0.6808\n",
            "Epoch 39/150\n",
            "550/550 [==============================] - 10s 19ms/step - loss: 1.3524 - accuracy: 0.6952\n",
            "Epoch 40/150\n",
            "550/550 [==============================] - 10s 19ms/step - loss: 1.3012 - accuracy: 0.7073\n",
            "Epoch 41/150\n",
            "550/550 [==============================] - 10s 19ms/step - loss: 1.2483 - accuracy: 0.7174\n",
            "Epoch 42/150\n",
            "550/550 [==============================] - 10s 19ms/step - loss: 1.1993 - accuracy: 0.7325\n",
            "Epoch 43/150\n",
            "550/550 [==============================] - 10s 19ms/step - loss: 1.1550 - accuracy: 0.7415\n",
            "Epoch 44/150\n",
            "550/550 [==============================] - 10s 19ms/step - loss: 1.1082 - accuracy: 0.7525\n",
            "Epoch 45/150\n",
            "550/550 [==============================] - 10s 19ms/step - loss: 1.0629 - accuracy: 0.7625\n",
            "Epoch 46/150\n",
            "550/550 [==============================] - 10s 19ms/step - loss: 1.0218 - accuracy: 0.7719\n",
            "Epoch 47/150\n",
            "550/550 [==============================] - 10s 19ms/step - loss: 0.9795 - accuracy: 0.7821\n",
            "Epoch 48/150\n",
            "550/550 [==============================] - 10s 19ms/step - loss: 0.9390 - accuracy: 0.7905\n",
            "Epoch 49/150\n",
            "550/550 [==============================] - 10s 19ms/step - loss: 0.9044 - accuracy: 0.8011\n",
            "Epoch 50/150\n",
            "550/550 [==============================] - 10s 19ms/step - loss: 0.8724 - accuracy: 0.8068\n",
            "Epoch 51/150\n",
            "550/550 [==============================] - 10s 19ms/step - loss: 0.8348 - accuracy: 0.8169\n",
            "Epoch 52/150\n",
            "550/550 [==============================] - 10s 19ms/step - loss: 0.8042 - accuracy: 0.8244\n",
            "Epoch 53/150\n",
            "550/550 [==============================] - 10s 19ms/step - loss: 0.7728 - accuracy: 0.8304\n",
            "Epoch 54/150\n",
            "550/550 [==============================] - 10s 19ms/step - loss: 0.7456 - accuracy: 0.8374\n",
            "Epoch 55/150\n",
            "550/550 [==============================] - 10s 19ms/step - loss: 0.7209 - accuracy: 0.8421\n",
            "Epoch 56/150\n",
            "550/550 [==============================] - 10s 19ms/step - loss: 0.6927 - accuracy: 0.8479\n",
            "Epoch 57/150\n",
            "550/550 [==============================] - 10s 19ms/step - loss: 0.6665 - accuracy: 0.8537\n",
            "Epoch 58/150\n",
            "550/550 [==============================] - 10s 19ms/step - loss: 0.6459 - accuracy: 0.8572\n",
            "Epoch 59/150\n",
            "550/550 [==============================] - 10s 19ms/step - loss: 0.6289 - accuracy: 0.8598\n",
            "Epoch 60/150\n",
            "550/550 [==============================] - 11s 19ms/step - loss: 0.6021 - accuracy: 0.8662\n",
            "Epoch 61/150\n",
            "550/550 [==============================] - 10s 19ms/step - loss: 0.5833 - accuracy: 0.8702\n",
            "Epoch 62/150\n",
            "550/550 [==============================] - 10s 19ms/step - loss: 0.5678 - accuracy: 0.8725\n",
            "Epoch 63/150\n",
            "550/550 [==============================] - 10s 19ms/step - loss: 0.5512 - accuracy: 0.8753\n",
            "Epoch 64/150\n",
            "550/550 [==============================] - 10s 19ms/step - loss: 0.5358 - accuracy: 0.8776\n",
            "Epoch 65/150\n",
            "550/550 [==============================] - 10s 19ms/step - loss: 0.5220 - accuracy: 0.8800\n",
            "Epoch 66/150\n",
            "550/550 [==============================] - 10s 19ms/step - loss: 0.5068 - accuracy: 0.8833\n",
            "Epoch 67/150\n",
            "550/550 [==============================] - 11s 19ms/step - loss: 0.4970 - accuracy: 0.8842\n",
            "Epoch 68/150\n",
            "550/550 [==============================] - 11s 19ms/step - loss: 0.4850 - accuracy: 0.8866\n",
            "Epoch 69/150\n",
            "550/550 [==============================] - 10s 19ms/step - loss: 0.4704 - accuracy: 0.8893\n",
            "Epoch 70/150\n",
            "550/550 [==============================] - 11s 19ms/step - loss: 0.4631 - accuracy: 0.8891\n",
            "Epoch 71/150\n",
            "550/550 [==============================] - 10s 19ms/step - loss: 0.4602 - accuracy: 0.8887\n",
            "Epoch 72/150\n",
            "550/550 [==============================] - 10s 19ms/step - loss: 0.4463 - accuracy: 0.8919\n",
            "Epoch 73/150\n",
            "550/550 [==============================] - 10s 19ms/step - loss: 0.4330 - accuracy: 0.8937\n",
            "Epoch 74/150\n",
            "550/550 [==============================] - 10s 19ms/step - loss: 0.4258 - accuracy: 0.8933\n",
            "Epoch 75/150\n",
            "550/550 [==============================] - 10s 19ms/step - loss: 0.4245 - accuracy: 0.8935\n",
            "Epoch 76/150\n",
            "550/550 [==============================] - 11s 19ms/step - loss: 0.4144 - accuracy: 0.8956\n",
            "Epoch 77/150\n",
            "550/550 [==============================] - 10s 19ms/step - loss: 0.4120 - accuracy: 0.8947\n",
            "Epoch 78/150\n",
            "550/550 [==============================] - 10s 19ms/step - loss: 0.4081 - accuracy: 0.8966\n",
            "Epoch 79/150\n",
            "550/550 [==============================] - 10s 19ms/step - loss: 0.3991 - accuracy: 0.8958\n",
            "Epoch 80/150\n",
            "550/550 [==============================] - 10s 19ms/step - loss: 0.3927 - accuracy: 0.8971\n",
            "Epoch 81/150\n",
            "550/550 [==============================] - 10s 19ms/step - loss: 0.3866 - accuracy: 0.8974\n",
            "Epoch 82/150\n",
            "550/550 [==============================] - 10s 19ms/step - loss: 0.3919 - accuracy: 0.8964\n",
            "Epoch 83/150\n",
            "550/550 [==============================] - 10s 19ms/step - loss: 0.3914 - accuracy: 0.8961\n",
            "Epoch 84/150\n",
            "550/550 [==============================] - 10s 19ms/step - loss: 0.3801 - accuracy: 0.8980\n",
            "Epoch 85/150\n",
            "550/550 [==============================] - 11s 19ms/step - loss: 0.3719 - accuracy: 0.8970\n",
            "Epoch 86/150\n",
            "550/550 [==============================] - 10s 19ms/step - loss: 0.3669 - accuracy: 0.8987\n",
            "Epoch 87/150\n",
            "550/550 [==============================] - 10s 19ms/step - loss: 0.3712 - accuracy: 0.8973\n",
            "Epoch 88/150\n",
            "550/550 [==============================] - 10s 19ms/step - loss: 0.3740 - accuracy: 0.8964\n",
            "Epoch 89/150\n",
            "550/550 [==============================] - 10s 19ms/step - loss: 0.3663 - accuracy: 0.8975\n",
            "Epoch 90/150\n",
            "550/550 [==============================] - 10s 19ms/step - loss: 0.3597 - accuracy: 0.8991\n",
            "Epoch 91/150\n",
            "550/550 [==============================] - 10s 19ms/step - loss: 0.3562 - accuracy: 0.8993\n",
            "Epoch 92/150\n",
            "550/550 [==============================] - 10s 19ms/step - loss: 0.3671 - accuracy: 0.8961\n",
            "Epoch 93/150\n",
            "550/550 [==============================] - 10s 19ms/step - loss: 0.3593 - accuracy: 0.8975\n",
            "Epoch 94/150\n",
            "550/550 [==============================] - 10s 19ms/step - loss: 0.3503 - accuracy: 0.8993\n",
            "Epoch 95/150\n",
            "550/550 [==============================] - 10s 19ms/step - loss: 0.3474 - accuracy: 0.8989\n",
            "Epoch 96/150\n",
            "550/550 [==============================] - 10s 19ms/step - loss: 0.3472 - accuracy: 0.8994\n",
            "Epoch 97/150\n",
            "550/550 [==============================] - 10s 19ms/step - loss: 0.3496 - accuracy: 0.8988\n",
            "Epoch 98/150\n",
            "550/550 [==============================] - 10s 19ms/step - loss: 0.3544 - accuracy: 0.8979\n",
            "Epoch 99/150\n",
            "550/550 [==============================] - 10s 19ms/step - loss: 0.3532 - accuracy: 0.8976\n",
            "Epoch 100/150\n",
            "550/550 [==============================] - 10s 19ms/step - loss: 0.3461 - accuracy: 0.8986\n",
            "Epoch 101/150\n",
            "550/550 [==============================] - 10s 19ms/step - loss: 0.3438 - accuracy: 0.8983\n",
            "Epoch 102/150\n",
            "550/550 [==============================] - 10s 19ms/step - loss: 0.3421 - accuracy: 0.8993\n",
            "Epoch 103/150\n",
            "550/550 [==============================] - 10s 19ms/step - loss: 0.3404 - accuracy: 0.8990\n",
            "Epoch 104/150\n",
            "550/550 [==============================] - 10s 19ms/step - loss: 0.3391 - accuracy: 0.8985\n",
            "Epoch 105/150\n",
            "550/550 [==============================] - 10s 19ms/step - loss: 0.3360 - accuracy: 0.8992\n",
            "Epoch 106/150\n",
            "550/550 [==============================] - 10s 19ms/step - loss: 0.3367 - accuracy: 0.8989\n",
            "Epoch 107/150\n",
            "550/550 [==============================] - 10s 19ms/step - loss: 0.3388 - accuracy: 0.8983\n",
            "Epoch 108/150\n",
            "550/550 [==============================] - 10s 19ms/step - loss: 0.3413 - accuracy: 0.8979\n",
            "Epoch 109/150\n",
            "550/550 [==============================] - 10s 19ms/step - loss: 0.3440 - accuracy: 0.8975\n",
            "Epoch 110/150\n",
            "550/550 [==============================] - 10s 19ms/step - loss: 0.3390 - accuracy: 0.8988\n"
          ]
        },
        {
          "data": {
            "image/png": "[encoded data removed]",
            "text/plain": [
              "<Figure size 640x480 with 1 Axes>"
            ]
          },
          "metadata": {},
          "output_type": "display_data"
        }
      ],
      "source": [
        "# 2-Bidirectional LSTM\n",
        "english_bidirectional_lstm_check_point_1 = check_point('English_Bidirectional_1')\n",
        "bidirectional_lstm_model = tf.keras.layers.Bidirectional(tf.keras.layers.LSTM(units= 128, return_sequences=False))\n",
        "Bidirectional_LSTM_1 = nlp_model_word(input_dim = all_words, output_dim = 100, input_length = max_length_word, unit = all_words, model = bidirectional_lstm_model)\n",
        "model_compile_word(model =Bidirectional_LSTM_1, optimizer=tf.keras.optimizers.legacy.Adam(), loss=tf.keras.losses.CategoricalCrossentropy(), metrics=['accuracy'])\n",
        "history = model_fit(model=Bidirectional_LSTM_1, Data=train, Label=label, epochs=150, early_stop=early_stop_, checkpoint=english_bidirectional_lstm_check_point_1, batch_size=64)\n",
        "plot_word_model_change(history=history)"
      ]
    },
    {
      "cell_type": "code",
      "execution_count": null,
      "metadata": {
        "id": "PEBNQ1ur5TDZ",
        "outputId": "98e326e4-c4b1-4f23-b771-e716eeb58796"
      },
      "outputs": [
        {
          "name": "stdout",
          "output_type": "stream",
          "text": [
            "Epoch 1/150\n",
            "1100/1100 [==============================] - 16s 12ms/step - loss: 5.8326 - accuracy: 0.1192\n",
            "Epoch 2/150\n",
            "1100/1100 [==============================] - 13s 12ms/step - loss: 4.9923 - accuracy: 0.1691\n",
            "Epoch 3/150\n",
            "1100/1100 [==============================] - 13s 11ms/step - loss: 4.6222 - accuracy: 0.1922\n",
            "Epoch 4/150\n",
            "1100/1100 [==============================] - 13s 11ms/step - loss: 4.3190 - accuracy: 0.2110\n",
            "Epoch 5/150\n",
            "1100/1100 [==============================] - 13s 11ms/step - loss: 4.0419 - accuracy: 0.2303\n",
            "Epoch 6/150\n",
            "1100/1100 [==============================] - 13s 11ms/step - loss: 3.7816 - accuracy: 0.2515\n",
            "Epoch 7/150\n",
            "1100/1100 [==============================] - 13s 11ms/step - loss: 3.5340 - accuracy: 0.2759\n",
            "Epoch 8/150\n",
            "1100/1100 [==============================] - 13s 11ms/step - loss: 3.2987 - accuracy: 0.3056\n",
            "Epoch 9/150\n",
            "1100/1100 [==============================] - 13s 11ms/step - loss: 3.0778 - accuracy: 0.3343\n",
            "Epoch 10/150\n",
            "1100/1100 [==============================] - 13s 11ms/step - loss: 2.8702 - accuracy: 0.3714\n",
            "Epoch 11/150\n",
            "1100/1100 [==============================] - 13s 11ms/step - loss: 2.6756 - accuracy: 0.4042\n",
            "Epoch 12/150\n",
            "1100/1100 [==============================] - 13s 11ms/step - loss: 2.4954 - accuracy: 0.4396\n",
            "Epoch 13/150\n",
            "1100/1100 [==============================] - 13s 11ms/step - loss: 2.3283 - accuracy: 0.4725\n",
            "Epoch 14/150\n",
            "1100/1100 [==============================] - 13s 11ms/step - loss: 2.1730 - accuracy: 0.5027\n",
            "Epoch 15/150\n",
            "1100/1100 [==============================] - 13s 11ms/step - loss: 2.0314 - accuracy: 0.5352\n",
            "Epoch 16/150\n",
            "1100/1100 [==============================] - 13s 12ms/step - loss: 1.8997 - accuracy: 0.5647\n",
            "Epoch 17/150\n",
            "1100/1100 [==============================] - 13s 11ms/step - loss: 1.7789 - accuracy: 0.5889\n",
            "Epoch 18/150\n",
            "1100/1100 [==============================] - 13s 11ms/step - loss: 1.6705 - accuracy: 0.6147\n",
            "Epoch 19/150\n",
            "1100/1100 [==============================] - 13s 11ms/step - loss: 1.5639 - accuracy: 0.6372\n",
            "Epoch 20/150\n",
            "1100/1100 [==============================] - 13s 11ms/step - loss: 1.4673 - accuracy: 0.6612\n",
            "Epoch 21/150\n",
            "1100/1100 [==============================] - 13s 11ms/step - loss: 1.3811 - accuracy: 0.6814\n",
            "Epoch 22/150\n",
            "1100/1100 [==============================] - 13s 11ms/step - loss: 1.3038 - accuracy: 0.6972\n",
            "Epoch 23/150\n",
            "1100/1100 [==============================] - 13s 12ms/step - loss: 1.2292 - accuracy: 0.7132\n",
            "Epoch 24/150\n",
            "1100/1100 [==============================] - 13s 11ms/step - loss: 1.1619 - accuracy: 0.7323\n",
            "Epoch 25/150\n",
            "1100/1100 [==============================] - 13s 11ms/step - loss: 1.1058 - accuracy: 0.7457\n",
            "Epoch 26/150\n",
            "1100/1100 [==============================] - 13s 11ms/step - loss: 1.0442 - accuracy: 0.7615\n",
            "Epoch 27/150\n",
            "1100/1100 [==============================] - 13s 11ms/step - loss: 0.9937 - accuracy: 0.7720\n",
            "Epoch 28/150\n",
            "1100/1100 [==============================] - 13s 11ms/step - loss: 0.9457 - accuracy: 0.7837\n",
            "Epoch 29/150\n",
            "1100/1100 [==============================] - 13s 11ms/step - loss: 0.9002 - accuracy: 0.7945\n",
            "Epoch 30/150\n",
            "1100/1100 [==============================] - 13s 11ms/step - loss: 0.8618 - accuracy: 0.8031\n",
            "Epoch 31/150\n",
            "1100/1100 [==============================] - 13s 11ms/step - loss: 0.8268 - accuracy: 0.8119\n",
            "Epoch 32/150\n",
            "1100/1100 [==============================] - 13s 11ms/step - loss: 0.7919 - accuracy: 0.8222\n",
            "Epoch 33/150\n",
            "1100/1100 [==============================] - 13s 11ms/step - loss: 0.7604 - accuracy: 0.8270\n",
            "Epoch 34/150\n",
            "1100/1100 [==============================] - 13s 11ms/step - loss: 0.7377 - accuracy: 0.8316\n",
            "Epoch 35/150\n",
            "1100/1100 [==============================] - 13s 11ms/step - loss: 0.7099 - accuracy: 0.8384\n",
            "Epoch 36/150\n",
            "1100/1100 [==============================] - 13s 11ms/step - loss: 0.6828 - accuracy: 0.8459\n",
            "Epoch 37/150\n",
            "1100/1100 [==============================] - 13s 11ms/step - loss: 0.6635 - accuracy: 0.8472\n",
            "Epoch 38/150\n",
            "1100/1100 [==============================] - 13s 11ms/step - loss: 0.6454 - accuracy: 0.8519\n",
            "Epoch 39/150\n",
            "1100/1100 [==============================] - 12s 11ms/step - loss: 0.6235 - accuracy: 0.8576\n",
            "Epoch 40/150\n",
            "1100/1100 [==============================] - 13s 11ms/step - loss: 0.6153 - accuracy: 0.8593\n",
            "Epoch 41/150\n",
            "1100/1100 [==============================] - 13s 11ms/step - loss: 0.5949 - accuracy: 0.8625\n",
            "Epoch 42/150\n",
            "1100/1100 [==============================] - 13s 11ms/step - loss: 0.5824 - accuracy: 0.8654\n",
            "Epoch 43/150\n",
            "1100/1100 [==============================] - 13s 11ms/step - loss: 0.5674 - accuracy: 0.8691\n",
            "Epoch 44/150\n",
            "1100/1100 [==============================] - 13s 11ms/step - loss: 0.5582 - accuracy: 0.8690\n",
            "Epoch 45/150\n",
            "1100/1100 [==============================] - 13s 11ms/step - loss: 0.5418 - accuracy: 0.8738\n",
            "Epoch 46/150\n",
            "1100/1100 [==============================] - 13s 11ms/step - loss: 0.5356 - accuracy: 0.8743\n",
            "Epoch 47/150\n",
            "1100/1100 [==============================] - 13s 11ms/step - loss: 0.5359 - accuracy: 0.8712\n",
            "Epoch 48/150\n",
            "1100/1100 [==============================] - 13s 11ms/step - loss: 0.5189 - accuracy: 0.8763\n",
            "Epoch 49/150\n",
            "1100/1100 [==============================] - 13s 11ms/step - loss: 0.5089 - accuracy: 0.8793\n",
            "Epoch 50/150\n",
            "1100/1100 [==============================] - 13s 11ms/step - loss: 0.5059 - accuracy: 0.8786\n",
            "Epoch 51/150\n",
            "1100/1100 [==============================] - 13s 11ms/step - loss: 0.4915 - accuracy: 0.8821\n",
            "Epoch 52/150\n",
            "1100/1100 [==============================] - 12s 11ms/step - loss: 0.4883 - accuracy: 0.8816\n",
            "Epoch 53/150\n",
            "1100/1100 [==============================] - 13s 11ms/step - loss: 0.4892 - accuracy: 0.8817\n",
            "Epoch 54/150\n",
            "1100/1100 [==============================] - 13s 11ms/step - loss: 0.4835 - accuracy: 0.8826\n",
            "Epoch 55/150\n",
            "1100/1100 [==============================] - 13s 11ms/step - loss: 0.4705 - accuracy: 0.8847\n",
            "Epoch 56/150\n",
            "1100/1100 [==============================] - 13s 11ms/step - loss: 0.4671 - accuracy: 0.8863\n",
            "Epoch 57/150\n",
            "1100/1100 [==============================] - 12s 11ms/step - loss: 0.4733 - accuracy: 0.8829\n",
            "Epoch 58/150\n",
            "1100/1100 [==============================] - 13s 11ms/step - loss: 0.4803 - accuracy: 0.8801\n",
            "Epoch 59/150\n",
            "1100/1100 [==============================] - 13s 11ms/step - loss: 0.4558 - accuracy: 0.8866\n",
            "Epoch 60/150\n",
            "1100/1100 [==============================] - 13s 11ms/step - loss: 0.4511 - accuracy: 0.8876\n",
            "Epoch 61/150\n",
            "1100/1100 [==============================] - 13s 11ms/step - loss: 0.4560 - accuracy: 0.8852\n",
            "Epoch 62/150\n",
            "1100/1100 [==============================] - 13s 11ms/step - loss: 0.4486 - accuracy: 0.8865\n",
            "Epoch 63/150\n",
            "1100/1100 [==============================] - 13s 11ms/step - loss: 0.4568 - accuracy: 0.8847\n",
            "Epoch 64/150\n",
            "1100/1100 [==============================] - 12s 11ms/step - loss: 0.4498 - accuracy: 0.8859\n",
            "Epoch 65/150\n",
            "1100/1100 [==============================] - 13s 11ms/step - loss: 0.4322 - accuracy: 0.8908\n",
            "Epoch 66/150\n",
            "1100/1100 [==============================] - 13s 11ms/step - loss: 0.4366 - accuracy: 0.8889\n",
            "Epoch 67/150\n",
            "1100/1100 [==============================] - 13s 11ms/step - loss: 0.4484 - accuracy: 0.8842\n",
            "Epoch 68/150\n",
            "1100/1100 [==============================] - 13s 11ms/step - loss: 0.4334 - accuracy: 0.8881\n",
            "Epoch 69/150\n",
            "1100/1100 [==============================] - 13s 11ms/step - loss: 0.4343 - accuracy: 0.8886\n",
            "Epoch 70/150\n",
            "1100/1100 [==============================] - 13s 11ms/step - loss: 0.4377 - accuracy: 0.8863\n"
          ]
        },
        {
          "data": {
            "image/png": "[encoded data removed]",
            "text/plain": [
              "<Figure size 640x480 with 1 Axes>"
            ]
          },
          "metadata": {},
          "output_type": "display_data"
        }
      ],
      "source": [
        "# 3-GRU\n",
        "english_gru_check_point_1 = check_point('English_GRU1')\n",
        "gru_model = tf.keras.layers.GRU(units= 128, return_sequences=False)\n",
        "GRU_1 = nlp_model_word(input_dim = all_words, output_dim = 100, input_length = max_length_word, unit = all_words, model = gru_model)\n",
        "model_compile_word(model =GRU_1, optimizer=tf.keras.optimizers.legacy.Adam(), loss=tf.keras.losses.CategoricalCrossentropy(), metrics=['accuracy'])\n",
        "history = model_fit(model=GRU_1, Data=train, Label=label, epochs=150, early_stop=early_stop_, checkpoint=english_gru_check_point_1 , batch_size=32)\n",
        "plot_word_model_change(history=history)"
      ]
    },
    {
      "cell_type": "markdown",
      "metadata": {
        "id": "RjbSM8Ub5TDZ"
      },
      "source": [
        "*Testing The Model*"
      ]
    },
    {
      "cell_type": "code",
      "execution_count": null,
      "metadata": {
        "id": "FQwiJEpg5TDZ",
        "outputId": "fe921b24-c8a2-4773-be88-f5113ca88879"
      },
      "outputs": [
        {
          "data": {
            "text/plain": [
              "'The boy was surprised at the point people because he had been a sea he was stronger and he was reading if he worked yes space us taught him to personal desires those can suffer at the sun they entered the sea think about the desert his life show the that morning he had'"
            ]
          },
          "execution_count": 12,
          "metadata": {},
          "output_type": "execute_result"
        }
      ],
      "source": [
        "# 1-LSTM\n",
        "model_testing_word(text = 'The boy was surprised ', number_of_words = 50, text_normalization = text_normalization, text_to_sequence = text_to_sequence, words_index = words_index, pad_sequences = pad_sequences, checkpoint_filepath='English_Lstm_1_model_checkpoint.h5', max_length = max_length_word, index_to_words = index_to_words, word_sequence_to_text = word_sequence_to_text, all_words=all_words)"
      ]
    },
    {
      "cell_type": "code",
      "execution_count": null,
      "metadata": {
        "id": "XE3pl70i5TDZ",
        "outputId": "36bebb9f-9cce-4da0-e344-69c380ceab28"
      },
      "outputs": [
        {
          "data": {
            "text/plain": [
              "'He decided to become them forget the hidden during a days in the desert they had been they two days in it face it had there had met before past hours would sound in just as these things were just force that when he died when when these things he gave to'"
            ]
          },
          "execution_count": 14,
          "metadata": {},
          "output_type": "execute_result"
        }
      ],
      "source": [
        "# 2-Bidirectional LSTM\n",
        "model_testing_word(text = 'He decided', number_of_words = 50, text_normalization = text_normalization, text_to_sequence = text_to_sequence, words_index = words_index, pad_sequences = pad_sequences, checkpoint_filepath='English_Bidirectional_1_model_checkpoint.h5', max_length = max_length_word, index_to_words = index_to_words, word_sequence_to_text = word_sequence_to_text, all_words=all_words)"
      ]
    },
    {
      "cell_type": "code",
      "execution_count": null,
      "metadata": {
        "id": "iTL-bD915TDZ",
        "outputId": "e8b57445-3492-43e6-fdc8-a5a824289be1"
      },
      "outputs": [
        {
          "data": {
            "text/plain": [
              "'The only things we should have to die tomorrow said the alchemist when he was asked one day after he would find his treasure it was with his fact but the king of salem had to be something later i dont know how to turn them into the wind the boy saw that'"
            ]
          },
          "execution_count": 16,
          "metadata": {},
          "output_type": "execute_result"
        }
      ],
      "source": [
        "# 3-GRU\n",
        "model_testing_word(text = 'The only things', number_of_words = 50, text_normalization = text_normalization, text_to_sequence = text_to_sequence, words_index = words_index, pad_sequences = pad_sequences, checkpoint_filepath='English_GRU1_model_checkpoint.h5', max_length = max_length_word, index_to_words = index_to_words, word_sequence_to_text = word_sequence_to_text, all_words=all_words)"
      ]
    },
    {
      "cell_type": "markdown",
      "metadata": {
        "id": "cFnJYLEn5TDZ"
      },
      "source": [
        "**2-Token Based On Character**"
      ]
    },
    {
      "cell_type": "code",
      "execution_count": null,
      "metadata": {
        "id": "uvW2KhbM5TDZ",
        "outputId": "bb07a3c4-583d-4079-e14e-a5fb0c138d14"
      },
      "outputs": [
        {
          "data": {
            "text/plain": [
              "30"
            ]
          },
          "execution_count": 17,
          "metadata": {},
          "output_type": "execute_result"
        }
      ],
      "source": [
        "# Generate Char To Index, Index To Char, And Find Count Of All Char\n",
        "all_chars, chars_index, index_chars = index_the_char(Corpus)\n",
        "all_chars"
      ]
    },
    {
      "cell_type": "code",
      "execution_count": null,
      "metadata": {
        "id": "pnhDK1d15TDZ",
        "outputId": "cdaa226d-5698-480a-a0d5-c1816043ebe5"
      },
      "outputs": [
        {
          "data": {
            "text/plain": [
              "{' ': 0,\n",
              " '.': 1,\n",
              " 'a': 2,\n",
              " 'b': 3,\n",
              " 'c': 4,\n",
              " 'd': 5,\n",
              " 'e': 6,\n",
              " 'f': 7,\n",
              " 'g': 8,\n",
              " 'h': 9,\n",
              " 'i': 10,\n",
              " 'j': 11,\n",
              " 'k': 12,\n",
              " 'l': 13,\n",
              " 'm': 14,\n",
              " 'n': 15,\n",
              " 'o': 16,\n",
              " 'p': 17,\n",
              " 'q': 18,\n",
              " 'r': 19,\n",
              " 's': 20,\n",
              " 't': 21,\n",
              " 'u': 22,\n",
              " 'v': 23,\n",
              " 'w': 24,\n",
              " 'x': 25,\n",
              " 'y': 26,\n",
              " 'z': 27,\n",
              " '—': 28,\n",
              " '’': 29,\n",
              " 'UNK': 30}"
            ]
          },
          "execution_count": 18,
          "metadata": {},
          "output_type": "execute_result"
        }
      ],
      "source": [
        "chars_index"
      ]
    },
    {
      "cell_type": "code",
      "execution_count": null,
      "metadata": {
        "id": "YMfja4eG5TDZ",
        "outputId": "8300c9a2-a1e2-4a2c-f98e-8bfe87ecd6bf"
      },
      "outputs": [
        {
          "data": {
            "text/plain": [
              "123"
            ]
          },
          "execution_count": 19,
          "metadata": {},
          "output_type": "execute_result"
        }
      ],
      "source": [
        "# Find The Max Length\n",
        "max_length_char = max([len(s) for s in Corpus])\n",
        "max_length_char"
      ]
    },
    {
      "cell_type": "code",
      "execution_count": null,
      "metadata": {
        "id": "QeGKClHW5TDZ"
      },
      "outputs": [],
      "source": [
        "# Generate Train And Label Data\n",
        "Train, Label = generate_train_label_char(Corpus, max_length_char)"
      ]
    },
    {
      "cell_type": "code",
      "execution_count": null,
      "metadata": {
        "id": "gHDifG1k5TDZ",
        "outputId": "0132c066-adce-4187-f7b4-299357bc2c05"
      },
      "outputs": [
        {
          "data": {
            "text/plain": [
              "201070"
            ]
          },
          "execution_count": 21,
          "metadata": {},
          "output_type": "execute_result"
        }
      ],
      "source": [
        "len(Train)"
      ]
    },
    {
      "cell_type": "code",
      "execution_count": null,
      "metadata": {
        "id": "N4PT9ebl5TDa"
      },
      "outputs": [],
      "source": [
        "# Convert Words Into Number\n",
        "sequence_text_char_Train = text_to_sequence_char(chars_index, Train)\n",
        "sequence_text_char_Label = text_to_sequence_char(chars_index, Label)"
      ]
    },
    {
      "cell_type": "code",
      "execution_count": null,
      "metadata": {
        "id": "N-xAKYIs5TDa"
      },
      "outputs": [],
      "source": [
        "# Padding The The Input Sequence To Make All Sequence In Same Length\n",
        "Train = pad_sequences(input_sequence=sequence_text_char_Train, max_length=max_length_char, padding='post')\n",
        "# # Convert The Label Data\n",
        "Label = one_hot_encoding(sequence_text_char_Label, all_chars)"
      ]
    },
    {
      "cell_type": "markdown",
      "metadata": {
        "id": "NioQYJgz5TDa"
      },
      "source": [
        "**Deep Learning Model**"
      ]
    },
    {
      "cell_type": "code",
      "execution_count": null,
      "metadata": {
        "id": "m_5A_TVO5TDa"
      },
      "outputs": [],
      "source": [
        "# 1-LSTM\n",
        "english_lstm_check_point_2 = check_point('English_Bidirectional_2')\n",
        "lstm_model = tf.keras.layers.LSTM(units= 128, return_sequences=False)\n",
        "LSTM_2 = nlp_model_char(input_dim = all_chars, output_dim = 100, unit = all_chars, model = lstm_model, input_length=max_length_char)\n",
        "model_compile_char(model =LSTM_2, optiizer=tf.keras.optimizers.legacy.Adam(), loss=tf.keras.losses.CategoricalCrossentropy())\n",
        "history = model_fit(model=LSTM_2, Data=Train, Label=Label, epochs=150, early_stop=early_stop, checkpoint=english_lstm_check_point_2, batch_size=32)\n",
        "plot_char_model_change(history=history)"
      ]
    },
    {
      "cell_type": "code",
      "execution_count": null,
      "metadata": {
        "id": "uPo4zEno5TDa"
      },
      "outputs": [],
      "source": [
        "# 2-Bidirectional_LSTM\n",
        "english_bidirectional_lstm_check_point_2 = check_point('English_Bidirectional_2')\n",
        "bidirectional_lstm_model = tf.keras.layers.Bidirectional(tf.keras.layers.LSTM(units= 128, return_sequences=False))\n",
        "Bidirectional_LSTM_2 = nlp_model_char(input_dim = all_chars, output_dim = 100, unit = all_chars, model = bidirectional_lstm_model, input_length=max_length_char)\n",
        "model_compile_char(model =Bidirectional_LSTM_2, optimizer=tf.keras.optimizers.legacy.Adam(), loss=tf.keras.losses.CategoricalCrossentropy())\n",
        "history = model_fit(model=Bidirectional_LSTM_2, Data=Train, Label=Label, epochs=150, early_stop=early_stop, checkpoint=english_bidirectional_lstm_check_point_2 batch_size=32)\n",
        "plot_char_model_change(history=history)"
      ]
    },
    {
      "cell_type": "code",
      "execution_count": null,
      "metadata": {
        "id": "lcjtTm7U5TDa"
      },
      "outputs": [],
      "source": [
        "# 3-GRU\n",
        "english_gru_check_point_2 = check_point('English_GRU_2')\n",
        "gru_model = tf.keras.layers.GRU(units= 128, return_sequences=False)\n",
        "GRU_2 = nlp_model_char(input_dim = all_chars, output_dim = 100, unit = all_chars, model = gru_model, input_length=max_length_char)\n",
        "model_compile_char(model =GRU_2, optimizer=tf.keras.optimizers.legacy.Adam(), loss=tf.keras.losses.CategoricalCrossentropy())\n",
        "history = model_fit(model=GRU_2, Data=Train, Label=Label, epochs=150, early_stop=early_stop, checkpoint=english_gru_check_point_2,  batch_size=32)\n",
        "plot_char_model_change(history=history)"
      ]
    },
    {
      "cell_type": "markdown",
      "metadata": {
        "id": "3Fja9ycJ5TDa"
      },
      "source": [
        "**Model Testing**"
      ]
    },
    {
      "cell_type": "code",
      "execution_count": null,
      "metadata": {
        "id": "_nBgN9D05TDa"
      },
      "outputs": [],
      "source": [
        "# 1-LSTM\n",
        "model_testing_char(text = 'The people', number_of_chars = 200, char_index = chars_index, pad_sequences = pad_sequences, model = LSTM_2, max_length = max_length_char, index_char = index_chars, text_to_sequence_char = text_to_sequence_char, all_chars=all_chars, char_sequence_to_text=char_sequence_to_text)"
      ]
    },
    {
      "cell_type": "code",
      "execution_count": null,
      "metadata": {
        "id": "TzNYOeTG5TDa"
      },
      "outputs": [],
      "source": [
        "# 2-Bidirectional LSTM\n",
        "model_testing_char(text = \"The people\", number_of_chars = 200, char_index = chars_index, pad_sequences = pad_sequences, model = Bidirectional_LSTM_2, max_length = max_length_char, index_char = index_chars, text_to_sequence_char = text_to_sequence_char, all_chars=all_chars, char_sequence_to_text=char_sequence_to_text)"
      ]
    },
    {
      "cell_type": "code",
      "execution_count": null,
      "metadata": {
        "id": "C9532lsu5TDa"
      },
      "outputs": [],
      "source": [
        "# 3-GRU\n",
        "model_testing_char(text = \"The people\", number_of_chars = 200, char_index = chars_index, pad_sequences = pad_sequences, model = GRU_2, max_length = max_length_char, index_char = index_chars, text_to_sequence_char = text_to_sequence_char, all_chars=all_chars, char_sequence_to_text=char_sequence_to_text)"
      ]
    },
    {
      "cell_type": "markdown",
      "metadata": {
        "id": "6CmV5m7P5TDa"
      },
      "source": [
        "**3-Transformers**"
      ]
    },
    {
      "cell_type": "code",
      "execution_count": 4,
      "metadata": {
        "colab": {
          "base_uri": "https://localhost:8080/",
          "height": 931
        },
        "id": "QnbShDqI5TDa",
        "outputId": "24b23039-70f8-4a5d-9828-8de7b8581b43"
      },
      "outputs": [
        {
          "output_type": "display_data",
          "data": {
            "text/plain": [
              "<IPython.core.display.HTML object>"
            ],
            "text/html": [
              "\n",
              "    <div>\n",
              "      \n",
              "      <progress value='12670' max='12670' style='width:300px; height:20px; vertical-align: middle;'></progress>\n",
              "      [12670/12670 25:11, Epoch 70/70]\n",
              "    </div>\n",
              "    <table border=\"1\" class=\"dataframe\">\n",
              "  <thead>\n",
              " <tr style=\"text-align: left;\">\n",
              "      <th>Step</th>\n",
              "      <th>Training Loss</th>\n",
              "    </tr>\n",
              "  </thead>\n",
              "  <tbody>\n",
              "    <tr>\n",
              "      <td>500</td>\n",
              "      <td>3.194900</td>\n",
              "    </tr>\n",
              "    <tr>\n",
              "      <td>1000</td>\n",
              "      <td>2.331500</td>\n",
              "    </tr>\n",
              "    <tr>\n",
              "      <td>1500</td>\n",
              "      <td>1.677100</td>\n",
              "    </tr>\n",
              "    <tr>\n",
              "      <td>2000</td>\n",
              "      <td>1.118500</td>\n",
              "    </tr>\n",
              "    <tr>\n",
              "      <td>2500</td>\n",
              "      <td>0.708800</td>\n",
              "    </tr>\n",
              "    <tr>\n",
              "      <td>3000</td>\n",
              "      <td>0.447500</td>\n",
              "    </tr>\n",
              "    <tr>\n",
              "      <td>3500</td>\n",
              "      <td>0.300300</td>\n",
              "    </tr>\n",
              "    <tr>\n",
              "      <td>4000</td>\n",
              "      <td>0.210400</td>\n",
              "    </tr>\n",
              "    <tr>\n",
              "      <td>4500</td>\n",
              "      <td>0.156900</td>\n",
              "    </tr>\n",
              "    <tr>\n",
              "      <td>5000</td>\n",
              "      <td>0.123000</td>\n",
              "    </tr>\n",
              "    <tr>\n",
              "      <td>5500</td>\n",
              "      <td>0.102200</td>\n",
              "    </tr>\n",
              "    <tr>\n",
              "      <td>6000</td>\n",
              "      <td>0.085800</td>\n",
              "    </tr>\n",
              "    <tr>\n",
              "      <td>6500</td>\n",
              "      <td>0.073100</td>\n",
              "    </tr>\n",
              "    <tr>\n",
              "      <td>7000</td>\n",
              "      <td>0.064900</td>\n",
              "    </tr>\n",
              "    <tr>\n",
              "      <td>7500</td>\n",
              "      <td>0.059300</td>\n",
              "    </tr>\n",
              "    <tr>\n",
              "      <td>8000</td>\n",
              "      <td>0.051600</td>\n",
              "    </tr>\n",
              "    <tr>\n",
              "      <td>8500</td>\n",
              "      <td>0.047700</td>\n",
              "    </tr>\n",
              "    <tr>\n",
              "      <td>9000</td>\n",
              "      <td>0.043800</td>\n",
              "    </tr>\n",
              "    <tr>\n",
              "      <td>9500</td>\n",
              "      <td>0.041000</td>\n",
              "    </tr>\n",
              "    <tr>\n",
              "      <td>10000</td>\n",
              "      <td>0.037700</td>\n",
              "    </tr>\n",
              "    <tr>\n",
              "      <td>10500</td>\n",
              "      <td>0.036700</td>\n",
              "    </tr>\n",
              "    <tr>\n",
              "      <td>11000</td>\n",
              "      <td>0.034700</td>\n",
              "    </tr>\n",
              "    <tr>\n",
              "      <td>11500</td>\n",
              "      <td>0.033200</td>\n",
              "    </tr>\n",
              "    <tr>\n",
              "      <td>12000</td>\n",
              "      <td>0.031500</td>\n",
              "    </tr>\n",
              "    <tr>\n",
              "      <td>12500</td>\n",
              "      <td>0.030500</td>\n",
              "    </tr>\n",
              "  </tbody>\n",
              "</table><p>"
            ]
          },
          "metadata": {}
        },
        {
          "output_type": "execute_result",
          "data": {
            "text/plain": [
              "'The people saw me come and go and they were afraid the boy said but the\\nalchemist will stay and he will learn that there are other things\\nthat are the same as what i had before him they will be able to\\nconquer the world\\nthe boy was surprised at his thoughts maybe the alchemist knew\\nthat there were other things the boy wanted to know but he didnt\\nwant to know yet\\nhe took back his books and packed them away again in their\\nbags\\ngo'"
            ],
            "application/vnd.google.colaboratory.intrinsic+json": {
              "type": "string"
            }
          },
          "metadata": {},
          "execution_count": 4
        }
      ],
      "source": [
        "# Transformers Model Name\n",
        "import torch\n",
        "model_name_ = 'gpt2'\n",
        "# Model And Tokenizer For Transformers\n",
        "tokenizer, model = transformes_model(model_name_)\n",
        "# Data Used For Train Transformers\n",
        "train_dataset = load_dataset('Cleaned_Corpus.txt', tokenizer)\n",
        "# Convert Data Into Batches\n",
        "collator = data_collator(tokenizer)\n",
        "# Set Arguments For Train The Transformers\n",
        "train_args = train_arguments(epochs = 70)\n",
        "# Train The Transformers\n",
        "training_(model=model, training_args=train_args, collator = collator, data = train_dataset)\n",
        "# Save The Model\n",
        "save_model_tokenizer(model = model, tokenizer = tokenizer)\n",
        "# Testing The Transformers Model\n",
        "transformer_testing(input_text=\" The people\", tokenizer=tokenizer, model=model, text_normalization = text_normalization)\n",
        ""
      ]
    },
    {
      "cell_type": "code",
      "execution_count": null,
      "metadata": {
        "id": "aggViCAL5TDf"
      },
      "outputs": [],
      "source": []
    }
  ],
  "metadata": {
    "kernelspec": {
      "display_name": "Python 3",
      "name": "python3"
    },
    "language_info": {
      "codemirror_mode": {
        "name": "ipython",
        "version": 3
      },
      "file_extension": ".py",
      "mimetype": "text/x-python",
      "name": "python",
      "nbconvert_exporter": "python",
      "pygments_lexer": "ipython3",
      "version": "3.11.9"
    },
    "colab": {
      "provenance": [],
      "gpuType": "T4"
    },
    "accelerator": "GPU"
  },
  "nbformat": 4,
  "nbformat_minor": 0
}