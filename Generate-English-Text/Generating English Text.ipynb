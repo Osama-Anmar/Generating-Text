{
 "cells": [
  {
   "cell_type": "markdown",
   "metadata": {},
   "source": [
    "# Import Libraries"
   ]
  },
  {
   "cell_type": "code",
   "execution_count": 1,
   "metadata": {},
   "outputs": [],
   "source": [
    "import tensorflow as tf\n",
    "import numpy as np\n",
    "import warnings\n",
    "import os\n",
    "from english_text_normalization import text_normalization\n",
    "import matplotlib.pyplot as plt\n",
    "tf.keras.utils.set_random_seed(42)"
   ]
  },
  {
   "cell_type": "markdown",
   "metadata": {},
   "source": [
    "# Ignore Warnings"
   ]
  },
  {
   "cell_type": "code",
   "execution_count": 2,
   "metadata": {},
   "outputs": [],
   "source": [
    "os.environ['TF_CPP_MIN_LOG_LEVEL'] = '3'\n",
    "warnings.filterwarnings(action='ignore')"
   ]
  },
  {
   "cell_type": "markdown",
   "metadata": {},
   "source": [
    "# Read Data"
   ]
  },
  {
   "cell_type": "code",
   "execution_count": 3,
   "metadata": {},
   "outputs": [
    {
     "data": {
      "text/plain": [
       "6360"
      ]
     },
     "execution_count": 3,
     "metadata": {},
     "output_type": "execute_result"
    }
   ],
   "source": [
    "Corpus = open(\"Frankenstein.txt\").read().lower().split(\"\\n\")\n",
    "Corpus = [line.strip() for line in Corpus if line.strip()]\n",
    "Corpus =  list(map(text_normalization, Corpus))\n",
    "len(Corpus)"
   ]
  },
  {
   "cell_type": "markdown",
   "metadata": {},
   "source": [
    "# Preprocessing Data For Deep Learning Model"
   ]
  },
  {
   "cell_type": "code",
   "execution_count": 4,
   "metadata": {},
   "outputs": [
    {
     "data": {
      "text/plain": [
       "7211"
      ]
     },
     "execution_count": 4,
     "metadata": {},
     "output_type": "execute_result"
    }
   ],
   "source": [
    "tokenizer = tf.keras.preprocessing.text.Tokenizer()\n",
    "tokenizer.fit_on_texts(Corpus)\n",
    "all_words = len(tokenizer.word_index) + 1\n",
    "all_words"
   ]
  },
  {
   "cell_type": "markdown",
   "metadata": {},
   "source": [
    "# Generate Input Sequences"
   ]
  },
  {
   "cell_type": "code",
   "execution_count": 5,
   "metadata": {},
   "outputs": [],
   "source": [
    "input_sequence_ = []\n",
    "for line in Corpus:\n",
    "    token = tokenizer.texts_to_sequences([line])[0]\n",
    "    for i in range(1, len(token)):\n",
    "        n_grams = token[:i+1]\n",
    "        input_sequence_.append(n_grams)\n",
    "        \n",
    "max_length =  max([len(x) for x in input_sequence_])\n",
    "input_sequence_ = np.array(tf.keras.utils.pad_sequences(input_sequence_, maxlen= max_length, padding='pre'))"
   ]
  },
  {
   "cell_type": "code",
   "execution_count": 6,
   "metadata": {},
   "outputs": [
    {
     "data": {
      "text/plain": [
       "18"
      ]
     },
     "execution_count": 6,
     "metadata": {},
     "output_type": "execute_result"
    }
   ],
   "source": [
    "max_length"
   ]
  },
  {
   "cell_type": "markdown",
   "metadata": {},
   "source": [
    "# Generate Train And Label Data For Model"
   ]
  },
  {
   "cell_type": "code",
   "execution_count": 7,
   "metadata": {},
   "outputs": [],
   "source": [
    "train, label = input_sequence_[:,:-1], input_sequence_[:,-1]"
   ]
  },
  {
   "cell_type": "markdown",
   "metadata": {},
   "source": [
    "# Convert Label Data"
   ]
  },
  {
   "cell_type": "code",
   "execution_count": 8,
   "metadata": {},
   "outputs": [],
   "source": [
    "label = tf.keras.utils.to_categorical(label, num_classes=all_words)"
   ]
  },
  {
   "cell_type": "markdown",
   "metadata": {},
   "source": [
    "# Deep Learning Models"
   ]
  },
  {
   "cell_type": "code",
   "execution_count": 9,
   "metadata": {},
   "outputs": [],
   "source": [
    "early_stop = tf.keras.callbacks.EarlyStopping(\n",
    "    monitor='loss',\n",
    "    patience=5,\n",
    "    mode = 'min',\n",
    "    restore_best_weights=True,\n",
    ")"
   ]
  },
  {
   "cell_type": "markdown",
   "metadata": {},
   "source": [
    "**1-LSTM**"
   ]
  },
  {
   "cell_type": "code",
   "execution_count": 10,
   "metadata": {},
   "outputs": [],
   "source": [
    "lstm_checkpoint = tf.keras.callbacks.ModelCheckpoint(\n",
    "    filepath='English_LSTM.h5',\n",
    "    monitor='loss',\n",
    "    mode='min',\n",
    "    save_best_only=True)"
   ]
  },
  {
   "cell_type": "code",
   "execution_count": 14,
   "metadata": {},
   "outputs": [],
   "source": [
    "LSTM = tf.keras.Sequential([\n",
    "                tf.keras.layers.Embedding(input_dim = all_words, output_dim=100, input_length=max_length-1),\n",
    "                tf.keras.layers.LSTM(256, return_sequences=True),\n",
    "                tf.keras.layers.LSTM(128, return_sequences=False),\n",
    "                tf.keras.layers.Dense(all_words, activation= 'softmax')\n",
    "                ])     "
   ]
  },
  {
   "cell_type": "code",
   "execution_count": 15,
   "metadata": {},
   "outputs": [],
   "source": [
    "LSTM.compile(\n",
    "    loss=tf.keras.losses.CategoricalCrossentropy(), \n",
    "    optimizer=tf.keras.optimizers.legacy.Adam(), \n",
    "    metrics=['accuracy'])"
   ]
  },
  {
   "cell_type": "code",
   "execution_count": 16,
   "metadata": {},
   "outputs": [
    {
     "name": "stdout",
     "output_type": "stream",
     "text": [
      "Epoch 1/150\n",
      "2143/2143 [==============================] - 57s 25ms/step - loss: 6.5136 - accuracy: 0.0672\n",
      "Epoch 2/150\n",
      "2143/2143 [==============================] - 51s 24ms/step - loss: 5.9316 - accuracy: 0.1018\n",
      "Epoch 3/150\n",
      "2143/2143 [==============================] - 50s 23ms/step - loss: 5.6003 - accuracy: 0.1290\n",
      "Epoch 4/150\n",
      "2143/2143 [==============================] - 50s 24ms/step - loss: 5.3664 - accuracy: 0.1443\n",
      "Epoch 5/150\n",
      "2143/2143 [==============================] - 49s 23ms/step - loss: 5.1627 - accuracy: 0.1515\n",
      "Epoch 6/150\n",
      "2143/2143 [==============================] - 48s 22ms/step - loss: 4.9678 - accuracy: 0.1609\n",
      "Epoch 7/150\n",
      "2143/2143 [==============================] - 48s 22ms/step - loss: 4.7882 - accuracy: 0.1688\n",
      "Epoch 8/150\n",
      "2143/2143 [==============================] - 53s 25ms/step - loss: 4.6129 - accuracy: 0.1758\n",
      "Epoch 9/150\n",
      "2143/2143 [==============================] - 54s 25ms/step - loss: 4.4471 - accuracy: 0.1830\n",
      "Epoch 10/150\n",
      "2143/2143 [==============================] - 52s 24ms/step - loss: 4.2884 - accuracy: 0.1913\n",
      "Epoch 11/150\n",
      "2143/2143 [==============================] - 52s 24ms/step - loss: 4.1399 - accuracy: 0.2009\n",
      "Epoch 12/150\n",
      "2143/2143 [==============================] - 49s 23ms/step - loss: 3.9980 - accuracy: 0.2105\n",
      "Epoch 13/150\n",
      "2143/2143 [==============================] - 54s 25ms/step - loss: 3.8652 - accuracy: 0.2238\n",
      "Epoch 14/150\n",
      "2143/2143 [==============================] - 67s 31ms/step - loss: 3.7372 - accuracy: 0.2377\n",
      "Epoch 15/150\n",
      "2143/2143 [==============================] - 50s 23ms/step - loss: 3.6180 - accuracy: 0.2525\n",
      "Epoch 16/150\n",
      "2143/2143 [==============================] - 47s 22ms/step - loss: 3.5047 - accuracy: 0.2669\n",
      "Epoch 17/150\n",
      "2143/2143 [==============================] - 50s 23ms/step - loss: 3.3971 - accuracy: 0.2816\n",
      "Epoch 18/150\n",
      "2143/2143 [==============================] - 50s 24ms/step - loss: 3.2954 - accuracy: 0.2982\n",
      "Epoch 19/150\n",
      "2143/2143 [==============================] - 50s 23ms/step - loss: 3.1952 - accuracy: 0.3127\n",
      "Epoch 20/150\n",
      "2143/2143 [==============================] - 49s 23ms/step - loss: 3.1005 - accuracy: 0.3262\n",
      "Epoch 21/150\n",
      "2143/2143 [==============================] - 49s 23ms/step - loss: 3.0075 - accuracy: 0.3432\n",
      "Epoch 22/150\n",
      "2143/2143 [==============================] - 50s 23ms/step - loss: 2.9206 - accuracy: 0.3590\n",
      "Epoch 23/150\n",
      "2143/2143 [==============================] - 50s 23ms/step - loss: 2.8328 - accuracy: 0.3744\n",
      "Epoch 24/150\n",
      "2143/2143 [==============================] - 51s 24ms/step - loss: 2.7483 - accuracy: 0.3889\n",
      "Epoch 25/150\n",
      "2143/2143 [==============================] - 51s 24ms/step - loss: 2.6653 - accuracy: 0.4044\n",
      "Epoch 26/150\n",
      "2143/2143 [==============================] - 48s 22ms/step - loss: 2.5843 - accuracy: 0.4170\n",
      "Epoch 27/150\n",
      "2143/2143 [==============================] - 50s 23ms/step - loss: 2.5026 - accuracy: 0.4352\n",
      "Epoch 28/150\n",
      "2143/2143 [==============================] - 52s 24ms/step - loss: 2.4283 - accuracy: 0.4501\n",
      "Epoch 29/150\n",
      "2143/2143 [==============================] - 54s 25ms/step - loss: 2.3515 - accuracy: 0.4642\n",
      "Epoch 30/150\n",
      "2143/2143 [==============================] - 50s 23ms/step - loss: 2.2799 - accuracy: 0.4795\n",
      "Epoch 31/150\n",
      "2143/2143 [==============================] - 49s 23ms/step - loss: 2.2085 - accuracy: 0.4943\n",
      "Epoch 32/150\n",
      "2143/2143 [==============================] - 48s 22ms/step - loss: 2.1378 - accuracy: 0.5090\n",
      "Epoch 33/150\n",
      "2143/2143 [==============================] - 48s 22ms/step - loss: 2.0678 - accuracy: 0.5248\n",
      "Epoch 34/150\n",
      "2143/2143 [==============================] - 48s 22ms/step - loss: 2.0021 - accuracy: 0.5393\n",
      "Epoch 35/150\n",
      "2143/2143 [==============================] - 47s 22ms/step - loss: 1.9373 - accuracy: 0.5549\n",
      "Epoch 36/150\n",
      "2143/2143 [==============================] - 48s 22ms/step - loss: 1.8729 - accuracy: 0.5683\n",
      "Epoch 37/150\n",
      "2143/2143 [==============================] - 48s 22ms/step - loss: 1.8109 - accuracy: 0.5827\n",
      "Epoch 38/150\n",
      "2143/2143 [==============================] - 48s 22ms/step - loss: 1.7525 - accuracy: 0.5962\n",
      "Epoch 39/150\n",
      "2143/2143 [==============================] - 48s 22ms/step - loss: 1.6921 - accuracy: 0.6089\n",
      "Epoch 40/150\n",
      "2143/2143 [==============================] - 48s 22ms/step - loss: 1.6357 - accuracy: 0.6223\n",
      "Epoch 41/150\n",
      "2143/2143 [==============================] - 48s 22ms/step - loss: 1.5775 - accuracy: 0.6358\n",
      "Epoch 42/150\n",
      "2143/2143 [==============================] - 48s 22ms/step - loss: 1.5246 - accuracy: 0.6487\n",
      "Epoch 43/150\n",
      "2143/2143 [==============================] - 48s 22ms/step - loss: 1.4712 - accuracy: 0.6606\n",
      "Epoch 44/150\n",
      "2143/2143 [==============================] - 48s 22ms/step - loss: 1.4226 - accuracy: 0.6726\n",
      "Epoch 45/150\n",
      "2143/2143 [==============================] - 48s 22ms/step - loss: 1.3716 - accuracy: 0.6848\n",
      "Epoch 46/150\n",
      "2143/2143 [==============================] - 48s 22ms/step - loss: 1.3222 - accuracy: 0.6955\n",
      "Epoch 47/150\n",
      "2143/2143 [==============================] - 48s 23ms/step - loss: 1.2766 - accuracy: 0.7083\n",
      "Epoch 48/150\n",
      "2143/2143 [==============================] - 48s 22ms/step - loss: 1.2318 - accuracy: 0.7189\n",
      "Epoch 49/150\n",
      "2143/2143 [==============================] - 48s 22ms/step - loss: 1.1868 - accuracy: 0.7301\n",
      "Epoch 50/150\n",
      "2143/2143 [==============================] - 48s 22ms/step - loss: 1.1437 - accuracy: 0.7405\n",
      "Epoch 51/150\n",
      "2143/2143 [==============================] - 47s 22ms/step - loss: 1.1043 - accuracy: 0.7492\n",
      "Epoch 52/150\n",
      "2143/2143 [==============================] - 48s 22ms/step - loss: 1.0642 - accuracy: 0.7575\n",
      "Epoch 53/150\n",
      "2143/2143 [==============================] - 48s 22ms/step - loss: 1.0271 - accuracy: 0.7681\n",
      "Epoch 54/150\n",
      "2143/2143 [==============================] - 47s 22ms/step - loss: 0.9910 - accuracy: 0.7761\n",
      "Epoch 55/150\n",
      "2143/2143 [==============================] - 48s 22ms/step - loss: 0.9557 - accuracy: 0.7856\n",
      "Epoch 56/150\n",
      "2143/2143 [==============================] - 48s 23ms/step - loss: 0.9236 - accuracy: 0.7933\n",
      "Epoch 57/150\n",
      "2143/2143 [==============================] - 50s 23ms/step - loss: 0.8907 - accuracy: 0.8001\n",
      "Epoch 58/150\n",
      "2143/2143 [==============================] - 50s 24ms/step - loss: 0.8584 - accuracy: 0.8086\n",
      "Epoch 59/150\n",
      "2143/2143 [==============================] - 51s 24ms/step - loss: 0.8308 - accuracy: 0.8135\n",
      "Epoch 60/150\n",
      "2143/2143 [==============================] - 49s 23ms/step - loss: 0.8004 - accuracy: 0.8218\n",
      "Epoch 61/150\n",
      "2143/2143 [==============================] - 48s 22ms/step - loss: 0.7739 - accuracy: 0.8285\n",
      "Epoch 62/150\n",
      "2143/2143 [==============================] - 54s 25ms/step - loss: 0.7485 - accuracy: 0.8337\n",
      "Epoch 63/150\n",
      "2143/2143 [==============================] - 49s 23ms/step - loss: 0.7240 - accuracy: 0.8407\n",
      "Epoch 64/150\n",
      "2143/2143 [==============================] - 51s 24ms/step - loss: 0.7013 - accuracy: 0.8452\n",
      "Epoch 65/150\n",
      "2143/2143 [==============================] - 56s 26ms/step - loss: 0.6779 - accuracy: 0.8510\n",
      "Epoch 66/150\n",
      "2143/2143 [==============================] - 61s 28ms/step - loss: 0.6582 - accuracy: 0.8545\n",
      "Epoch 67/150\n",
      "2143/2143 [==============================] - 58s 27ms/step - loss: 0.6364 - accuracy: 0.8611\n",
      "Epoch 68/150\n",
      "2143/2143 [==============================] - 60s 28ms/step - loss: 0.6164 - accuracy: 0.8648\n",
      "Epoch 69/150\n",
      "2143/2143 [==============================] - 54s 25ms/step - loss: 0.5991 - accuracy: 0.8680\n",
      "Epoch 70/150\n",
      "2143/2143 [==============================] - 53s 25ms/step - loss: 0.5832 - accuracy: 0.8720\n",
      "Epoch 71/150\n",
      "2143/2143 [==============================] - 54s 25ms/step - loss: 0.5688 - accuracy: 0.8737\n",
      "Epoch 72/150\n",
      "2143/2143 [==============================] - 53s 25ms/step - loss: 0.5518 - accuracy: 0.8781\n",
      "Epoch 73/150\n",
      "2143/2143 [==============================] - 53s 25ms/step - loss: 0.5354 - accuracy: 0.8821\n",
      "Epoch 74/150\n",
      "2143/2143 [==============================] - 54s 25ms/step - loss: 0.5243 - accuracy: 0.8833\n",
      "Epoch 75/150\n",
      "2143/2143 [==============================] - 53s 25ms/step - loss: 0.5105 - accuracy: 0.8865\n",
      "Epoch 76/150\n",
      "2143/2143 [==============================] - 57s 26ms/step - loss: 0.4994 - accuracy: 0.8888\n",
      "Epoch 77/150\n",
      "2143/2143 [==============================] - 57s 27ms/step - loss: 0.4864 - accuracy: 0.8924\n",
      "Epoch 78/150\n",
      "2143/2143 [==============================] - 59s 27ms/step - loss: 0.4745 - accuracy: 0.8942\n",
      "Epoch 79/150\n",
      "2143/2143 [==============================] - 63s 29ms/step - loss: 0.4643 - accuracy: 0.8959\n",
      "Epoch 80/150\n",
      "2143/2143 [==============================] - 54s 25ms/step - loss: 0.4566 - accuracy: 0.8978\n",
      "Epoch 81/150\n",
      "2143/2143 [==============================] - 51s 24ms/step - loss: 0.4484 - accuracy: 0.8989\n",
      "Epoch 82/150\n",
      "2143/2143 [==============================] - 54s 25ms/step - loss: 0.4378 - accuracy: 0.9012\n",
      "Epoch 83/150\n",
      "2143/2143 [==============================] - 52s 24ms/step - loss: 0.4320 - accuracy: 0.9017\n",
      "Epoch 84/150\n",
      "2143/2143 [==============================] - 59s 28ms/step - loss: 0.4238 - accuracy: 0.9031\n",
      "Epoch 85/150\n",
      "2143/2143 [==============================] - 62s 29ms/step - loss: 0.4187 - accuracy: 0.9035\n",
      "Epoch 86/150\n",
      "2143/2143 [==============================] - 61s 29ms/step - loss: 0.4108 - accuracy: 0.9059\n",
      "Epoch 87/150\n",
      "2143/2143 [==============================] - 54s 25ms/step - loss: 0.4037 - accuracy: 0.9053\n",
      "Epoch 88/150\n",
      "2143/2143 [==============================] - 52s 24ms/step - loss: 0.3971 - accuracy: 0.9077\n",
      "Epoch 89/150\n",
      "2143/2143 [==============================] - 53s 25ms/step - loss: 0.3942 - accuracy: 0.9083\n",
      "Epoch 90/150\n",
      "2143/2143 [==============================] - 48s 23ms/step - loss: 0.3873 - accuracy: 0.9084\n",
      "Epoch 91/150\n",
      "2143/2143 [==============================] - 48s 22ms/step - loss: 0.3805 - accuracy: 0.9107\n",
      "Epoch 92/150\n",
      "2143/2143 [==============================] - 47s 22ms/step - loss: 0.3784 - accuracy: 0.9101\n",
      "Epoch 93/150\n",
      "2143/2143 [==============================] - 47s 22ms/step - loss: 0.3700 - accuracy: 0.9124\n",
      "Epoch 94/150\n",
      "2143/2143 [==============================] - 47s 22ms/step - loss: 0.3753 - accuracy: 0.9092\n",
      "Epoch 95/150\n",
      "2143/2143 [==============================] - 47s 22ms/step - loss: 0.3678 - accuracy: 0.9108\n",
      "Epoch 96/150\n",
      "2143/2143 [==============================] - 47s 22ms/step - loss: 0.3605 - accuracy: 0.9125\n",
      "Epoch 97/150\n",
      "2143/2143 [==============================] - 48s 22ms/step - loss: 0.3577 - accuracy: 0.9132\n",
      "Epoch 98/150\n",
      "2143/2143 [==============================] - 47s 22ms/step - loss: 0.3559 - accuracy: 0.9128\n",
      "Epoch 99/150\n",
      "2143/2143 [==============================] - 47s 22ms/step - loss: 0.3529 - accuracy: 0.9130\n",
      "Epoch 100/150\n",
      "2143/2143 [==============================] - 47s 22ms/step - loss: 0.3513 - accuracy: 0.9127\n",
      "Epoch 101/150\n",
      "2143/2143 [==============================] - 47s 22ms/step - loss: 0.3445 - accuracy: 0.9142\n",
      "Epoch 102/150\n",
      "2143/2143 [==============================] - 47s 22ms/step - loss: 0.3448 - accuracy: 0.9137\n",
      "Epoch 103/150\n",
      "2143/2143 [==============================] - 47s 22ms/step - loss: 0.3398 - accuracy: 0.9148\n",
      "Epoch 104/150\n",
      "2143/2143 [==============================] - 47s 22ms/step - loss: 0.3443 - accuracy: 0.9130\n",
      "Epoch 105/150\n",
      "2143/2143 [==============================] - 47s 22ms/step - loss: 0.3347 - accuracy: 0.9157\n",
      "Epoch 106/150\n",
      "2143/2143 [==============================] - 49s 23ms/step - loss: 0.3393 - accuracy: 0.9134\n",
      "Epoch 107/150\n",
      "2143/2143 [==============================] - 51s 24ms/step - loss: 0.3288 - accuracy: 0.9170\n",
      "Epoch 108/150\n",
      "2143/2143 [==============================] - 50s 24ms/step - loss: 0.3354 - accuracy: 0.9141\n",
      "Epoch 109/150\n",
      "2143/2143 [==============================] - 54s 25ms/step - loss: 0.3248 - accuracy: 0.9171\n",
      "Epoch 110/150\n",
      "2143/2143 [==============================] - 48s 22ms/step - loss: 0.3260 - accuracy: 0.9160\n",
      "Epoch 111/150\n",
      "2143/2143 [==============================] - 48s 22ms/step - loss: 0.3243 - accuracy: 0.9163\n",
      "Epoch 112/150\n",
      "2143/2143 [==============================] - 48s 22ms/step - loss: 0.3267 - accuracy: 0.9143\n",
      "Epoch 113/150\n",
      "2143/2143 [==============================] - 47s 22ms/step - loss: 0.3253 - accuracy: 0.9156\n",
      "Epoch 114/150\n",
      "2143/2143 [==============================] - 48s 22ms/step - loss: 0.3215 - accuracy: 0.9158\n",
      "Epoch 115/150\n",
      "2143/2143 [==============================] - 47s 22ms/step - loss: 0.3244 - accuracy: 0.9139\n",
      "Epoch 116/150\n",
      "2143/2143 [==============================] - 48s 22ms/step - loss: 0.3149 - accuracy: 0.9172\n",
      "Epoch 117/150\n",
      "2143/2143 [==============================] - 48s 22ms/step - loss: 0.3149 - accuracy: 0.9175\n",
      "Epoch 118/150\n",
      "2143/2143 [==============================] - 50s 23ms/step - loss: 0.3106 - accuracy: 0.9183\n",
      "Epoch 119/150\n",
      "2143/2143 [==============================] - 54s 25ms/step - loss: 0.3178 - accuracy: 0.9153\n",
      "Epoch 120/150\n",
      "2143/2143 [==============================] - 54s 25ms/step - loss: 0.3201 - accuracy: 0.9141\n",
      "Epoch 121/150\n",
      "2143/2143 [==============================] - 50s 24ms/step - loss: 0.3100 - accuracy: 0.9172\n",
      "Epoch 122/150\n",
      "2143/2143 [==============================] - 48s 22ms/step - loss: 0.3103 - accuracy: 0.9170\n",
      "Epoch 123/150\n",
      "2143/2143 [==============================] - 48s 23ms/step - loss: 0.3093 - accuracy: 0.9166\n",
      "Epoch 124/150\n",
      "2143/2143 [==============================] - 50s 23ms/step - loss: 0.3078 - accuracy: 0.9169\n",
      "Epoch 125/150\n",
      "2143/2143 [==============================] - 50s 23ms/step - loss: 0.3100 - accuracy: 0.9163\n",
      "Epoch 126/150\n",
      "2143/2143 [==============================] - 48s 22ms/step - loss: 0.3064 - accuracy: 0.9168\n",
      "Epoch 127/150\n",
      "2143/2143 [==============================] - 48s 22ms/step - loss: 0.3023 - accuracy: 0.9182\n",
      "Epoch 128/150\n",
      "2143/2143 [==============================] - 48s 22ms/step - loss: 0.3079 - accuracy: 0.9159\n",
      "Epoch 129/150\n",
      "2143/2143 [==============================] - 49s 23ms/step - loss: 0.3076 - accuracy: 0.9158\n",
      "Epoch 130/150\n",
      "2143/2143 [==============================] - 54s 25ms/step - loss: 0.2980 - accuracy: 0.9182\n",
      "Epoch 131/150\n",
      "2143/2143 [==============================] - 49s 23ms/step - loss: 0.3028 - accuracy: 0.9170\n",
      "Epoch 132/150\n",
      "2143/2143 [==============================] - 50s 23ms/step - loss: 0.3078 - accuracy: 0.9155\n",
      "Epoch 133/150\n",
      "2143/2143 [==============================] - 51s 24ms/step - loss: 0.3005 - accuracy: 0.9163\n",
      "Epoch 134/150\n",
      "2143/2143 [==============================] - 49s 23ms/step - loss: 0.3018 - accuracy: 0.9168\n",
      "Epoch 135/150\n",
      "2143/2143 [==============================] - 48s 23ms/step - loss: 0.3016 - accuracy: 0.9160\n"
     ]
    }
   ],
   "source": [
    "with tf.device('gpu'):\n",
    "    history = LSTM.fit(train, label, epochs=150, callbacks=[early_stop, lstm_checkpoint])"
   ]
  },
  {
   "cell_type": "code",
   "execution_count": 17,
   "metadata": {},
   "outputs": [],
   "source": [
    "accuracy = history.history['accuracy']\n",
    "loss = history.history['loss']  "
   ]
  },
  {
   "cell_type": "code",
   "execution_count": 18,
   "metadata": {},
   "outputs": [
    {
     "data": {
      "image/png": "[encoded data removed]",
      "text/plain": [
       "<Figure size 640x480 with 1 Axes>"
      ]
     },
     "metadata": {},
     "output_type": "display_data"
    }
   ],
   "source": [
    "plt.plot(accuracy, label='Accuracy')\n",
    "plt.plot(loss, label='Loss')\n",
    "plt.legend()\n",
    "plt.show()"
   ]
  },
  {
   "cell_type": "markdown",
   "metadata": {},
   "source": [
    "**2-Bidirectional LSTM**"
   ]
  },
  {
   "cell_type": "code",
   "execution_count": 19,
   "metadata": {},
   "outputs": [],
   "source": [
    "bidirectional_lstm_checkpoint = tf.keras.callbacks.ModelCheckpoint(\n",
    "    filepath='English_Bidirectional_LSTM.h5',\n",
    "    monitor='loss',\n",
    "    mode='min',\n",
    "    save_best_only=True)"
   ]
  },
  {
   "cell_type": "code",
   "execution_count": 23,
   "metadata": {},
   "outputs": [],
   "source": [
    "Bidirectional_LSTM = tf.keras.Sequential([\n",
    "                tf.keras.layers.Embedding(input_dim = all_words, output_dim=100, input_length=max_length-1),\n",
    "                tf.keras.layers.Bidirectional(tf.keras.layers.LSTM(128, return_sequences=False)),\n",
    "                tf.keras.layers.Dense(all_words, activation= 'softmax')\n",
    "                ])   "
   ]
  },
  {
   "cell_type": "code",
   "execution_count": 24,
   "metadata": {},
   "outputs": [],
   "source": [
    "Bidirectional_LSTM.compile(\n",
    "    loss=tf.keras.losses.CategoricalCrossentropy(), \n",
    "    optimizer=tf.keras.optimizers.legacy.Adam(), \n",
    "    metrics=['accuracy'])"
   ]
  },
  {
   "cell_type": "code",
   "execution_count": 25,
   "metadata": {},
   "outputs": [
    {
     "name": "stdout",
     "output_type": "stream",
     "text": [
      "Epoch 1/150\n",
      "2143/2143 [==============================] - 62s 27ms/step - loss: 6.3661 - accuracy: 0.0811\n",
      "Epoch 2/150\n",
      "2143/2143 [==============================] - 56s 26ms/step - loss: 5.7229 - accuracy: 0.1252\n",
      "Epoch 3/150\n",
      "2143/2143 [==============================] - 52s 24ms/step - loss: 5.3600 - accuracy: 0.1501\n",
      "Epoch 4/150\n",
      "2143/2143 [==============================] - 56s 26ms/step - loss: 5.0572 - accuracy: 0.1678\n",
      "Epoch 5/150\n",
      "2143/2143 [==============================] - 54s 25ms/step - loss: 4.7649 - accuracy: 0.1829\n",
      "Epoch 6/150\n",
      "2143/2143 [==============================] - 56s 26ms/step - loss: 4.4795 - accuracy: 0.1988\n",
      "Epoch 7/150\n",
      "2143/2143 [==============================] - 52s 24ms/step - loss: 4.1938 - accuracy: 0.2196\n",
      "Epoch 8/150\n",
      "2143/2143 [==============================] - 52s 24ms/step - loss: 3.9118 - accuracy: 0.2456\n",
      "Epoch 9/150\n",
      "2143/2143 [==============================] - 51s 24ms/step - loss: 3.6324 - accuracy: 0.2804\n",
      "Epoch 10/150\n",
      "2143/2143 [==============================] - 52s 24ms/step - loss: 3.3574 - accuracy: 0.3188\n",
      "Epoch 11/150\n",
      "2143/2143 [==============================] - 52s 24ms/step - loss: 3.0886 - accuracy: 0.3612\n",
      "Epoch 12/150\n",
      "2143/2143 [==============================] - 52s 24ms/step - loss: 2.8340 - accuracy: 0.4041\n",
      "Epoch 13/150\n",
      "2143/2143 [==============================] - 52s 24ms/step - loss: 2.5957 - accuracy: 0.4488\n",
      "Epoch 14/150\n",
      "2143/2143 [==============================] - 51s 24ms/step - loss: 2.3734 - accuracy: 0.4920\n",
      "Epoch 15/150\n",
      "2143/2143 [==============================] - 53s 25ms/step - loss: 2.1628 - accuracy: 0.5361\n",
      "Epoch 16/150\n",
      "2143/2143 [==============================] - 51s 24ms/step - loss: 1.9718 - accuracy: 0.5742\n",
      "Epoch 17/150\n",
      "2143/2143 [==============================] - 51s 24ms/step - loss: 1.7949 - accuracy: 0.6118\n",
      "Epoch 18/150\n",
      "2143/2143 [==============================] - 53s 25ms/step - loss: 1.6327 - accuracy: 0.6469\n",
      "Epoch 19/150\n",
      "2143/2143 [==============================] - 68s 32ms/step - loss: 1.4853 - accuracy: 0.6790\n",
      "Epoch 20/150\n",
      "2143/2143 [==============================] - 58s 27ms/step - loss: 1.3501 - accuracy: 0.7099\n",
      "Epoch 21/150\n",
      "2143/2143 [==============================] - 54s 25ms/step - loss: 1.2279 - accuracy: 0.7358\n",
      "Epoch 22/150\n",
      "2143/2143 [==============================] - 51s 24ms/step - loss: 1.1209 - accuracy: 0.7606\n",
      "Epoch 23/150\n",
      "2143/2143 [==============================] - 52s 24ms/step - loss: 1.0191 - accuracy: 0.7842\n",
      "Epoch 24/150\n",
      "2143/2143 [==============================] - 52s 24ms/step - loss: 0.9337 - accuracy: 0.8000\n",
      "Epoch 25/150\n",
      "2143/2143 [==============================] - 52s 24ms/step - loss: 0.8550 - accuracy: 0.8185\n",
      "Epoch 26/150\n",
      "2143/2143 [==============================] - 52s 24ms/step - loss: 0.7872 - accuracy: 0.8322\n",
      "Epoch 27/150\n",
      "2143/2143 [==============================] - 51s 24ms/step - loss: 0.7237 - accuracy: 0.8475\n",
      "Epoch 28/150\n",
      "2143/2143 [==============================] - 52s 24ms/step - loss: 0.6713 - accuracy: 0.8577\n",
      "Epoch 29/150\n",
      "2143/2143 [==============================] - 52s 24ms/step - loss: 0.6231 - accuracy: 0.8678\n",
      "Epoch 30/150\n",
      "2143/2143 [==============================] - 52s 24ms/step - loss: 0.5844 - accuracy: 0.8762\n",
      "Epoch 31/150\n",
      "2143/2143 [==============================] - 52s 24ms/step - loss: 0.5466 - accuracy: 0.8833\n",
      "Epoch 32/150\n",
      "2143/2143 [==============================] - 52s 24ms/step - loss: 0.5180 - accuracy: 0.8889\n",
      "Epoch 33/150\n",
      "2143/2143 [==============================] - 51s 24ms/step - loss: 0.4919 - accuracy: 0.8938\n",
      "Epoch 34/150\n",
      "2143/2143 [==============================] - 52s 24ms/step - loss: 0.4683 - accuracy: 0.8979\n",
      "Epoch 35/150\n",
      "2143/2143 [==============================] - 54s 25ms/step - loss: 0.4489 - accuracy: 0.9018\n",
      "Epoch 36/150\n",
      "2143/2143 [==============================] - 53s 25ms/step - loss: 0.4332 - accuracy: 0.9040\n",
      "Epoch 37/150\n",
      "2143/2143 [==============================] - 53s 25ms/step - loss: 0.4211 - accuracy: 0.9058\n",
      "Epoch 38/150\n",
      "2143/2143 [==============================] - 54s 25ms/step - loss: 0.4056 - accuracy: 0.9083\n",
      "Epoch 39/150\n",
      "2143/2143 [==============================] - 58s 27ms/step - loss: 0.3946 - accuracy: 0.9107\n",
      "Epoch 40/150\n",
      "2143/2143 [==============================] - 59s 28ms/step - loss: 0.3876 - accuracy: 0.9102\n",
      "Epoch 41/150\n",
      "2143/2143 [==============================] - 53s 25ms/step - loss: 0.3771 - accuracy: 0.9113\n",
      "Epoch 42/150\n",
      "2143/2143 [==============================] - 53s 25ms/step - loss: 0.3723 - accuracy: 0.9120\n",
      "Epoch 43/150\n",
      "2143/2143 [==============================] - 53s 25ms/step - loss: 0.3647 - accuracy: 0.9135\n",
      "Epoch 44/150\n",
      "2143/2143 [==============================] - 53s 25ms/step - loss: 0.3578 - accuracy: 0.9138\n",
      "Epoch 45/150\n",
      "2143/2143 [==============================] - 55s 26ms/step - loss: 0.3574 - accuracy: 0.9139\n",
      "Epoch 46/150\n",
      "2143/2143 [==============================] - 59s 27ms/step - loss: 0.3454 - accuracy: 0.9160\n",
      "Epoch 47/150\n",
      "2143/2143 [==============================] - 53s 25ms/step - loss: 0.3513 - accuracy: 0.9138\n",
      "Epoch 48/150\n",
      "2143/2143 [==============================] - 61s 29ms/step - loss: 0.3406 - accuracy: 0.9158\n",
      "Epoch 49/150\n",
      "2143/2143 [==============================] - 55s 26ms/step - loss: 0.3364 - accuracy: 0.9167\n",
      "Epoch 50/150\n",
      "2143/2143 [==============================] - 56s 26ms/step - loss: 0.3352 - accuracy: 0.9164\n",
      "Epoch 51/150\n",
      "2143/2143 [==============================] - 58s 27ms/step - loss: 0.3347 - accuracy: 0.9165\n",
      "Epoch 52/150\n",
      "2143/2143 [==============================] - 61s 29ms/step - loss: 0.3292 - accuracy: 0.9169\n",
      "Epoch 53/150\n",
      "2143/2143 [==============================] - 53s 25ms/step - loss: 0.3322 - accuracy: 0.9163\n",
      "Epoch 54/150\n",
      "2143/2143 [==============================] - 52s 24ms/step - loss: 0.3217 - accuracy: 0.9185\n",
      "Epoch 55/150\n",
      "2143/2143 [==============================] - 52s 24ms/step - loss: 0.3217 - accuracy: 0.9175\n",
      "Epoch 56/150\n",
      "2143/2143 [==============================] - 52s 24ms/step - loss: 0.3258 - accuracy: 0.9164\n",
      "Epoch 57/150\n",
      "2143/2143 [==============================] - 52s 24ms/step - loss: 0.3207 - accuracy: 0.9170\n",
      "Epoch 58/150\n",
      "2143/2143 [==============================] - 52s 24ms/step - loss: 0.3179 - accuracy: 0.9173\n",
      "Epoch 59/150\n",
      "2143/2143 [==============================] - 53s 25ms/step - loss: 0.3159 - accuracy: 0.9177\n",
      "Epoch 60/150\n",
      "2143/2143 [==============================] - 52s 24ms/step - loss: 0.3162 - accuracy: 0.9173\n",
      "Epoch 61/150\n",
      "2143/2143 [==============================] - 52s 24ms/step - loss: 0.3171 - accuracy: 0.9168\n",
      "Epoch 62/150\n",
      "2143/2143 [==============================] - 52s 24ms/step - loss: 0.3122 - accuracy: 0.9173\n",
      "Epoch 63/150\n",
      "2143/2143 [==============================] - 52s 24ms/step - loss: 0.3106 - accuracy: 0.9183\n",
      "Epoch 64/150\n",
      "2143/2143 [==============================] - 52s 24ms/step - loss: 0.3094 - accuracy: 0.9179\n",
      "Epoch 65/150\n",
      "2143/2143 [==============================] - 51s 24ms/step - loss: 0.3106 - accuracy: 0.9179\n",
      "Epoch 66/150\n",
      "2143/2143 [==============================] - 51s 24ms/step - loss: 0.3091 - accuracy: 0.9176\n",
      "Epoch 67/150\n",
      "2143/2143 [==============================] - 52s 24ms/step - loss: 0.3111 - accuracy: 0.9173\n",
      "Epoch 68/150\n",
      "2143/2143 [==============================] - 53s 25ms/step - loss: 0.3035 - accuracy: 0.9178\n",
      "Epoch 69/150\n",
      "2143/2143 [==============================] - 52s 24ms/step - loss: 0.3058 - accuracy: 0.9182\n",
      "Epoch 70/150\n",
      "2143/2143 [==============================] - 52s 24ms/step - loss: 0.3056 - accuracy: 0.9180\n",
      "Epoch 71/150\n",
      "2143/2143 [==============================] - 52s 24ms/step - loss: 0.3057 - accuracy: 0.9178\n",
      "Epoch 72/150\n",
      "2143/2143 [==============================] - 52s 24ms/step - loss: 0.3043 - accuracy: 0.9181\n",
      "Epoch 73/150\n",
      "2143/2143 [==============================] - 52s 24ms/step - loss: 0.3049 - accuracy: 0.9172\n"
     ]
    }
   ],
   "source": [
    "with tf.device('gpu'):\n",
    "    history = Bidirectional_LSTM.fit(train, label, epochs=150, callbacks=[early_stop, bidirectional_lstm_checkpoint])"
   ]
  },
  {
   "cell_type": "code",
   "execution_count": 26,
   "metadata": {},
   "outputs": [],
   "source": [
    "accuracy = history.history['accuracy']\n",
    "loss = history.history['loss']  "
   ]
  },
  {
   "cell_type": "code",
   "execution_count": 27,
   "metadata": {},
   "outputs": [
    {
     "data": {
      "image/png": "[encoded data removed]",
      "text/plain": [
       "<Figure size 640x480 with 1 Axes>"
      ]
     },
     "metadata": {},
     "output_type": "display_data"
    }
   ],
   "source": [
    "plt.plot(accuracy, label='Accuracy')\n",
    "plt.plot(loss, label='Loss')\n",
    "plt.legend()\n",
    "plt.show()"
   ]
  },
  {
   "cell_type": "markdown",
   "metadata": {},
   "source": [
    "**3-GRU**"
   ]
  },
  {
   "cell_type": "code",
   "execution_count": 28,
   "metadata": {},
   "outputs": [],
   "source": [
    "gru_checkpoint = tf.keras.callbacks.ModelCheckpoint(\n",
    "    filepath='English_GRU.h5',\n",
    "    monitor='loss',\n",
    "    mode='min',\n",
    "    save_best_only=True)"
   ]
  },
  {
   "cell_type": "code",
   "execution_count": 29,
   "metadata": {},
   "outputs": [],
   "source": [
    "GRU = tf.keras.Sequential([\n",
    "                tf.keras.layers.Embedding(input_dim = all_words, output_dim=100, input_length=max_length-1),\n",
    "                tf.keras.layers.GRU(128, return_sequences=False),\n",
    "                tf.keras.layers.Dense(all_words, activation= 'softmax')\n",
    "                ])   "
   ]
  },
  {
   "cell_type": "code",
   "execution_count": 30,
   "metadata": {},
   "outputs": [],
   "source": [
    "GRU.compile(\n",
    "    loss=tf.keras.losses.CategoricalCrossentropy(), \n",
    "    optimizer=tf.keras.optimizers.legacy.Adam(), \n",
    "    metrics=['accuracy'])"
   ]
  },
  {
   "cell_type": "code",
   "execution_count": 31,
   "metadata": {},
   "outputs": [
    {
     "name": "stdout",
     "output_type": "stream",
     "text": [
      "Epoch 1/150\n",
      "2143/2143 [==============================] - 40s 18ms/step - loss: 6.3236 - accuracy: 0.0905\n",
      "Epoch 2/150\n",
      "2143/2143 [==============================] - 37s 17ms/step - loss: 5.5666 - accuracy: 0.1374\n",
      "Epoch 3/150\n",
      "2143/2143 [==============================] - 37s 17ms/step - loss: 5.1586 - accuracy: 0.1617\n",
      "Epoch 4/150\n",
      "2143/2143 [==============================] - 37s 17ms/step - loss: 4.7919 - accuracy: 0.1815\n",
      "Epoch 5/150\n",
      "2143/2143 [==============================] - 37s 17ms/step - loss: 4.4340 - accuracy: 0.2009\n",
      "Epoch 6/150\n",
      "2143/2143 [==============================] - 37s 17ms/step - loss: 4.0944 - accuracy: 0.2273\n",
      "Epoch 7/150\n",
      "2143/2143 [==============================] - 37s 17ms/step - loss: 3.7662 - accuracy: 0.2607\n",
      "Epoch 8/150\n",
      "2143/2143 [==============================] - 37s 17ms/step - loss: 3.4571 - accuracy: 0.3020\n",
      "Epoch 9/150\n",
      "2143/2143 [==============================] - 37s 17ms/step - loss: 3.1664 - accuracy: 0.3473\n",
      "Epoch 10/150\n",
      "2143/2143 [==============================] - 38s 18ms/step - loss: 2.8976 - accuracy: 0.3912\n",
      "Epoch 11/150\n",
      "2143/2143 [==============================] - 38s 18ms/step - loss: 2.6539 - accuracy: 0.4357\n",
      "Epoch 12/150\n",
      "2143/2143 [==============================] - 41s 19ms/step - loss: 2.4348 - accuracy: 0.4783\n",
      "Epoch 13/150\n",
      "2143/2143 [==============================] - 39s 18ms/step - loss: 2.2379 - accuracy: 0.5171\n",
      "Epoch 14/150\n",
      "2143/2143 [==============================] - 44s 21ms/step - loss: 2.0650 - accuracy: 0.5497\n",
      "Epoch 15/150\n",
      "2143/2143 [==============================] - 44s 21ms/step - loss: 1.9088 - accuracy: 0.5818\n",
      "Epoch 16/150\n",
      "2143/2143 [==============================] - 45s 21ms/step - loss: 1.7721 - accuracy: 0.6098\n",
      "Epoch 17/150\n",
      "2143/2143 [==============================] - 42s 20ms/step - loss: 1.6477 - accuracy: 0.6378\n",
      "Epoch 18/150\n",
      "2143/2143 [==============================] - 39s 18ms/step - loss: 1.5363 - accuracy: 0.6601\n",
      "Epoch 19/150\n",
      "2143/2143 [==============================] - 39s 18ms/step - loss: 1.4428 - accuracy: 0.6791\n",
      "Epoch 20/150\n",
      "2143/2143 [==============================] - 40s 18ms/step - loss: 1.3548 - accuracy: 0.6979\n",
      "Epoch 21/150\n",
      "2143/2143 [==============================] - 39s 18ms/step - loss: 1.2757 - accuracy: 0.7163\n",
      "Epoch 22/150\n",
      "2143/2143 [==============================] - 39s 18ms/step - loss: 1.2086 - accuracy: 0.7297\n",
      "Epoch 23/150\n",
      "2143/2143 [==============================] - 39s 18ms/step - loss: 1.1419 - accuracy: 0.7451\n",
      "Epoch 24/150\n",
      "2143/2143 [==============================] - 39s 18ms/step - loss: 1.0867 - accuracy: 0.7567\n",
      "Epoch 25/150\n",
      "2143/2143 [==============================] - 39s 18ms/step - loss: 1.0333 - accuracy: 0.7674\n",
      "Epoch 26/150\n",
      "2143/2143 [==============================] - 41s 19ms/step - loss: 0.9901 - accuracy: 0.7784\n",
      "Epoch 27/150\n",
      "2143/2143 [==============================] - 41s 19ms/step - loss: 0.9440 - accuracy: 0.7887\n",
      "Epoch 28/150\n",
      "2143/2143 [==============================] - 44s 21ms/step - loss: 0.9071 - accuracy: 0.7958\n",
      "Epoch 29/150\n",
      "2143/2143 [==============================] - 42s 20ms/step - loss: 0.8712 - accuracy: 0.8045\n",
      "Epoch 30/150\n",
      "2143/2143 [==============================] - 45s 21ms/step - loss: 0.8420 - accuracy: 0.8097\n",
      "Epoch 31/150\n",
      "2143/2143 [==============================] - 41s 19ms/step - loss: 0.8083 - accuracy: 0.8175\n",
      "Epoch 32/150\n",
      "2143/2143 [==============================] - 39s 18ms/step - loss: 0.7834 - accuracy: 0.8233\n",
      "Epoch 33/150\n",
      "2143/2143 [==============================] - 39s 18ms/step - loss: 0.7625 - accuracy: 0.8272\n",
      "Epoch 34/150\n",
      "2143/2143 [==============================] - 40s 19ms/step - loss: 0.7375 - accuracy: 0.8314\n",
      "Epoch 35/150\n",
      "2143/2143 [==============================] - 38s 18ms/step - loss: 0.7161 - accuracy: 0.8373\n",
      "Epoch 36/150\n",
      "2143/2143 [==============================] - 38s 18ms/step - loss: 0.7015 - accuracy: 0.8391\n",
      "Epoch 37/150\n",
      "2143/2143 [==============================] - 38s 18ms/step - loss: 0.6794 - accuracy: 0.8438\n",
      "Epoch 38/150\n",
      "2143/2143 [==============================] - 38s 18ms/step - loss: 0.6659 - accuracy: 0.8459\n",
      "Epoch 39/150\n",
      "2143/2143 [==============================] - 38s 18ms/step - loss: 0.6501 - accuracy: 0.8507\n",
      "Epoch 40/150\n",
      "2143/2143 [==============================] - 39s 18ms/step - loss: 0.6369 - accuracy: 0.8530\n",
      "Epoch 41/150\n",
      "2143/2143 [==============================] - 42s 20ms/step - loss: 0.6204 - accuracy: 0.8567\n",
      "Epoch 42/150\n",
      "2143/2143 [==============================] - 42s 20ms/step - loss: 0.6089 - accuracy: 0.8591\n",
      "Epoch 43/150\n",
      "2143/2143 [==============================] - 40s 19ms/step - loss: 0.6001 - accuracy: 0.8613\n",
      "Epoch 44/150\n",
      "2143/2143 [==============================] - 39s 18ms/step - loss: 0.5991 - accuracy: 0.8589\n",
      "Epoch 45/150\n",
      "2143/2143 [==============================] - 39s 18ms/step - loss: 0.5808 - accuracy: 0.8646\n",
      "Epoch 46/150\n",
      "2143/2143 [==============================] - 39s 18ms/step - loss: 0.5653 - accuracy: 0.8678\n",
      "Epoch 47/150\n",
      "2143/2143 [==============================] - 39s 18ms/step - loss: 0.5586 - accuracy: 0.8697\n",
      "Epoch 48/150\n",
      "2143/2143 [==============================] - 40s 18ms/step - loss: 0.5533 - accuracy: 0.8690\n",
      "Epoch 49/150\n",
      "2143/2143 [==============================] - 39s 18ms/step - loss: 0.5486 - accuracy: 0.8695\n",
      "Epoch 50/150\n",
      "2143/2143 [==============================] - 39s 18ms/step - loss: 0.5357 - accuracy: 0.8728\n",
      "Epoch 51/150\n",
      "2143/2143 [==============================] - 40s 19ms/step - loss: 0.5294 - accuracy: 0.8743\n",
      "Epoch 52/150\n",
      "2143/2143 [==============================] - 39s 18ms/step - loss: 0.5233 - accuracy: 0.8761\n",
      "Epoch 53/150\n",
      "2143/2143 [==============================] - 56s 26ms/step - loss: 0.5308 - accuracy: 0.8728\n",
      "Epoch 54/150\n",
      "2143/2143 [==============================] - 43s 20ms/step - loss: 0.5125 - accuracy: 0.8789\n",
      "Epoch 55/150\n",
      "2143/2143 [==============================] - 47s 22ms/step - loss: 0.5077 - accuracy: 0.8789\n",
      "Epoch 56/150\n",
      "2143/2143 [==============================] - 49s 23ms/step - loss: 0.5069 - accuracy: 0.8783\n",
      "Epoch 57/150\n",
      "2143/2143 [==============================] - 47s 22ms/step - loss: 0.5010 - accuracy: 0.8799\n",
      "Epoch 58/150\n",
      "2143/2143 [==============================] - 48s 22ms/step - loss: 0.4995 - accuracy: 0.8808\n",
      "Epoch 59/150\n",
      "2143/2143 [==============================] - 47s 22ms/step - loss: 0.4871 - accuracy: 0.8827\n",
      "Epoch 60/150\n",
      "2143/2143 [==============================] - 45s 21ms/step - loss: 0.4914 - accuracy: 0.8809\n",
      "Epoch 61/150\n",
      "2143/2143 [==============================] - 45s 21ms/step - loss: 0.4985 - accuracy: 0.8777\n",
      "Epoch 62/150\n",
      "2143/2143 [==============================] - 46s 21ms/step - loss: 0.4786 - accuracy: 0.8827\n",
      "Epoch 63/150\n",
      "2143/2143 [==============================] - 43s 20ms/step - loss: 0.4779 - accuracy: 0.8845\n",
      "Epoch 64/150\n",
      "2143/2143 [==============================] - 43s 20ms/step - loss: 0.4798 - accuracy: 0.8835\n",
      "Epoch 65/150\n",
      "2143/2143 [==============================] - 39s 18ms/step - loss: 0.4715 - accuracy: 0.8862\n",
      "Epoch 66/150\n",
      "2143/2143 [==============================] - 39s 18ms/step - loss: 0.4769 - accuracy: 0.8826\n",
      "Epoch 67/150\n",
      "2143/2143 [==============================] - 39s 18ms/step - loss: 0.4601 - accuracy: 0.8882\n",
      "Epoch 68/150\n",
      "2143/2143 [==============================] - 39s 18ms/step - loss: 0.4754 - accuracy: 0.8821\n",
      "Epoch 69/150\n",
      "2143/2143 [==============================] - 39s 18ms/step - loss: 0.4618 - accuracy: 0.8862\n",
      "Epoch 70/150\n",
      "2143/2143 [==============================] - 39s 18ms/step - loss: 0.4636 - accuracy: 0.8861\n",
      "Epoch 71/150\n",
      "2143/2143 [==============================] - 39s 18ms/step - loss: 0.4574 - accuracy: 0.8869\n",
      "Epoch 72/150\n",
      "2143/2143 [==============================] - 39s 18ms/step - loss: 0.4605 - accuracy: 0.8866\n",
      "Epoch 73/150\n",
      "2143/2143 [==============================] - 39s 18ms/step - loss: 0.4601 - accuracy: 0.8852\n",
      "Epoch 74/150\n",
      "2143/2143 [==============================] - 39s 18ms/step - loss: 0.4544 - accuracy: 0.8874\n",
      "Epoch 75/150\n",
      "2143/2143 [==============================] - 39s 18ms/step - loss: 0.4598 - accuracy: 0.8851\n",
      "Epoch 76/150\n",
      "2143/2143 [==============================] - 39s 18ms/step - loss: 0.4518 - accuracy: 0.8873\n",
      "Epoch 77/150\n",
      "2143/2143 [==============================] - 39s 18ms/step - loss: 0.4488 - accuracy: 0.8880\n",
      "Epoch 78/150\n",
      "2143/2143 [==============================] - 39s 18ms/step - loss: 0.4456 - accuracy: 0.8899\n",
      "Epoch 79/150\n",
      "2143/2143 [==============================] - 39s 18ms/step - loss: 0.4512 - accuracy: 0.8877\n",
      "Epoch 80/150\n",
      "2143/2143 [==============================] - 39s 18ms/step - loss: 0.4437 - accuracy: 0.8893\n",
      "Epoch 81/150\n",
      "2143/2143 [==============================] - 39s 18ms/step - loss: 0.4413 - accuracy: 0.8899\n",
      "Epoch 82/150\n",
      "2143/2143 [==============================] - 39s 18ms/step - loss: 0.4450 - accuracy: 0.8880\n",
      "Epoch 83/150\n",
      "2143/2143 [==============================] - 39s 18ms/step - loss: 0.4401 - accuracy: 0.8901\n",
      "Epoch 84/150\n",
      "2143/2143 [==============================] - 39s 18ms/step - loss: 0.4378 - accuracy: 0.8907\n",
      "Epoch 85/150\n",
      "2143/2143 [==============================] - 39s 18ms/step - loss: 0.4399 - accuracy: 0.8906\n",
      "Epoch 86/150\n",
      "2143/2143 [==============================] - 38s 18ms/step - loss: 0.4384 - accuracy: 0.8896\n",
      "Epoch 87/150\n",
      "2143/2143 [==============================] - 38s 18ms/step - loss: 0.4374 - accuracy: 0.8898\n",
      "Epoch 88/150\n",
      "2143/2143 [==============================] - 41s 19ms/step - loss: 0.4408 - accuracy: 0.8891\n",
      "Epoch 89/150\n",
      "2143/2143 [==============================] - 45s 21ms/step - loss: 0.4386 - accuracy: 0.8892\n",
      "Epoch 90/150\n",
      "2143/2143 [==============================] - 40s 19ms/step - loss: 0.4456 - accuracy: 0.8872\n",
      "Epoch 91/150\n",
      "2143/2143 [==============================] - 40s 19ms/step - loss: 0.4332 - accuracy: 0.8903\n",
      "Epoch 92/150\n",
      "2143/2143 [==============================] - 40s 19ms/step - loss: 0.4339 - accuracy: 0.8898\n",
      "Epoch 93/150\n",
      "2143/2143 [==============================] - 41s 19ms/step - loss: 0.4436 - accuracy: 0.8863\n",
      "Epoch 94/150\n",
      "2143/2143 [==============================] - 45s 21ms/step - loss: 0.4261 - accuracy: 0.8921\n",
      "Epoch 95/150\n",
      "2143/2143 [==============================] - 40s 19ms/step - loss: 0.4247 - accuracy: 0.8924\n",
      "Epoch 96/150\n",
      "2143/2143 [==============================] - 40s 18ms/step - loss: 0.4345 - accuracy: 0.8899\n",
      "Epoch 97/150\n",
      "2143/2143 [==============================] - 40s 18ms/step - loss: 0.4232 - accuracy: 0.8925\n",
      "Epoch 98/150\n",
      "2143/2143 [==============================] - 40s 18ms/step - loss: 0.4202 - accuracy: 0.8953\n",
      "Epoch 99/150\n",
      "2143/2143 [==============================] - 39s 18ms/step - loss: 0.4343 - accuracy: 0.8889\n",
      "Epoch 100/150\n",
      "2143/2143 [==============================] - 40s 19ms/step - loss: 0.4251 - accuracy: 0.8916\n",
      "Epoch 101/150\n",
      "2143/2143 [==============================] - 41s 19ms/step - loss: 0.4233 - accuracy: 0.8920\n",
      "Epoch 102/150\n",
      "2143/2143 [==============================] - 42s 20ms/step - loss: 0.4282 - accuracy: 0.8912\n",
      "Epoch 103/150\n",
      "2143/2143 [==============================] - 43s 20ms/step - loss: 0.4250 - accuracy: 0.8915\n"
     ]
    }
   ],
   "source": [
    "with tf.device('gpu'):\n",
    "    history = GRU.fit(train, label, epochs=150, callbacks=[early_stop, gru_checkpoint])"
   ]
  },
  {
   "cell_type": "code",
   "execution_count": 32,
   "metadata": {},
   "outputs": [],
   "source": [
    "accuracy = history.history['accuracy']\n",
    "loss = history.history['loss']  "
   ]
  },
  {
   "cell_type": "code",
   "execution_count": 33,
   "metadata": {},
   "outputs": [
    {
     "data": {
      "image/png": "[encoded data removed]",
      "text/plain": [
       "<Figure size 640x480 with 1 Axes>"
      ]
     },
     "metadata": {},
     "output_type": "display_data"
    }
   ],
   "source": [
    "plt.plot(accuracy, label='Accuracy')\n",
    "plt.plot(loss, label='Loss')\n",
    "plt.legend()\n",
    "plt.show()"
   ]
  },
  {
   "cell_type": "markdown",
   "metadata": {},
   "source": [
    "# Testing The Model"
   ]
  },
  {
   "cell_type": "markdown",
   "metadata": {},
   "source": [
    "**1-LSTM**"
   ]
  },
  {
   "cell_type": "code",
   "execution_count": 37,
   "metadata": {},
   "outputs": [
    {
     "name": "stdout",
     "output_type": "stream",
     "text": [
      "We could not\n",
      "We could not deny\n",
      "We could not deny her\n",
      "We could not deny her food\n",
      "We could not deny her food that\n",
      "We could not deny her food that a\n",
      "We could not deny her food that a man\n",
      "We could not deny her food that a man has\n",
      "We could not deny her food that a man has so\n",
      "We could not deny her food that a man has so good\n",
      " \n",
      "Full Generated Text: We could not deny her food that a man has so good\n"
     ]
    }
   ],
   "source": [
    "text = \"We could\"\n",
    "number_of_words = 10\n",
    "  \n",
    "for _ in range(number_of_words): \n",
    "    token_list = tokenizer.texts_to_sequences([text])[0] \n",
    "    token_list = tf.keras.utils.pad_sequences([token_list], maxlen=max_length-1, padding='pre') \n",
    "    predicted_probs = LSTM.predict(token_list, verbose=0) \n",
    "    word = tokenizer.index_word[np.argmax(predicted_probs)] \n",
    "    text += \" \" + word \n",
    "    print(text)\n",
    "print(\" \")\n",
    "print(\"Full Generated Text:\", text) "
   ]
  },
  {
   "cell_type": "markdown",
   "metadata": {},
   "source": [
    "**2-Bidirectional LSTM**"
   ]
  },
  {
   "cell_type": "code",
   "execution_count": 38,
   "metadata": {},
   "outputs": [
    {
     "name": "stdout",
     "output_type": "stream",
     "text": [
      "We could not\n",
      "We could not collect\n",
      "We could not collect the\n",
      "We could not collect the courage\n",
      "We could not collect the courage to\n",
      "We could not collect the courage to recommence\n",
      "We could not collect the courage to recommence my\n",
      "We could not collect the courage to recommence my work\n",
      "We could not collect the courage to recommence my work i\n",
      "We could not collect the courage to recommence my work i feared\n",
      " \n",
      "Full Generated Text: We could not collect the courage to recommence my work i feared\n"
     ]
    }
   ],
   "source": [
    "text = \"We could\"\n",
    "number_of_words = 10\n",
    "  \n",
    "for _ in range(number_of_words): \n",
    "    token_list = tokenizer.texts_to_sequences([text])[0] \n",
    "    token_list = tf.keras.utils.pad_sequences([token_list], maxlen=max_length-1, padding='pre') \n",
    "    predicted_probs = Bidirectional_LSTM.predict(token_list, verbose=0) \n",
    "    word = tokenizer.index_word[np.argmax(predicted_probs)] \n",
    "    text += \" \" + word\n",
    "    print(text)\n",
    "print(\" \")\n",
    "print(\"Full Generated Text:\", text) "
   ]
  },
  {
   "cell_type": "markdown",
   "metadata": {},
   "source": [
    "**3-GRU**"
   ]
  },
  {
   "cell_type": "code",
   "execution_count": 39,
   "metadata": {},
   "outputs": [
    {
     "name": "stdout",
     "output_type": "stream",
     "text": [
      "We could have\n",
      "We could have relieve\n",
      "We could have relieve me\n",
      "We could have relieve me from\n",
      "We could have relieve me from the\n",
      "We could have relieve me from the fresh\n",
      "We could have relieve me from the fresh history\n",
      "We could have relieve me from the fresh history from\n",
      "We could have relieve me from the fresh history from which\n",
      "We could have relieve me from the fresh history from which they\n",
      "We could have relieve me from the fresh history from which they remained\n",
      "We could have relieve me from the fresh history from which they remained near\n",
      " \n",
      "Full Generated Text: We could have relieve me from the fresh history from which they remained near\n"
     ]
    }
   ],
   "source": [
    "text = \"We could\"\n",
    "number_of_words = 12\n",
    "for _ in range(number_of_words): \n",
    "    token_list = tokenizer.texts_to_sequences([text])[0] \n",
    "    token_list = tf.keras.utils.pad_sequences([token_list], maxlen=max_length-1, padding='pre') \n",
    "    predicted_probs = GRU.predict(token_list, verbose=0) \n",
    "    word = tokenizer.index_word[np.argmax(predicted_probs)] \n",
    "    text += \" \" + word \n",
    "    print(text)\n",
    "print(\" \")\n",
    "print(\"Full Generated Text:\", text) "
   ]
  },
  {
   "cell_type": "markdown",
   "metadata": {},
   "source": [
    "# Save The Tokenizer"
   ]
  },
  {
   "cell_type": "code",
   "execution_count": 40,
   "metadata": {},
   "outputs": [],
   "source": [
    "import pickle\n",
    "with open('english_tokenizer.pickle', 'wb') as handle:\n",
    "    pickle.dump(tokenizer, handle, protocol=pickle.HIGHEST_PROTOCOL)"
   ]
  },
  {
   "cell_type": "code",
   "execution_count": null,
   "metadata": {},
   "outputs": [],
   "source": []
  }
 ],
 "metadata": {
  "kernelspec": {
   "display_name": "Python 3",
   "language": "python",
   "name": "python3"
  },
  "language_info": {
   "codemirror_mode": {
    "name": "ipython",
    "version": 3
   },
   "file_extension": ".py",
   "mimetype": "text/x-python",
   "name": "python",
   "nbconvert_exporter": "python",
   "pygments_lexer": "ipython3",
   "version": "3.11.9"
  }
 },
 "nbformat": 4,
 "nbformat_minor": 2
}
