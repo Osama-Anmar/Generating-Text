{
 "cells": [
  {
   "cell_type": "markdown",
   "metadata": {},
   "source": [
    "# Import Libraries"
   ]
  },
  {
   "cell_type": "code",
   "execution_count": 1,
   "metadata": {},
   "outputs": [],
   "source": [
    "import tensorflow as tf\n",
    "import numpy as np\n",
    "import warnings\n",
    "import os\n",
    "from english_text_normalization import text_normalization\n",
    "import matplotlib.pyplot as plt\n",
    "tf.keras.utils.set_random_seed(42)"
   ]
  },
  {
   "cell_type": "markdown",
   "metadata": {},
   "source": [
    "# Ignore Warnings"
   ]
  },
  {
   "cell_type": "code",
   "execution_count": 2,
   "metadata": {},
   "outputs": [],
   "source": [
    "os.environ['TF_CPP_MIN_LOG_LEVEL'] = '3'\n",
    "warnings.filterwarnings(action='ignore')"
   ]
  },
  {
   "cell_type": "markdown",
   "metadata": {},
   "source": [
    "# Read Data"
   ]
  },
  {
   "cell_type": "code",
   "execution_count": 3,
   "metadata": {},
   "outputs": [],
   "source": [
    "Corpus = open('English Quotes.txt').read().lower().split(\"\\n\")\n",
    "Corpus = [text_normalization(text) for text in Corpus] "
   ]
  },
  {
   "cell_type": "markdown",
   "metadata": {},
   "source": [
    "# Preprocessing Data For Deep Learning Model"
   ]
  },
  {
   "cell_type": "code",
   "execution_count": 4,
   "metadata": {},
   "outputs": [
    {
     "data": {
      "text/plain": [
       "7157"
      ]
     },
     "execution_count": 4,
     "metadata": {},
     "output_type": "execute_result"
    }
   ],
   "source": [
    "tokenizer = tf.keras.preprocessing.text.Tokenizer()\n",
    "tokenizer.fit_on_texts(Corpus)\n",
    "all_words = len(tokenizer.word_index) + 1\n",
    "all_words"
   ]
  },
  {
   "cell_type": "markdown",
   "metadata": {},
   "source": [
    "# Generate Input Sequences"
   ]
  },
  {
   "cell_type": "code",
   "execution_count": 5,
   "metadata": {},
   "outputs": [],
   "source": [
    "input_sequence_ = []\n",
    "for line in Corpus:\n",
    "    token = tokenizer.texts_to_sequences([line])[0]\n",
    "    for i in range(1, len(token)):\n",
    "        n_grams = token[:i+1]\n",
    "        input_sequence_.append(n_grams)\n",
    "        \n",
    "max_length =  max([len(x) for x in input_sequence_])\n",
    "input_sequence_ = np.array(tf.keras.utils.pad_sequences(input_sequence_, maxlen= max_length, padding='pre'))"
   ]
  },
  {
   "cell_type": "markdown",
   "metadata": {},
   "source": [
    "# Generate Train And Label Data For Model"
   ]
  },
  {
   "cell_type": "code",
   "execution_count": 6,
   "metadata": {},
   "outputs": [],
   "source": [
    "train, label = input_sequence_[:,:-1], input_sequence_[:,-1]"
   ]
  },
  {
   "cell_type": "markdown",
   "metadata": {},
   "source": [
    "# Convert Label Data"
   ]
  },
  {
   "cell_type": "code",
   "execution_count": 7,
   "metadata": {},
   "outputs": [],
   "source": [
    "label = tf.keras.utils.to_categorical(label, num_classes=all_words)"
   ]
  },
  {
   "cell_type": "markdown",
   "metadata": {},
   "source": [
    "# Deep Learning Models"
   ]
  },
  {
   "cell_type": "code",
   "execution_count": 8,
   "metadata": {},
   "outputs": [],
   "source": [
    "early_stop = tf.keras.callbacks.EarlyStopping(\n",
    "    monitor='accuracy',\n",
    "    patience=3,\n",
    "    mode = 'max',\n",
    "    restore_best_weights=True,\n",
    ")"
   ]
  },
  {
   "cell_type": "markdown",
   "metadata": {},
   "source": [
    "**1-LSTM**"
   ]
  },
  {
   "cell_type": "code",
   "execution_count": 9,
   "metadata": {},
   "outputs": [],
   "source": [
    "LSTM = tf.keras.Sequential([\n",
    "                tf.keras.layers.Embedding(input_dim = all_words, output_dim=100, input_length=max_length-1),\n",
    "                tf.keras.layers.LSTM(128, return_sequences=False),\n",
    "                tf.keras.layers.Dense(all_words, activation= 'softmax')\n",
    "                ])     "
   ]
  },
  {
   "cell_type": "code",
   "execution_count": 10,
   "metadata": {},
   "outputs": [],
   "source": [
    "LSTM.compile(\n",
    "    loss=tf.keras.losses.CategoricalCrossentropy(), \n",
    "    optimizer=tf.keras.optimizers.legacy.Adam(), \n",
    "    metrics=['accuracy'])"
   ]
  },
  {
   "cell_type": "code",
   "execution_count": 11,
   "metadata": {},
   "outputs": [
    {
     "name": "stdout",
     "output_type": "stream",
     "text": [
      "Epoch 1/150\n",
      "2060/2060 [==============================] - 58s 27ms/step - loss: 6.3747 - accuracy: 0.0724\n",
      "Epoch 2/150\n",
      "2060/2060 [==============================] - 55s 27ms/step - loss: 5.5736 - accuracy: 0.1446\n",
      "Epoch 3/150\n",
      "2060/2060 [==============================] - 56s 27ms/step - loss: 5.1185 - accuracy: 0.1766\n",
      "Epoch 4/150\n",
      "2060/2060 [==============================] - 56s 27ms/step - loss: 4.7394 - accuracy: 0.1996\n",
      "Epoch 5/150\n",
      "2060/2060 [==============================] - 56s 27ms/step - loss: 4.3924 - accuracy: 0.2238\n",
      "Epoch 6/150\n",
      "2060/2060 [==============================] - 56s 27ms/step - loss: 4.0685 - accuracy: 0.2497\n",
      "Epoch 7/150\n",
      "2060/2060 [==============================] - 56s 27ms/step - loss: 3.7641 - accuracy: 0.2790\n",
      "Epoch 8/150\n",
      "2060/2060 [==============================] - 56s 27ms/step - loss: 3.4828 - accuracy: 0.3123\n",
      "Epoch 9/150\n",
      "2060/2060 [==============================] - 56s 27ms/step - loss: 3.2190 - accuracy: 0.3481\n",
      "Epoch 10/150\n",
      "2060/2060 [==============================] - 57s 27ms/step - loss: 2.9821 - accuracy: 0.3859\n",
      "Epoch 11/150\n",
      "2060/2060 [==============================] - 56s 27ms/step - loss: 2.7643 - accuracy: 0.4232\n",
      "Epoch 12/150\n",
      "2060/2060 [==============================] - 57s 27ms/step - loss: 2.5673 - accuracy: 0.4568\n",
      "Epoch 13/150\n",
      "2060/2060 [==============================] - 57s 28ms/step - loss: 2.3911 - accuracy: 0.4892\n",
      "Epoch 14/150\n",
      "2060/2060 [==============================] - 63s 30ms/step - loss: 2.2307 - accuracy: 0.5205\n",
      "Epoch 15/150\n",
      "2060/2060 [==============================] - 61s 30ms/step - loss: 2.0834 - accuracy: 0.5478\n",
      "Epoch 16/150\n",
      "2060/2060 [==============================] - 58s 28ms/step - loss: 1.9483 - accuracy: 0.5778\n",
      "Epoch 17/150\n",
      "2060/2060 [==============================] - 57s 28ms/step - loss: 1.8270 - accuracy: 0.6006\n",
      "Epoch 18/150\n",
      "2060/2060 [==============================] - 57s 28ms/step - loss: 1.7106 - accuracy: 0.6242\n",
      "Epoch 19/150\n",
      "2060/2060 [==============================] - 57s 28ms/step - loss: 1.6072 - accuracy: 0.6463\n",
      "Epoch 20/150\n",
      "2060/2060 [==============================] - 57s 28ms/step - loss: 1.5128 - accuracy: 0.6652\n",
      "Epoch 21/150\n",
      "2060/2060 [==============================] - 57s 28ms/step - loss: 1.4238 - accuracy: 0.6869\n",
      "Epoch 22/150\n",
      "2060/2060 [==============================] - 57s 28ms/step - loss: 1.3440 - accuracy: 0.7033\n",
      "Epoch 23/150\n",
      "2060/2060 [==============================] - 57s 28ms/step - loss: 1.2660 - accuracy: 0.7195\n",
      "Epoch 24/150\n",
      "2060/2060 [==============================] - 57s 27ms/step - loss: 1.1969 - accuracy: 0.7346\n",
      "Epoch 25/150\n",
      "2060/2060 [==============================] - 57s 28ms/step - loss: 1.1301 - accuracy: 0.7501\n",
      "Epoch 26/150\n",
      "2060/2060 [==============================] - 57s 28ms/step - loss: 1.0721 - accuracy: 0.7624\n",
      "Epoch 27/150\n",
      "2060/2060 [==============================] - 57s 28ms/step - loss: 1.0151 - accuracy: 0.7754\n",
      "Epoch 28/150\n",
      "2060/2060 [==============================] - 56s 27ms/step - loss: 0.9636 - accuracy: 0.7876\n",
      "Epoch 29/150\n",
      "2060/2060 [==============================] - 56s 27ms/step - loss: 0.9177 - accuracy: 0.7961\n",
      "Epoch 30/150\n",
      "2060/2060 [==============================] - 57s 28ms/step - loss: 0.8732 - accuracy: 0.8069\n",
      "Epoch 31/150\n",
      "2060/2060 [==============================] - 57s 27ms/step - loss: 0.8304 - accuracy: 0.8172\n",
      "Epoch 32/150\n",
      "2060/2060 [==============================] - 56s 27ms/step - loss: 0.7915 - accuracy: 0.8249\n",
      "Epoch 33/150\n",
      "2060/2060 [==============================] - 57s 27ms/step - loss: 0.7559 - accuracy: 0.8315\n",
      "Epoch 34/150\n",
      "2060/2060 [==============================] - 57s 27ms/step - loss: 0.7232 - accuracy: 0.8398\n",
      "Epoch 35/150\n",
      "2060/2060 [==============================] - 57s 28ms/step - loss: 0.6954 - accuracy: 0.8460\n",
      "Epoch 36/150\n",
      "2060/2060 [==============================] - 57s 28ms/step - loss: 0.6630 - accuracy: 0.8548\n",
      "Epoch 37/150\n",
      "2060/2060 [==============================] - 57s 28ms/step - loss: 0.6397 - accuracy: 0.8584\n",
      "Epoch 38/150\n",
      "2060/2060 [==============================] - 57s 28ms/step - loss: 0.6121 - accuracy: 0.8649\n",
      "Epoch 39/150\n",
      "2060/2060 [==============================] - 57s 28ms/step - loss: 0.5915 - accuracy: 0.8698\n",
      "Epoch 40/150\n",
      "2060/2060 [==============================] - 58s 28ms/step - loss: 0.5666 - accuracy: 0.8744\n",
      "Epoch 41/150\n",
      "2060/2060 [==============================] - 57s 28ms/step - loss: 0.5485 - accuracy: 0.8775\n",
      "Epoch 42/150\n",
      "2060/2060 [==============================] - 57s 28ms/step - loss: 0.5275 - accuracy: 0.8824\n",
      "Epoch 43/150\n",
      "2060/2060 [==============================] - 57s 28ms/step - loss: 0.5105 - accuracy: 0.8848\n",
      "Epoch 44/150\n",
      "2060/2060 [==============================] - 57s 28ms/step - loss: 0.4942 - accuracy: 0.8895\n",
      "Epoch 45/150\n",
      "2060/2060 [==============================] - 58s 28ms/step - loss: 0.4809 - accuracy: 0.8922\n",
      "Epoch 46/150\n",
      "2060/2060 [==============================] - 57s 28ms/step - loss: 0.4684 - accuracy: 0.8945\n",
      "Epoch 47/150\n",
      "2060/2060 [==============================] - 58s 28ms/step - loss: 0.4500 - accuracy: 0.8989\n",
      "Epoch 48/150\n",
      "2060/2060 [==============================] - 58s 28ms/step - loss: 0.4409 - accuracy: 0.9005\n",
      "Epoch 49/150\n",
      "2060/2060 [==============================] - 57s 28ms/step - loss: 0.4307 - accuracy: 0.9025\n",
      "Epoch 50/150\n",
      "2060/2060 [==============================] - 57s 28ms/step - loss: 0.4176 - accuracy: 0.9054\n",
      "Epoch 51/150\n",
      "2060/2060 [==============================] - 57s 28ms/step - loss: 0.4116 - accuracy: 0.9068\n",
      "Epoch 52/150\n",
      "2060/2060 [==============================] - 57s 28ms/step - loss: 0.4009 - accuracy: 0.9095\n",
      "Epoch 53/150\n",
      "2060/2060 [==============================] - 57s 28ms/step - loss: 0.3908 - accuracy: 0.9106\n",
      "Epoch 54/150\n",
      "2060/2060 [==============================] - 57s 28ms/step - loss: 0.3828 - accuracy: 0.9132\n",
      "Epoch 55/150\n",
      "2060/2060 [==============================] - 57s 28ms/step - loss: 0.3744 - accuracy: 0.9135\n",
      "Epoch 56/150\n",
      "2060/2060 [==============================] - 57s 28ms/step - loss: 0.3673 - accuracy: 0.9156\n",
      "Epoch 57/150\n",
      "2060/2060 [==============================] - 57s 28ms/step - loss: 0.3650 - accuracy: 0.9157\n",
      "Epoch 58/150\n",
      "2060/2060 [==============================] - 57s 28ms/step - loss: 0.3522 - accuracy: 0.9185\n",
      "Epoch 59/150\n",
      "2060/2060 [==============================] - 57s 28ms/step - loss: 0.3466 - accuracy: 0.9198\n",
      "Epoch 60/150\n",
      "2060/2060 [==============================] - 57s 28ms/step - loss: 0.3466 - accuracy: 0.9190\n",
      "Epoch 61/150\n",
      "2060/2060 [==============================] - 57s 28ms/step - loss: 0.3376 - accuracy: 0.9213\n",
      "Epoch 62/150\n",
      "2060/2060 [==============================] - 57s 28ms/step - loss: 0.3360 - accuracy: 0.9213\n",
      "Epoch 63/150\n",
      "2060/2060 [==============================] - 58s 28ms/step - loss: 0.3309 - accuracy: 0.9227\n",
      "Epoch 64/150\n",
      "2060/2060 [==============================] - 58s 28ms/step - loss: 0.3268 - accuracy: 0.9227\n",
      "Epoch 65/150\n",
      "2060/2060 [==============================] - 58s 28ms/step - loss: 0.3217 - accuracy: 0.9240\n",
      "Epoch 66/150\n",
      "2060/2060 [==============================] - 58s 28ms/step - loss: 0.3187 - accuracy: 0.9240\n",
      "Epoch 67/150\n",
      "2060/2060 [==============================] - 57s 28ms/step - loss: 0.3120 - accuracy: 0.9262\n",
      "Epoch 68/150\n",
      "2060/2060 [==============================] - 57s 28ms/step - loss: 0.3128 - accuracy: 0.9258\n",
      "Epoch 69/150\n",
      "2060/2060 [==============================] - 58s 28ms/step - loss: 0.3085 - accuracy: 0.9259\n",
      "Epoch 70/150\n",
      "2060/2060 [==============================] - 57s 28ms/step - loss: 0.3042 - accuracy: 0.9262\n"
     ]
    }
   ],
   "source": [
    "with tf.device('gpu:0'):\n",
    "    history = LSTM.fit(train, label, epochs=150, callbacks=[early_stop])"
   ]
  },
  {
   "cell_type": "code",
   "execution_count": 12,
   "metadata": {},
   "outputs": [],
   "source": [
    "accuracy = history.history['accuracy']\n",
    "loss = history.history['loss']  "
   ]
  },
  {
   "cell_type": "code",
   "execution_count": 13,
   "metadata": {},
   "outputs": [
    {
     "data": {
      "image/png": "[encoded data removed]",
      "text/plain": [
       "<Figure size 640x480 with 1 Axes>"
      ]
     },
     "metadata": {},
     "output_type": "display_data"
    }
   ],
   "source": [
    "plt.plot(accuracy, label='Accuracy')\n",
    "plt.plot(loss, label='Loss')\n",
    "plt.legend()\n",
    "plt.show()"
   ]
  },
  {
   "cell_type": "markdown",
   "metadata": {},
   "source": [
    "**2-Bidirectional LSTM**"
   ]
  },
  {
   "cell_type": "code",
   "execution_count": 14,
   "metadata": {},
   "outputs": [],
   "source": [
    "Bidirectional_LSTM = tf.keras.Sequential([\n",
    "                tf.keras.layers.Embedding(input_dim = all_words, output_dim=100, input_length=max_length-1),\n",
    "                tf.keras.layers.Bidirectional(tf.keras.layers.LSTM(128, return_sequences=False)),\n",
    "                tf.keras.layers.Dense(all_words, activation= 'softmax')\n",
    "                ])   "
   ]
  },
  {
   "cell_type": "code",
   "execution_count": 15,
   "metadata": {},
   "outputs": [],
   "source": [
    "Bidirectional_LSTM.compile(\n",
    "    loss=tf.keras.losses.CategoricalCrossentropy(), \n",
    "    optimizer=tf.keras.optimizers.legacy.Adam(), \n",
    "    metrics=['accuracy'])"
   ]
  },
  {
   "cell_type": "code",
   "execution_count": 16,
   "metadata": {},
   "outputs": [
    {
     "name": "stdout",
     "output_type": "stream",
     "text": [
      "Epoch 1/150\n",
      "2060/2060 [==============================] - 170s 82ms/step - loss: 6.2841 - accuracy: 0.0879\n",
      "Epoch 2/150\n",
      "2060/2060 [==============================] - 160s 78ms/step - loss: 5.4491 - accuracy: 0.1560\n",
      "Epoch 3/150\n",
      "2060/2060 [==============================] - 161s 78ms/step - loss: 5.0005 - accuracy: 0.1844\n",
      "Epoch 4/150\n",
      "2060/2060 [==============================] - 163s 79ms/step - loss: 4.6293 - accuracy: 0.2080\n",
      "Epoch 5/150\n",
      "2060/2060 [==============================] - 160s 78ms/step - loss: 4.2903 - accuracy: 0.2314\n",
      "Epoch 6/150\n",
      "2060/2060 [==============================] - 158s 77ms/step - loss: 3.9771 - accuracy: 0.2569\n",
      "Epoch 7/150\n",
      "2060/2060 [==============================] - 162s 78ms/step - loss: 3.6764 - accuracy: 0.2892\n",
      "Epoch 8/150\n",
      "2060/2060 [==============================] - 159s 77ms/step - loss: 3.3961 - accuracy: 0.3245\n",
      "Epoch 9/150\n",
      "2060/2060 [==============================] - 159s 77ms/step - loss: 3.1369 - accuracy: 0.3637\n",
      "Epoch 10/150\n",
      "2060/2060 [==============================] - 160s 78ms/step - loss: 2.9037 - accuracy: 0.4003\n",
      "Epoch 11/150\n",
      "2060/2060 [==============================] - 156s 76ms/step - loss: 2.6910 - accuracy: 0.4375\n",
      "Epoch 12/150\n",
      "2060/2060 [==============================] - 157s 76ms/step - loss: 2.4990 - accuracy: 0.4742\n",
      "Epoch 13/150\n",
      "2060/2060 [==============================] - 165s 80ms/step - loss: 2.3225 - accuracy: 0.5056\n",
      "Epoch 14/150\n",
      "2060/2060 [==============================] - 166s 81ms/step - loss: 2.1657 - accuracy: 0.5356\n",
      "Epoch 15/150\n",
      "2060/2060 [==============================] - 166s 81ms/step - loss: 2.0213 - accuracy: 0.5624\n",
      "Epoch 16/150\n",
      "2060/2060 [==============================] - 169s 82ms/step - loss: 1.8877 - accuracy: 0.5893\n",
      "Epoch 17/150\n",
      "2060/2060 [==============================] - 167s 81ms/step - loss: 1.7667 - accuracy: 0.6136\n",
      "Epoch 18/150\n",
      "2060/2060 [==============================] - 162s 78ms/step - loss: 1.6508 - accuracy: 0.6395\n",
      "Epoch 19/150\n",
      "2060/2060 [==============================] - 174s 84ms/step - loss: 1.5499 - accuracy: 0.6604\n",
      "Epoch 20/150\n",
      "2060/2060 [==============================] - 167s 81ms/step - loss: 1.4536 - accuracy: 0.6809\n",
      "Epoch 21/150\n",
      "2060/2060 [==============================] - 160s 78ms/step - loss: 1.3661 - accuracy: 0.6985\n",
      "Epoch 22/150\n",
      "2060/2060 [==============================] - 167s 81ms/step - loss: 1.2888 - accuracy: 0.7153\n",
      "Epoch 23/150\n",
      "2060/2060 [==============================] - 167s 81ms/step - loss: 1.2106 - accuracy: 0.7329\n",
      "Epoch 24/150\n",
      "2060/2060 [==============================] - 166s 80ms/step - loss: 1.1449 - accuracy: 0.7463\n",
      "Epoch 25/150\n",
      "2060/2060 [==============================] - 166s 81ms/step - loss: 1.0822 - accuracy: 0.7602\n",
      "Epoch 26/150\n",
      "2060/2060 [==============================] - 169s 82ms/step - loss: 1.0241 - accuracy: 0.7735\n",
      "Epoch 27/150\n",
      "2060/2060 [==============================] - 168s 81ms/step - loss: 0.9712 - accuracy: 0.7858\n",
      "Epoch 28/150\n",
      "2060/2060 [==============================] - 180s 87ms/step - loss: 0.9192 - accuracy: 0.7966\n",
      "Epoch 29/150\n",
      "2060/2060 [==============================] - 182s 88ms/step - loss: 0.8755 - accuracy: 0.8061\n",
      "Epoch 30/150\n",
      "2060/2060 [==============================] - 173s 84ms/step - loss: 0.8311 - accuracy: 0.8156\n",
      "Epoch 31/150\n",
      "2060/2060 [==============================] - 172s 83ms/step - loss: 0.7954 - accuracy: 0.8238\n",
      "Epoch 32/150\n",
      "2060/2060 [==============================] - 174s 85ms/step - loss: 0.7598 - accuracy: 0.8310\n",
      "Epoch 33/150\n",
      "2060/2060 [==============================] - 176s 85ms/step - loss: 0.7234 - accuracy: 0.8387\n",
      "Epoch 34/150\n",
      "2060/2060 [==============================] - 167s 81ms/step - loss: 0.6918 - accuracy: 0.8455\n",
      "Epoch 35/150\n",
      "2060/2060 [==============================] - 174s 84ms/step - loss: 0.6620 - accuracy: 0.8530\n",
      "Epoch 36/150\n",
      "2060/2060 [==============================] - 168s 82ms/step - loss: 0.6368 - accuracy: 0.8578\n",
      "Epoch 37/150\n",
      "2060/2060 [==============================] - 173s 84ms/step - loss: 0.6078 - accuracy: 0.8658\n",
      "Epoch 38/150\n",
      "2060/2060 [==============================] - 167s 81ms/step - loss: 0.5881 - accuracy: 0.8681\n",
      "Epoch 39/150\n",
      "2060/2060 [==============================] - 170s 82ms/step - loss: 0.5670 - accuracy: 0.8740\n",
      "Epoch 40/150\n",
      "2060/2060 [==============================] - 166s 81ms/step - loss: 0.5476 - accuracy: 0.8770\n",
      "Epoch 41/150\n",
      "2060/2060 [==============================] - 166s 81ms/step - loss: 0.5248 - accuracy: 0.8826\n",
      "Epoch 42/150\n",
      "2060/2060 [==============================] - 173s 84ms/step - loss: 0.5106 - accuracy: 0.8852\n",
      "Epoch 43/150\n",
      "2060/2060 [==============================] - 174s 85ms/step - loss: 0.4920 - accuracy: 0.8901\n",
      "Epoch 44/150\n",
      "2060/2060 [==============================] - 173s 84ms/step - loss: 0.4797 - accuracy: 0.8916\n",
      "Epoch 45/150\n",
      "2060/2060 [==============================] - 171s 83ms/step - loss: 0.4660 - accuracy: 0.8955\n",
      "Epoch 46/150\n",
      "2060/2060 [==============================] - 167s 81ms/step - loss: 0.4539 - accuracy: 0.8976\n",
      "Epoch 47/150\n",
      "2060/2060 [==============================] - 173s 84ms/step - loss: 0.4412 - accuracy: 0.8988\n",
      "Epoch 48/150\n",
      "2060/2060 [==============================] - 171s 83ms/step - loss: 0.4331 - accuracy: 0.9014\n",
      "Epoch 49/150\n",
      "2060/2060 [==============================] - 161s 78ms/step - loss: 0.4265 - accuracy: 0.9022\n",
      "Epoch 50/150\n",
      "2060/2060 [==============================] - 163s 79ms/step - loss: 0.4084 - accuracy: 0.9069\n",
      "Epoch 51/150\n",
      "2060/2060 [==============================] - 168s 82ms/step - loss: 0.4011 - accuracy: 0.9087\n",
      "Epoch 52/150\n",
      "2060/2060 [==============================] - 170s 82ms/step - loss: 0.3965 - accuracy: 0.9093\n",
      "Epoch 53/150\n",
      "2060/2060 [==============================] - 166s 81ms/step - loss: 0.3909 - accuracy: 0.9092\n",
      "Epoch 54/150\n",
      "2060/2060 [==============================] - 168s 81ms/step - loss: 0.3870 - accuracy: 0.9099\n",
      "Epoch 55/150\n",
      "2060/2060 [==============================] - 169s 82ms/step - loss: 0.3677 - accuracy: 0.9160\n",
      "Epoch 56/150\n",
      "2060/2060 [==============================] - 175s 85ms/step - loss: 0.3716 - accuracy: 0.9131\n",
      "Epoch 57/150\n",
      "2060/2060 [==============================] - 170s 83ms/step - loss: 0.3593 - accuracy: 0.9160\n",
      "Epoch 58/150\n",
      "2060/2060 [==============================] - 161s 78ms/step - loss: 0.3588 - accuracy: 0.9145\n",
      "Epoch 59/150\n",
      "2060/2060 [==============================] - 165s 80ms/step - loss: 0.3494 - accuracy: 0.9174\n",
      "Epoch 60/150\n",
      "2060/2060 [==============================] - 175s 85ms/step - loss: 0.3456 - accuracy: 0.9186\n",
      "Epoch 61/150\n",
      "2060/2060 [==============================] - 160s 78ms/step - loss: 0.3446 - accuracy: 0.9186\n",
      "Epoch 62/150\n",
      "2060/2060 [==============================] - 162s 79ms/step - loss: 0.3443 - accuracy: 0.9183\n",
      "Epoch 63/150\n",
      "2060/2060 [==============================] - 162s 79ms/step - loss: 0.3377 - accuracy: 0.9188\n",
      "Epoch 64/150\n",
      "2060/2060 [==============================] - 171s 83ms/step - loss: 0.3358 - accuracy: 0.9190\n",
      "Epoch 65/150\n",
      "2060/2060 [==============================] - 173s 84ms/step - loss: 0.3247 - accuracy: 0.9219\n",
      "Epoch 66/150\n",
      "2060/2060 [==============================] - 170s 82ms/step - loss: 0.3311 - accuracy: 0.9189\n",
      "Epoch 67/150\n",
      "2060/2060 [==============================] - 170s 83ms/step - loss: 0.3246 - accuracy: 0.9215\n",
      "Epoch 68/150\n",
      "2060/2060 [==============================] - 173s 84ms/step - loss: 0.3128 - accuracy: 0.9249\n",
      "Epoch 69/150\n",
      "2060/2060 [==============================] - 171s 83ms/step - loss: 0.3212 - accuracy: 0.9219\n",
      "Epoch 70/150\n",
      "2060/2060 [==============================] - 169s 82ms/step - loss: 0.3126 - accuracy: 0.9240\n",
      "Epoch 71/150\n",
      "2060/2060 [==============================] - 168s 82ms/step - loss: 0.3191 - accuracy: 0.9210\n"
     ]
    }
   ],
   "source": [
    "with tf.device('cpu:0'):\n",
    "    history = Bidirectional_LSTM.fit(train, label, epochs=150, callbacks=[early_stop])"
   ]
  },
  {
   "cell_type": "code",
   "execution_count": 17,
   "metadata": {},
   "outputs": [],
   "source": [
    "accuracy = history.history['accuracy']\n",
    "loss = history.history['loss']  "
   ]
  },
  {
   "cell_type": "code",
   "execution_count": 18,
   "metadata": {},
   "outputs": [
    {
     "data": {
      "image/png": "[encoded data removed]",
      "text/plain": [
       "<Figure size 640x480 with 1 Axes>"
      ]
     },
     "metadata": {},
     "output_type": "display_data"
    }
   ],
   "source": [
    "plt.plot(accuracy, label='Accuracy')\n",
    "plt.plot(loss, label='Loss')\n",
    "plt.legend()\n",
    "plt.show()"
   ]
  },
  {
   "cell_type": "markdown",
   "metadata": {},
   "source": [
    "**3-GRU**"
   ]
  },
  {
   "cell_type": "code",
   "execution_count": 19,
   "metadata": {},
   "outputs": [],
   "source": [
    "GRU = tf.keras.Sequential([\n",
    "                tf.keras.layers.Embedding(input_dim = all_words, output_dim=100, input_length=max_length-1),\n",
    "                tf.keras.layers.GRU(128, return_sequences=False),\n",
    "                tf.keras.layers.Dense(all_words, activation= 'softmax')\n",
    "                ])   "
   ]
  },
  {
   "cell_type": "code",
   "execution_count": 20,
   "metadata": {},
   "outputs": [],
   "source": [
    "GRU.compile(\n",
    "    loss=tf.keras.losses.CategoricalCrossentropy(), \n",
    "    optimizer=tf.keras.optimizers.legacy.Adam(), \n",
    "    metrics=['accuracy'])"
   ]
  },
  {
   "cell_type": "code",
   "execution_count": 21,
   "metadata": {},
   "outputs": [
    {
     "name": "stdout",
     "output_type": "stream",
     "text": [
      "Epoch 1/150\n",
      "2060/2060 [==============================] - 140s 68ms/step - loss: 6.2120 - accuracy: 0.0976\n",
      "Epoch 2/150\n",
      "2060/2060 [==============================] - 141s 68ms/step - loss: 5.3401 - accuracy: 0.1641\n",
      "Epoch 3/150\n",
      "2060/2060 [==============================] - 155s 75ms/step - loss: 4.8465 - accuracy: 0.1964\n",
      "Epoch 4/150\n",
      "2060/2060 [==============================] - 144s 70ms/step - loss: 4.4031 - accuracy: 0.2262\n",
      "Epoch 5/150\n",
      "2060/2060 [==============================] - 143s 70ms/step - loss: 3.9956 - accuracy: 0.2568\n",
      "Epoch 6/150\n",
      "2060/2060 [==============================] - 135s 66ms/step - loss: 3.6238 - accuracy: 0.2974\n",
      "Epoch 7/150\n",
      "2060/2060 [==============================] - 135s 65ms/step - loss: 3.2786 - accuracy: 0.3439\n",
      "Epoch 8/150\n",
      "2060/2060 [==============================] - 141s 68ms/step - loss: 2.9708 - accuracy: 0.3897\n",
      "Epoch 9/150\n",
      "2060/2060 [==============================] - 133s 64ms/step - loss: 2.6989 - accuracy: 0.4352\n",
      "Epoch 10/150\n",
      "2060/2060 [==============================] - 133s 65ms/step - loss: 2.4629 - accuracy: 0.4789\n",
      "Epoch 11/150\n",
      "2060/2060 [==============================] - 132s 64ms/step - loss: 2.2579 - accuracy: 0.5142\n",
      "Epoch 12/150\n",
      "2060/2060 [==============================] - 135s 65ms/step - loss: 2.0769 - accuracy: 0.5493\n",
      "Epoch 13/150\n",
      "2060/2060 [==============================] - 133s 65ms/step - loss: 1.9197 - accuracy: 0.5817\n",
      "Epoch 14/150\n",
      "2060/2060 [==============================] - 136s 66ms/step - loss: 1.7794 - accuracy: 0.6102\n",
      "Epoch 15/150\n",
      "2060/2060 [==============================] - 137s 67ms/step - loss: 1.6571 - accuracy: 0.6329\n",
      "Epoch 16/150\n",
      "2060/2060 [==============================] - 138s 67ms/step - loss: 1.5490 - accuracy: 0.6563\n",
      "Epoch 17/150\n",
      "2060/2060 [==============================] - 136s 66ms/step - loss: 1.4494 - accuracy: 0.6774\n",
      "Epoch 18/150\n",
      "2060/2060 [==============================] - 135s 65ms/step - loss: 1.3653 - accuracy: 0.6935\n",
      "Epoch 19/150\n",
      "2060/2060 [==============================] - 137s 66ms/step - loss: 1.2886 - accuracy: 0.7092\n",
      "Epoch 20/150\n",
      "2060/2060 [==============================] - 138s 67ms/step - loss: 1.2176 - accuracy: 0.7244\n",
      "Epoch 21/150\n",
      "2060/2060 [==============================] - 135s 65ms/step - loss: 1.1547 - accuracy: 0.7392\n",
      "Epoch 22/150\n",
      "2060/2060 [==============================] - 142s 69ms/step - loss: 1.0978 - accuracy: 0.7491\n",
      "Epoch 23/150\n",
      "2060/2060 [==============================] - 137s 66ms/step - loss: 1.0435 - accuracy: 0.7611\n",
      "Epoch 24/150\n",
      "2060/2060 [==============================] - 140s 68ms/step - loss: 0.9946 - accuracy: 0.7719\n",
      "Epoch 25/150\n",
      "2060/2060 [==============================] - 136s 66ms/step - loss: 0.9494 - accuracy: 0.7811\n",
      "Epoch 26/150\n",
      "2060/2060 [==============================] - 138s 67ms/step - loss: 0.9108 - accuracy: 0.7912\n",
      "Epoch 27/150\n",
      "2060/2060 [==============================] - 136s 66ms/step - loss: 0.8736 - accuracy: 0.7987\n",
      "Epoch 28/150\n",
      "2060/2060 [==============================] - 135s 65ms/step - loss: 0.8415 - accuracy: 0.8038\n",
      "Epoch 29/150\n",
      "2060/2060 [==============================] - 137s 67ms/step - loss: 0.8090 - accuracy: 0.8110\n",
      "Epoch 30/150\n",
      "2060/2060 [==============================] - 136s 66ms/step - loss: 0.7755 - accuracy: 0.8200\n",
      "Epoch 31/150\n",
      "2060/2060 [==============================] - 135s 66ms/step - loss: 0.7540 - accuracy: 0.8225\n",
      "Epoch 32/150\n",
      "2060/2060 [==============================] - 136s 66ms/step - loss: 0.7279 - accuracy: 0.8307\n",
      "Epoch 33/150\n",
      "2060/2060 [==============================] - 136s 66ms/step - loss: 0.7033 - accuracy: 0.8366\n",
      "Epoch 34/150\n",
      "2060/2060 [==============================] - 138s 67ms/step - loss: 0.6823 - accuracy: 0.8402\n",
      "Epoch 35/150\n",
      "2060/2060 [==============================] - 138s 67ms/step - loss: 0.6683 - accuracy: 0.8430\n",
      "Epoch 36/150\n",
      "2060/2060 [==============================] - 135s 65ms/step - loss: 0.6466 - accuracy: 0.8477\n",
      "Epoch 37/150\n",
      "2060/2060 [==============================] - 137s 67ms/step - loss: 0.6317 - accuracy: 0.8508\n",
      "Epoch 38/150\n",
      "2060/2060 [==============================] - 137s 67ms/step - loss: 0.6133 - accuracy: 0.8549\n",
      "Epoch 39/150\n",
      "2060/2060 [==============================] - 141s 68ms/step - loss: 0.5977 - accuracy: 0.8581\n",
      "Epoch 40/150\n",
      "2060/2060 [==============================] - 136s 66ms/step - loss: 0.5804 - accuracy: 0.8619\n",
      "Epoch 41/150\n",
      "2060/2060 [==============================] - 140s 68ms/step - loss: 0.5742 - accuracy: 0.8631\n",
      "Epoch 42/150\n",
      "2060/2060 [==============================] - 140s 68ms/step - loss: 0.5594 - accuracy: 0.8655\n",
      "Epoch 43/150\n",
      "2060/2060 [==============================] - 136s 66ms/step - loss: 0.5503 - accuracy: 0.8676\n",
      "Epoch 44/150\n",
      "2060/2060 [==============================] - 139s 68ms/step - loss: 0.5359 - accuracy: 0.8725\n",
      "Epoch 45/150\n",
      "2060/2060 [==============================] - 137s 67ms/step - loss: 0.5298 - accuracy: 0.8737\n",
      "Epoch 46/150\n",
      "2060/2060 [==============================] - 134s 65ms/step - loss: 0.5218 - accuracy: 0.8744\n",
      "Epoch 47/150\n",
      "2060/2060 [==============================] - 137s 66ms/step - loss: 0.5065 - accuracy: 0.8777\n",
      "Epoch 48/150\n",
      "2060/2060 [==============================] - 138s 67ms/step - loss: 0.5042 - accuracy: 0.8791\n",
      "Epoch 49/150\n",
      "2060/2060 [==============================] - 144s 70ms/step - loss: 0.4973 - accuracy: 0.8797\n",
      "Epoch 50/150\n",
      "2060/2060 [==============================] - 143s 70ms/step - loss: 0.4867 - accuracy: 0.8815\n",
      "Epoch 51/150\n",
      "2060/2060 [==============================] - 134s 65ms/step - loss: 0.4824 - accuracy: 0.8837\n",
      "Epoch 52/150\n",
      "2060/2060 [==============================] - 134s 65ms/step - loss: 0.4731 - accuracy: 0.8845\n",
      "Epoch 53/150\n",
      "2060/2060 [==============================] - 138s 67ms/step - loss: 0.4691 - accuracy: 0.8860\n",
      "Epoch 54/150\n",
      "2060/2060 [==============================] - 134s 65ms/step - loss: 0.4661 - accuracy: 0.8863\n",
      "Epoch 55/150\n",
      "2060/2060 [==============================] - 132s 64ms/step - loss: 0.4581 - accuracy: 0.8879\n",
      "Epoch 56/150\n",
      "2060/2060 [==============================] - 130s 63ms/step - loss: 0.4497 - accuracy: 0.8904\n",
      "Epoch 57/150\n",
      "2060/2060 [==============================] - 130s 63ms/step - loss: 0.4463 - accuracy: 0.8900\n",
      "Epoch 58/150\n",
      "2060/2060 [==============================] - 132s 64ms/step - loss: 0.4347 - accuracy: 0.8935\n",
      "Epoch 59/150\n",
      "2060/2060 [==============================] - 130s 63ms/step - loss: 0.4383 - accuracy: 0.8922\n",
      "Epoch 60/150\n",
      "2060/2060 [==============================] - 130s 63ms/step - loss: 0.4440 - accuracy: 0.8902\n",
      "Epoch 61/150\n",
      "2060/2060 [==============================] - 130s 63ms/step - loss: 0.4283 - accuracy: 0.8939\n",
      "Epoch 62/150\n",
      "2060/2060 [==============================] - 131s 63ms/step - loss: 0.4294 - accuracy: 0.8948\n",
      "Epoch 63/150\n",
      "2060/2060 [==============================] - 142s 69ms/step - loss: 0.4262 - accuracy: 0.8936\n",
      "Epoch 64/150\n",
      "2060/2060 [==============================] - 134s 65ms/step - loss: 0.4234 - accuracy: 0.8945\n",
      "Epoch 65/150\n",
      "2060/2060 [==============================] - 134s 65ms/step - loss: 0.4142 - accuracy: 0.8963\n",
      "Epoch 66/150\n",
      "2060/2060 [==============================] - 133s 64ms/step - loss: 0.4097 - accuracy: 0.8976\n",
      "Epoch 67/150\n",
      "2060/2060 [==============================] - 136s 66ms/step - loss: 0.4128 - accuracy: 0.8961\n",
      "Epoch 68/150\n",
      "2060/2060 [==============================] - 139s 68ms/step - loss: 0.4194 - accuracy: 0.8940\n",
      "Epoch 69/150\n",
      "2060/2060 [==============================] - 141s 68ms/step - loss: 0.4049 - accuracy: 0.8981\n",
      "Epoch 70/150\n",
      "2060/2060 [==============================] - 142s 69ms/step - loss: 0.4009 - accuracy: 0.8992\n",
      "Epoch 71/150\n",
      "2060/2060 [==============================] - 136s 66ms/step - loss: 0.4091 - accuracy: 0.8968\n",
      "Epoch 72/150\n",
      "2060/2060 [==============================] - 134s 65ms/step - loss: 0.3984 - accuracy: 0.8988\n",
      "Epoch 73/150\n",
      "2060/2060 [==============================] - 137s 66ms/step - loss: 0.3942 - accuracy: 0.9008\n",
      "Epoch 74/150\n",
      "2060/2060 [==============================] - 141s 68ms/step - loss: 0.4023 - accuracy: 0.8981\n",
      "Epoch 75/150\n",
      "2060/2060 [==============================] - 143s 69ms/step - loss: 0.4020 - accuracy: 0.8974\n",
      "Epoch 76/150\n",
      "2060/2060 [==============================] - 143s 69ms/step - loss: 0.3874 - accuracy: 0.9023\n",
      "Epoch 77/150\n",
      "2060/2060 [==============================] - 144s 70ms/step - loss: 0.3879 - accuracy: 0.9009\n",
      "Epoch 78/150\n",
      "2060/2060 [==============================] - 146s 71ms/step - loss: 0.3955 - accuracy: 0.8985\n",
      "Epoch 79/150\n",
      "2060/2060 [==============================] - 147s 71ms/step - loss: 0.3956 - accuracy: 0.8981\n"
     ]
    }
   ],
   "source": [
    "with tf.device('cpu:0'):\n",
    "    history = GRU.fit(train, label, epochs=150, callbacks=[early_stop])"
   ]
  },
  {
   "cell_type": "code",
   "execution_count": 22,
   "metadata": {},
   "outputs": [],
   "source": [
    "accuracy = history.history['accuracy']\n",
    "loss = history.history['loss']  "
   ]
  },
  {
   "cell_type": "code",
   "execution_count": 23,
   "metadata": {},
   "outputs": [
    {
     "data": {
      "image/png": "[encoded data removed]",
      "text/plain": [
       "<Figure size 640x480 with 1 Axes>"
      ]
     },
     "metadata": {},
     "output_type": "display_data"
    }
   ],
   "source": [
    "plt.plot(accuracy, label='Accuracy')\n",
    "plt.plot(loss, label='Loss')\n",
    "plt.legend()\n",
    "plt.show()"
   ]
  },
  {
   "cell_type": "markdown",
   "metadata": {},
   "source": [
    "# Generating Text"
   ]
  },
  {
   "cell_type": "markdown",
   "metadata": {},
   "source": [
    "**1-LSTM**"
   ]
  },
  {
   "cell_type": "code",
   "execution_count": 24,
   "metadata": {},
   "outputs": [
    {
     "name": "stdout",
     "output_type": "stream",
     "text": [
      " are\n",
      " are not\n",
      " are not in\n",
      " are not in my\n",
      " are not in my future\n",
      " are not in my future but\n",
      " are not in my future but i\n",
      " are not in my future but i must\n",
      " are not in my future but i must have\n",
      " are not in my future but i must have courage\n",
      " are not in my future but i must have courage for\n",
      " are not in my future but i must have courage for healthy\n",
      " \n",
      "Full Generated Text:  are not in my future but i must have courage for healthy\n"
     ]
    }
   ],
   "source": [
    "text = \"\"\n",
    "number_of_words = 12\n",
    "  \n",
    "for _ in range(number_of_words): \n",
    "    token_list = tokenizer.texts_to_sequences([text])[0] \n",
    "    token_list = tf.keras.utils.pad_sequences([token_list], maxlen=max_length-1, padding='pre') \n",
    "    predicted_probs = LSTM.predict(token_list, verbose=0) \n",
    "    word = tokenizer.index_word[np.argmax(predicted_probs)] \n",
    "    text += \" \" + word \n",
    "    print(text)\n",
    "print(\" \")\n",
    "print(\"Full Generated Text:\", text) "
   ]
  },
  {
   "cell_type": "markdown",
   "metadata": {},
   "source": [
    "**2-Bidirectional LSTM**"
   ]
  },
  {
   "cell_type": "code",
   "execution_count": 25,
   "metadata": {},
   "outputs": [
    {
     "name": "stdout",
     "output_type": "stream",
     "text": [
      " i\n",
      " i do\n",
      " i do not\n",
      " i do not know\n",
      " i do not know what\n",
      " i do not know what i\n",
      " i do not know what i m\n",
      " i do not know what i m going\n",
      " i do not know what i m going to\n",
      " i do not know what i m going to wear\n",
      " i do not know what i m going to wear it\n",
      " i do not know what i m going to wear it helps\n",
      " \n",
      "Full Generated Text:  i do not know what i m going to wear it helps\n"
     ]
    }
   ],
   "source": [
    "text = \"\"\n",
    "number_of_words = 12\n",
    "  \n",
    "for _ in range(number_of_words): \n",
    "    token_list = tokenizer.texts_to_sequences([text])[0] \n",
    "    token_list = tf.keras.utils.pad_sequences([token_list], maxlen=max_length-1, padding='pre') \n",
    "    predicted_probs = Bidirectional_LSTM.predict(token_list, verbose=0) \n",
    "    word = tokenizer.index_word[np.argmax(predicted_probs)] \n",
    "    text += \" \" + word\n",
    "    print(text)\n",
    "print(\" \")\n",
    "print(\"Full Generated Text:\", text) "
   ]
  },
  {
   "cell_type": "markdown",
   "metadata": {},
   "source": [
    "**3-GRU**"
   ]
  },
  {
   "cell_type": "code",
   "execution_count": 26,
   "metadata": {},
   "outputs": [
    {
     "name": "stdout",
     "output_type": "stream",
     "text": [
      " the\n",
      " the most\n",
      " the most basic\n",
      " the most basic task\n",
      " the most basic task of\n",
      " the most basic task of our\n",
      " the most basic task of our intelligence\n",
      " the most basic task of our intelligence by\n",
      " the most basic task of our intelligence by the\n",
      " the most basic task of our intelligence by the critic\n",
      " \n",
      "Full Generated Text:  the most basic task of our intelligence by the critic\n"
     ]
    }
   ],
   "source": [
    "text = \"\"\n",
    "number_of_words = 10\n",
    "for _ in range(number_of_words): \n",
    "    token_list = tokenizer.texts_to_sequences([text])[0] \n",
    "    token_list = tf.keras.utils.pad_sequences([token_list], maxlen=max_length-1, padding='pre') \n",
    "    predicted_probs = GRU.predict(token_list, verbose=0) \n",
    "    word = tokenizer.index_word[np.argmax(predicted_probs)] \n",
    "    text += \" \" + word \n",
    "    print(text)\n",
    "print(\" \")\n",
    "print(\"Full Generated Text:\", text) "
   ]
  },
  {
   "cell_type": "markdown",
   "metadata": {},
   "source": [
    "# Save The Models"
   ]
  },
  {
   "cell_type": "code",
   "execution_count": 27,
   "metadata": {},
   "outputs": [],
   "source": [
    "LSTM.save('English_LSTM.h5')"
   ]
  },
  {
   "cell_type": "code",
   "execution_count": 28,
   "metadata": {},
   "outputs": [],
   "source": [
    "Bidirectional_LSTM.save('English_Bidirectional_LSTM.h5')"
   ]
  },
  {
   "cell_type": "code",
   "execution_count": 29,
   "metadata": {},
   "outputs": [],
   "source": [
    "GRU.save('English_GRU.h5')"
   ]
  },
  {
   "cell_type": "code",
   "execution_count": 30,
   "metadata": {},
   "outputs": [
    {
     "name": "stdout",
     "output_type": "stream",
     "text": [
      "courage is\n",
      "courage is a\n",
      "courage is a peculiar\n",
      "courage is a peculiar kind\n",
      "courage is a peculiar kind of\n",
      "courage is a peculiar kind of fear\n",
      "courage is a peculiar kind of fear not\n",
      "courage is a peculiar kind of fear not more\n",
      "courage is a peculiar kind of fear not more than\n",
      "courage is a peculiar kind of fear not more than that\n",
      "courage is a peculiar kind of fear not more than that truth\n",
      "courage is a peculiar kind of fear not more than that truth other\n",
      " \n",
      "Full Generated Text: courage is a peculiar kind of fear not more than that truth other\n"
     ]
    }
   ],
   "source": [
    "text = \"courage\"\n",
    "number_of_words = 12\n",
    "  \n",
    "for _ in range(number_of_words): \n",
    "    token_list = tokenizer.texts_to_sequences([text])[0] \n",
    "    token_list = tf.keras.utils.pad_sequences([token_list], maxlen=max_length-1, padding='pre') \n",
    "    predicted_probs = LSTM.predict(token_list, verbose=0) \n",
    "    word = tokenizer.index_word[np.argmax(predicted_probs)] \n",
    "    text += \" \" + word \n",
    "    print(text)\n",
    "print(\" \")\n",
    "print(\"Full Generated Text:\", text) "
   ]
  },
  {
   "cell_type": "code",
   "execution_count": null,
   "metadata": {},
   "outputs": [],
   "source": []
  }
 ],
 "metadata": {
  "kernelspec": {
   "display_name": "Python 3",
   "language": "python",
   "name": "python3"
  },
  "language_info": {
   "codemirror_mode": {
    "name": "ipython",
    "version": 3
   },
   "file_extension": ".py",
   "mimetype": "text/x-python",
   "name": "python",
   "nbconvert_exporter": "python",
   "pygments_lexer": "ipython3",
   "version": "3.11.9"
  }
 },
 "nbformat": 4,
 "nbformat_minor": 2
}
