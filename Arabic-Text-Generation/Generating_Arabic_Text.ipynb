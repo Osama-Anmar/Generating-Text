{
  "cells": [
    {
      "cell_type": "markdown",
      "metadata": {
        "id": "pyX82hP4f4-g"
      },
      "source": [
        "**Import Libraries**"
      ]
    },
    {
      "cell_type": "code",
      "execution_count": 1,
      "metadata": {
        "id": "GyCxCyCPf4-h"
      },
      "outputs": [],
      "source": [
        "import tensorflow as tf\n",
        "import numpy as np\n",
        "import warnings\n",
        "import os\n",
        "import random\n",
        "random.seed(42)\n",
        "np.random.seed(42)\n",
        "os.environ['PYTHONHASHSEED'] = str(42)\n",
        "tf.random.set_seed(42)\n",
        "from nlp_model_text_preprocessing import index_the_words, text_to_sequence, pad_sequences, one_hot_encoding, index_the_char, text_to_sequence_char, char_sequence_to_text, word_sequence_to_text\n",
        "from arabic_text_normalization import text_normalization\n",
        "from deep_learning import nlp_model_word, nlp_model_char, model_compile_word, model_compile_char, model_fit, plot_word_model_change, plot_char_model_change\n",
        "from model_testing import model_testing_char, model_testing_word\n",
        "from transformers_models import load_dataset, data_collator, train_arguments, training_, save_model_tokenizer, transformer_testing,transformes_model\n",
        "from read_data import read_file\n",
        "from generate_train_label import generate_train_label_word, generate_train_label_char\n",
        "from model_check_point import check_point\n",
        "tf.keras.utils.set_random_seed(42)\n",
        "tf.config.experimental.enable_op_determinism()"
      ]
    },
    {
      "cell_type": "markdown",
      "metadata": {
        "id": "DcxZRP4Sf4-h"
      },
      "source": [
        "**Ignore Warnings**"
      ]
    },
    {
      "cell_type": "code",
      "execution_count": 2,
      "metadata": {
        "id": "ZHgUaAkjf4-h"
      },
      "outputs": [],
      "source": [
        "os.environ['TF_CPP_MIN_LOG_LEVEL'] = '3'\n",
        "warnings.filterwarnings(action='ignore')"
      ]
    },
    {
      "cell_type": "markdown",
      "metadata": {
        "id": "PqszdyYzf4-h"
      },
      "source": [
        "**Read Data**"
      ]
    },
    {
      "cell_type": "code",
      "execution_count": null,
      "metadata": {
        "id": "A96V-VLaf4-h",
        "outputId": "ac102093-4b04-4bc6-87d5-d915240a5e18"
      },
      "outputs": [
        {
          "data": {
            "text/plain": [
              "1242"
            ]
          },
          "execution_count": 3,
          "metadata": {},
          "output_type": "execute_result"
        }
      ],
      "source": [
        "Corpus = read_file(file_path='الخيميائي.txt', text_normalization=text_normalization)\n",
        "len(Corpus)"
      ]
    },
    {
      "cell_type": "code",
      "execution_count": null,
      "metadata": {
        "id": "YZpBnDw8f4-i"
      },
      "outputs": [],
      "source": [
        "with open('Cleaned_Corpus.txt', 'w') as f:\n",
        "    for line in Corpus:\n",
        "        f.write(line + '\\n')"
      ]
    },
    {
      "cell_type": "markdown",
      "metadata": {
        "id": "JT-yu1iHf4-i"
      },
      "source": [
        "**Generate Early Stop Depending On Value Of Loss**"
      ]
    },
    {
      "cell_type": "code",
      "execution_count": null,
      "metadata": {
        "id": "-kAAcJAJf4-i"
      },
      "outputs": [],
      "source": [
        "early_stop_ = tf.keras.callbacks.EarlyStopping(\n",
        "    monitor='loss',\n",
        "    patience=5,\n",
        "    mode = 'min',\n",
        "    restore_best_weights=True,\n",
        ")"
      ]
    },
    {
      "cell_type": "markdown",
      "metadata": {
        "id": "ndH-16lPf4-i"
      },
      "source": [
        "**1-Tokens Based On Word**"
      ]
    },
    {
      "cell_type": "code",
      "execution_count": null,
      "metadata": {
        "id": "G2VtBecZf4-i",
        "outputId": "ddafbbc3-5d69-4387-ec75-54526fc7830a"
      },
      "outputs": [
        {
          "data": {
            "text/plain": [
              "8911"
            ]
          },
          "execution_count": 6,
          "metadata": {},
          "output_type": "execute_result"
        }
      ],
      "source": [
        "# Generate Word To Index, Index To Word, And Find Count Of All Words\n",
        "all_words, words_index, index_to_words = index_the_words(Corpus)\n",
        "all_words"
      ]
    },
    {
      "cell_type": "code",
      "execution_count": null,
      "metadata": {
        "id": "dnjIfj6-f4-i",
        "outputId": "94149051-ee1b-482d-835a-fac3dd73044e"
      },
      "outputs": [
        {
          "data": {
            "text/plain": [
              "163"
            ]
          },
          "execution_count": 7,
          "metadata": {},
          "output_type": "execute_result"
        }
      ],
      "source": [
        "max_length_word, train, labels = generate_train_label_word(Corpus, text_to_sequence, words_index, pad_sequences)\n",
        "max_length_word"
      ]
    },
    {
      "cell_type": "code",
      "execution_count": null,
      "metadata": {
        "id": "ww9-Ih9Xf4-i",
        "outputId": "25546496-d287-4c3e-8e07-c1ea668f9455"
      },
      "outputs": [
        {
          "data": {
            "text/plain": [
              "array([[0., 0., 0., ..., 0., 0., 0.],\n",
              "       [0., 0., 0., ..., 0., 0., 0.],\n",
              "       [0., 0., 0., ..., 0., 0., 0.],\n",
              "       ...,\n",
              "       [0., 0., 0., ..., 0., 0., 0.],\n",
              "       [0., 0., 0., ..., 0., 0., 0.],\n",
              "       [0., 0., 0., ..., 0., 0., 0.]])"
            ]
          },
          "execution_count": 8,
          "metadata": {},
          "output_type": "execute_result"
        }
      ],
      "source": [
        "# Convert Label Data\n",
        "label = one_hot_encoding(labels, all_words)\n",
        "label"
      ]
    },
    {
      "cell_type": "markdown",
      "metadata": {
        "id": "Kl1jrgfTf4-i"
      },
      "source": [
        "*Deep Learning Models*"
      ]
    },
    {
      "cell_type": "code",
      "execution_count": null,
      "metadata": {
        "id": "Pw5JbMfjf4-i",
        "outputId": "cd2f3394-032c-45fe-be28-ef8897e98df1"
      },
      "outputs": [
        {
          "name": "stdout",
          "output_type": "stream",
          "text": [
            "Epoch 1/150\n",
            "872/872 [==============================] - 38s 42ms/step - loss: 8.2396 - accuracy: 0.0246\n",
            "Epoch 2/150\n",
            "872/872 [==============================] - 33s 37ms/step - loss: 7.6907 - accuracy: 0.0291\n",
            "Epoch 3/150\n",
            "872/872 [==============================] - 33s 38ms/step - loss: 7.3804 - accuracy: 0.0352\n",
            "Epoch 4/150\n",
            "872/872 [==============================] - 34s 39ms/step - loss: 6.9909 - accuracy: 0.0457\n",
            "Epoch 5/150\n",
            "872/872 [==============================] - 34s 39ms/step - loss: 6.4952 - accuracy: 0.0592\n",
            "Epoch 6/150\n",
            "872/872 [==============================] - 34s 39ms/step - loss: 5.9435 - accuracy: 0.0804\n",
            "Epoch 7/150\n",
            "872/872 [==============================] - 34s 39ms/step - loss: 5.3803 - accuracy: 0.1145\n",
            "Epoch 8/150\n",
            "872/872 [==============================] - 34s 39ms/step - loss: 4.8346 - accuracy: 0.1759\n",
            "Epoch 9/150\n",
            "872/872 [==============================] - 34s 39ms/step - loss: 4.3009 - accuracy: 0.2557\n",
            "Epoch 10/150\n",
            "872/872 [==============================] - 34s 39ms/step - loss: 3.7921 - accuracy: 0.3450\n",
            "Epoch 11/150\n",
            "872/872 [==============================] - 34s 39ms/step - loss: 3.3107 - accuracy: 0.4313\n",
            "Epoch 12/150\n",
            "872/872 [==============================] - 34s 39ms/step - loss: 2.8715 - accuracy: 0.4991\n",
            "Epoch 13/150\n",
            "872/872 [==============================] - 34s 39ms/step - loss: 2.4845 - accuracy: 0.5639\n",
            "Epoch 14/150\n",
            "872/872 [==============================] - 34s 39ms/step - loss: 2.1493 - accuracy: 0.6212\n",
            "Epoch 15/150\n",
            "872/872 [==============================] - 34s 39ms/step - loss: 1.8577 - accuracy: 0.6720\n",
            "Epoch 16/150\n",
            "872/872 [==============================] - 34s 39ms/step - loss: 1.6000 - accuracy: 0.7216\n",
            "Epoch 17/150\n",
            "872/872 [==============================] - 34s 39ms/step - loss: 1.3750 - accuracy: 0.7639\n",
            "Epoch 18/150\n",
            "872/872 [==============================] - 34s 39ms/step - loss: 1.1778 - accuracy: 0.8009\n",
            "Epoch 19/150\n",
            "872/872 [==============================] - 34s 40ms/step - loss: 1.0074 - accuracy: 0.8317\n",
            "Epoch 20/150\n",
            "872/872 [==============================] - 34s 39ms/step - loss: 0.8530 - accuracy: 0.8600\n",
            "Epoch 21/150\n",
            "872/872 [==============================] - 34s 39ms/step - loss: 0.7253 - accuracy: 0.8848\n",
            "Epoch 22/150\n",
            "872/872 [==============================] - 34s 39ms/step - loss: 0.6131 - accuracy: 0.9041\n",
            "Epoch 23/150\n",
            "872/872 [==============================] - 34s 39ms/step - loss: 0.5198 - accuracy: 0.9214\n",
            "Epoch 24/150\n",
            "872/872 [==============================] - 34s 39ms/step - loss: 0.4372 - accuracy: 0.9352\n",
            "Epoch 25/150\n",
            "872/872 [==============================] - 34s 39ms/step - loss: 0.3712 - accuracy: 0.9439\n",
            "Epoch 26/150\n",
            "872/872 [==============================] - 34s 39ms/step - loss: 0.3192 - accuracy: 0.9532\n",
            "Epoch 27/150\n",
            "872/872 [==============================] - 34s 39ms/step - loss: 0.2720 - accuracy: 0.9580\n",
            "Epoch 28/150\n",
            "872/872 [==============================] - 34s 39ms/step - loss: 0.2366 - accuracy: 0.9612\n",
            "Epoch 29/150\n",
            "872/872 [==============================] - 34s 39ms/step - loss: 0.2089 - accuracy: 0.9630\n",
            "Epoch 30/150\n",
            "872/872 [==============================] - 34s 39ms/step - loss: 0.1887 - accuracy: 0.9646\n",
            "Epoch 31/150\n",
            "872/872 [==============================] - 34s 39ms/step - loss: 0.1700 - accuracy: 0.9658\n",
            "Epoch 32/150\n",
            "872/872 [==============================] - 34s 39ms/step - loss: 0.1578 - accuracy: 0.9666\n",
            "Epoch 33/150\n",
            "872/872 [==============================] - 34s 39ms/step - loss: 0.1463 - accuracy: 0.9671\n",
            "Epoch 34/150\n",
            "872/872 [==============================] - 34s 39ms/step - loss: 0.1402 - accuracy: 0.9673\n",
            "Epoch 35/150\n",
            "872/872 [==============================] - 37s 42ms/step - loss: 0.1324 - accuracy: 0.9678\n",
            "Epoch 36/150\n",
            "872/872 [==============================] - 35s 40ms/step - loss: 0.1268 - accuracy: 0.9676\n",
            "Epoch 37/150\n",
            "872/872 [==============================] - 37s 43ms/step - loss: 0.1230 - accuracy: 0.9675\n",
            "Epoch 38/150\n",
            "872/872 [==============================] - 37s 42ms/step - loss: 0.1182 - accuracy: 0.9679\n",
            "Epoch 39/150\n",
            "872/872 [==============================] - 36s 41ms/step - loss: 0.1150 - accuracy: 0.9668\n",
            "Epoch 40/150\n",
            "872/872 [==============================] - 35s 40ms/step - loss: 0.1129 - accuracy: 0.9671\n",
            "Epoch 41/150\n",
            "872/872 [==============================] - 35s 40ms/step - loss: 0.1352 - accuracy: 0.9634\n",
            "Epoch 42/150\n",
            "872/872 [==============================] - 35s 40ms/step - loss: 0.1257 - accuracy: 0.9659\n",
            "Epoch 43/150\n",
            "872/872 [==============================] - 35s 40ms/step - loss: 0.1069 - accuracy: 0.9677\n",
            "Epoch 44/150\n",
            "872/872 [==============================] - 35s 40ms/step - loss: 0.1029 - accuracy: 0.9679\n",
            "Epoch 45/150\n",
            "872/872 [==============================] - 35s 40ms/step - loss: 0.1017 - accuracy: 0.9681\n",
            "Epoch 46/150\n",
            "872/872 [==============================] - 35s 40ms/step - loss: 0.1020 - accuracy: 0.9677\n",
            "Epoch 47/150\n",
            "872/872 [==============================] - 35s 40ms/step - loss: 0.1022 - accuracy: 0.9672\n",
            "Epoch 48/150\n",
            "872/872 [==============================] - 35s 40ms/step - loss: 0.1029 - accuracy: 0.9675\n",
            "Epoch 49/150\n",
            "872/872 [==============================] - 35s 40ms/step - loss: 0.1346 - accuracy: 0.9618\n",
            "Epoch 50/150\n",
            "872/872 [==============================] - 35s 40ms/step - loss: 0.1092 - accuracy: 0.9662\n"
          ]
        },
        {
          "data": {
            "image/png": "[encoded data removed]",
            "text/plain": [
              "<Figure size 640x480 with 1 Axes>"
            ]
          },
          "metadata": {},
          "output_type": "display_data"
        }
      ],
      "source": [
        "# 1-LSTM\n",
        "arabic_lstm_check_point_1 = check_point('Arabic_Lstm_1')\n",
        "lstm_model = tf.keras.layers.LSTM(units=128, return_sequences=False)\n",
        "LSTM_1 = nlp_model_word(input_dim = all_words, output_dim = 100, input_length = max_length_word, unit = all_words, model = lstm_model)\n",
        "model_compile_word(model =LSTM_1, optimizer=tf.keras.optimizers.legacy.Adam(), loss=tf.keras.losses.CategoricalCrossentropy(), metrics=['accuracy'])\n",
        "history = model_fit(model=LSTM_1, Data=train, Label=label, epochs=150, early_stop=early_stop_, checkpoint=arabic_lstm_check_point_1 ,batch_size=32)\n",
        "plot_word_model_change(history=history)"
      ]
    },
    {
      "cell_type": "code",
      "execution_count": null,
      "metadata": {
        "id": "FOv9XkV1f4-i",
        "outputId": "432d9d03-1c30-42c8-bee4-5c541ee26d7b"
      },
      "outputs": [
        {
          "name": "stdout",
          "output_type": "stream",
          "text": [
            "Epoch 1/150\n",
            "436/436 [==============================] - 50s 107ms/step - loss: 8.2286 - accuracy: 0.0249\n",
            "Epoch 2/150\n",
            "436/436 [==============================] - 44s 102ms/step - loss: 7.6660 - accuracy: 0.0294\n",
            "Epoch 3/150\n",
            "436/436 [==============================] - 44s 101ms/step - loss: 7.3371 - accuracy: 0.0368\n",
            "Epoch 4/150\n",
            "436/436 [==============================] - 44s 100ms/step - loss: 6.9100 - accuracy: 0.0446\n",
            "Epoch 5/150\n",
            "436/436 [==============================] - 44s 100ms/step - loss: 6.4213 - accuracy: 0.0573\n",
            "Epoch 6/150\n",
            "436/436 [==============================] - 43s 100ms/step - loss: 5.9302 - accuracy: 0.0722\n",
            "Epoch 7/150\n",
            "436/436 [==============================] - 44s 101ms/step - loss: 5.4553 - accuracy: 0.0969\n",
            "Epoch 8/150\n",
            "436/436 [==============================] - 45s 102ms/step - loss: 5.0086 - accuracy: 0.1357\n",
            "Epoch 9/150\n",
            "436/436 [==============================] - 44s 101ms/step - loss: 4.5785 - accuracy: 0.1968\n",
            "Epoch 10/150\n",
            "436/436 [==============================] - 44s 100ms/step - loss: 4.1711 - accuracy: 0.2677\n",
            "Epoch 11/150\n",
            "436/436 [==============================] - 50s 115ms/step - loss: 3.7804 - accuracy: 0.3387\n",
            "Epoch 12/150\n",
            "436/436 [==============================] - 46s 104ms/step - loss: 3.4092 - accuracy: 0.4032\n",
            "Epoch 13/150\n",
            "436/436 [==============================] - 44s 100ms/step - loss: 3.0680 - accuracy: 0.4627\n",
            "Epoch 14/150\n",
            "436/436 [==============================] - 44s 101ms/step - loss: 2.7547 - accuracy: 0.5170\n",
            "Epoch 15/150\n",
            "436/436 [==============================] - 45s 103ms/step - loss: 2.4670 - accuracy: 0.5684\n",
            "Epoch 16/150\n",
            "436/436 [==============================] - 43s 100ms/step - loss: 2.2053 - accuracy: 0.6154\n",
            "Epoch 17/150\n",
            "436/436 [==============================] - 44s 102ms/step - loss: 1.9693 - accuracy: 0.6587\n",
            "Epoch 18/150\n",
            "436/436 [==============================] - 44s 101ms/step - loss: 1.7559 - accuracy: 0.7010\n",
            "Epoch 19/150\n",
            "436/436 [==============================] - 43s 99ms/step - loss: 1.5641 - accuracy: 0.7379\n",
            "Epoch 20/150\n",
            "436/436 [==============================] - 44s 102ms/step - loss: 1.3892 - accuracy: 0.7715\n",
            "Epoch 21/150\n",
            "436/436 [==============================] - 43s 100ms/step - loss: 1.2307 - accuracy: 0.8016\n",
            "Epoch 22/150\n",
            "436/436 [==============================] - 43s 100ms/step - loss: 1.0898 - accuracy: 0.8272\n",
            "Epoch 23/150\n",
            "436/436 [==============================] - 43s 99ms/step - loss: 0.9592 - accuracy: 0.8525\n",
            "Epoch 24/150\n",
            "436/436 [==============================] - 43s 98ms/step - loss: 0.8450 - accuracy: 0.8729\n",
            "Epoch 25/150\n",
            "436/436 [==============================] - 43s 99ms/step - loss: 0.7443 - accuracy: 0.8922\n",
            "Epoch 26/150\n",
            "436/436 [==============================] - 43s 98ms/step - loss: 0.6543 - accuracy: 0.9056\n",
            "Epoch 27/150\n",
            "436/436 [==============================] - 43s 98ms/step - loss: 0.5739 - accuracy: 0.9182\n",
            "Epoch 28/150\n",
            "436/436 [==============================] - 44s 101ms/step - loss: 0.5042 - accuracy: 0.9306\n",
            "Epoch 29/150\n",
            "436/436 [==============================] - 44s 101ms/step - loss: 0.4447 - accuracy: 0.9383\n",
            "Epoch 30/150\n",
            "436/436 [==============================] - 46s 105ms/step - loss: 0.3919 - accuracy: 0.9461\n",
            "Epoch 31/150\n",
            "436/436 [==============================] - 44s 101ms/step - loss: 0.3457 - accuracy: 0.9522\n",
            "Epoch 32/150\n",
            "436/436 [==============================] - 44s 101ms/step - loss: 0.3077 - accuracy: 0.9562\n",
            "Epoch 33/150\n",
            "436/436 [==============================] - 44s 101ms/step - loss: 0.2734 - accuracy: 0.9602\n",
            "Epoch 34/150\n",
            "436/436 [==============================] - 46s 106ms/step - loss: 0.2472 - accuracy: 0.9623\n",
            "Epoch 35/150\n",
            "436/436 [==============================] - 46s 105ms/step - loss: 0.2232 - accuracy: 0.9639\n",
            "Epoch 36/150\n",
            "436/436 [==============================] - 45s 104ms/step - loss: 0.2013 - accuracy: 0.9649\n",
            "Epoch 37/150\n",
            "436/436 [==============================] - 46s 105ms/step - loss: 0.1865 - accuracy: 0.9666\n",
            "Epoch 38/150\n",
            "436/436 [==============================] - 46s 104ms/step - loss: 0.1737 - accuracy: 0.9664\n",
            "Epoch 39/150\n",
            "436/436 [==============================] - 46s 105ms/step - loss: 0.1605 - accuracy: 0.9666\n",
            "Epoch 40/150\n",
            "436/436 [==============================] - 46s 105ms/step - loss: 0.1497 - accuracy: 0.9671\n",
            "Epoch 41/150\n",
            "436/436 [==============================] - 45s 104ms/step - loss: 0.1425 - accuracy: 0.9676\n",
            "Epoch 42/150\n",
            "436/436 [==============================] - 46s 104ms/step - loss: 0.1354 - accuracy: 0.9673\n",
            "Epoch 43/150\n",
            "436/436 [==============================] - 45s 104ms/step - loss: 0.1310 - accuracy: 0.9678\n",
            "Epoch 44/150\n",
            "436/436 [==============================] - 45s 103ms/step - loss: 0.1287 - accuracy: 0.9675\n",
            "Epoch 45/150\n",
            "436/436 [==============================] - 46s 105ms/step - loss: 0.1644 - accuracy: 0.9632\n",
            "Epoch 46/150\n",
            "436/436 [==============================] - 46s 104ms/step - loss: 0.1368 - accuracy: 0.9665\n",
            "Epoch 47/150\n",
            "436/436 [==============================] - 46s 105ms/step - loss: 0.1149 - accuracy: 0.9676\n",
            "Epoch 48/150\n",
            "436/436 [==============================] - 46s 105ms/step - loss: 0.1100 - accuracy: 0.9680\n",
            "Epoch 49/150\n",
            "436/436 [==============================] - 46s 106ms/step - loss: 0.1075 - accuracy: 0.9681\n",
            "Epoch 50/150\n",
            "436/436 [==============================] - 46s 105ms/step - loss: 0.1056 - accuracy: 0.9674\n",
            "Epoch 51/150\n",
            "436/436 [==============================] - 46s 105ms/step - loss: 0.1041 - accuracy: 0.9679\n",
            "Epoch 52/150\n",
            "436/436 [==============================] - 46s 105ms/step - loss: 0.1033 - accuracy: 0.9680\n",
            "Epoch 53/150\n",
            "436/436 [==============================] - 46s 105ms/step - loss: 0.1022 - accuracy: 0.9679\n",
            "Epoch 54/150\n",
            "436/436 [==============================] - 46s 106ms/step - loss: 0.1017 - accuracy: 0.9675\n",
            "Epoch 55/150\n",
            "436/436 [==============================] - 46s 104ms/step - loss: 0.1096 - accuracy: 0.9669\n",
            "Epoch 56/150\n",
            "436/436 [==============================] - 46s 105ms/step - loss: 0.1923 - accuracy: 0.9512\n",
            "Epoch 57/150\n",
            "436/436 [==============================] - 46s 105ms/step - loss: 0.1137 - accuracy: 0.9668\n",
            "Epoch 58/150\n",
            "436/436 [==============================] - 46s 105ms/step - loss: 0.0991 - accuracy: 0.9681\n",
            "Epoch 59/150\n",
            "436/436 [==============================] - 46s 105ms/step - loss: 0.0967 - accuracy: 0.9680\n",
            "Epoch 60/150\n",
            "436/436 [==============================] - 46s 105ms/step - loss: 0.0960 - accuracy: 0.9679\n",
            "Epoch 61/150\n",
            "436/436 [==============================] - 46s 105ms/step - loss: 0.0956 - accuracy: 0.9681\n",
            "Epoch 62/150\n",
            "436/436 [==============================] - 46s 105ms/step - loss: 0.0953 - accuracy: 0.9679\n",
            "Epoch 63/150\n",
            "436/436 [==============================] - 46s 105ms/step - loss: 0.0943 - accuracy: 0.9686\n",
            "Epoch 64/150\n",
            "436/436 [==============================] - 46s 104ms/step - loss: 0.0946 - accuracy: 0.9682\n",
            "Epoch 65/150\n",
            "436/436 [==============================] - 46s 104ms/step - loss: 0.0940 - accuracy: 0.9677\n",
            "Epoch 66/150\n",
            "436/436 [==============================] - 45s 104ms/step - loss: 0.0942 - accuracy: 0.9679\n",
            "Epoch 67/150\n",
            "436/436 [==============================] - 46s 105ms/step - loss: 0.0930 - accuracy: 0.9685\n",
            "Epoch 68/150\n",
            "436/436 [==============================] - 46s 104ms/step - loss: 0.0933 - accuracy: 0.9683\n",
            "Epoch 69/150\n",
            "436/436 [==============================] - 46s 105ms/step - loss: 0.1110 - accuracy: 0.9646\n",
            "Epoch 70/150\n",
            "436/436 [==============================] - 46s 105ms/step - loss: 0.1779 - accuracy: 0.9502\n",
            "Epoch 71/150\n",
            "436/436 [==============================] - 46s 105ms/step - loss: 0.1026 - accuracy: 0.9677\n",
            "Epoch 72/150\n",
            "436/436 [==============================] - 46s 105ms/step - loss: 0.0931 - accuracy: 0.9681\n"
          ]
        },
        {
          "data": {
            "image/png": "[encoded data removed]",
            "text/plain": [
              "<Figure size 640x480 with 1 Axes>"
            ]
          },
          "metadata": {},
          "output_type": "display_data"
        }
      ],
      "source": [
        "# 2-Bidirectional LSTM\n",
        "arabic_bidirectional_lstm_check_point_1 = check_point('Arabic_Bidirectional_1')\n",
        "bidirectional_lstm_model = tf.keras.layers.Bidirectional(tf.keras.layers.LSTM(units= 128, return_sequences=False))\n",
        "Bidirectional_LSTM_1 = nlp_model_word(input_dim = all_words, output_dim = 100, input_length = max_length_word, unit = all_words, model = bidirectional_lstm_model)\n",
        "model_compile_word(model =Bidirectional_LSTM_1, optimizer=tf.keras.optimizers.legacy.Adam(), loss=tf.keras.losses.CategoricalCrossentropy(), metrics=['accuracy'])\n",
        "history = model_fit(model=Bidirectional_LSTM_1, Data=train, Label=label, epochs=150, early_stop=early_stop_, checkpoint=arabic_bidirectional_lstm_check_point_1, batch_size=64)\n",
        "plot_word_model_change(history=history)"
      ]
    },
    {
      "cell_type": "code",
      "execution_count": null,
      "metadata": {
        "id": "c8t7LOU8f4-j",
        "outputId": "dee77b02-23a0-4262-f4ad-c8818e2842d9"
      },
      "outputs": [
        {
          "name": "stdout",
          "output_type": "stream",
          "text": [
            "Epoch 1/150\n",
            "872/872 [==============================] - 55s 59ms/step - loss: 8.2510 - accuracy: 0.0255\n",
            "Epoch 2/150\n",
            "872/872 [==============================] - 41s 47ms/step - loss: 7.5294 - accuracy: 0.0357\n",
            "Epoch 3/150\n",
            "872/872 [==============================] - 41s 48ms/step - loss: 6.9418 - accuracy: 0.0542\n",
            "Epoch 4/150\n",
            "872/872 [==============================] - 41s 47ms/step - loss: 6.2263 - accuracy: 0.0789\n",
            "Epoch 5/150\n",
            "872/872 [==============================] - 40s 46ms/step - loss: 5.4421 - accuracy: 0.1168\n",
            "Epoch 6/150\n",
            "872/872 [==============================] - 40s 46ms/step - loss: 4.6713 - accuracy: 0.1905\n",
            "Epoch 7/150\n",
            "872/872 [==============================] - 40s 46ms/step - loss: 3.9481 - accuracy: 0.3032\n",
            "Epoch 8/150\n",
            "872/872 [==============================] - 40s 45ms/step - loss: 3.2928 - accuracy: 0.4186\n",
            "Epoch 9/150\n",
            "872/872 [==============================] - 40s 45ms/step - loss: 2.7114 - accuracy: 0.5204\n",
            "Epoch 10/150\n",
            "872/872 [==============================] - 40s 45ms/step - loss: 2.2209 - accuracy: 0.6042\n",
            "Epoch 11/150\n",
            "872/872 [==============================] - 39s 44ms/step - loss: 1.8260 - accuracy: 0.6740\n",
            "Epoch 12/150\n",
            "872/872 [==============================] - 39s 45ms/step - loss: 1.5037 - accuracy: 0.7281\n",
            "Epoch 13/150\n",
            "872/872 [==============================] - 39s 44ms/step - loss: 1.2407 - accuracy: 0.7785\n",
            "Epoch 14/150\n",
            "872/872 [==============================] - 39s 44ms/step - loss: 1.0162 - accuracy: 0.8221\n",
            "Epoch 15/150\n",
            "872/872 [==============================] - 39s 44ms/step - loss: 0.8361 - accuracy: 0.8532\n",
            "Epoch 16/150\n",
            "872/872 [==============================] - 39s 45ms/step - loss: 0.6889 - accuracy: 0.8821\n",
            "Epoch 17/150\n",
            "872/872 [==============================] - 39s 45ms/step - loss: 0.5635 - accuracy: 0.9040\n",
            "Epoch 18/150\n",
            "872/872 [==============================] - 39s 44ms/step - loss: 0.4674 - accuracy: 0.9238\n",
            "Epoch 19/150\n",
            "872/872 [==============================] - 39s 44ms/step - loss: 0.3868 - accuracy: 0.9374\n",
            "Epoch 20/150\n",
            "872/872 [==============================] - 38s 44ms/step - loss: 0.3240 - accuracy: 0.9473\n",
            "Epoch 21/150\n",
            "872/872 [==============================] - 39s 45ms/step - loss: 0.2768 - accuracy: 0.9540\n",
            "Epoch 22/150\n",
            "872/872 [==============================] - 38s 44ms/step - loss: 0.2365 - accuracy: 0.9595\n",
            "Epoch 23/150\n",
            "872/872 [==============================] - 39s 45ms/step - loss: 0.2125 - accuracy: 0.9622\n",
            "Epoch 24/150\n",
            "872/872 [==============================] - 39s 44ms/step - loss: 0.1899 - accuracy: 0.9641\n",
            "Epoch 25/150\n",
            "872/872 [==============================] - 38s 44ms/step - loss: 0.1727 - accuracy: 0.9658\n",
            "Epoch 26/150\n",
            "872/872 [==============================] - 38s 44ms/step - loss: 0.1644 - accuracy: 0.9656\n",
            "Epoch 27/150\n",
            "872/872 [==============================] - 38s 44ms/step - loss: 0.1533 - accuracy: 0.9662\n",
            "Epoch 28/150\n",
            "872/872 [==============================] - 38s 44ms/step - loss: 0.1452 - accuracy: 0.9671\n",
            "Epoch 29/150\n",
            "872/872 [==============================] - 38s 43ms/step - loss: 0.1427 - accuracy: 0.9663\n",
            "Epoch 30/150\n",
            "872/872 [==============================] - 38s 44ms/step - loss: 0.1368 - accuracy: 0.9664\n",
            "Epoch 31/150\n",
            "872/872 [==============================] - 38s 43ms/step - loss: 0.1333 - accuracy: 0.9671\n",
            "Epoch 32/150\n",
            "872/872 [==============================] - 38s 43ms/step - loss: 0.1363 - accuracy: 0.9659\n",
            "Epoch 33/150\n",
            "872/872 [==============================] - 38s 43ms/step - loss: 0.1335 - accuracy: 0.9660\n",
            "Epoch 34/150\n",
            "872/872 [==============================] - 38s 43ms/step - loss: 0.1248 - accuracy: 0.9677\n",
            "Epoch 35/150\n",
            "872/872 [==============================] - 38s 43ms/step - loss: 0.1205 - accuracy: 0.9678\n",
            "Epoch 36/150\n",
            "872/872 [==============================] - 38s 43ms/step - loss: 0.1203 - accuracy: 0.9672\n",
            "Epoch 37/150\n",
            "872/872 [==============================] - 38s 43ms/step - loss: 0.1277 - accuracy: 0.9663\n",
            "Epoch 38/150\n",
            "872/872 [==============================] - 38s 44ms/step - loss: 0.1341 - accuracy: 0.9657\n",
            "Epoch 39/150\n",
            "872/872 [==============================] - 38s 44ms/step - loss: 0.1266 - accuracy: 0.9653\n",
            "Epoch 40/150\n",
            "872/872 [==============================] - 39s 45ms/step - loss: 0.1180 - accuracy: 0.9666\n",
            "Epoch 41/150\n",
            "872/872 [==============================] - 38s 44ms/step - loss: 0.1144 - accuracy: 0.9671\n",
            "Epoch 42/150\n",
            "872/872 [==============================] - 35s 41ms/step - loss: 0.1136 - accuracy: 0.9671\n",
            "Epoch 43/150\n",
            "872/872 [==============================] - 33s 38ms/step - loss: 0.1158 - accuracy: 0.9667\n",
            "Epoch 44/150\n",
            "872/872 [==============================] - 33s 38ms/step - loss: 0.1303 - accuracy: 0.9645\n",
            "Epoch 45/150\n",
            "872/872 [==============================] - 35s 40ms/step - loss: 0.1480 - accuracy: 0.9618\n",
            "Epoch 46/150\n",
            "872/872 [==============================] - 37s 42ms/step - loss: 0.1195 - accuracy: 0.9662\n",
            "Epoch 47/150\n",
            "872/872 [==============================] - 36s 41ms/step - loss: 0.1113 - accuracy: 0.9669\n",
            "Epoch 48/150\n",
            "872/872 [==============================] - 36s 41ms/step - loss: 0.1099 - accuracy: 0.9672\n",
            "Epoch 49/150\n",
            "872/872 [==============================] - 37s 42ms/step - loss: 0.1106 - accuracy: 0.9673\n",
            "Epoch 50/150\n",
            "872/872 [==============================] - 36s 41ms/step - loss: 0.1109 - accuracy: 0.9670\n",
            "Epoch 51/150\n",
            "872/872 [==============================] - 34s 39ms/step - loss: 0.1142 - accuracy: 0.9669\n",
            "Epoch 52/150\n",
            "872/872 [==============================] - 37s 43ms/step - loss: 0.1480 - accuracy: 0.9586\n",
            "Epoch 53/150\n",
            "872/872 [==============================] - 36s 41ms/step - loss: 0.1282 - accuracy: 0.9641\n"
          ]
        },
        {
          "data": {
            "image/png": "[encoded data removed]",
            "text/plain": [
              "<Figure size 640x480 with 1 Axes>"
            ]
          },
          "metadata": {},
          "output_type": "display_data"
        }
      ],
      "source": [
        "# 3-GRU\n",
        "arabic_gru_check_point_1 = check_point('Arabic_GRU1')\n",
        "gru_model = tf.keras.layers.GRU(units= 128, return_sequences=False)\n",
        "GRU_1 = nlp_model_word(input_dim = all_words, output_dim = 100, input_length = max_length_word, unit = all_words, model = gru_model)\n",
        "model_compile_word(model =GRU_1, optimizer=tf.keras.optimizers.legacy.Adam(), loss=tf.keras.losses.CategoricalCrossentropy(), metrics=['accuracy'])\n",
        "history = model_fit(model=GRU_1, Data=train, Label=label, epochs=150, early_stop=early_stop_, checkpoint=arabic_gru_check_point_1 , batch_size=32)\n",
        "plot_word_model_change(history=history)"
      ]
    },
    {
      "cell_type": "markdown",
      "metadata": {
        "id": "FclFt0f3f4-j"
      },
      "source": [
        "*Testing The Model*"
      ]
    },
    {
      "cell_type": "code",
      "execution_count": null,
      "metadata": {
        "id": "R1z8dXSXf4-j",
        "outputId": "8d7fe855-0a32-4029-a28f-be9aa1354e92"
      },
      "outputs": [
        {
          "data": {
            "text/plain": [
              "'تناول الخيميائي بيده كتاباً كان قد أحضره أحد أفراد القافلة لم يكن للكتاب غلاف ولكنه استطاع على الرغم من ذلك التعرف على اسم الكاتب أوسكار وايلد وهو يقلب صفحاته وقع نظره على قصة كانت تتحدث عن نرجس لاشك أن الخيميائي يعرف أسطورة نرجس هذا الشاب الوسيم الذي يذهب كل يوم ليتأمل بهاءه'"
            ]
          },
          "execution_count": 13,
          "metadata": {},
          "output_type": "execute_result"
        }
      ],
      "source": [
        "# 1-LSTM\n",
        "model_testing_word(text = 'تناول الخيميائي ', number_of_words = 50, text_normalization = text_normalization, text_to_sequence = text_to_sequence, words_index = words_index, pad_sequences = pad_sequences, checkpoint_filepath='Arabic_Lstm_1_model_checkpoint.h5', max_length = max_length_word, index_to_words = index_to_words, word_sequence_to_text = word_sequence_to_text, all_words=all_words)"
      ]
    },
    {
      "cell_type": "code",
      "execution_count": null,
      "metadata": {
        "id": "cjVQBvZ_f4-j",
        "outputId": "3372995a-32de-4bc4-b37c-f1a9c310dd07"
      },
      "outputs": [
        {
          "data": {
            "text/plain": [
              "'رأى تاجر الزجاجيّات شروق الشمس فأحس بالغم الذي كان يكابده عند مطلع كل صباح فهو في المكان نفسه منذ مايقارب الثلاثين عاماً وكان متجره يقع في قمّة طريق منحدرة ومن النادر مرور زبون واحد من هناك وقد فات الأوان على التاجر كي يغيّر مهنته فكل ماكان قد تعلّمه عبر حياته كلّها هو بيع وشراء'"
            ]
          },
          "execution_count": 14,
          "metadata": {},
          "output_type": "execute_result"
        }
      ],
      "source": [
        "# 2-Bidirectional LSTM\n",
        "model_testing_word(text = 'رأى تاجر الزجاجيّات شروق ', number_of_words = 50, text_normalization = text_normalization, text_to_sequence = text_to_sequence, words_index = words_index, pad_sequences = pad_sequences, checkpoint_filepath='Arabic_Bidirectional_1_model_checkpoint.h5', max_length = max_length_word, index_to_words = index_to_words, word_sequence_to_text = word_sequence_to_text, all_words=all_words)"
      ]
    },
    {
      "cell_type": "code",
      "execution_count": null,
      "metadata": {
        "id": "lRkT9QShf4-j",
        "outputId": "523cffe7-b899-40cf-a4fc-ba76b1bc9671"
      },
      "outputs": [
        {
          "data": {
            "text/plain": [
              "'إن مافهمه في تلك اللحظة هو انه أمام امرأة حياته وعليها أن تعلم ذلك دونما أية ضرورة للكلام كان متأكداً من هذا أكثر من تأكده من أي شيء آخر في العالم على الرغم من أن آبائه وآباء آبائه كانوا قد قالوا إن على الانسان أن يحب أولاً ثم يخطب أن يعرف الآخر وأن يملك المال'"
            ]
          },
          "execution_count": 15,
          "metadata": {},
          "output_type": "execute_result"
        }
      ],
      "source": [
        "# 3-GRU\n",
        "model_testing_word(text = 'إن مافهمه في تلك اللحظة ', number_of_words = 50, text_normalization = text_normalization, text_to_sequence = text_to_sequence, words_index = words_index, pad_sequences = pad_sequences, checkpoint_filepath='Arabic_GRU1_model_checkpoint.h5', max_length = max_length_word, index_to_words = index_to_words, word_sequence_to_text = word_sequence_to_text, all_words=all_words)"
      ]
    },
    {
      "cell_type": "markdown",
      "metadata": {
        "id": "qvtcv7Vnf4-j"
      },
      "source": [
        "**2-Token Based On Character**"
      ]
    },
    {
      "cell_type": "code",
      "execution_count": null,
      "metadata": {
        "id": "HkfovnPGf4-j",
        "outputId": "0fa56c71-dde4-4dc9-9376-5a537f5c9876"
      },
      "outputs": [
        {
          "data": {
            "text/plain": [
              "45"
            ]
          },
          "execution_count": 16,
          "metadata": {},
          "output_type": "execute_result"
        }
      ],
      "source": [
        "# Generate Char To Index, Index To Char, And Find Count Of All Char\n",
        "all_chars, chars_index, index_chars = index_the_char(Corpus)\n",
        "all_chars"
      ]
    },
    {
      "cell_type": "code",
      "execution_count": null,
      "metadata": {
        "id": "Fl1LEwIuf4-j",
        "outputId": "600a08b5-2bec-4bda-8fa5-b587bba1455c"
      },
      "outputs": [
        {
          "data": {
            "text/plain": [
              "{' ': 0,\n",
              " 'ء': 1,\n",
              " 'آ': 2,\n",
              " 'أ': 3,\n",
              " 'ؤ': 4,\n",
              " 'إ': 5,\n",
              " 'ئ': 6,\n",
              " 'ا': 7,\n",
              " 'ب': 8,\n",
              " 'ة': 9,\n",
              " 'ت': 10,\n",
              " 'ث': 11,\n",
              " 'ج': 12,\n",
              " 'ح': 13,\n",
              " 'خ': 14,\n",
              " 'د': 15,\n",
              " 'ذ': 16,\n",
              " 'ر': 17,\n",
              " 'ز': 18,\n",
              " 'س': 19,\n",
              " 'ش': 20,\n",
              " 'ص': 21,\n",
              " 'ض': 22,\n",
              " 'ط': 23,\n",
              " 'ظ': 24,\n",
              " 'ع': 25,\n",
              " 'غ': 26,\n",
              " 'ف': 27,\n",
              " 'ق': 28,\n",
              " 'ك': 29,\n",
              " 'ل': 30,\n",
              " 'م': 31,\n",
              " 'ن': 32,\n",
              " 'ه': 33,\n",
              " 'و': 34,\n",
              " 'ى': 35,\n",
              " 'ي': 36,\n",
              " 'ً': 37,\n",
              " 'ٌ': 38,\n",
              " 'ٍ': 39,\n",
              " 'َ': 40,\n",
              " 'ُ': 41,\n",
              " 'ِ': 42,\n",
              " 'ّ': 43,\n",
              " 'ْ': 44,\n",
              " 'UNK': 45}"
            ]
          },
          "execution_count": 17,
          "metadata": {},
          "output_type": "execute_result"
        }
      ],
      "source": [
        "chars_index"
      ]
    },
    {
      "cell_type": "code",
      "execution_count": null,
      "metadata": {
        "id": "6efcfuuGf4-j",
        "outputId": "eb17c2ce-d1f4-4d1e-a857-6e0a52b4d163"
      },
      "outputs": [
        {
          "data": {
            "text/plain": [
              "866"
            ]
          },
          "execution_count": 18,
          "metadata": {},
          "output_type": "execute_result"
        }
      ],
      "source": [
        "# Find The Max Length\n",
        "max_length_char = max([len(s) for s in Corpus])\n",
        "max_length_char"
      ]
    },
    {
      "cell_type": "code",
      "execution_count": null,
      "metadata": {
        "id": "cfY645g8f4-j"
      },
      "outputs": [],
      "source": [
        "# Generate Train And Label Data\n",
        "Train, Label = generate_train_label_char(Corpus, max_length_char, 3)\n"
      ]
    },
    {
      "cell_type": "code",
      "execution_count": null,
      "metadata": {
        "id": "HNNoiTr7f4-j"
      },
      "outputs": [],
      "source": [
        "# Convert Words Into Number\n",
        "sequence_text_char_Train = text_to_sequence_char(chars_index, Train)\n",
        "sequence_text_char_Label = text_to_sequence_char(chars_index, Label)"
      ]
    },
    {
      "cell_type": "code",
      "execution_count": null,
      "metadata": {
        "id": "rwc4LGcuf4-j"
      },
      "outputs": [],
      "source": [
        "# Padding The The Input Sequence To Make All Sequence In Same Length\n",
        "Train = pad_sequences(input_sequence=sequence_text_char_Train, max_length=max_length_char, padding='post')\n",
        "# # Convert The Label Data\n",
        "Label = one_hot_encoding(sequence_text_char_Label, all_chars)"
      ]
    },
    {
      "cell_type": "markdown",
      "metadata": {
        "id": "yuQ7rChdf4-j"
      },
      "source": [
        "**Deep Learning Model**"
      ]
    },
    {
      "cell_type": "code",
      "execution_count": null,
      "metadata": {
        "id": "3lt9qkKnf4-j"
      },
      "outputs": [],
      "source": [
        "# 1-LSTM\n",
        "arabic_lstm_check_point_2 = check_point('Arabic_LSTM_2')\n",
        "lstm_model = tf.keras.layers.LSTM(units= 128, return_sequences=False)\n",
        "LSTM_2 = nlp_model_char(input_dim = all_chars, output_dim = 100, unit = all_chars, model = lstm_model, input_length=max_length_char)\n",
        "model_compile_char(model =LSTM_2, optimizer=tf.keras.optimizers.legacy.Adam(), loss=tf.keras.losses.CategoricalCrossentropy())\n",
        "history = model_fit(model=LSTM_2, Data=Train, Label=Label, epochs=150, early_stop=early_stop_, checkpoint= arabic_lstm_check_point_2, batch_size=32)\n",
        "plot_char_model_change(history=history)"
      ]
    },
    {
      "cell_type": "code",
      "execution_count": null,
      "metadata": {
        "id": "JOlWpuGZf4-j"
      },
      "outputs": [],
      "source": [
        "# 2-Bidirectional_LSTM\n",
        "arabic_bidirectional_lstm_check_point_2 = check_point('Arabic_Bidirectional_2')\n",
        "bidirectional_lstm_model = tf.keras.layers.Bidirectional(tf.keras.layers.LSTM(units= 128, return_sequences=False))\n",
        "Bidirectional_LSTM_2 = nlp_model_char(input_dim = all_chars, output_dim = 100, unit = all_chars, model = bidirectional_lstm_model, input_length=max_length_char)\n",
        "model_compile_char(model =Bidirectional_LSTM_2, optimizer=tf.keras.optimizers.legacy.Adam(), loss=tf.keras.losses.CategoricalCrossentropy())\n",
        "history = model_fit(model=Bidirectional_LSTM_2, Data=Train, Label=Label, epochs=150, early_stop=early_stop_, checkpoint= arabic_bidirectional_lstm_check_point_2, batch_size=32)\n",
        "plot_char_model_change(history=history)"
      ]
    },
    {
      "cell_type": "code",
      "execution_count": null,
      "metadata": {
        "id": "y49thsCIf4-j"
      },
      "outputs": [],
      "source": [
        "# 3-GRU\n",
        "arabic_gru_check_point_2 = check_point('Arabic_GRU2')\n",
        "gru_model = tf.keras.layers.GRU(units= 128, return_sequences=False)\n",
        "GRU_2 = nlp_model_char(input_dim = all_chars, output_dim = 100, unit = all_chars, model = gru_model, input_length=max_length_char)\n",
        "model_compile_char(model =GRU_2, optimizer=tf.keras.optimizers.legacy.Adam(), loss=tf.keras.losses.CategoricalCrossentropy())\n",
        "history = model_fit(model=GRU_2, Data=Train, Label=Label, epochs=150, early_stop=early_stop_, batch_size=32)\n",
        "plot_char_model_change(history=history)"
      ]
    },
    {
      "cell_type": "markdown",
      "metadata": {
        "id": "GmWslohzf4-j"
      },
      "source": [
        "**Model Testing**"
      ]
    },
    {
      "cell_type": "code",
      "execution_count": null,
      "metadata": {
        "id": "iStoh6eyf4-j"
      },
      "outputs": [],
      "source": [
        "# 1-LSTM\n",
        "model_testing_char(text = 'تناول ', number_of_chars = 200, char_index = chars_index, pad_sequences = pad_sequences, checkpoint_filepath= 'Arabic_LSTM_2_model_checkpoint.h5', max_length = max_length_char, index_char = index_chars, text_to_sequence_char = text_to_sequence_char, all_chars=all_chars, char_sequence_to_text=char_sequence_to_text)"
      ]
    },
    {
      "cell_type": "code",
      "execution_count": null,
      "metadata": {
        "id": "HXPragEVf4-j"
      },
      "outputs": [],
      "source": [
        "# 2-Bidirectional LSTM\n",
        "model_testing_char(text = 'أضاءت أشعة القمر ', number_of_chars = 200, char_index = chars_index, pad_sequences = pad_sequences,  checkpoint_filepath= 'Arabic_Bidirectional_2_model_checkpoint.h5', max_length = max_length_char, index_char = index_chars, text_to_sequence_char = text_to_sequence_char, all_chars=all_chars, char_sequence_to_text=char_sequence_to_text)"
      ]
    },
    {
      "cell_type": "code",
      "execution_count": null,
      "metadata": {
        "id": "nW53OH9Wf4-k"
      },
      "outputs": [],
      "source": [
        "# 3-GRU\n",
        "model_testing_char(text = 'أضاءت أشعة القمر ', number_of_chars = 200, char_index = chars_index, pad_sequences = pad_sequences, checkpoint_filepath= 'Arabic_GRU2_model_checkpoint.h5', max_length = max_length_char, index_char = index_chars, text_to_sequence_char = text_to_sequence_char, all_chars=all_chars, char_sequence_to_text=char_sequence_to_text)"
      ]
    },
    {
      "cell_type": "markdown",
      "metadata": {
        "id": "-SznOSIcf4-k"
      },
      "source": [
        "**3-Transformers**"
      ]
    },
    {
      "cell_type": "code",
      "execution_count": 3,
      "metadata": {
        "colab": {
          "base_uri": "https://localhost:8080/",
          "height": 1000,
          "referenced_widgets": [
            "a54c00fdfb3d45099dd0470f0b94235f",
            "414c1b1aa7914a519fe29f26a02eff5c",
            "2b60fbfed5ea4762862f447a614cfa13",
            "6b1fe69d76074796beb56bb11c9e85ec",
            "cdccfe1af7c049b9b81414c10e3c0f23",
            "1264e652242742829a5b2bc345a2a519",
            "8d96c3f754fb461d91de40ec6fd9ade9",
            "ff836610ba91412b95dc152b576764f8",
            "fd63c7b430a448c99b36ee076e76df23",
            "7e2b1457b1e049389a208e26b2675c70",
            "03e9cd0f75854f46b8db7bfc6e03dedc",
            "42dbb9f7934b4297b463d3d5cb73f64a",
            "b9a0e67b2351456a9e3ee665a182f558",
            "11d47957481b4860921c8aa59d36df53",
            "21cae0554dcb427c818c7bc2fca49e3f",
            "35256da0caab474b95b72f7adcc4a3f4",
            "fd8d3679e4f849f4b6fb5fe6b5ee0496",
            "33fd087aac2c4f3190db3925cdb803e6",
            "c323145b321d4907aeb89a00cd55bc75",
            "ef1186bdf3304bd8bf89f5a60efc851e",
            "5f96d744e5224842aaae784728ba3c68",
            "3d9ebed119f242c6b6b334497e07d604",
            "a3d35c74ad3d4efc9975f486ca76f5a3",
            "4ec30f2980344f3fa1672d36bf75baa8",
            "052114be24d24009a1d7807a29e7d569",
            "695703b6a6cf48adb8c639b8d4ae17b5",
            "6a6753af0126410caf5a7bd3156be363",
            "9b5fdb698e554877928dd042850b4e0f",
            "08b02540664c48c383454688a4dbdb7e",
            "f3621d15333f429195fae33e14220f95",
            "72aa4a358bff40a48eebbb1ef78d8952",
            "d376e8ba33cb4f1fa2bded0bbb0da9ac",
            "6a69b57dcb0d48fbb4926d04532c2906",
            "e123e41a931a4d3b82b812496613720b",
            "53b2a3180ae84ff1a5119669ca700ae0",
            "071eca5ecf9c4b309fffae0adfa29ead",
            "ab48a53ce62f4bed9f2b4eb4a102bd4d",
            "67571d9d1cc6457ba3d5347896bd1316",
            "0f679ffc93a34a66b376176ff5c975b6",
            "6ae51c1161634db3a3699d0d35715aa3",
            "2b2d05e50869463f90aa2bd6a5679f0d",
            "d76cf9d3ae8841dd858787b934e3fb70",
            "878e17d6e0b74410a5aa9d5bf6a76f3d",
            "d53e8e0859b140698a0681fb293fb9b3",
            "4630ec301fbd49d68829ff67b99d21c8",
            "9031e08c3cbc4dc3954b6b0b3ab9c8f3",
            "c36f4cd3e6854bc5b3d3899a62575484",
            "c43f91a86a434fceae68e78d43713976",
            "14f8fa431d824f8eb028790ca97fdfd2",
            "cba0a307c2c34b61a23a0709b3317bef",
            "2ad1100213ec40d1820b50055808f966",
            "f492ed6e4bc84b579621c7746ef9ff40",
            "5ffe09a77acc4d378507941b41f8b49b",
            "bec2ce9833a84c07a040da2f19cfc19d",
            "8c173c06eada4da389304ab8768fc430"
          ]
        },
        "id": "-HBTzmeTf4-k",
        "outputId": "05a05760-8f76-467e-bc07-8655c4d0448d"
      },
      "outputs": [
        {
          "output_type": "display_data",
          "data": {
            "text/plain": [
              "vocab.json:   0%|          | 0.00/1.94M [00:00<?, ?B/s]"
            ],
            "application/vnd.jupyter.widget-view+json": {
              "version_major": 2,
              "version_minor": 0,
              "model_id": "a54c00fdfb3d45099dd0470f0b94235f"
            }
          },
          "metadata": {}
        },
        {
          "output_type": "display_data",
          "data": {
            "text/plain": [
              "merges.txt:   0%|          | 0.00/1.50M [00:00<?, ?B/s]"
            ],
            "application/vnd.jupyter.widget-view+json": {
              "version_major": 2,
              "version_minor": 0,
              "model_id": "42dbb9f7934b4297b463d3d5cb73f64a"
            }
          },
          "metadata": {}
        },
        {
          "output_type": "display_data",
          "data": {
            "text/plain": [
              "tokenizer.json:   0%|          | 0.00/4.52M [00:00<?, ?B/s]"
            ],
            "application/vnd.jupyter.widget-view+json": {
              "version_major": 2,
              "version_minor": 0,
              "model_id": "a3d35c74ad3d4efc9975f486ca76f5a3"
            }
          },
          "metadata": {}
        },
        {
          "output_type": "display_data",
          "data": {
            "text/plain": [
              "config.json:   0%|          | 0.00/843 [00:00<?, ?B/s]"
            ],
            "application/vnd.jupyter.widget-view+json": {
              "version_major": 2,
              "version_minor": 0,
              "model_id": "e123e41a931a4d3b82b812496613720b"
            }
          },
          "metadata": {}
        },
        {
          "output_type": "display_data",
          "data": {
            "text/plain": [
              "model.safetensors:   0%|          | 0.00/553M [00:00<?, ?B/s]"
            ],
            "application/vnd.jupyter.widget-view+json": {
              "version_major": 2,
              "version_minor": 0,
              "model_id": "4630ec301fbd49d68829ff67b99d21c8"
            }
          },
          "metadata": {}
        },
        {
          "output_type": "display_data",
          "data": {
            "text/plain": [
              "<IPython.core.display.HTML object>"
            ],
            "text/html": [
              "\n",
              "    <div>\n",
              "      \n",
              "      <progress value='11900' max='11900' style='width:300px; height:20px; vertical-align: middle;'></progress>\n",
              "      [11900/11900 23:39, Epoch 70/70]\n",
              "    </div>\n",
              "    <table border=\"1\" class=\"dataframe\">\n",
              "  <thead>\n",
              " <tr style=\"text-align: left;\">\n",
              "      <th>Step</th>\n",
              "      <th>Training Loss</th>\n",
              "    </tr>\n",
              "  </thead>\n",
              "  <tbody>\n",
              "    <tr>\n",
              "      <td>500</td>\n",
              "      <td>5.623600</td>\n",
              "    </tr>\n",
              "    <tr>\n",
              "      <td>1000</td>\n",
              "      <td>3.985300</td>\n",
              "    </tr>\n",
              "    <tr>\n",
              "      <td>1500</td>\n",
              "      <td>3.139200</td>\n",
              "    </tr>\n",
              "    <tr>\n",
              "      <td>2000</td>\n",
              "      <td>2.427600</td>\n",
              "    </tr>\n",
              "    <tr>\n",
              "      <td>2500</td>\n",
              "      <td>1.797700</td>\n",
              "    </tr>\n",
              "    <tr>\n",
              "      <td>3000</td>\n",
              "      <td>1.317500</td>\n",
              "    </tr>\n",
              "    <tr>\n",
              "      <td>3500</td>\n",
              "      <td>0.974200</td>\n",
              "    </tr>\n",
              "    <tr>\n",
              "      <td>4000</td>\n",
              "      <td>0.726200</td>\n",
              "    </tr>\n",
              "    <tr>\n",
              "      <td>4500</td>\n",
              "      <td>0.566300</td>\n",
              "    </tr>\n",
              "    <tr>\n",
              "      <td>5000</td>\n",
              "      <td>0.443900</td>\n",
              "    </tr>\n",
              "    <tr>\n",
              "      <td>5500</td>\n",
              "      <td>0.354500</td>\n",
              "    </tr>\n",
              "    <tr>\n",
              "      <td>6000</td>\n",
              "      <td>0.288500</td>\n",
              "    </tr>\n",
              "    <tr>\n",
              "      <td>6500</td>\n",
              "      <td>0.241100</td>\n",
              "    </tr>\n",
              "    <tr>\n",
              "      <td>7000</td>\n",
              "      <td>0.205400</td>\n",
              "    </tr>\n",
              "    <tr>\n",
              "      <td>7500</td>\n",
              "      <td>0.175100</td>\n",
              "    </tr>\n",
              "    <tr>\n",
              "      <td>8000</td>\n",
              "      <td>0.154700</td>\n",
              "    </tr>\n",
              "    <tr>\n",
              "      <td>8500</td>\n",
              "      <td>0.134900</td>\n",
              "    </tr>\n",
              "    <tr>\n",
              "      <td>9000</td>\n",
              "      <td>0.120400</td>\n",
              "    </tr>\n",
              "    <tr>\n",
              "      <td>9500</td>\n",
              "      <td>0.107600</td>\n",
              "    </tr>\n",
              "    <tr>\n",
              "      <td>10000</td>\n",
              "      <td>0.096700</td>\n",
              "    </tr>\n",
              "    <tr>\n",
              "      <td>10500</td>\n",
              "      <td>0.088700</td>\n",
              "    </tr>\n",
              "    <tr>\n",
              "      <td>11000</td>\n",
              "      <td>0.083700</td>\n",
              "    </tr>\n",
              "    <tr>\n",
              "      <td>11500</td>\n",
              "      <td>0.078900</td>\n",
              "    </tr>\n",
              "  </tbody>\n",
              "</table><p>"
            ]
          },
          "metadata": {}
        },
        {
          "output_type": "execute_result",
          "data": {
            "text/plain": [
              "'إنني خيميائي لأنني خيميائي\\nصمتت أشعة القمر وجه إلى المكان الذي كان قد سقط فيه وذلك في الصحراء ولم يكن هناك إلا ضوء القمر والصمت الدواب أيضاً والشمس\\nهل بإمكانك أن توفّر عليّ أن أتوصّل إلى ذلك\\nهل أنت سأل الشاب\\nلأنك لا أعرف شيئاً أجاب الخيميائي\\nكان ينبغي عليّ أن أتخلّم عن كل شيء لكنني أريد أن أتحوّ�'"
            ],
            "application/vnd.google.colaboratory.intrinsic+json": {
              "type": "string"
            }
          },
          "metadata": {},
          "execution_count": 3
        }
      ],
      "source": [
        "# Transformers Model Name\n",
        "import torch\n",
        "model_name_ = 'aubmindlab/aragpt2-base'\n",
        "# Model And Tokenizer For Transformers\n",
        "tokenizer, model = transformes_model(model_name_)\n",
        "# Data Used For Train Transformers\n",
        "train_dataset = load_dataset('Cleaned_Corpus.txt', tokenizer)\n",
        "# Convert Data Into Batches\n",
        "collator = data_collator(tokenizer)\n",
        "# Set Arguments For Train The Transformers\n",
        "train_args = train_arguments(epochs = 70)\n",
        "# Train The Transformers\n",
        "training_(model=model, training_args=train_args, collator = collator, data = train_dataset)\n",
        "# Save The Model\n",
        "save_model_tokenizer(model = model, tokenizer = tokenizer)\n",
        "# Testing The Transformers Model\n",
        "transformer_testing(input_text='سأل الشاب: ', tokenizer=tokenizer, model=model, text_normalization = text_normalization)\n"
      ]
    },
    {
      "cell_type": "code",
      "source": [
        "transformer_testing(input_text='سأل الشاب: ', tokenizer=tokenizer, model=model, text_normalization = text_normalization)\n"
      ],
      "metadata": {
        "colab": {
          "base_uri": "https://localhost:8080/",
          "height": 71
        },
        "id": "jyk1-J85MbwV",
        "outputId": "933c9c78-dcfd-4478-cabf-850bf2f10680"
      },
      "execution_count": 5,
      "outputs": [
        {
          "output_type": "execute_result",
          "data": {
            "text/plain": [
              "'سأل الشاب لم تعلمُ أية أهميّة\\nأجاب الخيميائي\\nلكنني ذاهب للبحث عن كنزي لدي فكرة جديدة\\nأجاب الشاب\\nيوجد هنا الكثر من النمل في الأرض وقال\\nيوجد هنا أنواع مختلفة من النمل في الأرض الغريبة ومن المُلد من النمل في الحال التي تحتوي على كنزي والنحاس ومن المسطح من اللبون\\nإن منقوش هي المادة التي كانت تدعى إكسير الحياة المديد وهذا الإكسير لم أكن قد علمت أن'"
            ],
            "application/vnd.google.colaboratory.intrinsic+json": {
              "type": "string"
            }
          },
          "metadata": {},
          "execution_count": 5
        }
      ]
    }
  ],
  "metadata": {
    "kernelspec": {
      "display_name": "Python 3",
      "name": "python3"
    },
    "language_info": {
      "codemirror_mode": {
        "name": "ipython",
        "version": 3
      },
      "file_extension": ".py",
      "mimetype": "text/x-python",
      "name": "python",
      "nbconvert_exporter": "python",
      "pygments_lexer": "ipython3",
      "version": "3.11.9"
    },
    "colab": {
      "provenance": [],
      "gpuType": "T4"
    },
    "accelerator": "GPU",
    "widgets": {
      "application/vnd.jupyter.widget-state+json": {
        "a54c00fdfb3d45099dd0470f0b94235f": {
          "model_module": "@jupyter-widgets/controls",
          "model_name": "HBoxModel",
          "model_module_version": "1.5.0",
          "state": {
            "_dom_classes": [],
            "_model_module": "@jupyter-widgets/controls",
            "_model_module_version": "1.5.0",
            "_model_name": "HBoxModel",
            "_view_count": null,
            "_view_module": "@jupyter-widgets/controls",
            "_view_module_version": "1.5.0",
            "_view_name": "HBoxView",
            "box_style": "",
            "children": [
              "IPY_MODEL_414c1b1aa7914a519fe29f26a02eff5c",
              "IPY_MODEL_2b60fbfed5ea4762862f447a614cfa13",
              "IPY_MODEL_6b1fe69d76074796beb56bb11c9e85ec"
            ],
            "layout": "IPY_MODEL_cdccfe1af7c049b9b81414c10e3c0f23"
          }
        },
        "414c1b1aa7914a519fe29f26a02eff5c": {
          "model_module": "@jupyter-widgets/controls",
          "model_name": "HTMLModel",
          "model_module_version": "1.5.0",
          "state": {
            "_dom_classes": [],
            "_model_module": "@jupyter-widgets/controls",
            "_model_module_version": "1.5.0",
            "_model_name": "HTMLModel",
            "_view_count": null,
            "_view_module": "@jupyter-widgets/controls",
            "_view_module_version": "1.5.0",
            "_view_name": "HTMLView",
            "description": "",
            "description_tooltip": null,
            "layout": "IPY_MODEL_1264e652242742829a5b2bc345a2a519",
            "placeholder": "​",
            "style": "IPY_MODEL_8d96c3f754fb461d91de40ec6fd9ade9",
            "value": "vocab.json: 100%"
          }
        },
        "2b60fbfed5ea4762862f447a614cfa13": {
          "model_module": "@jupyter-widgets/controls",
          "model_name": "FloatProgressModel",
          "model_module_version": "1.5.0",
          "state": {
            "_dom_classes": [],
            "_model_module": "@jupyter-widgets/controls",
            "_model_module_version": "1.5.0",
            "_model_name": "FloatProgressModel",
            "_view_count": null,
            "_view_module": "@jupyter-widgets/controls",
            "_view_module_version": "1.5.0",
            "_view_name": "ProgressView",
            "bar_style": "success",
            "description": "",
            "description_tooltip": null,
            "layout": "IPY_MODEL_ff836610ba91412b95dc152b576764f8",
            "max": 1935314,
            "min": 0,
            "orientation": "horizontal",
            "style": "IPY_MODEL_fd63c7b430a448c99b36ee076e76df23",
            "value": 1935314
          }
        },
        "6b1fe69d76074796beb56bb11c9e85ec": {
          "model_module": "@jupyter-widgets/controls",
          "model_name": "HTMLModel",
          "model_module_version": "1.5.0",
          "state": {
            "_dom_classes": [],
            "_model_module": "@jupyter-widgets/controls",
            "_model_module_version": "1.5.0",
            "_model_name": "HTMLModel",
            "_view_count": null,
            "_view_module": "@jupyter-widgets/controls",
            "_view_module_version": "1.5.0",
            "_view_name": "HTMLView",
            "description": "",
            "description_tooltip": null,
            "layout": "IPY_MODEL_7e2b1457b1e049389a208e26b2675c70",
            "placeholder": "​",
            "style": "IPY_MODEL_03e9cd0f75854f46b8db7bfc6e03dedc",
            "value": " 1.94M/1.94M [00:00&lt;00:00, 11.9MB/s]"
          }
        },
        "cdccfe1af7c049b9b81414c10e3c0f23": {
          "model_module": "@jupyter-widgets/base",
          "model_name": "LayoutModel",
          "model_module_version": "1.2.0",
          "state": {
            "_model_module": "@jupyter-widgets/base",
            "_model_module_version": "1.2.0",
            "_model_name": "LayoutModel",
            "_view_count": null,
            "_view_module": "@jupyter-widgets/base",
            "_view_module_version": "1.2.0",
            "_view_name": "LayoutView",
            "align_content": null,
            "align_items": null,
            "align_self": null,
            "border": null,
            "bottom": null,
            "display": null,
            "flex": null,
            "flex_flow": null,
            "grid_area": null,
            "grid_auto_columns": null,
            "grid_auto_flow": null,
            "grid_auto_rows": null,
            "grid_column": null,
            "grid_gap": null,
            "grid_row": null,
            "grid_template_areas": null,
            "grid_template_columns": null,
            "grid_template_rows": null,
            "height": null,
            "justify_content": null,
            "justify_items": null,
            "left": null,
            "margin": null,
            "max_height": null,
            "max_width": null,
            "min_height": null,
            "min_width": null,
            "object_fit": null,
            "object_position": null,
            "order": null,
            "overflow": null,
            "overflow_x": null,
            "overflow_y": null,
            "padding": null,
            "right": null,
            "top": null,
            "visibility": null,
            "width": null
          }
        },
        "1264e652242742829a5b2bc345a2a519": {
          "model_module": "@jupyter-widgets/base",
          "model_name": "LayoutModel",
          "model_module_version": "1.2.0",
          "state": {
            "_model_module": "@jupyter-widgets/base",
            "_model_module_version": "1.2.0",
            "_model_name": "LayoutModel",
            "_view_count": null,
            "_view_module": "@jupyter-widgets/base",
            "_view_module_version": "1.2.0",
            "_view_name": "LayoutView",
            "align_content": null,
            "align_items": null,
            "align_self": null,
            "border": null,
            "bottom": null,
            "display": null,
            "flex": null,
            "flex_flow": null,
            "grid_area": null,
            "grid_auto_columns": null,
            "grid_auto_flow": null,
            "grid_auto_rows": null,
            "grid_column": null,
            "grid_gap": null,
            "grid_row": null,
            "grid_template_areas": null,
            "grid_template_columns": null,
            "grid_template_rows": null,
            "height": null,
            "justify_content": null,
            "justify_items": null,
            "left": null,
            "margin": null,
            "max_height": null,
            "max_width": null,
            "min_height": null,
            "min_width": null,
            "object_fit": null,
            "object_position": null,
            "order": null,
            "overflow": null,
            "overflow_x": null,
            "overflow_y": null,
            "padding": null,
            "right": null,
            "top": null,
            "visibility": null,
            "width": null
          }
        },
        "8d96c3f754fb461d91de40ec6fd9ade9": {
          "model_module": "@jupyter-widgets/controls",
          "model_name": "DescriptionStyleModel",
          "model_module_version": "1.5.0",
          "state": {
            "_model_module": "@jupyter-widgets/controls",
            "_model_module_version": "1.5.0",
            "_model_name": "DescriptionStyleModel",
            "_view_count": null,
            "_view_module": "@jupyter-widgets/base",
            "_view_module_version": "1.2.0",
            "_view_name": "StyleView",
            "description_width": ""
          }
        },
        "ff836610ba91412b95dc152b576764f8": {
          "model_module": "@jupyter-widgets/base",
          "model_name": "LayoutModel",
          "model_module_version": "1.2.0",
          "state": {
            "_model_module": "@jupyter-widgets/base",
            "_model_module_version": "1.2.0",
            "_model_name": "LayoutModel",
            "_view_count": null,
            "_view_module": "@jupyter-widgets/base",
            "_view_module_version": "1.2.0",
            "_view_name": "LayoutView",
            "align_content": null,
            "align_items": null,
            "align_self": null,
            "border": null,
            "bottom": null,
            "display": null,
            "flex": null,
            "flex_flow": null,
            "grid_area": null,
            "grid_auto_columns": null,
            "grid_auto_flow": null,
            "grid_auto_rows": null,
            "grid_column": null,
            "grid_gap": null,
            "grid_row": null,
            "grid_template_areas": null,
            "grid_template_columns": null,
            "grid_template_rows": null,
            "height": null,
            "justify_content": null,
            "justify_items": null,
            "left": null,
            "margin": null,
            "max_height": null,
            "max_width": null,
            "min_height": null,
            "min_width": null,
            "object_fit": null,
            "object_position": null,
            "order": null,
            "overflow": null,
            "overflow_x": null,
            "overflow_y": null,
            "padding": null,
            "right": null,
            "top": null,
            "visibility": null,
            "width": null
          }
        },
        "fd63c7b430a448c99b36ee076e76df23": {
          "model_module": "@jupyter-widgets/controls",
          "model_name": "ProgressStyleModel",
          "model_module_version": "1.5.0",
          "state": {
            "_model_module": "@jupyter-widgets/controls",
            "_model_module_version": "1.5.0",
            "_model_name": "ProgressStyleModel",
            "_view_count": null,
            "_view_module": "@jupyter-widgets/base",
            "_view_module_version": "1.2.0",
            "_view_name": "StyleView",
            "bar_color": null,
            "description_width": ""
          }
        },
        "7e2b1457b1e049389a208e26b2675c70": {
          "model_module": "@jupyter-widgets/base",
          "model_name": "LayoutModel",
          "model_module_version": "1.2.0",
          "state": {
            "_model_module": "@jupyter-widgets/base",
            "_model_module_version": "1.2.0",
            "_model_name": "LayoutModel",
            "_view_count": null,
            "_view_module": "@jupyter-widgets/base",
            "_view_module_version": "1.2.0",
            "_view_name": "LayoutView",
            "align_content": null,
            "align_items": null,
            "align_self": null,
            "border": null,
            "bottom": null,
            "display": null,
            "flex": null,
            "flex_flow": null,
            "grid_area": null,
            "grid_auto_columns": null,
            "grid_auto_flow": null,
            "grid_auto_rows": null,
            "grid_column": null,
            "grid_gap": null,
            "grid_row": null,
            "grid_template_areas": null,
            "grid_template_columns": null,
            "grid_template_rows": null,
            "height": null,
            "justify_content": null,
            "justify_items": null,
            "left": null,
            "margin": null,
            "max_height": null,
            "max_width": null,
            "min_height": null,
            "min_width": null,
            "object_fit": null,
            "object_position": null,
            "order": null,
            "overflow": null,
            "overflow_x": null,
            "overflow_y": null,
            "padding": null,
            "right": null,
            "top": null,
            "visibility": null,
            "width": null
          }
        },
        "03e9cd0f75854f46b8db7bfc6e03dedc": {
          "model_module": "@jupyter-widgets/controls",
          "model_name": "DescriptionStyleModel",
          "model_module_version": "1.5.0",
          "state": {
            "_model_module": "@jupyter-widgets/controls",
            "_model_module_version": "1.5.0",
            "_model_name": "DescriptionStyleModel",
            "_view_count": null,
            "_view_module": "@jupyter-widgets/base",
            "_view_module_version": "1.2.0",
            "_view_name": "StyleView",
            "description_width": ""
          }
        },
        "42dbb9f7934b4297b463d3d5cb73f64a": {
          "model_module": "@jupyter-widgets/controls",
          "model_name": "HBoxModel",
          "model_module_version": "1.5.0",
          "state": {
            "_dom_classes": [],
            "_model_module": "@jupyter-widgets/controls",
            "_model_module_version": "1.5.0",
            "_model_name": "HBoxModel",
            "_view_count": null,
            "_view_module": "@jupyter-widgets/controls",
            "_view_module_version": "1.5.0",
            "_view_name": "HBoxView",
            "box_style": "",
            "children": [
              "IPY_MODEL_b9a0e67b2351456a9e3ee665a182f558",
              "IPY_MODEL_11d47957481b4860921c8aa59d36df53",
              "IPY_MODEL_21cae0554dcb427c818c7bc2fca49e3f"
            ],
            "layout": "IPY_MODEL_35256da0caab474b95b72f7adcc4a3f4"
          }
        },
        "b9a0e67b2351456a9e3ee665a182f558": {
          "model_module": "@jupyter-widgets/controls",
          "model_name": "HTMLModel",
          "model_module_version": "1.5.0",
          "state": {
            "_dom_classes": [],
            "_model_module": "@jupyter-widgets/controls",
            "_model_module_version": "1.5.0",
            "_model_name": "HTMLModel",
            "_view_count": null,
            "_view_module": "@jupyter-widgets/controls",
            "_view_module_version": "1.5.0",
            "_view_name": "HTMLView",
            "description": "",
            "description_tooltip": null,
            "layout": "IPY_MODEL_fd8d3679e4f849f4b6fb5fe6b5ee0496",
            "placeholder": "​",
            "style": "IPY_MODEL_33fd087aac2c4f3190db3925cdb803e6",
            "value": "merges.txt: 100%"
          }
        },
        "11d47957481b4860921c8aa59d36df53": {
          "model_module": "@jupyter-widgets/controls",
          "model_name": "FloatProgressModel",
          "model_module_version": "1.5.0",
          "state": {
            "_dom_classes": [],
            "_model_module": "@jupyter-widgets/controls",
            "_model_module_version": "1.5.0",
            "_model_name": "FloatProgressModel",
            "_view_count": null,
            "_view_module": "@jupyter-widgets/controls",
            "_view_module_version": "1.5.0",
            "_view_name": "ProgressView",
            "bar_style": "success",
            "description": "",
            "description_tooltip": null,
            "layout": "IPY_MODEL_c323145b321d4907aeb89a00cd55bc75",
            "max": 1497508,
            "min": 0,
            "orientation": "horizontal",
            "style": "IPY_MODEL_ef1186bdf3304bd8bf89f5a60efc851e",
            "value": 1497508
          }
        },
        "21cae0554dcb427c818c7bc2fca49e3f": {
          "model_module": "@jupyter-widgets/controls",
          "model_name": "HTMLModel",
          "model_module_version": "1.5.0",
          "state": {
            "_dom_classes": [],
            "_model_module": "@jupyter-widgets/controls",
            "_model_module_version": "1.5.0",
            "_model_name": "HTMLModel",
            "_view_count": null,
            "_view_module": "@jupyter-widgets/controls",
            "_view_module_version": "1.5.0",
            "_view_name": "HTMLView",
            "description": "",
            "description_tooltip": null,
            "layout": "IPY_MODEL_5f96d744e5224842aaae784728ba3c68",
            "placeholder": "​",
            "style": "IPY_MODEL_3d9ebed119f242c6b6b334497e07d604",
            "value": " 1.50M/1.50M [00:00&lt;00:00, 25.7MB/s]"
          }
        },
        "35256da0caab474b95b72f7adcc4a3f4": {
          "model_module": "@jupyter-widgets/base",
          "model_name": "LayoutModel",
          "model_module_version": "1.2.0",
          "state": {
            "_model_module": "@jupyter-widgets/base",
            "_model_module_version": "1.2.0",
            "_model_name": "LayoutModel",
            "_view_count": null,
            "_view_module": "@jupyter-widgets/base",
            "_view_module_version": "1.2.0",
            "_view_name": "LayoutView",
            "align_content": null,
            "align_items": null,
            "align_self": null,
            "border": null,
            "bottom": null,
            "display": null,
            "flex": null,
            "flex_flow": null,
            "grid_area": null,
            "grid_auto_columns": null,
            "grid_auto_flow": null,
            "grid_auto_rows": null,
            "grid_column": null,
            "grid_gap": null,
            "grid_row": null,
            "grid_template_areas": null,
            "grid_template_columns": null,
            "grid_template_rows": null,
            "height": null,
            "justify_content": null,
            "justify_items": null,
            "left": null,
            "margin": null,
            "max_height": null,
            "max_width": null,
            "min_height": null,
            "min_width": null,
            "object_fit": null,
            "object_position": null,
            "order": null,
            "overflow": null,
            "overflow_x": null,
            "overflow_y": null,
            "padding": null,
            "right": null,
            "top": null,
            "visibility": null,
            "width": null
          }
        },
        "fd8d3679e4f849f4b6fb5fe6b5ee0496": {
          "model_module": "@jupyter-widgets/base",
          "model_name": "LayoutModel",
          "model_module_version": "1.2.0",
          "state": {
            "_model_module": "@jupyter-widgets/base",
            "_model_module_version": "1.2.0",
            "_model_name": "LayoutModel",
            "_view_count": null,
            "_view_module": "@jupyter-widgets/base",
            "_view_module_version": "1.2.0",
            "_view_name": "LayoutView",
            "align_content": null,
            "align_items": null,
            "align_self": null,
            "border": null,
            "bottom": null,
            "display": null,
            "flex": null,
            "flex_flow": null,
            "grid_area": null,
            "grid_auto_columns": null,
            "grid_auto_flow": null,
            "grid_auto_rows": null,
            "grid_column": null,
            "grid_gap": null,
            "grid_row": null,
            "grid_template_areas": null,
            "grid_template_columns": null,
            "grid_template_rows": null,
            "height": null,
            "justify_content": null,
            "justify_items": null,
            "left": null,
            "margin": null,
            "max_height": null,
            "max_width": null,
            "min_height": null,
            "min_width": null,
            "object_fit": null,
            "object_position": null,
            "order": null,
            "overflow": null,
            "overflow_x": null,
            "overflow_y": null,
            "padding": null,
            "right": null,
            "top": null,
            "visibility": null,
            "width": null
          }
        },
        "33fd087aac2c4f3190db3925cdb803e6": {
          "model_module": "@jupyter-widgets/controls",
          "model_name": "DescriptionStyleModel",
          "model_module_version": "1.5.0",
          "state": {
            "_model_module": "@jupyter-widgets/controls",
            "_model_module_version": "1.5.0",
            "_model_name": "DescriptionStyleModel",
            "_view_count": null,
            "_view_module": "@jupyter-widgets/base",
            "_view_module_version": "1.2.0",
            "_view_name": "StyleView",
            "description_width": ""
          }
        },
        "c323145b321d4907aeb89a00cd55bc75": {
          "model_module": "@jupyter-widgets/base",
          "model_name": "LayoutModel",
          "model_module_version": "1.2.0",
          "state": {
            "_model_module": "@jupyter-widgets/base",
            "_model_module_version": "1.2.0",
            "_model_name": "LayoutModel",
            "_view_count": null,
            "_view_module": "@jupyter-widgets/base",
            "_view_module_version": "1.2.0",
            "_view_name": "LayoutView",
            "align_content": null,
            "align_items": null,
            "align_self": null,
            "border": null,
            "bottom": null,
            "display": null,
            "flex": null,
            "flex_flow": null,
            "grid_area": null,
            "grid_auto_columns": null,
            "grid_auto_flow": null,
            "grid_auto_rows": null,
            "grid_column": null,
            "grid_gap": null,
            "grid_row": null,
            "grid_template_areas": null,
            "grid_template_columns": null,
            "grid_template_rows": null,
            "height": null,
            "justify_content": null,
            "justify_items": null,
            "left": null,
            "margin": null,
            "max_height": null,
            "max_width": null,
            "min_height": null,
            "min_width": null,
            "object_fit": null,
            "object_position": null,
            "order": null,
            "overflow": null,
            "overflow_x": null,
            "overflow_y": null,
            "padding": null,
            "right": null,
            "top": null,
            "visibility": null,
            "width": null
          }
        },
        "ef1186bdf3304bd8bf89f5a60efc851e": {
          "model_module": "@jupyter-widgets/controls",
          "model_name": "ProgressStyleModel",
          "model_module_version": "1.5.0",
          "state": {
            "_model_module": "@jupyter-widgets/controls",
            "_model_module_version": "1.5.0",
            "_model_name": "ProgressStyleModel",
            "_view_count": null,
            "_view_module": "@jupyter-widgets/base",
            "_view_module_version": "1.2.0",
            "_view_name": "StyleView",
            "bar_color": null,
            "description_width": ""
          }
        },
        "5f96d744e5224842aaae784728ba3c68": {
          "model_module": "@jupyter-widgets/base",
          "model_name": "LayoutModel",
          "model_module_version": "1.2.0",
          "state": {
            "_model_module": "@jupyter-widgets/base",
            "_model_module_version": "1.2.0",
            "_model_name": "LayoutModel",
            "_view_count": null,
            "_view_module": "@jupyter-widgets/base",
            "_view_module_version": "1.2.0",
            "_view_name": "LayoutView",
            "align_content": null,
            "align_items": null,
            "align_self": null,
            "border": null,
            "bottom": null,
            "display": null,
            "flex": null,
            "flex_flow": null,
            "grid_area": null,
            "grid_auto_columns": null,
            "grid_auto_flow": null,
            "grid_auto_rows": null,
            "grid_column": null,
            "grid_gap": null,
            "grid_row": null,
            "grid_template_areas": null,
            "grid_template_columns": null,
            "grid_template_rows": null,
            "height": null,
            "justify_content": null,
            "justify_items": null,
            "left": null,
            "margin": null,
            "max_height": null,
            "max_width": null,
            "min_height": null,
            "min_width": null,
            "object_fit": null,
            "object_position": null,
            "order": null,
            "overflow": null,
            "overflow_x": null,
            "overflow_y": null,
            "padding": null,
            "right": null,
            "top": null,
            "visibility": null,
            "width": null
          }
        },
        "3d9ebed119f242c6b6b334497e07d604": {
          "model_module": "@jupyter-widgets/controls",
          "model_name": "DescriptionStyleModel",
          "model_module_version": "1.5.0",
          "state": {
            "_model_module": "@jupyter-widgets/controls",
            "_model_module_version": "1.5.0",
            "_model_name": "DescriptionStyleModel",
            "_view_count": null,
            "_view_module": "@jupyter-widgets/base",
            "_view_module_version": "1.2.0",
            "_view_name": "StyleView",
            "description_width": ""
          }
        },
        "a3d35c74ad3d4efc9975f486ca76f5a3": {
          "model_module": "@jupyter-widgets/controls",
          "model_name": "HBoxModel",
          "model_module_version": "1.5.0",
          "state": {
            "_dom_classes": [],
            "_model_module": "@jupyter-widgets/controls",
            "_model_module_version": "1.5.0",
            "_model_name": "HBoxModel",
            "_view_count": null,
            "_view_module": "@jupyter-widgets/controls",
            "_view_module_version": "1.5.0",
            "_view_name": "HBoxView",
            "box_style": "",
            "children": [
              "IPY_MODEL_4ec30f2980344f3fa1672d36bf75baa8",
              "IPY_MODEL_052114be24d24009a1d7807a29e7d569",
              "IPY_MODEL_695703b6a6cf48adb8c639b8d4ae17b5"
            ],
            "layout": "IPY_MODEL_6a6753af0126410caf5a7bd3156be363"
          }
        },
        "4ec30f2980344f3fa1672d36bf75baa8": {
          "model_module": "@jupyter-widgets/controls",
          "model_name": "HTMLModel",
          "model_module_version": "1.5.0",
          "state": {
            "_dom_classes": [],
            "_model_module": "@jupyter-widgets/controls",
            "_model_module_version": "1.5.0",
            "_model_name": "HTMLModel",
            "_view_count": null,
            "_view_module": "@jupyter-widgets/controls",
            "_view_module_version": "1.5.0",
            "_view_name": "HTMLView",
            "description": "",
            "description_tooltip": null,
            "layout": "IPY_MODEL_9b5fdb698e554877928dd042850b4e0f",
            "placeholder": "​",
            "style": "IPY_MODEL_08b02540664c48c383454688a4dbdb7e",
            "value": "tokenizer.json: 100%"
          }
        },
        "052114be24d24009a1d7807a29e7d569": {
          "model_module": "@jupyter-widgets/controls",
          "model_name": "FloatProgressModel",
          "model_module_version": "1.5.0",
          "state": {
            "_dom_classes": [],
            "_model_module": "@jupyter-widgets/controls",
            "_model_module_version": "1.5.0",
            "_model_name": "FloatProgressModel",
            "_view_count": null,
            "_view_module": "@jupyter-widgets/controls",
            "_view_module_version": "1.5.0",
            "_view_name": "ProgressView",
            "bar_style": "success",
            "description": "",
            "description_tooltip": null,
            "layout": "IPY_MODEL_f3621d15333f429195fae33e14220f95",
            "max": 4519765,
            "min": 0,
            "orientation": "horizontal",
            "style": "IPY_MODEL_72aa4a358bff40a48eebbb1ef78d8952",
            "value": 4519765
          }
        },
        "695703b6a6cf48adb8c639b8d4ae17b5": {
          "model_module": "@jupyter-widgets/controls",
          "model_name": "HTMLModel",
          "model_module_version": "1.5.0",
          "state": {
            "_dom_classes": [],
            "_model_module": "@jupyter-widgets/controls",
            "_model_module_version": "1.5.0",
            "_model_name": "HTMLModel",
            "_view_count": null,
            "_view_module": "@jupyter-widgets/controls",
            "_view_module_version": "1.5.0",
            "_view_name": "HTMLView",
            "description": "",
            "description_tooltip": null,
            "layout": "IPY_MODEL_d376e8ba33cb4f1fa2bded0bbb0da9ac",
            "placeholder": "​",
            "style": "IPY_MODEL_6a69b57dcb0d48fbb4926d04532c2906",
            "value": " 4.52M/4.52M [00:00&lt;00:00, 15.8MB/s]"
          }
        },
        "6a6753af0126410caf5a7bd3156be363": {
          "model_module": "@jupyter-widgets/base",
          "model_name": "LayoutModel",
          "model_module_version": "1.2.0",
          "state": {
            "_model_module": "@jupyter-widgets/base",
            "_model_module_version": "1.2.0",
            "_model_name": "LayoutModel",
            "_view_count": null,
            "_view_module": "@jupyter-widgets/base",
            "_view_module_version": "1.2.0",
            "_view_name": "LayoutView",
            "align_content": null,
            "align_items": null,
            "align_self": null,
            "border": null,
            "bottom": null,
            "display": null,
            "flex": null,
            "flex_flow": null,
            "grid_area": null,
            "grid_auto_columns": null,
            "grid_auto_flow": null,
            "grid_auto_rows": null,
            "grid_column": null,
            "grid_gap": null,
            "grid_row": null,
            "grid_template_areas": null,
            "grid_template_columns": null,
            "grid_template_rows": null,
            "height": null,
            "justify_content": null,
            "justify_items": null,
            "left": null,
            "margin": null,
            "max_height": null,
            "max_width": null,
            "min_height": null,
            "min_width": null,
            "object_fit": null,
            "object_position": null,
            "order": null,
            "overflow": null,
            "overflow_x": null,
            "overflow_y": null,
            "padding": null,
            "right": null,
            "top": null,
            "visibility": null,
            "width": null
          }
        },
        "9b5fdb698e554877928dd042850b4e0f": {
          "model_module": "@jupyter-widgets/base",
          "model_name": "LayoutModel",
          "model_module_version": "1.2.0",
          "state": {
            "_model_module": "@jupyter-widgets/base",
            "_model_module_version": "1.2.0",
            "_model_name": "LayoutModel",
            "_view_count": null,
            "_view_module": "@jupyter-widgets/base",
            "_view_module_version": "1.2.0",
            "_view_name": "LayoutView",
            "align_content": null,
            "align_items": null,
            "align_self": null,
            "border": null,
            "bottom": null,
            "display": null,
            "flex": null,
            "flex_flow": null,
            "grid_area": null,
            "grid_auto_columns": null,
            "grid_auto_flow": null,
            "grid_auto_rows": null,
            "grid_column": null,
            "grid_gap": null,
            "grid_row": null,
            "grid_template_areas": null,
            "grid_template_columns": null,
            "grid_template_rows": null,
            "height": null,
            "justify_content": null,
            "justify_items": null,
            "left": null,
            "margin": null,
            "max_height": null,
            "max_width": null,
            "min_height": null,
            "min_width": null,
            "object_fit": null,
            "object_position": null,
            "order": null,
            "overflow": null,
            "overflow_x": null,
            "overflow_y": null,
            "padding": null,
            "right": null,
            "top": null,
            "visibility": null,
            "width": null
          }
        },
        "08b02540664c48c383454688a4dbdb7e": {
          "model_module": "@jupyter-widgets/controls",
          "model_name": "DescriptionStyleModel",
          "model_module_version": "1.5.0",
          "state": {
            "_model_module": "@jupyter-widgets/controls",
            "_model_module_version": "1.5.0",
            "_model_name": "DescriptionStyleModel",
            "_view_count": null,
            "_view_module": "@jupyter-widgets/base",
            "_view_module_version": "1.2.0",
            "_view_name": "StyleView",
            "description_width": ""
          }
        },
        "f3621d15333f429195fae33e14220f95": {
          "model_module": "@jupyter-widgets/base",
          "model_name": "LayoutModel",
          "model_module_version": "1.2.0",
          "state": {
            "_model_module": "@jupyter-widgets/base",
            "_model_module_version": "1.2.0",
            "_model_name": "LayoutModel",
            "_view_count": null,
            "_view_module": "@jupyter-widgets/base",
            "_view_module_version": "1.2.0",
            "_view_name": "LayoutView",
            "align_content": null,
            "align_items": null,
            "align_self": null,
            "border": null,
            "bottom": null,
            "display": null,
            "flex": null,
            "flex_flow": null,
            "grid_area": null,
            "grid_auto_columns": null,
            "grid_auto_flow": null,
            "grid_auto_rows": null,
            "grid_column": null,
            "grid_gap": null,
            "grid_row": null,
            "grid_template_areas": null,
            "grid_template_columns": null,
            "grid_template_rows": null,
            "height": null,
            "justify_content": null,
            "justify_items": null,
            "left": null,
            "margin": null,
            "max_height": null,
            "max_width": null,
            "min_height": null,
            "min_width": null,
            "object_fit": null,
            "object_position": null,
            "order": null,
            "overflow": null,
            "overflow_x": null,
            "overflow_y": null,
            "padding": null,
            "right": null,
            "top": null,
            "visibility": null,
            "width": null
          }
        },
        "72aa4a358bff40a48eebbb1ef78d8952": {
          "model_module": "@jupyter-widgets/controls",
          "model_name": "ProgressStyleModel",
          "model_module_version": "1.5.0",
          "state": {
            "_model_module": "@jupyter-widgets/controls",
            "_model_module_version": "1.5.0",
            "_model_name": "ProgressStyleModel",
            "_view_count": null,
            "_view_module": "@jupyter-widgets/base",
            "_view_module_version": "1.2.0",
            "_view_name": "StyleView",
            "bar_color": null,
            "description_width": ""
          }
        },
        "d376e8ba33cb4f1fa2bded0bbb0da9ac": {
          "model_module": "@jupyter-widgets/base",
          "model_name": "LayoutModel",
          "model_module_version": "1.2.0",
          "state": {
            "_model_module": "@jupyter-widgets/base",
            "_model_module_version": "1.2.0",
            "_model_name": "LayoutModel",
            "_view_count": null,
            "_view_module": "@jupyter-widgets/base",
            "_view_module_version": "1.2.0",
            "_view_name": "LayoutView",
            "align_content": null,
            "align_items": null,
            "align_self": null,
            "border": null,
            "bottom": null,
            "display": null,
            "flex": null,
            "flex_flow": null,
            "grid_area": null,
            "grid_auto_columns": null,
            "grid_auto_flow": null,
            "grid_auto_rows": null,
            "grid_column": null,
            "grid_gap": null,
            "grid_row": null,
            "grid_template_areas": null,
            "grid_template_columns": null,
            "grid_template_rows": null,
            "height": null,
            "justify_content": null,
            "justify_items": null,
            "left": null,
            "margin": null,
            "max_height": null,
            "max_width": null,
            "min_height": null,
            "min_width": null,
            "object_fit": null,
            "object_position": null,
            "order": null,
            "overflow": null,
            "overflow_x": null,
            "overflow_y": null,
            "padding": null,
            "right": null,
            "top": null,
            "visibility": null,
            "width": null
          }
        },
        "6a69b57dcb0d48fbb4926d04532c2906": {
          "model_module": "@jupyter-widgets/controls",
          "model_name": "DescriptionStyleModel",
          "model_module_version": "1.5.0",
          "state": {
            "_model_module": "@jupyter-widgets/controls",
            "_model_module_version": "1.5.0",
            "_model_name": "DescriptionStyleModel",
            "_view_count": null,
            "_view_module": "@jupyter-widgets/base",
            "_view_module_version": "1.2.0",
            "_view_name": "StyleView",
            "description_width": ""
          }
        },
        "e123e41a931a4d3b82b812496613720b": {
          "model_module": "@jupyter-widgets/controls",
          "model_name": "HBoxModel",
          "model_module_version": "1.5.0",
          "state": {
            "_dom_classes": [],
            "_model_module": "@jupyter-widgets/controls",
            "_model_module_version": "1.5.0",
            "_model_name": "HBoxModel",
            "_view_count": null,
            "_view_module": "@jupyter-widgets/controls",
            "_view_module_version": "1.5.0",
            "_view_name": "HBoxView",
            "box_style": "",
            "children": [
              "IPY_MODEL_53b2a3180ae84ff1a5119669ca700ae0",
              "IPY_MODEL_071eca5ecf9c4b309fffae0adfa29ead",
              "IPY_MODEL_ab48a53ce62f4bed9f2b4eb4a102bd4d"
            ],
            "layout": "IPY_MODEL_67571d9d1cc6457ba3d5347896bd1316"
          }
        },
        "53b2a3180ae84ff1a5119669ca700ae0": {
          "model_module": "@jupyter-widgets/controls",
          "model_name": "HTMLModel",
          "model_module_version": "1.5.0",
          "state": {
            "_dom_classes": [],
            "_model_module": "@jupyter-widgets/controls",
            "_model_module_version": "1.5.0",
            "_model_name": "HTMLModel",
            "_view_count": null,
            "_view_module": "@jupyter-widgets/controls",
            "_view_module_version": "1.5.0",
            "_view_name": "HTMLView",
            "description": "",
            "description_tooltip": null,
            "layout": "IPY_MODEL_0f679ffc93a34a66b376176ff5c975b6",
            "placeholder": "​",
            "style": "IPY_MODEL_6ae51c1161634db3a3699d0d35715aa3",
            "value": "config.json: 100%"
          }
        },
        "071eca5ecf9c4b309fffae0adfa29ead": {
          "model_module": "@jupyter-widgets/controls",
          "model_name": "FloatProgressModel",
          "model_module_version": "1.5.0",
          "state": {
            "_dom_classes": [],
            "_model_module": "@jupyter-widgets/controls",
            "_model_module_version": "1.5.0",
            "_model_name": "FloatProgressModel",
            "_view_count": null,
            "_view_module": "@jupyter-widgets/controls",
            "_view_module_version": "1.5.0",
            "_view_name": "ProgressView",
            "bar_style": "success",
            "description": "",
            "description_tooltip": null,
            "layout": "IPY_MODEL_2b2d05e50869463f90aa2bd6a5679f0d",
            "max": 843,
            "min": 0,
            "orientation": "horizontal",
            "style": "IPY_MODEL_d76cf9d3ae8841dd858787b934e3fb70",
            "value": 843
          }
        },
        "ab48a53ce62f4bed9f2b4eb4a102bd4d": {
          "model_module": "@jupyter-widgets/controls",
          "model_name": "HTMLModel",
          "model_module_version": "1.5.0",
          "state": {
            "_dom_classes": [],
            "_model_module": "@jupyter-widgets/controls",
            "_model_module_version": "1.5.0",
            "_model_name": "HTMLModel",
            "_view_count": null,
            "_view_module": "@jupyter-widgets/controls",
            "_view_module_version": "1.5.0",
            "_view_name": "HTMLView",
            "description": "",
            "description_tooltip": null,
            "layout": "IPY_MODEL_878e17d6e0b74410a5aa9d5bf6a76f3d",
            "placeholder": "​",
            "style": "IPY_MODEL_d53e8e0859b140698a0681fb293fb9b3",
            "value": " 843/843 [00:00&lt;00:00, 2.80kB/s]"
          }
        },
        "67571d9d1cc6457ba3d5347896bd1316": {
          "model_module": "@jupyter-widgets/base",
          "model_name": "LayoutModel",
          "model_module_version": "1.2.0",
          "state": {
            "_model_module": "@jupyter-widgets/base",
            "_model_module_version": "1.2.0",
            "_model_name": "LayoutModel",
            "_view_count": null,
            "_view_module": "@jupyter-widgets/base",
            "_view_module_version": "1.2.0",
            "_view_name": "LayoutView",
            "align_content": null,
            "align_items": null,
            "align_self": null,
            "border": null,
            "bottom": null,
            "display": null,
            "flex": null,
            "flex_flow": null,
            "grid_area": null,
            "grid_auto_columns": null,
            "grid_auto_flow": null,
            "grid_auto_rows": null,
            "grid_column": null,
            "grid_gap": null,
            "grid_row": null,
            "grid_template_areas": null,
            "grid_template_columns": null,
            "grid_template_rows": null,
            "height": null,
            "justify_content": null,
            "justify_items": null,
            "left": null,
            "margin": null,
            "max_height": null,
            "max_width": null,
            "min_height": null,
            "min_width": null,
            "object_fit": null,
            "object_position": null,
            "order": null,
            "overflow": null,
            "overflow_x": null,
            "overflow_y": null,
            "padding": null,
            "right": null,
            "top": null,
            "visibility": null,
            "width": null
          }
        },
        "0f679ffc93a34a66b376176ff5c975b6": {
          "model_module": "@jupyter-widgets/base",
          "model_name": "LayoutModel",
          "model_module_version": "1.2.0",
          "state": {
            "_model_module": "@jupyter-widgets/base",
            "_model_module_version": "1.2.0",
            "_model_name": "LayoutModel",
            "_view_count": null,
            "_view_module": "@jupyter-widgets/base",
            "_view_module_version": "1.2.0",
            "_view_name": "LayoutView",
            "align_content": null,
            "align_items": null,
            "align_self": null,
            "border": null,
            "bottom": null,
            "display": null,
            "flex": null,
            "flex_flow": null,
            "grid_area": null,
            "grid_auto_columns": null,
            "grid_auto_flow": null,
            "grid_auto_rows": null,
            "grid_column": null,
            "grid_gap": null,
            "grid_row": null,
            "grid_template_areas": null,
            "grid_template_columns": null,
            "grid_template_rows": null,
            "height": null,
            "justify_content": null,
            "justify_items": null,
            "left": null,
            "margin": null,
            "max_height": null,
            "max_width": null,
            "min_height": null,
            "min_width": null,
            "object_fit": null,
            "object_position": null,
            "order": null,
            "overflow": null,
            "overflow_x": null,
            "overflow_y": null,
            "padding": null,
            "right": null,
            "top": null,
            "visibility": null,
            "width": null
          }
        },
        "6ae51c1161634db3a3699d0d35715aa3": {
          "model_module": "@jupyter-widgets/controls",
          "model_name": "DescriptionStyleModel",
          "model_module_version": "1.5.0",
          "state": {
            "_model_module": "@jupyter-widgets/controls",
            "_model_module_version": "1.5.0",
            "_model_name": "DescriptionStyleModel",
            "_view_count": null,
            "_view_module": "@jupyter-widgets/base",
            "_view_module_version": "1.2.0",
            "_view_name": "StyleView",
            "description_width": ""
          }
        },
        "2b2d05e50869463f90aa2bd6a5679f0d": {
          "model_module": "@jupyter-widgets/base",
          "model_name": "LayoutModel",
          "model_module_version": "1.2.0",
          "state": {
            "_model_module": "@jupyter-widgets/base",
            "_model_module_version": "1.2.0",
            "_model_name": "LayoutModel",
            "_view_count": null,
            "_view_module": "@jupyter-widgets/base",
            "_view_module_version": "1.2.0",
            "_view_name": "LayoutView",
            "align_content": null,
            "align_items": null,
            "align_self": null,
            "border": null,
            "bottom": null,
            "display": null,
            "flex": null,
            "flex_flow": null,
            "grid_area": null,
            "grid_auto_columns": null,
            "grid_auto_flow": null,
            "grid_auto_rows": null,
            "grid_column": null,
            "grid_gap": null,
            "grid_row": null,
            "grid_template_areas": null,
            "grid_template_columns": null,
            "grid_template_rows": null,
            "height": null,
            "justify_content": null,
            "justify_items": null,
            "left": null,
            "margin": null,
            "max_height": null,
            "max_width": null,
            "min_height": null,
            "min_width": null,
            "object_fit": null,
            "object_position": null,
            "order": null,
            "overflow": null,
            "overflow_x": null,
            "overflow_y": null,
            "padding": null,
            "right": null,
            "top": null,
            "visibility": null,
            "width": null
          }
        },
        "d76cf9d3ae8841dd858787b934e3fb70": {
          "model_module": "@jupyter-widgets/controls",
          "model_name": "ProgressStyleModel",
          "model_module_version": "1.5.0",
          "state": {
            "_model_module": "@jupyter-widgets/controls",
            "_model_module_version": "1.5.0",
            "_model_name": "ProgressStyleModel",
            "_view_count": null,
            "_view_module": "@jupyter-widgets/base",
            "_view_module_version": "1.2.0",
            "_view_name": "StyleView",
            "bar_color": null,
            "description_width": ""
          }
        },
        "878e17d6e0b74410a5aa9d5bf6a76f3d": {
          "model_module": "@jupyter-widgets/base",
          "model_name": "LayoutModel",
          "model_module_version": "1.2.0",
          "state": {
            "_model_module": "@jupyter-widgets/base",
            "_model_module_version": "1.2.0",
            "_model_name": "LayoutModel",
            "_view_count": null,
            "_view_module": "@jupyter-widgets/base",
            "_view_module_version": "1.2.0",
            "_view_name": "LayoutView",
            "align_content": null,
            "align_items": null,
            "align_self": null,
            "border": null,
            "bottom": null,
            "display": null,
            "flex": null,
            "flex_flow": null,
            "grid_area": null,
            "grid_auto_columns": null,
            "grid_auto_flow": null,
            "grid_auto_rows": null,
            "grid_column": null,
            "grid_gap": null,
            "grid_row": null,
            "grid_template_areas": null,
            "grid_template_columns": null,
            "grid_template_rows": null,
            "height": null,
            "justify_content": null,
            "justify_items": null,
            "left": null,
            "margin": null,
            "max_height": null,
            "max_width": null,
            "min_height": null,
            "min_width": null,
            "object_fit": null,
            "object_position": null,
            "order": null,
            "overflow": null,
            "overflow_x": null,
            "overflow_y": null,
            "padding": null,
            "right": null,
            "top": null,
            "visibility": null,
            "width": null
          }
        },
        "d53e8e0859b140698a0681fb293fb9b3": {
          "model_module": "@jupyter-widgets/controls",
          "model_name": "DescriptionStyleModel",
          "model_module_version": "1.5.0",
          "state": {
            "_model_module": "@jupyter-widgets/controls",
            "_model_module_version": "1.5.0",
            "_model_name": "DescriptionStyleModel",
            "_view_count": null,
            "_view_module": "@jupyter-widgets/base",
            "_view_module_version": "1.2.0",
            "_view_name": "StyleView",
            "description_width": ""
          }
        },
        "4630ec301fbd49d68829ff67b99d21c8": {
          "model_module": "@jupyter-widgets/controls",
          "model_name": "HBoxModel",
          "model_module_version": "1.5.0",
          "state": {
            "_dom_classes": [],
            "_model_module": "@jupyter-widgets/controls",
            "_model_module_version": "1.5.0",
            "_model_name": "HBoxModel",
            "_view_count": null,
            "_view_module": "@jupyter-widgets/controls",
            "_view_module_version": "1.5.0",
            "_view_name": "HBoxView",
            "box_style": "",
            "children": [
              "IPY_MODEL_9031e08c3cbc4dc3954b6b0b3ab9c8f3",
              "IPY_MODEL_c36f4cd3e6854bc5b3d3899a62575484",
              "IPY_MODEL_c43f91a86a434fceae68e78d43713976"
            ],
            "layout": "IPY_MODEL_14f8fa431d824f8eb028790ca97fdfd2"
          }
        },
        "9031e08c3cbc4dc3954b6b0b3ab9c8f3": {
          "model_module": "@jupyter-widgets/controls",
          "model_name": "HTMLModel",
          "model_module_version": "1.5.0",
          "state": {
            "_dom_classes": [],
            "_model_module": "@jupyter-widgets/controls",
            "_model_module_version": "1.5.0",
            "_model_name": "HTMLModel",
            "_view_count": null,
            "_view_module": "@jupyter-widgets/controls",
            "_view_module_version": "1.5.0",
            "_view_name": "HTMLView",
            "description": "",
            "description_tooltip": null,
            "layout": "IPY_MODEL_cba0a307c2c34b61a23a0709b3317bef",
            "placeholder": "​",
            "style": "IPY_MODEL_2ad1100213ec40d1820b50055808f966",
            "value": "model.safetensors: 100%"
          }
        },
        "c36f4cd3e6854bc5b3d3899a62575484": {
          "model_module": "@jupyter-widgets/controls",
          "model_name": "FloatProgressModel",
          "model_module_version": "1.5.0",
          "state": {
            "_dom_classes": [],
            "_model_module": "@jupyter-widgets/controls",
            "_model_module_version": "1.5.0",
            "_model_name": "FloatProgressModel",
            "_view_count": null,
            "_view_module": "@jupyter-widgets/controls",
            "_view_module_version": "1.5.0",
            "_view_name": "ProgressView",
            "bar_style": "success",
            "description": "",
            "description_tooltip": null,
            "layout": "IPY_MODEL_f492ed6e4bc84b579621c7746ef9ff40",
            "max": 552576030,
            "min": 0,
            "orientation": "horizontal",
            "style": "IPY_MODEL_5ffe09a77acc4d378507941b41f8b49b",
            "value": 552576030
          }
        },
        "c43f91a86a434fceae68e78d43713976": {
          "model_module": "@jupyter-widgets/controls",
          "model_name": "HTMLModel",
          "model_module_version": "1.5.0",
          "state": {
            "_dom_classes": [],
            "_model_module": "@jupyter-widgets/controls",
            "_model_module_version": "1.5.0",
            "_model_name": "HTMLModel",
            "_view_count": null,
            "_view_module": "@jupyter-widgets/controls",
            "_view_module_version": "1.5.0",
            "_view_name": "HTMLView",
            "description": "",
            "description_tooltip": null,
            "layout": "IPY_MODEL_bec2ce9833a84c07a040da2f19cfc19d",
            "placeholder": "​",
            "style": "IPY_MODEL_8c173c06eada4da389304ab8768fc430",
            "value": " 553M/553M [00:02&lt;00:00, 234MB/s]"
          }
        },
        "14f8fa431d824f8eb028790ca97fdfd2": {
          "model_module": "@jupyter-widgets/base",
          "model_name": "LayoutModel",
          "model_module_version": "1.2.0",
          "state": {
            "_model_module": "@jupyter-widgets/base",
            "_model_module_version": "1.2.0",
            "_model_name": "LayoutModel",
            "_view_count": null,
            "_view_module": "@jupyter-widgets/base",
            "_view_module_version": "1.2.0",
            "_view_name": "LayoutView",
            "align_content": null,
            "align_items": null,
            "align_self": null,
            "border": null,
            "bottom": null,
            "display": null,
            "flex": null,
            "flex_flow": null,
            "grid_area": null,
            "grid_auto_columns": null,
            "grid_auto_flow": null,
            "grid_auto_rows": null,
            "grid_column": null,
            "grid_gap": null,
            "grid_row": null,
            "grid_template_areas": null,
            "grid_template_columns": null,
            "grid_template_rows": null,
            "height": null,
            "justify_content": null,
            "justify_items": null,
            "left": null,
            "margin": null,
            "max_height": null,
            "max_width": null,
            "min_height": null,
            "min_width": null,
            "object_fit": null,
            "object_position": null,
            "order": null,
            "overflow": null,
            "overflow_x": null,
            "overflow_y": null,
            "padding": null,
            "right": null,
            "top": null,
            "visibility": null,
            "width": null
          }
        },
        "cba0a307c2c34b61a23a0709b3317bef": {
          "model_module": "@jupyter-widgets/base",
          "model_name": "LayoutModel",
          "model_module_version": "1.2.0",
          "state": {
            "_model_module": "@jupyter-widgets/base",
            "_model_module_version": "1.2.0",
            "_model_name": "LayoutModel",
            "_view_count": null,
            "_view_module": "@jupyter-widgets/base",
            "_view_module_version": "1.2.0",
            "_view_name": "LayoutView",
            "align_content": null,
            "align_items": null,
            "align_self": null,
            "border": null,
            "bottom": null,
            "display": null,
            "flex": null,
            "flex_flow": null,
            "grid_area": null,
            "grid_auto_columns": null,
            "grid_auto_flow": null,
            "grid_auto_rows": null,
            "grid_column": null,
            "grid_gap": null,
            "grid_row": null,
            "grid_template_areas": null,
            "grid_template_columns": null,
            "grid_template_rows": null,
            "height": null,
            "justify_content": null,
            "justify_items": null,
            "left": null,
            "margin": null,
            "max_height": null,
            "max_width": null,
            "min_height": null,
            "min_width": null,
            "object_fit": null,
            "object_position": null,
            "order": null,
            "overflow": null,
            "overflow_x": null,
            "overflow_y": null,
            "padding": null,
            "right": null,
            "top": null,
            "visibility": null,
            "width": null
          }
        },
        "2ad1100213ec40d1820b50055808f966": {
          "model_module": "@jupyter-widgets/controls",
          "model_name": "DescriptionStyleModel",
          "model_module_version": "1.5.0",
          "state": {
            "_model_module": "@jupyter-widgets/controls",
            "_model_module_version": "1.5.0",
            "_model_name": "DescriptionStyleModel",
            "_view_count": null,
            "_view_module": "@jupyter-widgets/base",
            "_view_module_version": "1.2.0",
            "_view_name": "StyleView",
            "description_width": ""
          }
        },
        "f492ed6e4bc84b579621c7746ef9ff40": {
          "model_module": "@jupyter-widgets/base",
          "model_name": "LayoutModel",
          "model_module_version": "1.2.0",
          "state": {
            "_model_module": "@jupyter-widgets/base",
            "_model_module_version": "1.2.0",
            "_model_name": "LayoutModel",
            "_view_count": null,
            "_view_module": "@jupyter-widgets/base",
            "_view_module_version": "1.2.0",
            "_view_name": "LayoutView",
            "align_content": null,
            "align_items": null,
            "align_self": null,
            "border": null,
            "bottom": null,
            "display": null,
            "flex": null,
            "flex_flow": null,
            "grid_area": null,
            "grid_auto_columns": null,
            "grid_auto_flow": null,
            "grid_auto_rows": null,
            "grid_column": null,
            "grid_gap": null,
            "grid_row": null,
            "grid_template_areas": null,
            "grid_template_columns": null,
            "grid_template_rows": null,
            "height": null,
            "justify_content": null,
            "justify_items": null,
            "left": null,
            "margin": null,
            "max_height": null,
            "max_width": null,
            "min_height": null,
            "min_width": null,
            "object_fit": null,
            "object_position": null,
            "order": null,
            "overflow": null,
            "overflow_x": null,
            "overflow_y": null,
            "padding": null,
            "right": null,
            "top": null,
            "visibility": null,
            "width": null
          }
        },
        "5ffe09a77acc4d378507941b41f8b49b": {
          "model_module": "@jupyter-widgets/controls",
          "model_name": "ProgressStyleModel",
          "model_module_version": "1.5.0",
          "state": {
            "_model_module": "@jupyter-widgets/controls",
            "_model_module_version": "1.5.0",
            "_model_name": "ProgressStyleModel",
            "_view_count": null,
            "_view_module": "@jupyter-widgets/base",
            "_view_module_version": "1.2.0",
            "_view_name": "StyleView",
            "bar_color": null,
            "description_width": ""
          }
        },
        "bec2ce9833a84c07a040da2f19cfc19d": {
          "model_module": "@jupyter-widgets/base",
          "model_name": "LayoutModel",
          "model_module_version": "1.2.0",
          "state": {
            "_model_module": "@jupyter-widgets/base",
            "_model_module_version": "1.2.0",
            "_model_name": "LayoutModel",
            "_view_count": null,
            "_view_module": "@jupyter-widgets/base",
            "_view_module_version": "1.2.0",
            "_view_name": "LayoutView",
            "align_content": null,
            "align_items": null,
            "align_self": null,
            "border": null,
            "bottom": null,
            "display": null,
            "flex": null,
            "flex_flow": null,
            "grid_area": null,
            "grid_auto_columns": null,
            "grid_auto_flow": null,
            "grid_auto_rows": null,
            "grid_column": null,
            "grid_gap": null,
            "grid_row": null,
            "grid_template_areas": null,
            "grid_template_columns": null,
            "grid_template_rows": null,
            "height": null,
            "justify_content": null,
            "justify_items": null,
            "left": null,
            "margin": null,
            "max_height": null,
            "max_width": null,
            "min_height": null,
            "min_width": null,
            "object_fit": null,
            "object_position": null,
            "order": null,
            "overflow": null,
            "overflow_x": null,
            "overflow_y": null,
            "padding": null,
            "right": null,
            "top": null,
            "visibility": null,
            "width": null
          }
        },
        "8c173c06eada4da389304ab8768fc430": {
          "model_module": "@jupyter-widgets/controls",
          "model_name": "DescriptionStyleModel",
          "model_module_version": "1.5.0",
          "state": {
            "_model_module": "@jupyter-widgets/controls",
            "_model_module_version": "1.5.0",
            "_model_name": "DescriptionStyleModel",
            "_view_count": null,
            "_view_module": "@jupyter-widgets/base",
            "_view_module_version": "1.2.0",
            "_view_name": "StyleView",
            "description_width": ""
          }
        }
      }
    }
  },
  "nbformat": 4,
  "nbformat_minor": 0
}