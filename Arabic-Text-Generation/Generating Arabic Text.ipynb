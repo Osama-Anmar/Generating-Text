{
 "cells": [
  {
   "cell_type": "markdown",
   "metadata": {},
   "source": [
    "**Import Libraries**"
   ]
  },
  {
   "cell_type": "code",
   "execution_count": 1,
   "metadata": {},
   "outputs": [],
   "source": [
    "import tensorflow as tf\n",
    "import numpy as np\n",
    "import warnings\n",
    "import os\n",
    "import random\n",
    "random.seed(42)\n",
    "np.random.seed(42)\n",
    "os.environ['PYTHONHASHSEED'] = str(42)\n",
    "tf.random.set_seed(42)\n",
    "from nlp_model_text_preprocessing import index_the_words, text_to_sequence, pad_sequences, one_hot_encoding, index_the_char, text_to_sequence_char, char_sequence_to_text, word_sequence_to_text\n",
    "from arabic_text_normalization import text_normalization\n",
    "from deep_learning import nlp_model_word, nlp_model_char, model_compile_word, model_compile_char, model_fit, plot_word_model_change, plot_char_model_change\n",
    "from model_testing import model_testing_char, model_testing_word\n",
    "from transformers_models import load_dataset, data_collator, train_arguments, training_, save_model_tokenizer, transformer_testing,transformes_model\n",
    "tf.keras.utils.set_random_seed(42)\n",
    "tf.config.experimental.enable_op_determinism()"
   ]
  },
  {
   "cell_type": "markdown",
   "metadata": {},
   "source": [
    "**Ignore Warnings**"
   ]
  },
  {
   "cell_type": "code",
   "execution_count": 2,
   "metadata": {},
   "outputs": [],
   "source": [
    "os.environ['TF_CPP_MIN_LOG_LEVEL'] = '3'\n",
    "warnings.filterwarnings(action='ignore')"
   ]
  },
  {
   "cell_type": "markdown",
   "metadata": {},
   "source": [
    "**Read Data**"
   ]
  },
  {
   "cell_type": "code",
   "execution_count": 3,
   "metadata": {},
   "outputs": [
    {
     "data": {
      "text/plain": [
       "1242"
      ]
     },
     "execution_count": 3,
     "metadata": {},
     "output_type": "execute_result"
    }
   ],
   "source": [
    "Corpus = open(\"الخيميائي.txt\", encoding='utf-8-sig').read().lower().split(\"\\n\")\n",
    "Corpus = [line.strip() for line in Corpus if line.strip()]\n",
    "Corpus =  list(map(text_normalization, Corpus))\n",
    "len(Corpus)"
   ]
  },
  {
   "cell_type": "code",
   "execution_count": 4,
   "metadata": {},
   "outputs": [],
   "source": [
    "with open('Cleaned_Corpus.txt', 'w') as f:\n",
    "    for line in Corpus:\n",
    "        f.write(line + '\\n') "
   ]
  },
  {
   "cell_type": "markdown",
   "metadata": {},
   "source": [
    "**1-Tokens Based On Word**"
   ]
  },
  {
   "cell_type": "code",
   "execution_count": 5,
   "metadata": {},
   "outputs": [
    {
     "data": {
      "text/plain": [
       "8911"
      ]
     },
     "execution_count": 5,
     "metadata": {},
     "output_type": "execute_result"
    }
   ],
   "source": [
    "# Generate Word To Index, Index To Word, And Find Count Of All Words\n",
    "all_words, words_index, index_to_words = index_the_words(Corpus)\n",
    "all_words"
   ]
  },
  {
   "cell_type": "code",
   "execution_count": 6,
   "metadata": {},
   "outputs": [
    {
     "data": {
      "text/plain": [
       "163"
      ]
     },
     "execution_count": 6,
     "metadata": {},
     "output_type": "execute_result"
    }
   ],
   "source": [
    "# Generate Input Sequences And Get The Max Length\n",
    "input_sequence_ = []\n",
    "for line in Corpus:\n",
    "    token = text_to_sequence(words_index, line)\n",
    "    for i in range(1, len(token)):\n",
    "        n_grams = token[:i+1]\n",
    "        input_sequence_.append(n_grams)\n",
    "        \n",
    "max_length_word =  max([len(x) for x in input_sequence_])\n",
    "max_length_word"
   ]
  },
  {
   "cell_type": "code",
   "execution_count": 7,
   "metadata": {},
   "outputs": [
    {
     "data": {
      "text/plain": [
       "array([[   0,    0,    0, ...,    0, 3408, 1323],\n",
       "       [   0,    0,    0, ..., 3408, 1323, 2888],\n",
       "       [   0,    0,    0, ..., 1323, 2888, 5498],\n",
       "       ...,\n",
       "       [   0,    0,    0, ...,  512, 8145, 5018],\n",
       "       [   0,    0,    0, ..., 8145, 5018,  664],\n",
       "       [   0,    0,    0, ..., 5018,  664, 5285]])"
      ]
     },
     "execution_count": 7,
     "metadata": {},
     "output_type": "execute_result"
    }
   ],
   "source": [
    "# Padding The The Input Sequence To Make All Sequence In Same Length\n",
    "input_sequence_ = pad_sequences(input_sequence=input_sequence_, max_length=max_length_word)\n",
    "input_sequence_"
   ]
  },
  {
   "cell_type": "code",
   "execution_count": 8,
   "metadata": {},
   "outputs": [],
   "source": [
    "# Generate Train And Label Data For Model\n",
    "train, labels = input_sequence_[:,:-1], input_sequence_[:,-1]"
   ]
  },
  {
   "cell_type": "code",
   "execution_count": 9,
   "metadata": {},
   "outputs": [
    {
     "data": {
      "text/plain": [
       "array([[0., 0., 0., ..., 0., 0., 0.],\n",
       "       [0., 0., 0., ..., 0., 0., 0.],\n",
       "       [0., 0., 0., ..., 0., 0., 0.],\n",
       "       ...,\n",
       "       [0., 0., 0., ..., 0., 0., 0.],\n",
       "       [0., 0., 0., ..., 0., 0., 0.],\n",
       "       [0., 0., 0., ..., 0., 0., 0.]])"
      ]
     },
     "execution_count": 9,
     "metadata": {},
     "output_type": "execute_result"
    }
   ],
   "source": [
    "# Convert Label Data \n",
    "label = one_hot_encoding(labels, all_words)\n",
    "label"
   ]
  },
  {
   "cell_type": "markdown",
   "metadata": {},
   "source": [
    "*Deep Learning Models*"
   ]
  },
  {
   "cell_type": "code",
   "execution_count": 10,
   "metadata": {},
   "outputs": [],
   "source": [
    "# Generate Early Stop Depending On Value Of Loss\n",
    "early_stop = tf.keras.callbacks.EarlyStopping(\n",
    "    monitor='loss',\n",
    "    patience=5,\n",
    "    mode = 'min',\n",
    "    restore_best_weights=True,\n",
    ")"
   ]
  },
  {
   "cell_type": "code",
   "execution_count": 11,
   "metadata": {},
   "outputs": [
    {
     "name": "stdout",
     "output_type": "stream",
     "text": [
      "Epoch 1/150\n",
      "872/872 [==============================] - 35s 38ms/step - loss: 8.2398 - accuracy: 0.0245\n",
      "Epoch 2/150\n",
      "872/872 [==============================] - 32s 37ms/step - loss: 7.7049 - accuracy: 0.0278\n",
      "Epoch 3/150\n",
      "872/872 [==============================] - 33s 38ms/step - loss: 7.4289 - accuracy: 0.0332\n",
      "Epoch 4/150\n",
      "872/872 [==============================] - 34s 39ms/step - loss: 7.0689 - accuracy: 0.0437\n",
      "Epoch 5/150\n",
      "872/872 [==============================] - 34s 39ms/step - loss: 6.5932 - accuracy: 0.0570\n",
      "Epoch 6/150\n",
      "872/872 [==============================] - 34s 39ms/step - loss: 6.0516 - accuracy: 0.0769\n",
      "Epoch 7/150\n",
      "872/872 [==============================] - 34s 39ms/step - loss: 5.4998 - accuracy: 0.1061\n",
      "Epoch 8/150\n",
      "872/872 [==============================] - 35s 40ms/step - loss: 4.9615 - accuracy: 0.1586\n",
      "Epoch 9/150\n",
      "872/872 [==============================] - 34s 40ms/step - loss: 4.4331 - accuracy: 0.2349\n",
      "Epoch 10/150\n",
      "872/872 [==============================] - 34s 40ms/step - loss: 3.9273 - accuracy: 0.3231\n",
      "Epoch 11/150\n",
      "872/872 [==============================] - 34s 39ms/step - loss: 3.4416 - accuracy: 0.4065\n",
      "Epoch 12/150\n",
      "872/872 [==============================] - 35s 40ms/step - loss: 2.9927 - accuracy: 0.4832\n",
      "Epoch 13/150\n",
      "872/872 [==============================] - 38s 44ms/step - loss: 2.5925 - accuracy: 0.5486\n",
      "Epoch 14/150\n",
      "872/872 [==============================] - 36s 41ms/step - loss: 2.2441 - accuracy: 0.6055\n",
      "Epoch 15/150\n",
      "872/872 [==============================] - 37s 42ms/step - loss: 1.9413 - accuracy: 0.6613\n",
      "Epoch 16/150\n",
      "872/872 [==============================] - 37s 42ms/step - loss: 1.6840 - accuracy: 0.7072\n",
      "Epoch 17/150\n",
      "872/872 [==============================] - 37s 42ms/step - loss: 1.4511 - accuracy: 0.7497\n",
      "Epoch 18/150\n",
      "872/872 [==============================] - 38s 43ms/step - loss: 1.2500 - accuracy: 0.7858\n",
      "Epoch 19/150\n",
      "872/872 [==============================] - 37s 42ms/step - loss: 1.0749 - accuracy: 0.8193\n",
      "Epoch 20/150\n",
      "872/872 [==============================] - 35s 41ms/step - loss: 0.9186 - accuracy: 0.8501\n",
      "Epoch 21/150\n",
      "872/872 [==============================] - 37s 42ms/step - loss: 0.7812 - accuracy: 0.8754\n",
      "Epoch 22/150\n",
      "872/872 [==============================] - 37s 42ms/step - loss: 0.6652 - accuracy: 0.8967\n",
      "Epoch 23/150\n",
      "872/872 [==============================] - 37s 42ms/step - loss: 0.5652 - accuracy: 0.9143\n",
      "Epoch 24/150\n",
      "872/872 [==============================] - 36s 42ms/step - loss: 0.4809 - accuracy: 0.9280\n",
      "Epoch 25/150\n",
      "872/872 [==============================] - 36s 42ms/step - loss: 0.4080 - accuracy: 0.9399\n",
      "Epoch 26/150\n",
      "872/872 [==============================] - 37s 42ms/step - loss: 0.3526 - accuracy: 0.9477\n",
      "Epoch 27/150\n",
      "872/872 [==============================] - 38s 44ms/step - loss: 0.2992 - accuracy: 0.9548\n",
      "Epoch 28/150\n",
      "872/872 [==============================] - 37s 42ms/step - loss: 0.2583 - accuracy: 0.9599\n",
      "Epoch 29/150\n",
      "872/872 [==============================] - 35s 40ms/step - loss: 0.2282 - accuracy: 0.9619\n",
      "Epoch 30/150\n",
      "872/872 [==============================] - 37s 43ms/step - loss: 0.2044 - accuracy: 0.9633\n",
      "Epoch 31/150\n",
      "872/872 [==============================] - 36s 41ms/step - loss: 0.1791 - accuracy: 0.9662\n",
      "Epoch 32/150\n",
      "872/872 [==============================] - 35s 40ms/step - loss: 0.1652 - accuracy: 0.9663\n",
      "Epoch 33/150\n",
      "872/872 [==============================] - 34s 39ms/step - loss: 0.1531 - accuracy: 0.9672\n",
      "Epoch 34/150\n",
      "872/872 [==============================] - 35s 40ms/step - loss: 0.1436 - accuracy: 0.9680\n",
      "Epoch 35/150\n",
      "872/872 [==============================] - 37s 43ms/step - loss: 0.1353 - accuracy: 0.9676\n",
      "Epoch 36/150\n",
      "872/872 [==============================] - 35s 40ms/step - loss: 0.1300 - accuracy: 0.9675\n",
      "Epoch 37/150\n",
      "872/872 [==============================] - 35s 40ms/step - loss: 0.1247 - accuracy: 0.9680\n",
      "Epoch 38/150\n",
      "872/872 [==============================] - 35s 40ms/step - loss: 0.1274 - accuracy: 0.9675\n",
      "Epoch 39/150\n",
      "872/872 [==============================] - 37s 43ms/step - loss: 0.1216 - accuracy: 0.9669\n",
      "Epoch 40/150\n",
      "872/872 [==============================] - 39s 44ms/step - loss: 0.1129 - accuracy: 0.9669\n",
      "Epoch 41/150\n",
      "872/872 [==============================] - 37s 43ms/step - loss: 0.1111 - accuracy: 0.9671\n",
      "Epoch 42/150\n",
      "872/872 [==============================] - 37s 42ms/step - loss: 0.1078 - accuracy: 0.9677\n",
      "Epoch 43/150\n",
      "872/872 [==============================] - 36s 41ms/step - loss: 0.1104 - accuracy: 0.9673\n",
      "Epoch 44/150\n",
      "872/872 [==============================] - 35s 40ms/step - loss: 0.1209 - accuracy: 0.9661\n",
      "Epoch 45/150\n",
      "872/872 [==============================] - 36s 42ms/step - loss: 0.1111 - accuracy: 0.9674\n",
      "Epoch 46/150\n",
      "872/872 [==============================] - 36s 41ms/step - loss: 0.1030 - accuracy: 0.9679\n",
      "Epoch 47/150\n",
      "872/872 [==============================] - 35s 40ms/step - loss: 0.1004 - accuracy: 0.9673\n",
      "Epoch 48/150\n",
      "872/872 [==============================] - 39s 44ms/step - loss: 0.1002 - accuracy: 0.9680\n",
      "Epoch 49/150\n",
      "872/872 [==============================] - 38s 43ms/step - loss: 0.0994 - accuracy: 0.9679\n",
      "Epoch 50/150\n",
      "872/872 [==============================] - 36s 41ms/step - loss: 0.0990 - accuracy: 0.9672\n",
      "Epoch 51/150\n",
      "872/872 [==============================] - 35s 40ms/step - loss: 0.1355 - accuracy: 0.9608\n",
      "Epoch 52/150\n",
      "872/872 [==============================] - 34s 39ms/step - loss: 0.1308 - accuracy: 0.9621\n",
      "Epoch 53/150\n",
      "872/872 [==============================] - 34s 39ms/step - loss: 0.0986 - accuracy: 0.9679\n",
      "Epoch 54/150\n",
      "872/872 [==============================] - 34s 39ms/step - loss: 0.0974 - accuracy: 0.9678\n",
      "Epoch 55/150\n",
      "872/872 [==============================] - 34s 39ms/step - loss: 0.0957 - accuracy: 0.9679\n",
      "Epoch 56/150\n",
      "872/872 [==============================] - 34s 39ms/step - loss: 0.0956 - accuracy: 0.9679\n",
      "Epoch 57/150\n",
      "872/872 [==============================] - 34s 39ms/step - loss: 0.0956 - accuracy: 0.9678\n",
      "Epoch 58/150\n",
      "872/872 [==============================] - 34s 39ms/step - loss: 0.0959 - accuracy: 0.9679\n",
      "Epoch 59/150\n",
      "872/872 [==============================] - 34s 39ms/step - loss: 0.0962 - accuracy: 0.9676\n",
      "Epoch 60/150\n",
      "872/872 [==============================] - 34s 39ms/step - loss: 0.1013 - accuracy: 0.9668\n",
      "Epoch 61/150\n",
      "872/872 [==============================] - 34s 39ms/step - loss: 0.1241 - accuracy: 0.9629\n"
     ]
    },
    {
     "data": {
      "image/png": "[encoded data removed]",
      "text/plain": [
       "<Figure size 640x480 with 1 Axes>"
      ]
     },
     "metadata": {},
     "output_type": "display_data"
    }
   ],
   "source": [
    "# 1-LSTM\n",
    "lstm_model = tf.keras.layers.LSTM(units=128, return_sequences=False)\n",
    "LSTM_1 = nlp_model_word(input_dim = all_words, output_dim = 100, input_length = max_length_word, unit = all_words, model = lstm_model)\n",
    "model_compile_word(model =LSTM_1, optimizer=tf.keras.optimizers.legacy.Adam(), loss=tf.keras.losses.CategoricalCrossentropy(), metrics=['accuracy'])\n",
    "history = model_fit(model=LSTM_1, Data=train, Label=label, epochs=150, early_stop=early_stop, batch_size=32)\n",
    "plot_word_model_change(history=history)"
   ]
  },
  {
   "cell_type": "code",
   "execution_count": 12,
   "metadata": {},
   "outputs": [
    {
     "name": "stdout",
     "output_type": "stream",
     "text": [
      "Epoch 1/150\n",
      "436/436 [==============================] - 47s 101ms/step - loss: 8.2218 - accuracy: 0.0249\n",
      "Epoch 2/150\n",
      "436/436 [==============================] - 43s 98ms/step - loss: 7.6713 - accuracy: 0.0299\n",
      "Epoch 3/150\n",
      "436/436 [==============================] - 41s 95ms/step - loss: 7.3700 - accuracy: 0.0351\n",
      "Epoch 4/150\n",
      "436/436 [==============================] - 44s 101ms/step - loss: 6.9809 - accuracy: 0.0436\n",
      "Epoch 5/150\n",
      "436/436 [==============================] - 43s 97ms/step - loss: 6.5328 - accuracy: 0.0525\n",
      "Epoch 6/150\n",
      "436/436 [==============================] - 48s 109ms/step - loss: 6.0730 - accuracy: 0.0700\n",
      "Epoch 7/150\n",
      "436/436 [==============================] - 44s 101ms/step - loss: 5.6188 - accuracy: 0.0893\n",
      "Epoch 8/150\n",
      "436/436 [==============================] - 46s 106ms/step - loss: 5.1858 - accuracy: 0.1238\n",
      "Epoch 9/150\n",
      "436/436 [==============================] - 46s 105ms/step - loss: 4.7686 - accuracy: 0.1804\n",
      "Epoch 10/150\n",
      "436/436 [==============================] - 45s 104ms/step - loss: 4.3704 - accuracy: 0.2463\n",
      "Epoch 11/150\n",
      "436/436 [==============================] - 46s 105ms/step - loss: 3.9878 - accuracy: 0.3128\n",
      "Epoch 12/150\n",
      "436/436 [==============================] - 51s 116ms/step - loss: 3.6226 - accuracy: 0.3765\n",
      "Epoch 13/150\n",
      "436/436 [==============================] - 46s 105ms/step - loss: 3.2792 - accuracy: 0.4353\n",
      "Epoch 14/150\n",
      "436/436 [==============================] - 40s 93ms/step - loss: 2.9612 - accuracy: 0.4860\n",
      "Epoch 15/150\n",
      "436/436 [==============================] - 41s 93ms/step - loss: 2.6717 - accuracy: 0.5350\n",
      "Epoch 16/150\n",
      "436/436 [==============================] - 41s 94ms/step - loss: 2.4090 - accuracy: 0.5816\n",
      "Epoch 17/150\n",
      "436/436 [==============================] - 41s 93ms/step - loss: 2.1729 - accuracy: 0.6240\n",
      "Epoch 18/150\n",
      "436/436 [==============================] - 40s 92ms/step - loss: 1.9511 - accuracy: 0.6613\n",
      "Epoch 19/150\n",
      "436/436 [==============================] - 40s 92ms/step - loss: 1.7523 - accuracy: 0.6967\n",
      "Epoch 20/150\n",
      "436/436 [==============================] - 40s 93ms/step - loss: 1.5708 - accuracy: 0.7333\n",
      "Epoch 21/150\n",
      "436/436 [==============================] - 40s 93ms/step - loss: 1.4094 - accuracy: 0.7631\n",
      "Epoch 22/150\n",
      "436/436 [==============================] - 41s 94ms/step - loss: 1.2586 - accuracy: 0.7906\n",
      "Epoch 23/150\n",
      "436/436 [==============================] - 41s 94ms/step - loss: 1.1231 - accuracy: 0.8172\n",
      "Epoch 24/150\n",
      "436/436 [==============================] - 41s 94ms/step - loss: 1.0008 - accuracy: 0.8409\n",
      "Epoch 25/150\n",
      "436/436 [==============================] - 41s 94ms/step - loss: 0.8904 - accuracy: 0.8604\n",
      "Epoch 26/150\n",
      "436/436 [==============================] - 41s 95ms/step - loss: 0.7903 - accuracy: 0.8789\n",
      "Epoch 27/150\n",
      "436/436 [==============================] - 41s 94ms/step - loss: 0.7004 - accuracy: 0.8947\n",
      "Epoch 28/150\n",
      "436/436 [==============================] - 41s 93ms/step - loss: 0.6206 - accuracy: 0.9099\n",
      "Epoch 29/150\n",
      "436/436 [==============================] - 40s 93ms/step - loss: 0.5525 - accuracy: 0.9213\n",
      "Epoch 30/150\n",
      "436/436 [==============================] - 40s 92ms/step - loss: 0.4895 - accuracy: 0.9292\n",
      "Epoch 31/150\n",
      "436/436 [==============================] - 40s 93ms/step - loss: 0.4324 - accuracy: 0.9398\n",
      "Epoch 32/150\n",
      "436/436 [==============================] - 41s 93ms/step - loss: 0.3850 - accuracy: 0.9465\n",
      "Epoch 33/150\n",
      "436/436 [==============================] - 41s 93ms/step - loss: 0.3441 - accuracy: 0.9508\n",
      "Epoch 34/150\n",
      "436/436 [==============================] - 40s 92ms/step - loss: 0.3069 - accuracy: 0.9566\n",
      "Epoch 35/150\n",
      "436/436 [==============================] - 40s 93ms/step - loss: 0.2749 - accuracy: 0.9589\n",
      "Epoch 36/150\n",
      "436/436 [==============================] - 41s 94ms/step - loss: 0.2494 - accuracy: 0.9608\n",
      "Epoch 37/150\n",
      "436/436 [==============================] - 41s 94ms/step - loss: 0.2251 - accuracy: 0.9639\n",
      "Epoch 38/150\n",
      "436/436 [==============================] - 41s 94ms/step - loss: 0.2054 - accuracy: 0.9647\n",
      "Epoch 39/150\n",
      "436/436 [==============================] - 41s 94ms/step - loss: 0.1892 - accuracy: 0.9653\n",
      "Epoch 40/150\n",
      "436/436 [==============================] - 42s 95ms/step - loss: 0.1739 - accuracy: 0.9665\n",
      "Epoch 41/150\n",
      "436/436 [==============================] - 41s 94ms/step - loss: 0.1637 - accuracy: 0.9669\n",
      "Epoch 42/150\n",
      "436/436 [==============================] - 41s 93ms/step - loss: 0.1548 - accuracy: 0.9666\n",
      "Epoch 43/150\n",
      "436/436 [==============================] - 41s 94ms/step - loss: 0.1502 - accuracy: 0.9672\n",
      "Epoch 44/150\n",
      "436/436 [==============================] - 41s 93ms/step - loss: 0.1385 - accuracy: 0.9676\n",
      "Epoch 45/150\n",
      "436/436 [==============================] - 41s 93ms/step - loss: 0.1305 - accuracy: 0.9686\n",
      "Epoch 46/150\n",
      "436/436 [==============================] - 41s 95ms/step - loss: 0.1251 - accuracy: 0.9682\n",
      "Epoch 47/150\n",
      "436/436 [==============================] - 41s 95ms/step - loss: 0.1215 - accuracy: 0.9677\n",
      "Epoch 48/150\n",
      "436/436 [==============================] - 42s 96ms/step - loss: 0.1256 - accuracy: 0.9671\n",
      "Epoch 49/150\n",
      "436/436 [==============================] - 43s 99ms/step - loss: 0.1647 - accuracy: 0.9618\n",
      "Epoch 50/150\n",
      "436/436 [==============================] - 42s 96ms/step - loss: 0.1285 - accuracy: 0.9665\n",
      "Epoch 51/150\n",
      "436/436 [==============================] - 43s 99ms/step - loss: 0.1101 - accuracy: 0.9679\n",
      "Epoch 52/150\n",
      "436/436 [==============================] - 41s 95ms/step - loss: 0.1062 - accuracy: 0.9682\n",
      "Epoch 53/150\n",
      "436/436 [==============================] - 43s 98ms/step - loss: 0.1040 - accuracy: 0.9683\n",
      "Epoch 54/150\n",
      "436/436 [==============================] - 41s 95ms/step - loss: 0.1032 - accuracy: 0.9676\n",
      "Epoch 55/150\n",
      "436/436 [==============================] - 44s 101ms/step - loss: 0.1018 - accuracy: 0.9680\n",
      "Epoch 56/150\n",
      "436/436 [==============================] - 41s 95ms/step - loss: 0.1011 - accuracy: 0.9680\n",
      "Epoch 57/150\n",
      "436/436 [==============================] - 44s 101ms/step - loss: 0.0996 - accuracy: 0.9683\n",
      "Epoch 58/150\n",
      "436/436 [==============================] - 43s 98ms/step - loss: 0.0991 - accuracy: 0.9681\n",
      "Epoch 59/150\n",
      "436/436 [==============================] - 44s 100ms/step - loss: 0.0998 - accuracy: 0.9677\n",
      "Epoch 60/150\n",
      "436/436 [==============================] - 43s 99ms/step - loss: 0.1399 - accuracy: 0.9606\n",
      "Epoch 61/150\n",
      "436/436 [==============================] - 44s 101ms/step - loss: 0.1675 - accuracy: 0.9554\n",
      "Epoch 62/150\n",
      "436/436 [==============================] - 43s 98ms/step - loss: 0.1041 - accuracy: 0.9674\n",
      "Epoch 63/150\n",
      "436/436 [==============================] - 43s 100ms/step - loss: 0.0960 - accuracy: 0.9681\n",
      "Epoch 64/150\n",
      "436/436 [==============================] - 43s 99ms/step - loss: 0.0948 - accuracy: 0.9679\n",
      "Epoch 65/150\n",
      "436/436 [==============================] - 43s 99ms/step - loss: 0.0944 - accuracy: 0.9680\n",
      "Epoch 66/150\n",
      "436/436 [==============================] - 43s 99ms/step - loss: 0.0940 - accuracy: 0.9679\n",
      "Epoch 67/150\n",
      "436/436 [==============================] - 43s 99ms/step - loss: 0.0932 - accuracy: 0.9684\n",
      "Epoch 68/150\n",
      "436/436 [==============================] - 47s 108ms/step - loss: 0.0931 - accuracy: 0.9679\n",
      "Epoch 69/150\n",
      "436/436 [==============================] - 45s 103ms/step - loss: 0.0929 - accuracy: 0.9679\n",
      "Epoch 70/150\n",
      "436/436 [==============================] - 43s 98ms/step - loss: 0.0927 - accuracy: 0.9683\n",
      "Epoch 71/150\n",
      "436/436 [==============================] - 44s 102ms/step - loss: 0.0921 - accuracy: 0.9687\n",
      "Epoch 72/150\n",
      "436/436 [==============================] - 42s 96ms/step - loss: 0.0925 - accuracy: 0.9678\n",
      "Epoch 73/150\n",
      "436/436 [==============================] - 44s 101ms/step - loss: 0.0923 - accuracy: 0.9680\n",
      "Epoch 74/150\n",
      "436/436 [==============================] - 44s 102ms/step - loss: 0.0922 - accuracy: 0.9684\n",
      "Epoch 75/150\n",
      "436/436 [==============================] - 42s 97ms/step - loss: 0.1058 - accuracy: 0.9650\n",
      "Epoch 76/150\n",
      "436/436 [==============================] - 46s 105ms/step - loss: 0.1494 - accuracy: 0.9569\n"
     ]
    },
    {
     "data": {
      "image/png": "[encoded data removed]",
      "text/plain": [
       "<Figure size 640x480 with 1 Axes>"
      ]
     },
     "metadata": {},
     "output_type": "display_data"
    }
   ],
   "source": [
    "# 2-Bidirectional LSTM\n",
    "bidirectional_lstm_model = tf.keras.layers.Bidirectional(tf.keras.layers.LSTM(units= 128, return_sequences=False))\n",
    "Bidirectional_LSTM_1 = nlp_model_word(input_dim = all_words, output_dim = 100, input_length = max_length_word, unit = all_words, model = bidirectional_lstm_model)\n",
    "model_compile_word(model =Bidirectional_LSTM_1, optimizer=tf.keras.optimizers.legacy.Adam(), loss=tf.keras.losses.CategoricalCrossentropy(), metrics=['accuracy'])\n",
    "history = model_fit(model=Bidirectional_LSTM_1, Data=train, Label=label, epochs=150, early_stop=early_stop, batch_size=64)\n",
    "plot_word_model_change(history=history)"
   ]
  },
  {
   "cell_type": "code",
   "execution_count": 13,
   "metadata": {},
   "outputs": [
    {
     "name": "stdout",
     "output_type": "stream",
     "text": [
      "Epoch 1/150\n",
      "872/872 [==============================] - 43s 46ms/step - loss: 8.2472 - accuracy: 0.0260\n",
      "Epoch 2/150\n",
      "872/872 [==============================] - 33s 37ms/step - loss: 7.5387 - accuracy: 0.0371\n",
      "Epoch 3/150\n",
      "872/872 [==============================] - 34s 39ms/step - loss: 6.9618 - accuracy: 0.0570\n",
      "Epoch 4/150\n",
      "872/872 [==============================] - 34s 39ms/step - loss: 6.2465 - accuracy: 0.0828\n",
      "Epoch 5/150\n",
      "872/872 [==============================] - 34s 39ms/step - loss: 5.4492 - accuracy: 0.1191\n",
      "Epoch 6/150\n",
      "872/872 [==============================] - 34s 39ms/step - loss: 4.6658 - accuracy: 0.1923\n",
      "Epoch 7/150\n",
      "872/872 [==============================] - 34s 39ms/step - loss: 3.9332 - accuracy: 0.3064\n",
      "Epoch 8/150\n",
      "872/872 [==============================] - 34s 39ms/step - loss: 3.2743 - accuracy: 0.4250\n",
      "Epoch 9/150\n",
      "872/872 [==============================] - 34s 39ms/step - loss: 2.6904 - accuracy: 0.5237\n",
      "Epoch 10/150\n",
      "872/872 [==============================] - 34s 39ms/step - loss: 2.2025 - accuracy: 0.6072\n",
      "Epoch 11/150\n",
      "872/872 [==============================] - 33s 38ms/step - loss: 1.8101 - accuracy: 0.6773\n",
      "Epoch 12/150\n",
      "872/872 [==============================] - 35s 40ms/step - loss: 1.4897 - accuracy: 0.7336\n",
      "Epoch 13/150\n",
      "872/872 [==============================] - 37s 42ms/step - loss: 1.2280 - accuracy: 0.7803\n",
      "Epoch 14/150\n",
      "872/872 [==============================] - 37s 43ms/step - loss: 1.0108 - accuracy: 0.8209\n",
      "Epoch 15/150\n",
      "872/872 [==============================] - 36s 42ms/step - loss: 0.8373 - accuracy: 0.8519\n",
      "Epoch 16/150\n",
      "872/872 [==============================] - 41s 47ms/step - loss: 0.6926 - accuracy: 0.8807\n",
      "Epoch 17/150\n",
      "872/872 [==============================] - 34s 39ms/step - loss: 0.5688 - accuracy: 0.9034\n",
      "Epoch 18/150\n",
      "872/872 [==============================] - 34s 39ms/step - loss: 0.4706 - accuracy: 0.9222\n",
      "Epoch 19/150\n",
      "872/872 [==============================] - 35s 40ms/step - loss: 0.3930 - accuracy: 0.9349\n",
      "Epoch 20/150\n",
      "872/872 [==============================] - 34s 39ms/step - loss: 0.3261 - accuracy: 0.9457\n",
      "Epoch 21/150\n",
      "872/872 [==============================] - 35s 40ms/step - loss: 0.2799 - accuracy: 0.9526\n",
      "Epoch 22/150\n",
      "872/872 [==============================] - 37s 42ms/step - loss: 0.2432 - accuracy: 0.9585\n",
      "Epoch 23/150\n",
      "872/872 [==============================] - 34s 39ms/step - loss: 0.2165 - accuracy: 0.9605\n",
      "Epoch 24/150\n",
      "872/872 [==============================] - 36s 42ms/step - loss: 0.1942 - accuracy: 0.9635\n",
      "Epoch 25/150\n",
      "872/872 [==============================] - 38s 44ms/step - loss: 0.1764 - accuracy: 0.9653\n",
      "Epoch 26/150\n",
      "872/872 [==============================] - 45s 52ms/step - loss: 0.1627 - accuracy: 0.9658\n",
      "Epoch 27/150\n",
      "872/872 [==============================] - 39s 45ms/step - loss: 0.1517 - accuracy: 0.9662\n",
      "Epoch 28/150\n",
      "872/872 [==============================] - 37s 42ms/step - loss: 0.1451 - accuracy: 0.9668\n",
      "Epoch 29/150\n",
      "872/872 [==============================] - 38s 43ms/step - loss: 0.1455 - accuracy: 0.9657\n",
      "Epoch 30/150\n",
      "872/872 [==============================] - 35s 40ms/step - loss: 0.1436 - accuracy: 0.9660\n",
      "Epoch 31/150\n",
      "872/872 [==============================] - 34s 38ms/step - loss: 0.1370 - accuracy: 0.9665\n",
      "Epoch 32/150\n",
      "872/872 [==============================] - 33s 38ms/step - loss: 0.1320 - accuracy: 0.9663\n",
      "Epoch 33/150\n",
      "872/872 [==============================] - 33s 38ms/step - loss: 0.1280 - accuracy: 0.9664\n",
      "Epoch 34/150\n",
      "872/872 [==============================] - 34s 39ms/step - loss: 0.1230 - accuracy: 0.9677\n",
      "Epoch 35/150\n",
      "872/872 [==============================] - 32s 37ms/step - loss: 0.1261 - accuracy: 0.9672\n",
      "Epoch 36/150\n",
      "872/872 [==============================] - 33s 37ms/step - loss: 0.1385 - accuracy: 0.9642\n",
      "Epoch 37/150\n",
      "872/872 [==============================] - 33s 37ms/step - loss: 0.1380 - accuracy: 0.9649\n",
      "Epoch 38/150\n",
      "872/872 [==============================] - 33s 37ms/step - loss: 0.1209 - accuracy: 0.9673\n",
      "Epoch 39/150\n",
      "872/872 [==============================] - 32s 37ms/step - loss: 0.1166 - accuracy: 0.9667\n",
      "Epoch 40/150\n",
      "872/872 [==============================] - 33s 37ms/step - loss: 0.1150 - accuracy: 0.9668\n",
      "Epoch 41/150\n",
      "872/872 [==============================] - 32s 37ms/step - loss: 0.1138 - accuracy: 0.9671\n",
      "Epoch 42/150\n",
      "872/872 [==============================] - 32s 37ms/step - loss: 0.1165 - accuracy: 0.9670\n",
      "Epoch 43/150\n",
      "872/872 [==============================] - 32s 37ms/step - loss: 0.1244 - accuracy: 0.9654\n",
      "Epoch 44/150\n",
      "872/872 [==============================] - 33s 37ms/step - loss: 0.1535 - accuracy: 0.9589\n",
      "Epoch 45/150\n",
      "872/872 [==============================] - 33s 38ms/step - loss: 0.1258 - accuracy: 0.9654\n",
      "Epoch 46/150\n",
      "872/872 [==============================] - 32s 37ms/step - loss: 0.1126 - accuracy: 0.9670\n",
      "Epoch 47/150\n",
      "872/872 [==============================] - 32s 37ms/step - loss: 0.1095 - accuracy: 0.9670\n",
      "Epoch 48/150\n",
      "872/872 [==============================] - 32s 37ms/step - loss: 0.1088 - accuracy: 0.9672\n",
      "Epoch 49/150\n",
      "872/872 [==============================] - 32s 36ms/step - loss: 0.1101 - accuracy: 0.9674\n",
      "Epoch 50/150\n",
      "872/872 [==============================] - 31s 36ms/step - loss: 0.1100 - accuracy: 0.9669\n",
      "Epoch 51/150\n",
      "872/872 [==============================] - 32s 37ms/step - loss: 0.1139 - accuracy: 0.9670\n",
      "Epoch 52/150\n",
      "872/872 [==============================] - 33s 37ms/step - loss: 0.1499 - accuracy: 0.9589\n",
      "Epoch 53/150\n",
      "872/872 [==============================] - 32s 37ms/step - loss: 0.1409 - accuracy: 0.9610\n"
     ]
    },
    {
     "data": {
      "image/png": "[encoded data removed]",
      "text/plain": [
       "<Figure size 640x480 with 1 Axes>"
      ]
     },
     "metadata": {},
     "output_type": "display_data"
    }
   ],
   "source": [
    "# 3-GRU\n",
    "gru_model = tf.keras.layers.GRU(units= 128, return_sequences=False)\n",
    "GRU_1 = nlp_model_word(input_dim = all_words, output_dim = 100, input_length = max_length_word, unit = all_words, model = gru_model)\n",
    "model_compile_word(model =GRU_1, optimizer=tf.keras.optimizers.legacy.Adam(), loss=tf.keras.losses.CategoricalCrossentropy(), metrics=['accuracy'])\n",
    "history = model_fit(model=GRU_1, Data=train, Label=label, epochs=150, early_stop=early_stop, batch_size=32)\n",
    "plot_word_model_change(history=history)"
   ]
  },
  {
   "cell_type": "markdown",
   "metadata": {},
   "source": [
    "*Testing The Model*"
   ]
  },
  {
   "cell_type": "code",
   "execution_count": 14,
   "metadata": {},
   "outputs": [
    {
     "name": "stdout",
     "output_type": "stream",
     "text": [
      "رأى تاجر الزجاجيّات شروق الشمس\n",
      "رأى تاجر الزجاجيّات شروق الشمس فأحس\n",
      "رأى تاجر الزجاجيّات شروق الشمس فأحس بالغم\n",
      "رأى تاجر الزجاجيّات شروق الشمس فأحس بالغم الذي\n",
      "رأى تاجر الزجاجيّات شروق الشمس فأحس بالغم الذي كان\n",
      "رأى تاجر الزجاجيّات شروق الشمس فأحس بالغم الذي كان يكابده\n",
      "رأى تاجر الزجاجيّات شروق الشمس فأحس بالغم الذي كان يكابده عند\n",
      "رأى تاجر الزجاجيّات شروق الشمس فأحس بالغم الذي كان يكابده عند مطلع\n",
      "رأى تاجر الزجاجيّات شروق الشمس فأحس بالغم الذي كان يكابده عند مطلع كل\n",
      "رأى تاجر الزجاجيّات شروق الشمس فأحس بالغم الذي كان يكابده عند مطلع كل صباح\n",
      "رأى تاجر الزجاجيّات شروق الشمس فأحس بالغم الذي كان يكابده عند مطلع كل صباح فهو\n",
      "رأى تاجر الزجاجيّات شروق الشمس فأحس بالغم الذي كان يكابده عند مطلع كل صباح فهو في\n",
      "رأى تاجر الزجاجيّات شروق الشمس فأحس بالغم الذي كان يكابده عند مطلع كل صباح فهو في المكان\n",
      "رأى تاجر الزجاجيّات شروق الشمس فأحس بالغم الذي كان يكابده عند مطلع كل صباح فهو في المكان نفسه\n",
      "رأى تاجر الزجاجيّات شروق الشمس فأحس بالغم الذي كان يكابده عند مطلع كل صباح فهو في المكان نفسه منذ\n",
      "رأى تاجر الزجاجيّات شروق الشمس فأحس بالغم الذي كان يكابده عند مطلع كل صباح فهو في المكان نفسه منذ مايقارب\n",
      "رأى تاجر الزجاجيّات شروق الشمس فأحس بالغم الذي كان يكابده عند مطلع كل صباح فهو في المكان نفسه منذ مايقارب الثلاثين\n",
      "رأى تاجر الزجاجيّات شروق الشمس فأحس بالغم الذي كان يكابده عند مطلع كل صباح فهو في المكان نفسه منذ مايقارب الثلاثين عاماً\n",
      "رأى تاجر الزجاجيّات شروق الشمس فأحس بالغم الذي كان يكابده عند مطلع كل صباح فهو في المكان نفسه منذ مايقارب الثلاثين عاماً وكان\n",
      "رأى تاجر الزجاجيّات شروق الشمس فأحس بالغم الذي كان يكابده عند مطلع كل صباح فهو في المكان نفسه منذ مايقارب الثلاثين عاماً وكان متجره\n",
      "رأى تاجر الزجاجيّات شروق الشمس فأحس بالغم الذي كان يكابده عند مطلع كل صباح فهو في المكان نفسه منذ مايقارب الثلاثين عاماً وكان متجره يقع\n",
      "رأى تاجر الزجاجيّات شروق الشمس فأحس بالغم الذي كان يكابده عند مطلع كل صباح فهو في المكان نفسه منذ مايقارب الثلاثين عاماً وكان متجره يقع في\n",
      "رأى تاجر الزجاجيّات شروق الشمس فأحس بالغم الذي كان يكابده عند مطلع كل صباح فهو في المكان نفسه منذ مايقارب الثلاثين عاماً وكان متجره يقع في قمّة\n",
      "رأى تاجر الزجاجيّات شروق الشمس فأحس بالغم الذي كان يكابده عند مطلع كل صباح فهو في المكان نفسه منذ مايقارب الثلاثين عاماً وكان متجره يقع في قمّة طريق\n",
      "رأى تاجر الزجاجيّات شروق الشمس فأحس بالغم الذي كان يكابده عند مطلع كل صباح فهو في المكان نفسه منذ مايقارب الثلاثين عاماً وكان متجره يقع في قمّة طريق منحدرة\n",
      " \n",
      "Full Generated Text: رأى تاجر الزجاجيّات شروق الشمس فأحس بالغم الذي كان يكابده عند مطلع كل صباح فهو في المكان نفسه منذ مايقارب الثلاثين عاماً وكان متجره يقع في قمّة طريق منحدرة\n"
     ]
    }
   ],
   "source": [
    "# 1-LSTM\n",
    "model_testing_word(text = 'رأى تاجر الزجاجيّات شروق ', number_of_words = 25, text_normalization = text_normalization, text_to_sequence = text_to_sequence, words_index = words_index, pad_sequences = pad_sequences, model = LSTM_1, max_length = max_length_word, index_to_words = index_to_words, word_sequence_to_text = word_sequence_to_text, all_words=all_words)"
   ]
  },
  {
   "cell_type": "code",
   "execution_count": 15,
   "metadata": {},
   "outputs": [
    {
     "name": "stdout",
     "output_type": "stream",
     "text": [
      "رأى تاجر الزجاجيّات شروق الشمس\n",
      "رأى تاجر الزجاجيّات شروق الشمس فأحس\n",
      "رأى تاجر الزجاجيّات شروق الشمس فأحس بالغم\n",
      "رأى تاجر الزجاجيّات شروق الشمس فأحس بالغم الذي\n",
      "رأى تاجر الزجاجيّات شروق الشمس فأحس بالغم الذي كان\n",
      "رأى تاجر الزجاجيّات شروق الشمس فأحس بالغم الذي كان يكابده\n",
      "رأى تاجر الزجاجيّات شروق الشمس فأحس بالغم الذي كان يكابده عند\n",
      "رأى تاجر الزجاجيّات شروق الشمس فأحس بالغم الذي كان يكابده عند مطلع\n",
      "رأى تاجر الزجاجيّات شروق الشمس فأحس بالغم الذي كان يكابده عند مطلع كل\n",
      "رأى تاجر الزجاجيّات شروق الشمس فأحس بالغم الذي كان يكابده عند مطلع كل صباح\n",
      "رأى تاجر الزجاجيّات شروق الشمس فأحس بالغم الذي كان يكابده عند مطلع كل صباح فهو\n",
      "رأى تاجر الزجاجيّات شروق الشمس فأحس بالغم الذي كان يكابده عند مطلع كل صباح فهو في\n",
      "رأى تاجر الزجاجيّات شروق الشمس فأحس بالغم الذي كان يكابده عند مطلع كل صباح فهو في المكان\n",
      "رأى تاجر الزجاجيّات شروق الشمس فأحس بالغم الذي كان يكابده عند مطلع كل صباح فهو في المكان نفسه\n",
      "رأى تاجر الزجاجيّات شروق الشمس فأحس بالغم الذي كان يكابده عند مطلع كل صباح فهو في المكان نفسه منذ\n",
      "رأى تاجر الزجاجيّات شروق الشمس فأحس بالغم الذي كان يكابده عند مطلع كل صباح فهو في المكان نفسه منذ مايقارب\n",
      "رأى تاجر الزجاجيّات شروق الشمس فأحس بالغم الذي كان يكابده عند مطلع كل صباح فهو في المكان نفسه منذ مايقارب الثلاثين\n",
      "رأى تاجر الزجاجيّات شروق الشمس فأحس بالغم الذي كان يكابده عند مطلع كل صباح فهو في المكان نفسه منذ مايقارب الثلاثين عاماً\n",
      "رأى تاجر الزجاجيّات شروق الشمس فأحس بالغم الذي كان يكابده عند مطلع كل صباح فهو في المكان نفسه منذ مايقارب الثلاثين عاماً وكان\n",
      "رأى تاجر الزجاجيّات شروق الشمس فأحس بالغم الذي كان يكابده عند مطلع كل صباح فهو في المكان نفسه منذ مايقارب الثلاثين عاماً وكان متجره\n",
      "رأى تاجر الزجاجيّات شروق الشمس فأحس بالغم الذي كان يكابده عند مطلع كل صباح فهو في المكان نفسه منذ مايقارب الثلاثين عاماً وكان متجره يقع\n",
      "رأى تاجر الزجاجيّات شروق الشمس فأحس بالغم الذي كان يكابده عند مطلع كل صباح فهو في المكان نفسه منذ مايقارب الثلاثين عاماً وكان متجره يقع في\n",
      "رأى تاجر الزجاجيّات شروق الشمس فأحس بالغم الذي كان يكابده عند مطلع كل صباح فهو في المكان نفسه منذ مايقارب الثلاثين عاماً وكان متجره يقع في قمّة\n",
      "رأى تاجر الزجاجيّات شروق الشمس فأحس بالغم الذي كان يكابده عند مطلع كل صباح فهو في المكان نفسه منذ مايقارب الثلاثين عاماً وكان متجره يقع في قمّة طريق\n",
      "رأى تاجر الزجاجيّات شروق الشمس فأحس بالغم الذي كان يكابده عند مطلع كل صباح فهو في المكان نفسه منذ مايقارب الثلاثين عاماً وكان متجره يقع في قمّة طريق منحدرة\n",
      " \n",
      "Full Generated Text: رأى تاجر الزجاجيّات شروق الشمس فأحس بالغم الذي كان يكابده عند مطلع كل صباح فهو في المكان نفسه منذ مايقارب الثلاثين عاماً وكان متجره يقع في قمّة طريق منحدرة\n"
     ]
    }
   ],
   "source": [
    "# 2-Bidirectional LSTM\n",
    "model_testing_word(text = 'رأى تاجر الزجاجيّات شروق ', number_of_words = 25, text_normalization = text_normalization, text_to_sequence = text_to_sequence, words_index = words_index, pad_sequences = pad_sequences, model = Bidirectional_LSTM_1, max_length = max_length_word, index_to_words = index_to_words, word_sequence_to_text = word_sequence_to_text, all_words=all_words)"
   ]
  },
  {
   "cell_type": "code",
   "execution_count": 16,
   "metadata": {},
   "outputs": [
    {
     "name": "stdout",
     "output_type": "stream",
     "text": [
      "رأى تاجر الزجاجيّات شروق الشمس\n",
      "رأى تاجر الزجاجيّات شروق الشمس فأحس\n",
      "رأى تاجر الزجاجيّات شروق الشمس فأحس بالغم\n",
      "رأى تاجر الزجاجيّات شروق الشمس فأحس بالغم الذي\n",
      "رأى تاجر الزجاجيّات شروق الشمس فأحس بالغم الذي كان\n",
      "رأى تاجر الزجاجيّات شروق الشمس فأحس بالغم الذي كان يكابده\n",
      "رأى تاجر الزجاجيّات شروق الشمس فأحس بالغم الذي كان يكابده عند\n",
      "رأى تاجر الزجاجيّات شروق الشمس فأحس بالغم الذي كان يكابده عند مطلع\n",
      "رأى تاجر الزجاجيّات شروق الشمس فأحس بالغم الذي كان يكابده عند مطلع كل\n",
      "رأى تاجر الزجاجيّات شروق الشمس فأحس بالغم الذي كان يكابده عند مطلع كل صباح\n",
      "رأى تاجر الزجاجيّات شروق الشمس فأحس بالغم الذي كان يكابده عند مطلع كل صباح فهو\n",
      "رأى تاجر الزجاجيّات شروق الشمس فأحس بالغم الذي كان يكابده عند مطلع كل صباح فهو في\n",
      "رأى تاجر الزجاجيّات شروق الشمس فأحس بالغم الذي كان يكابده عند مطلع كل صباح فهو في المكان\n",
      "رأى تاجر الزجاجيّات شروق الشمس فأحس بالغم الذي كان يكابده عند مطلع كل صباح فهو في المكان نفسه\n",
      "رأى تاجر الزجاجيّات شروق الشمس فأحس بالغم الذي كان يكابده عند مطلع كل صباح فهو في المكان نفسه منذ\n",
      "رأى تاجر الزجاجيّات شروق الشمس فأحس بالغم الذي كان يكابده عند مطلع كل صباح فهو في المكان نفسه منذ مايقارب\n",
      "رأى تاجر الزجاجيّات شروق الشمس فأحس بالغم الذي كان يكابده عند مطلع كل صباح فهو في المكان نفسه منذ مايقارب الثلاثين\n",
      "رأى تاجر الزجاجيّات شروق الشمس فأحس بالغم الذي كان يكابده عند مطلع كل صباح فهو في المكان نفسه منذ مايقارب الثلاثين عاماً\n",
      "رأى تاجر الزجاجيّات شروق الشمس فأحس بالغم الذي كان يكابده عند مطلع كل صباح فهو في المكان نفسه منذ مايقارب الثلاثين عاماً وكان\n",
      "رأى تاجر الزجاجيّات شروق الشمس فأحس بالغم الذي كان يكابده عند مطلع كل صباح فهو في المكان نفسه منذ مايقارب الثلاثين عاماً وكان متجره\n",
      "رأى تاجر الزجاجيّات شروق الشمس فأحس بالغم الذي كان يكابده عند مطلع كل صباح فهو في المكان نفسه منذ مايقارب الثلاثين عاماً وكان متجره يقع\n",
      "رأى تاجر الزجاجيّات شروق الشمس فأحس بالغم الذي كان يكابده عند مطلع كل صباح فهو في المكان نفسه منذ مايقارب الثلاثين عاماً وكان متجره يقع في\n",
      "رأى تاجر الزجاجيّات شروق الشمس فأحس بالغم الذي كان يكابده عند مطلع كل صباح فهو في المكان نفسه منذ مايقارب الثلاثين عاماً وكان متجره يقع في قمّة\n",
      "رأى تاجر الزجاجيّات شروق الشمس فأحس بالغم الذي كان يكابده عند مطلع كل صباح فهو في المكان نفسه منذ مايقارب الثلاثين عاماً وكان متجره يقع في قمّة طريق\n",
      "رأى تاجر الزجاجيّات شروق الشمس فأحس بالغم الذي كان يكابده عند مطلع كل صباح فهو في المكان نفسه منذ مايقارب الثلاثين عاماً وكان متجره يقع في قمّة طريق منحدرة\n",
      " \n",
      "Full Generated Text: رأى تاجر الزجاجيّات شروق الشمس فأحس بالغم الذي كان يكابده عند مطلع كل صباح فهو في المكان نفسه منذ مايقارب الثلاثين عاماً وكان متجره يقع في قمّة طريق منحدرة\n"
     ]
    }
   ],
   "source": [
    "# 3-GRU\n",
    "model_testing_word(text = 'رأى تاجر الزجاجيّات شروق ', number_of_words = 25, text_normalization = text_normalization, text_to_sequence = text_to_sequence, words_index = words_index, pad_sequences = pad_sequences, model = GRU_1, max_length = max_length_word, index_to_words = index_to_words, word_sequence_to_text = word_sequence_to_text, all_words=all_words)"
   ]
  },
  {
   "cell_type": "markdown",
   "metadata": {},
   "source": [
    "*Save The Models*"
   ]
  },
  {
   "cell_type": "code",
   "execution_count": null,
   "metadata": {},
   "outputs": [],
   "source": [
    "LSTM_1.save('Arabic_LSTM_1.h5')"
   ]
  },
  {
   "cell_type": "code",
   "execution_count": null,
   "metadata": {},
   "outputs": [],
   "source": [
    "Bidirectional_LSTM_1.save('Arabic_Bidirectional_LSTM_1.h5')"
   ]
  },
  {
   "cell_type": "code",
   "execution_count": null,
   "metadata": {},
   "outputs": [],
   "source": [
    "GRU_1.save('Arabic_GRU_1.h5')"
   ]
  },
  {
   "cell_type": "markdown",
   "metadata": {},
   "source": [
    "**2-Token Based On Character**"
   ]
  },
  {
   "cell_type": "code",
   "execution_count": null,
   "metadata": {},
   "outputs": [],
   "source": [
    "# Generate Char To Index, Index To Char, And Find Count Of All Char\n",
    "all_chars, chars_index, index_chars = index_the_char(Corpus)"
   ]
  },
  {
   "cell_type": "code",
   "execution_count": null,
   "metadata": {},
   "outputs": [],
   "source": [
    "# Find The Max Length\n",
    "max_length_char = max([len(s) for s in Corpus])\n",
    "max_length_char"
   ]
  },
  {
   "cell_type": "code",
   "execution_count": null,
   "metadata": {},
   "outputs": [],
   "source": [
    "# Generate Train And Label Data\n",
    "Text = \" \".join(Corpus)\n",
    "Train = []\n",
    "Label = []\n",
    "for i in range(0, len(Text) - max_length_char):\n",
    "    Train.append(Text[i: i + max_length_char])\n",
    "    Label.append(Text[i + max_length_char])"
   ]
  },
  {
   "cell_type": "code",
   "execution_count": null,
   "metadata": {},
   "outputs": [],
   "source": [
    "# Convert Words Into Number\n",
    "sequence_text_char_Train = text_to_sequence_char(chars_index, Train)\n",
    "sequence_text_char_Label = text_to_sequence_char(chars_index, Label)"
   ]
  },
  {
   "cell_type": "code",
   "execution_count": null,
   "metadata": {},
   "outputs": [],
   "source": [
    "# Padding The The Input Sequence To Make All Sequence In Same Length\n",
    "Train = pad_sequences(input_sequence=sequence_text_char_Train, max_length=max_length_char, padding='post')\n",
    "# # Convert The Label Data\n",
    "Label = one_hot_encoding(sequence_text_char_Label, all_chars)"
   ]
  },
  {
   "cell_type": "markdown",
   "metadata": {},
   "source": [
    "**Deep Learning Model**"
   ]
  },
  {
   "cell_type": "code",
   "execution_count": null,
   "metadata": {},
   "outputs": [],
   "source": [
    "# 1-LSTM\n",
    "lstm_model = tf.keras.layers.LSTM(units= 128, return_sequences=False)\n",
    "LSTM_2 = nlp_model_char(input_dim = all_chars, output_dim = 100, unit = all_chars, model = lstm_model)\n",
    "model_compile_char(model =LSTM_2, optimizer=tf.keras.optimizers.legacy.Adam(), loss=tf.keras.losses.CategoricalCrossentropy())\n",
    "history = model_fit(model=LSTM_2, Data=Train, Label=Label, epochs=150, early_stop=early_stop, batch_size=32)\n",
    "plot_char_model_change(history=history)"
   ]
  },
  {
   "cell_type": "code",
   "execution_count": null,
   "metadata": {},
   "outputs": [],
   "source": [
    "# 2-Bidirectional_LSTM\n",
    "bidirectional_lstm_model = tf.keras.layers.Bidirectional(tf.keras.layers.LSTM(units= 128, return_sequences=False))\n",
    "Bidirectional_LSTM_2 = nlp_model_char(input_dim = all_chars, output_dim = 100, unit = all_chars, model = bidirectional_lstm_model)\n",
    "model_compile_char(model =Bidirectional_LSTM_2, optimizer=tf.keras.optimizers.legacy.Adam(), loss=tf.keras.losses.CategoricalCrossentropy())\n",
    "history = model_fit(model=Bidirectional_LSTM_2, Data=Train, Label=Label, epochs=150, early_stop=early_stop, batch_size=32)\n",
    "plot_char_model_change(history=history)"
   ]
  },
  {
   "cell_type": "code",
   "execution_count": null,
   "metadata": {},
   "outputs": [],
   "source": [
    "# 3-GRU\n",
    "gru_model = tf.keras.layers.GRU(units= 128, return_sequences=False)\n",
    "GRU_2 = nlp_model_char(input_dim = all_chars, output_dim = 100, unit = all_chars, model = gru_model)\n",
    "model_compile_char(model =GRU_2, optimizer=tf.keras.optimizers.legacy.Adam(), loss=tf.keras.losses.CategoricalCrossentropy())\n",
    "history = model_fit(model=GRU_2, Data=Train, Label=Label, epochs=150, early_stop=early_stop, batch_size=32)\n",
    "plot_char_model_change(history=history)"
   ]
  },
  {
   "cell_type": "markdown",
   "metadata": {},
   "source": [
    "**Model Testing**"
   ]
  },
  {
   "cell_type": "code",
   "execution_count": null,
   "metadata": {},
   "outputs": [],
   "source": [
    "# 1-LSTM\n",
    "model_testing_char(text = 'رأى تاجر', number_of_chars = 100, char_index = chars_index, pad_sequences = pad_sequences, model = LSTM_2, max_length = max_length_char, index_char = index_chars, text_to_sequence_char = text_to_sequence_char, all_chars=all_chars, char_sequence_to_text=char_sequence_to_text)"
   ]
  },
  {
   "cell_type": "code",
   "execution_count": null,
   "metadata": {},
   "outputs": [],
   "source": [
    "# 2-Bidirectional LSTM\n",
    "model_testing_char(text = 'رأى تاجر', number_of_chars = 100, char_index = chars_index, pad_sequences = pad_sequences, model = Bidirectional_LSTM_2, max_length = max_length_char, index_char = index_chars, text_to_sequence_char = text_to_sequence_char, all_chars=all_chars, char_sequence_to_text=char_sequence_to_text)"
   ]
  },
  {
   "cell_type": "code",
   "execution_count": null,
   "metadata": {},
   "outputs": [],
   "source": [
    "# 3-GRU\n",
    "model_testing_char(text = 'رأى تاجر', number_of_chars = 100, char_index = chars_index, pad_sequences = pad_sequences, model = GRU_2, max_length = max_length_char, index_char = index_chars, text_to_sequence_char = text_to_sequence_char, all_chars=all_chars, char_sequence_to_text=char_sequence_to_text)"
   ]
  },
  {
   "cell_type": "markdown",
   "metadata": {},
   "source": [
    "**Save The Model**"
   ]
  },
  {
   "cell_type": "code",
   "execution_count": null,
   "metadata": {},
   "outputs": [],
   "source": [
    "LSTM_2.save('English_LSTM_2.h5')"
   ]
  },
  {
   "cell_type": "code",
   "execution_count": null,
   "metadata": {},
   "outputs": [],
   "source": [
    "Bidirectional_LSTM_2.save('English_Bidirectional_LSTM_2.h5')"
   ]
  },
  {
   "cell_type": "code",
   "execution_count": null,
   "metadata": {},
   "outputs": [],
   "source": [
    "GRU_2.save('English_GRU_2.h5')"
   ]
  },
  {
   "cell_type": "markdown",
   "metadata": {},
   "source": [
    "**3-Transformers**"
   ]
  },
  {
   "cell_type": "code",
   "execution_count": null,
   "metadata": {},
   "outputs": [],
   "source": [
    "# Transformers Model Name\n",
    "import torch\n",
    "device = torch.device(\"cpu\")\n",
    "model_name_ = 'gpt2'\n",
    "# Model And Tokenizer For Transformers\n",
    "tokenizer, model = transformes_model(model_name_)\n",
    "model.to(device)\n",
    "# Data Used For Train Transformers\n",
    "train_dataset = load_dataset('Cleaned_Corpus.txt', tokenizer)\n",
    "# Convert Data Into Batches\n",
    "collator = data_collator(tokenizer)\n",
    "# Set Arguments For Train The Transformers\n",
    "train_args = train_arguments(epochs = 50)\n",
    "# Train The Transformers\n",
    "training_(model=model.to(device), training_args=train_args, collator = collator, data = train_dataset)\n",
    "# Save The Model\n",
    "save_model_tokenizer(model = model, tokenizer = tokenizer)\n",
    "# Testing The Transformers Model\n",
    "transformer_testing(input_text='رأى تاجر الزجاجيّات شروق الشمس', tokenizer=tokenizer, model=model, text_normalization = text_normalization)\n",
    " "
   ]
  },
  {
   "cell_type": "code",
   "execution_count": null,
   "metadata": {},
   "outputs": [],
   "source": []
  }
 ],
 "metadata": {
  "kernelspec": {
   "display_name": "Python 3",
   "language": "python",
   "name": "python3"
  },
  "language_info": {
   "codemirror_mode": {
    "name": "ipython",
    "version": 3
   },
   "file_extension": ".py",
   "mimetype": "text/x-python",
   "name": "python",
   "nbconvert_exporter": "python",
   "pygments_lexer": "ipython3",
   "version": "3.11.9"
  }
 },
 "nbformat": 4,
 "nbformat_minor": 2
}
