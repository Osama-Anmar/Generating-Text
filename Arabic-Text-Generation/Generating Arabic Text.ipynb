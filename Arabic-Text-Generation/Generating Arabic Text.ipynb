{
 "cells": [
  {
   "cell_type": "markdown",
   "metadata": {},
   "source": [
    "**Import Libraries**"
   ]
  },
  {
   "cell_type": "code",
   "execution_count": 1,
   "metadata": {},
   "outputs": [],
   "source": [
    "import tensorflow as tf\n",
    "import numpy as np\n",
    "import warnings\n",
    "import os\n",
    "import random\n",
    "random.seed(42)\n",
    "np.random.seed(42)\n",
    "os.environ['PYTHONHASHSEED'] = str(42)\n",
    "tf.random.set_seed(42)\n",
    "from nlp_model_text_preprocessing import index_the_words, text_to_sequence, pad_sequences, one_hot_encoding, index_the_char, text_to_sequence_char, char_sequence_to_text, word_sequence_to_text\n",
    "from arabic_text_normalization import text_normalization\n",
    "from deep_learning import nlp_model_word, nlp_model_char, model_compile_word, model_compile_char, model_fit, plot_word_model_change, plot_char_model_change\n",
    "from model_testing import model_testing_char, model_testing_word\n",
    "from transformers_models import load_dataset, data_collator, train_arguments, training_, save_model_tokenizer, transformer_testing,transformes_model\n",
    "from read_data import read_file\n",
    "from generate_train_label import generate_train_label_word, generate_train_label_char\n",
    "from model_check_point import check_point\n",
    "tf.keras.utils.set_random_seed(42)\n",
    "tf.config.experimental.enable_op_determinism()"
   ]
  },
  {
   "cell_type": "markdown",
   "metadata": {},
   "source": [
    "**Ignore Warnings**"
   ]
  },
  {
   "cell_type": "code",
   "execution_count": 2,
   "metadata": {},
   "outputs": [],
   "source": [
    "os.environ['TF_CPP_MIN_LOG_LEVEL'] = '3'\n",
    "warnings.filterwarnings(action='ignore')"
   ]
  },
  {
   "cell_type": "markdown",
   "metadata": {},
   "source": [
    "**Read Data**"
   ]
  },
  {
   "cell_type": "code",
   "execution_count": 3,
   "metadata": {},
   "outputs": [
    {
     "data": {
      "text/plain": [
       "1242"
      ]
     },
     "execution_count": 3,
     "metadata": {},
     "output_type": "execute_result"
    }
   ],
   "source": [
    "Corpus = read_file(file_path='الخيميائي.txt', text_normalization=text_normalization)\n",
    "len(Corpus)"
   ]
  },
  {
   "cell_type": "code",
   "execution_count": 4,
   "metadata": {},
   "outputs": [],
   "source": [
    "with open('Cleaned_Corpus.txt', 'w') as f:\n",
    "    for line in Corpus:\n",
    "        f.write(line + '\\n') "
   ]
  },
  {
   "cell_type": "markdown",
   "metadata": {},
   "source": [
    "**Generate Early Stop Depending On Value Of Loss**"
   ]
  },
  {
   "cell_type": "code",
   "execution_count": 5,
   "metadata": {},
   "outputs": [],
   "source": [
    "early_stop_ = tf.keras.callbacks.EarlyStopping(\n",
    "    monitor='loss',\n",
    "    patience=5,\n",
    "    mode = 'min',\n",
    "    restore_best_weights=True,\n",
    ")"
   ]
  },
  {
   "cell_type": "markdown",
   "metadata": {},
   "source": [
    "**1-Tokens Based On Word**"
   ]
  },
  {
   "cell_type": "code",
   "execution_count": 6,
   "metadata": {},
   "outputs": [
    {
     "data": {
      "text/plain": [
       "8911"
      ]
     },
     "execution_count": 6,
     "metadata": {},
     "output_type": "execute_result"
    }
   ],
   "source": [
    "# Generate Word To Index, Index To Word, And Find Count Of All Words\n",
    "all_words, words_index, index_to_words = index_the_words(Corpus)\n",
    "all_words"
   ]
  },
  {
   "cell_type": "code",
   "execution_count": 7,
   "metadata": {},
   "outputs": [
    {
     "data": {
      "text/plain": [
       "163"
      ]
     },
     "execution_count": 7,
     "metadata": {},
     "output_type": "execute_result"
    }
   ],
   "source": [
    "max_length_word, train, labels = generate_train_label_word(Corpus, text_to_sequence, words_index, pad_sequences)\n",
    "max_length_word"
   ]
  },
  {
   "cell_type": "code",
   "execution_count": 8,
   "metadata": {},
   "outputs": [
    {
     "data": {
      "text/plain": [
       "array([[0., 0., 0., ..., 0., 0., 0.],\n",
       "       [0., 0., 0., ..., 0., 0., 0.],\n",
       "       [0., 0., 0., ..., 0., 0., 0.],\n",
       "       ...,\n",
       "       [0., 0., 0., ..., 0., 0., 0.],\n",
       "       [0., 0., 0., ..., 0., 0., 0.],\n",
       "       [0., 0., 0., ..., 0., 0., 0.]])"
      ]
     },
     "execution_count": 8,
     "metadata": {},
     "output_type": "execute_result"
    }
   ],
   "source": [
    "# Convert Label Data \n",
    "label = one_hot_encoding(labels, all_words)\n",
    "label"
   ]
  },
  {
   "cell_type": "markdown",
   "metadata": {},
   "source": [
    "*Deep Learning Models*"
   ]
  },
  {
   "cell_type": "code",
   "execution_count": 9,
   "metadata": {},
   "outputs": [
    {
     "name": "stdout",
     "output_type": "stream",
     "text": [
      "Epoch 1/150\n",
      "872/872 [==============================] - 38s 42ms/step - loss: 8.2398 - accuracy: 0.0245\n",
      "Epoch 2/150\n",
      "872/872 [==============================] - 34s 39ms/step - loss: 7.7049 - accuracy: 0.0278\n",
      "Epoch 3/150\n",
      "872/872 [==============================] - 36s 41ms/step - loss: 7.4289 - accuracy: 0.0332\n",
      "Epoch 4/150\n",
      "872/872 [==============================] - 36s 41ms/step - loss: 7.0688 - accuracy: 0.0437\n",
      "Epoch 5/150\n",
      "872/872 [==============================] - 36s 41ms/step - loss: 6.5930 - accuracy: 0.0567\n",
      "Epoch 6/150\n",
      "872/872 [==============================] - 37s 42ms/step - loss: 6.0512 - accuracy: 0.0767\n",
      "Epoch 7/150\n",
      "872/872 [==============================] - 37s 42ms/step - loss: 5.4991 - accuracy: 0.1064\n",
      "Epoch 8/150\n",
      "872/872 [==============================] - 35s 40ms/step - loss: 4.9612 - accuracy: 0.1594\n",
      "Epoch 9/150\n",
      "872/872 [==============================] - 35s 40ms/step - loss: 4.4324 - accuracy: 0.2344\n",
      "Epoch 10/150\n",
      "872/872 [==============================] - 36s 41ms/step - loss: 3.9249 - accuracy: 0.3228\n",
      "Epoch 11/150\n",
      "872/872 [==============================] - 35s 41ms/step - loss: 3.4394 - accuracy: 0.4067\n",
      "Epoch 12/150\n",
      "872/872 [==============================] - 37s 43ms/step - loss: 2.9908 - accuracy: 0.4817\n",
      "Epoch 13/150\n",
      "872/872 [==============================] - 37s 43ms/step - loss: 2.5927 - accuracy: 0.5468\n",
      "Epoch 14/150\n",
      "872/872 [==============================] - 36s 41ms/step - loss: 2.2428 - accuracy: 0.6059\n",
      "Epoch 15/150\n",
      "872/872 [==============================] - 35s 41ms/step - loss: 1.9422 - accuracy: 0.6611\n",
      "Epoch 16/150\n",
      "872/872 [==============================] - 36s 41ms/step - loss: 1.6845 - accuracy: 0.7051\n",
      "Epoch 17/150\n",
      "872/872 [==============================] - 38s 43ms/step - loss: 1.4504 - accuracy: 0.7493\n",
      "Epoch 18/150\n",
      "872/872 [==============================] - 36s 41ms/step - loss: 1.2508 - accuracy: 0.7876\n",
      "Epoch 19/150\n",
      "872/872 [==============================] - 36s 41ms/step - loss: 1.0735 - accuracy: 0.8194\n",
      "Epoch 20/150\n",
      "872/872 [==============================] - 38s 43ms/step - loss: 0.9182 - accuracy: 0.8502\n",
      "Epoch 21/150\n",
      "872/872 [==============================] - 36s 41ms/step - loss: 0.7838 - accuracy: 0.8758\n",
      "Epoch 22/150\n",
      "872/872 [==============================] - 36s 42ms/step - loss: 0.6652 - accuracy: 0.8977\n",
      "Epoch 23/150\n",
      "872/872 [==============================] - 36s 41ms/step - loss: 0.5669 - accuracy: 0.9132\n",
      "Epoch 24/150\n",
      "872/872 [==============================] - 36s 41ms/step - loss: 0.4839 - accuracy: 0.9282\n",
      "Epoch 25/150\n",
      "872/872 [==============================] - 36s 42ms/step - loss: 0.4085 - accuracy: 0.9388\n",
      "Epoch 26/150\n",
      "872/872 [==============================] - 36s 41ms/step - loss: 0.3572 - accuracy: 0.9472\n",
      "Epoch 27/150\n",
      "872/872 [==============================] - 36s 41ms/step - loss: 0.3009 - accuracy: 0.9543\n",
      "Epoch 28/150\n",
      "872/872 [==============================] - 36s 41ms/step - loss: 0.2610 - accuracy: 0.9589\n",
      "Epoch 29/150\n",
      "872/872 [==============================] - 40s 46ms/step - loss: 0.2299 - accuracy: 0.9610\n",
      "Epoch 30/150\n",
      "872/872 [==============================] - 42s 48ms/step - loss: 0.2039 - accuracy: 0.9635\n",
      "Epoch 31/150\n",
      "872/872 [==============================] - 36s 41ms/step - loss: 0.1831 - accuracy: 0.9658\n",
      "Epoch 32/150\n",
      "872/872 [==============================] - 36s 41ms/step - loss: 0.1686 - accuracy: 0.9656\n",
      "Epoch 33/150\n",
      "872/872 [==============================] - 35s 40ms/step - loss: 0.1561 - accuracy: 0.9667\n",
      "Epoch 34/150\n",
      "872/872 [==============================] - 35s 40ms/step - loss: 0.1464 - accuracy: 0.9679\n",
      "Epoch 35/150\n",
      "872/872 [==============================] - 35s 40ms/step - loss: 0.1349 - accuracy: 0.9675\n",
      "Epoch 36/150\n",
      "872/872 [==============================] - 35s 40ms/step - loss: 0.1287 - accuracy: 0.9677\n",
      "Epoch 37/150\n",
      "872/872 [==============================] - 35s 40ms/step - loss: 0.1230 - accuracy: 0.9677\n",
      "Epoch 38/150\n",
      "872/872 [==============================] - 35s 40ms/step - loss: 0.1209 - accuracy: 0.9677\n",
      "Epoch 39/150\n",
      "872/872 [==============================] - 35s 40ms/step - loss: 0.1237 - accuracy: 0.9663\n",
      "Epoch 40/150\n",
      "872/872 [==============================] - 35s 40ms/step - loss: 0.1172 - accuracy: 0.9666\n",
      "Epoch 41/150\n",
      "872/872 [==============================] - 35s 40ms/step - loss: 0.1135 - accuracy: 0.9671\n",
      "Epoch 42/150\n",
      "872/872 [==============================] - 36s 41ms/step - loss: 0.1079 - accuracy: 0.9672\n",
      "Epoch 43/150\n",
      "872/872 [==============================] - 35s 40ms/step - loss: 0.1061 - accuracy: 0.9677\n",
      "Epoch 44/150\n",
      "872/872 [==============================] - 35s 40ms/step - loss: 0.1050 - accuracy: 0.9679\n",
      "Epoch 45/150\n",
      "872/872 [==============================] - 35s 40ms/step - loss: 0.1304 - accuracy: 0.9641\n",
      "Epoch 46/150\n",
      "872/872 [==============================] - 35s 40ms/step - loss: 0.1257 - accuracy: 0.9642\n",
      "Epoch 47/150\n",
      "872/872 [==============================] - 34s 39ms/step - loss: 0.1023 - accuracy: 0.9675\n",
      "Epoch 48/150\n",
      "872/872 [==============================] - 35s 40ms/step - loss: 0.0997 - accuracy: 0.9679\n",
      "Epoch 49/150\n",
      "872/872 [==============================] - 35s 40ms/step - loss: 0.0993 - accuracy: 0.9678\n",
      "Epoch 50/150\n",
      "872/872 [==============================] - 36s 41ms/step - loss: 0.0995 - accuracy: 0.9675\n",
      "Epoch 51/150\n",
      "872/872 [==============================] - 35s 40ms/step - loss: 0.1005 - accuracy: 0.9676\n",
      "Epoch 52/150\n",
      "872/872 [==============================] - 35s 41ms/step - loss: 0.0985 - accuracy: 0.9676\n",
      "Epoch 53/150\n",
      "872/872 [==============================] - 36s 41ms/step - loss: 0.0995 - accuracy: 0.9674\n",
      "Epoch 54/150\n",
      "872/872 [==============================] - 35s 41ms/step - loss: 0.1640 - accuracy: 0.9550\n",
      "Epoch 55/150\n",
      "872/872 [==============================] - 35s 40ms/step - loss: 0.1080 - accuracy: 0.9664\n",
      "Epoch 56/150\n",
      "872/872 [==============================] - 35s 40ms/step - loss: 0.0961 - accuracy: 0.9678\n",
      "Epoch 57/150\n",
      "872/872 [==============================] - 35s 41ms/step - loss: 0.0949 - accuracy: 0.9678\n",
      "Epoch 58/150\n",
      "872/872 [==============================] - 36s 42ms/step - loss: 0.0952 - accuracy: 0.9679\n",
      "Epoch 59/150\n",
      "872/872 [==============================] - 36s 42ms/step - loss: 0.0954 - accuracy: 0.9675\n",
      "Epoch 60/150\n",
      "872/872 [==============================] - 36s 42ms/step - loss: 0.0950 - accuracy: 0.9676\n",
      "Epoch 61/150\n",
      "872/872 [==============================] - 37s 42ms/step - loss: 0.0957 - accuracy: 0.9679\n",
      "Epoch 62/150\n",
      "872/872 [==============================] - 36s 41ms/step - loss: 0.0956 - accuracy: 0.9677\n"
     ]
    },
    {
     "data": {
      "image/png": "[encoded data removed]",
      "text/plain": [
       "<Figure size 640x480 with 1 Axes>"
      ]
     },
     "metadata": {},
     "output_type": "display_data"
    }
   ],
   "source": [
    "# 1-LSTM\n",
    "arabic_lstm_check_point_1 = check_point('Arabic_Lstm_1')\n",
    "lstm_model = tf.keras.layers.LSTM(units=128, return_sequences=False)\n",
    "LSTM_1 = nlp_model_word(input_dim = all_words, output_dim = 100, input_length = max_length_word, unit = all_words, model = lstm_model)\n",
    "model_compile_word(model =LSTM_1, optimizer=tf.keras.optimizers.legacy.Adam(), loss=tf.keras.losses.CategoricalCrossentropy(), metrics=['accuracy'])\n",
    "history = model_fit(model=LSTM_1, Data=train, Label=label, epochs=150, early_stop=early_stop_, checkpoint=arabic_lstm_check_point_1 ,batch_size=32)\n",
    "plot_word_model_change(history=history)"
   ]
  },
  {
   "cell_type": "code",
   "execution_count": 10,
   "metadata": {},
   "outputs": [
    {
     "name": "stdout",
     "output_type": "stream",
     "text": [
      "Epoch 1/150\n",
      "436/436 [==============================] - 50s 108ms/step - loss: 8.2218 - accuracy: 0.0249\n",
      "Epoch 2/150\n",
      "436/436 [==============================] - 45s 104ms/step - loss: 7.6713 - accuracy: 0.0299\n",
      "Epoch 3/150\n",
      "436/436 [==============================] - 45s 104ms/step - loss: 7.3700 - accuracy: 0.0351\n",
      "Epoch 4/150\n",
      "436/436 [==============================] - 44s 101ms/step - loss: 6.9809 - accuracy: 0.0436\n",
      "Epoch 5/150\n",
      "436/436 [==============================] - 45s 103ms/step - loss: 6.5328 - accuracy: 0.0526\n",
      "Epoch 6/150\n",
      "436/436 [==============================] - 42s 97ms/step - loss: 6.0731 - accuracy: 0.0700\n",
      "Epoch 7/150\n",
      "436/436 [==============================] - 42s 97ms/step - loss: 5.6190 - accuracy: 0.0892\n",
      "Epoch 8/150\n",
      "436/436 [==============================] - 42s 97ms/step - loss: 5.1857 - accuracy: 0.1240\n",
      "Epoch 9/150\n",
      "436/436 [==============================] - 43s 98ms/step - loss: 4.7683 - accuracy: 0.1805\n",
      "Epoch 10/150\n",
      "436/436 [==============================] - 42s 97ms/step - loss: 4.3704 - accuracy: 0.2464\n",
      "Epoch 11/150\n",
      "436/436 [==============================] - 42s 97ms/step - loss: 3.9872 - accuracy: 0.3133\n",
      "Epoch 12/150\n",
      "436/436 [==============================] - 42s 97ms/step - loss: 3.6224 - accuracy: 0.3759\n",
      "Epoch 13/150\n",
      "436/436 [==============================] - 43s 98ms/step - loss: 3.2794 - accuracy: 0.4355\n",
      "Epoch 14/150\n",
      "436/436 [==============================] - 43s 98ms/step - loss: 2.9622 - accuracy: 0.4863\n",
      "Epoch 15/150\n",
      "436/436 [==============================] - 43s 98ms/step - loss: 2.6719 - accuracy: 0.5363\n",
      "Epoch 16/150\n",
      "436/436 [==============================] - 43s 98ms/step - loss: 2.4088 - accuracy: 0.5816\n",
      "Epoch 17/150\n",
      "436/436 [==============================] - 43s 98ms/step - loss: 2.1683 - accuracy: 0.6242\n",
      "Epoch 18/150\n",
      "436/436 [==============================] - 45s 103ms/step - loss: 1.9544 - accuracy: 0.6606\n",
      "Epoch 19/150\n",
      "436/436 [==============================] - 50s 114ms/step - loss: 1.7549 - accuracy: 0.6952\n",
      "Epoch 20/150\n",
      "436/436 [==============================] - 45s 104ms/step - loss: 1.5735 - accuracy: 0.7324\n",
      "Epoch 21/150\n",
      "436/436 [==============================] - 45s 102ms/step - loss: 1.4100 - accuracy: 0.7623\n",
      "Epoch 22/150\n",
      "436/436 [==============================] - 44s 101ms/step - loss: 1.2617 - accuracy: 0.7901\n",
      "Epoch 23/150\n",
      "436/436 [==============================] - 43s 98ms/step - loss: 1.1247 - accuracy: 0.8166\n",
      "Epoch 24/150\n",
      "436/436 [==============================] - 43s 98ms/step - loss: 1.0018 - accuracy: 0.8412\n",
      "Epoch 25/150\n",
      "436/436 [==============================] - 42s 97ms/step - loss: 0.8915 - accuracy: 0.8608\n",
      "Epoch 26/150\n",
      "436/436 [==============================] - 42s 97ms/step - loss: 0.7916 - accuracy: 0.8791\n",
      "Epoch 27/150\n",
      "436/436 [==============================] - 43s 98ms/step - loss: 0.7023 - accuracy: 0.8936\n",
      "Epoch 28/150\n",
      "436/436 [==============================] - 42s 97ms/step - loss: 0.6235 - accuracy: 0.9082\n",
      "Epoch 29/150\n",
      "436/436 [==============================] - 43s 98ms/step - loss: 0.5539 - accuracy: 0.9216\n",
      "Epoch 30/150\n",
      "436/436 [==============================] - 42s 97ms/step - loss: 0.4907 - accuracy: 0.9292\n",
      "Epoch 31/150\n",
      "436/436 [==============================] - 42s 96ms/step - loss: 0.4347 - accuracy: 0.9387\n",
      "Epoch 32/150\n",
      "436/436 [==============================] - 42s 97ms/step - loss: 0.3856 - accuracy: 0.9459\n",
      "Epoch 33/150\n",
      "436/436 [==============================] - 42s 97ms/step - loss: 0.3451 - accuracy: 0.9505\n",
      "Epoch 34/150\n",
      "436/436 [==============================] - 42s 97ms/step - loss: 0.3076 - accuracy: 0.9562\n",
      "Epoch 35/150\n",
      "436/436 [==============================] - 42s 97ms/step - loss: 0.2754 - accuracy: 0.9589\n",
      "Epoch 36/150\n",
      "436/436 [==============================] - 42s 97ms/step - loss: 0.2497 - accuracy: 0.9608\n",
      "Epoch 37/150\n",
      "436/436 [==============================] - 42s 97ms/step - loss: 0.2269 - accuracy: 0.9641\n",
      "Epoch 38/150\n",
      "436/436 [==============================] - 42s 97ms/step - loss: 0.2056 - accuracy: 0.9650\n",
      "Epoch 39/150\n",
      "436/436 [==============================] - 42s 97ms/step - loss: 0.1897 - accuracy: 0.9652\n",
      "Epoch 40/150\n",
      "436/436 [==============================] - 42s 97ms/step - loss: 0.1755 - accuracy: 0.9662\n",
      "Epoch 41/150\n",
      "436/436 [==============================] - 42s 97ms/step - loss: 0.1636 - accuracy: 0.9672\n",
      "Epoch 42/150\n",
      "436/436 [==============================] - 42s 97ms/step - loss: 0.1533 - accuracy: 0.9668\n",
      "Epoch 43/150\n",
      "436/436 [==============================] - 42s 97ms/step - loss: 0.1444 - accuracy: 0.9677\n",
      "Epoch 44/150\n",
      "436/436 [==============================] - 42s 97ms/step - loss: 0.1399 - accuracy: 0.9674\n",
      "Epoch 45/150\n",
      "436/436 [==============================] - 42s 97ms/step - loss: 0.1356 - accuracy: 0.9686\n",
      "Epoch 46/150\n",
      "436/436 [==============================] - 42s 97ms/step - loss: 0.1366 - accuracy: 0.9672\n",
      "Epoch 47/150\n",
      "436/436 [==============================] - 42s 97ms/step - loss: 0.1313 - accuracy: 0.9669\n",
      "Epoch 48/150\n",
      "436/436 [==============================] - 42s 97ms/step - loss: 0.1204 - accuracy: 0.9679\n",
      "Epoch 49/150\n",
      "436/436 [==============================] - 42s 97ms/step - loss: 0.1140 - accuracy: 0.9683\n",
      "Epoch 50/150\n",
      "436/436 [==============================] - 42s 97ms/step - loss: 0.1102 - accuracy: 0.9678\n",
      "Epoch 51/150\n",
      "436/436 [==============================] - 43s 98ms/step - loss: 0.1083 - accuracy: 0.9679\n",
      "Epoch 52/150\n",
      "436/436 [==============================] - 42s 97ms/step - loss: 0.1071 - accuracy: 0.9681\n",
      "Epoch 53/150\n",
      "436/436 [==============================] - 42s 97ms/step - loss: 0.1067 - accuracy: 0.9679\n",
      "Epoch 54/150\n",
      "436/436 [==============================] - 42s 97ms/step - loss: 0.1161 - accuracy: 0.9663\n",
      "Epoch 55/150\n",
      "436/436 [==============================] - 42s 97ms/step - loss: 0.1641 - accuracy: 0.9584\n",
      "Epoch 56/150\n",
      "436/436 [==============================] - 42s 97ms/step - loss: 0.1177 - accuracy: 0.9667\n",
      "Epoch 57/150\n",
      "436/436 [==============================] - 42s 97ms/step - loss: 0.1005 - accuracy: 0.9683\n",
      "Epoch 58/150\n",
      "436/436 [==============================] - 43s 98ms/step - loss: 0.0981 - accuracy: 0.9685\n",
      "Epoch 59/150\n",
      "436/436 [==============================] - 43s 98ms/step - loss: 0.0974 - accuracy: 0.9678\n",
      "Epoch 60/150\n",
      "436/436 [==============================] - 42s 97ms/step - loss: 0.0971 - accuracy: 0.9680\n",
      "Epoch 61/150\n",
      "436/436 [==============================] - 42s 97ms/step - loss: 0.0964 - accuracy: 0.9682\n",
      "Epoch 62/150\n",
      "436/436 [==============================] - 42s 97ms/step - loss: 0.0959 - accuracy: 0.9680\n",
      "Epoch 63/150\n",
      "436/436 [==============================] - 42s 97ms/step - loss: 0.0951 - accuracy: 0.9681\n",
      "Epoch 64/150\n",
      "436/436 [==============================] - 42s 97ms/step - loss: 0.0951 - accuracy: 0.9681\n",
      "Epoch 65/150\n",
      "436/436 [==============================] - 43s 98ms/step - loss: 0.0949 - accuracy: 0.9677\n",
      "Epoch 66/150\n",
      "436/436 [==============================] - 42s 97ms/step - loss: 0.0943 - accuracy: 0.9680\n",
      "Epoch 67/150\n",
      "436/436 [==============================] - 42s 96ms/step - loss: 0.0936 - accuracy: 0.9684\n",
      "Epoch 68/150\n",
      "436/436 [==============================] - 42s 96ms/step - loss: 0.1516 - accuracy: 0.9553\n",
      "Epoch 69/150\n",
      "436/436 [==============================] - 42s 96ms/step - loss: 0.1494 - accuracy: 0.9576\n",
      "Epoch 70/150\n",
      "436/436 [==============================] - 42s 96ms/step - loss: 0.0979 - accuracy: 0.9682\n",
      "Epoch 71/150\n",
      "436/436 [==============================] - 42s 96ms/step - loss: 0.0922 - accuracy: 0.9687\n",
      "Epoch 72/150\n",
      "436/436 [==============================] - 43s 98ms/step - loss: 0.0916 - accuracy: 0.9680\n",
      "Epoch 73/150\n",
      "436/436 [==============================] - 42s 97ms/step - loss: 0.0914 - accuracy: 0.9680\n",
      "Epoch 74/150\n",
      "436/436 [==============================] - 42s 96ms/step - loss: 0.0910 - accuracy: 0.9684\n",
      "Epoch 75/150\n",
      "436/436 [==============================] - 42s 97ms/step - loss: 0.0908 - accuracy: 0.9680\n",
      "Epoch 76/150\n",
      "436/436 [==============================] - 42s 97ms/step - loss: 0.0904 - accuracy: 0.9684\n",
      "Epoch 77/150\n",
      "436/436 [==============================] - 42s 96ms/step - loss: 0.0906 - accuracy: 0.9681\n",
      "Epoch 78/150\n",
      "436/436 [==============================] - 42s 96ms/step - loss: 0.0900 - accuracy: 0.9680\n",
      "Epoch 79/150\n",
      "436/436 [==============================] - 42s 96ms/step - loss: 0.0903 - accuracy: 0.9675\n",
      "Epoch 80/150\n",
      "436/436 [==============================] - 42s 96ms/step - loss: 0.0897 - accuracy: 0.9684\n",
      "Epoch 81/150\n",
      "436/436 [==============================] - 42s 96ms/step - loss: 0.0906 - accuracy: 0.9677\n",
      "Epoch 82/150\n",
      "436/436 [==============================] - 42s 96ms/step - loss: 0.1345 - accuracy: 0.9597\n",
      "Epoch 83/150\n",
      "436/436 [==============================] - 42s 97ms/step - loss: 0.1159 - accuracy: 0.9638\n",
      "Epoch 84/150\n",
      "436/436 [==============================] - 42s 97ms/step - loss: 0.0920 - accuracy: 0.9680\n",
      "Epoch 85/150\n",
      "436/436 [==============================] - 42s 97ms/step - loss: 0.0892 - accuracy: 0.9681\n",
      "Epoch 86/150\n",
      "436/436 [==============================] - 43s 99ms/step - loss: 0.0884 - accuracy: 0.9681\n",
      "Epoch 87/150\n",
      "436/436 [==============================] - 46s 106ms/step - loss: 0.0882 - accuracy: 0.9680\n",
      "Epoch 88/150\n",
      "436/436 [==============================] - 44s 101ms/step - loss: 0.0880 - accuracy: 0.9686\n",
      "Epoch 89/150\n",
      "436/436 [==============================] - 45s 102ms/step - loss: 0.0882 - accuracy: 0.9682\n",
      "Epoch 90/150\n",
      "436/436 [==============================] - 43s 98ms/step - loss: 0.0879 - accuracy: 0.9686\n",
      "Epoch 91/150\n",
      "436/436 [==============================] - 42s 96ms/step - loss: 0.0881 - accuracy: 0.9680\n",
      "Epoch 92/150\n",
      "436/436 [==============================] - 43s 98ms/step - loss: 0.0879 - accuracy: 0.9684\n",
      "Epoch 93/150\n",
      "436/436 [==============================] - 42s 96ms/step - loss: 0.0874 - accuracy: 0.9679\n",
      "Epoch 94/150\n",
      "436/436 [==============================] - 42s 96ms/step - loss: 0.0879 - accuracy: 0.9685\n",
      "Epoch 95/150\n",
      "436/436 [==============================] - 45s 102ms/step - loss: 0.0893 - accuracy: 0.9673\n",
      "Epoch 96/150\n",
      "436/436 [==============================] - 46s 106ms/step - loss: 0.1513 - accuracy: 0.9535\n",
      "Epoch 97/150\n",
      "436/436 [==============================] - 45s 103ms/step - loss: 0.1023 - accuracy: 0.9661\n",
      "Epoch 98/150\n",
      "436/436 [==============================] - 46s 105ms/step - loss: 0.0883 - accuracy: 0.9681\n"
     ]
    },
    {
     "data": {
      "image/png": "[encoded data removed]",
      "text/plain": [
       "<Figure size 640x480 with 1 Axes>"
      ]
     },
     "metadata": {},
     "output_type": "display_data"
    }
   ],
   "source": [
    "# 2-Bidirectional LSTM\n",
    "arabic_bidirectional_lstm_check_point_1 = check_point('Arabic_Bidirectional_1')\n",
    "bidirectional_lstm_model = tf.keras.layers.Bidirectional(tf.keras.layers.LSTM(units= 128, return_sequences=False))\n",
    "Bidirectional_LSTM_1 = nlp_model_word(input_dim = all_words, output_dim = 100, input_length = max_length_word, unit = all_words, model = bidirectional_lstm_model)\n",
    "model_compile_word(model =Bidirectional_LSTM_1, optimizer=tf.keras.optimizers.legacy.Adam(), loss=tf.keras.losses.CategoricalCrossentropy(), metrics=['accuracy'])\n",
    "history = model_fit(model=Bidirectional_LSTM_1, Data=train, Label=label, epochs=150, early_stop=early_stop_, checkpoint=arabic_bidirectional_lstm_check_point_1, batch_size=64)\n",
    "plot_word_model_change(history=history)"
   ]
  },
  {
   "cell_type": "code",
   "execution_count": 11,
   "metadata": {},
   "outputs": [
    {
     "name": "stdout",
     "output_type": "stream",
     "text": [
      "Epoch 1/150\n",
      "872/872 [==============================] - 44s 46ms/step - loss: 8.2472 - accuracy: 0.0260\n",
      "Epoch 2/150\n",
      "872/872 [==============================] - 35s 40ms/step - loss: 7.5387 - accuracy: 0.0371\n",
      "Epoch 3/150\n",
      "872/872 [==============================] - 37s 42ms/step - loss: 6.9618 - accuracy: 0.0570\n",
      "Epoch 4/150\n",
      "872/872 [==============================] - 34s 39ms/step - loss: 6.2465 - accuracy: 0.0828\n",
      "Epoch 5/150\n",
      "872/872 [==============================] - 34s 39ms/step - loss: 5.4492 - accuracy: 0.1191\n",
      "Epoch 6/150\n",
      "872/872 [==============================] - 34s 39ms/step - loss: 4.6658 - accuracy: 0.1923\n",
      "Epoch 7/150\n",
      "872/872 [==============================] - 34s 38ms/step - loss: 3.9332 - accuracy: 0.3064\n",
      "Epoch 8/150\n",
      "872/872 [==============================] - 34s 39ms/step - loss: 3.2743 - accuracy: 0.4250\n",
      "Epoch 9/150\n",
      "872/872 [==============================] - 34s 39ms/step - loss: 2.6904 - accuracy: 0.5237\n",
      "Epoch 10/150\n",
      "872/872 [==============================] - 34s 39ms/step - loss: 2.2025 - accuracy: 0.6072\n",
      "Epoch 11/150\n",
      "872/872 [==============================] - 34s 39ms/step - loss: 1.8101 - accuracy: 0.6773\n",
      "Epoch 12/150\n",
      "872/872 [==============================] - 34s 39ms/step - loss: 1.4897 - accuracy: 0.7336\n",
      "Epoch 13/150\n",
      "872/872 [==============================] - 33s 38ms/step - loss: 1.2280 - accuracy: 0.7803\n",
      "Epoch 14/150\n",
      "872/872 [==============================] - 33s 38ms/step - loss: 1.0108 - accuracy: 0.8209\n",
      "Epoch 15/150\n",
      "872/872 [==============================] - 33s 38ms/step - loss: 0.8373 - accuracy: 0.8519\n",
      "Epoch 16/150\n",
      "872/872 [==============================] - 33s 38ms/step - loss: 0.6926 - accuracy: 0.8807\n",
      "Epoch 17/150\n",
      "872/872 [==============================] - 33s 38ms/step - loss: 0.5688 - accuracy: 0.9035\n",
      "Epoch 18/150\n",
      "872/872 [==============================] - 33s 38ms/step - loss: 0.4706 - accuracy: 0.9223\n",
      "Epoch 19/150\n",
      "872/872 [==============================] - 34s 39ms/step - loss: 0.3929 - accuracy: 0.9354\n",
      "Epoch 20/150\n",
      "872/872 [==============================] - 37s 42ms/step - loss: 0.3259 - accuracy: 0.9459\n",
      "Epoch 21/150\n",
      "872/872 [==============================] - 35s 41ms/step - loss: 0.2805 - accuracy: 0.9527\n",
      "Epoch 22/150\n",
      "872/872 [==============================] - 35s 40ms/step - loss: 0.2440 - accuracy: 0.9578\n",
      "Epoch 23/150\n",
      "872/872 [==============================] - 33s 38ms/step - loss: 0.2179 - accuracy: 0.9603\n",
      "Epoch 24/150\n",
      "872/872 [==============================] - 33s 38ms/step - loss: 0.1946 - accuracy: 0.9634\n",
      "Epoch 25/150\n",
      "872/872 [==============================] - 33s 38ms/step - loss: 0.1788 - accuracy: 0.9654\n",
      "Epoch 26/150\n",
      "872/872 [==============================] - 33s 38ms/step - loss: 0.1638 - accuracy: 0.9658\n",
      "Epoch 27/150\n",
      "872/872 [==============================] - 38s 43ms/step - loss: 0.1511 - accuracy: 0.9662\n",
      "Epoch 28/150\n",
      "872/872 [==============================] - 35s 40ms/step - loss: 0.1434 - accuracy: 0.9671\n",
      "Epoch 29/150\n",
      "872/872 [==============================] - 36s 41ms/step - loss: 0.1457 - accuracy: 0.9658\n",
      "Epoch 30/150\n",
      "872/872 [==============================] - 35s 40ms/step - loss: 0.1465 - accuracy: 0.9653\n",
      "Epoch 31/150\n",
      "872/872 [==============================] - 34s 39ms/step - loss: 0.1393 - accuracy: 0.9661\n",
      "Epoch 32/150\n",
      "872/872 [==============================] - 35s 40ms/step - loss: 0.1307 - accuracy: 0.9662\n",
      "Epoch 33/150\n",
      "872/872 [==============================] - 34s 39ms/step - loss: 0.1252 - accuracy: 0.9668\n",
      "Epoch 34/150\n",
      "872/872 [==============================] - 33s 38ms/step - loss: 0.1223 - accuracy: 0.9679\n",
      "Epoch 35/150\n",
      "872/872 [==============================] - 33s 37ms/step - loss: 0.1241 - accuracy: 0.9673\n",
      "Epoch 36/150\n",
      "872/872 [==============================] - 34s 39ms/step - loss: 0.1505 - accuracy: 0.9626\n",
      "Epoch 37/150\n",
      "872/872 [==============================] - 35s 41ms/step - loss: 0.1460 - accuracy: 0.9632\n",
      "Epoch 38/150\n",
      "872/872 [==============================] - 34s 39ms/step - loss: 0.1206 - accuracy: 0.9673\n",
      "Epoch 39/150\n",
      "872/872 [==============================] - 36s 41ms/step - loss: 0.1157 - accuracy: 0.9666\n",
      "Epoch 40/150\n",
      "872/872 [==============================] - 35s 40ms/step - loss: 0.1153 - accuracy: 0.9666\n",
      "Epoch 41/150\n",
      "872/872 [==============================] - 37s 42ms/step - loss: 0.1146 - accuracy: 0.9672\n",
      "Epoch 42/150\n",
      "872/872 [==============================] - 38s 44ms/step - loss: 0.1231 - accuracy: 0.9660\n",
      "Epoch 43/150\n",
      "872/872 [==============================] - 35s 40ms/step - loss: 0.1502 - accuracy: 0.9597\n",
      "Epoch 44/150\n",
      "872/872 [==============================] - 34s 39ms/step - loss: 0.1283 - accuracy: 0.9650\n",
      "Epoch 45/150\n",
      "872/872 [==============================] - 35s 40ms/step - loss: 0.1121 - accuracy: 0.9677\n",
      "Epoch 46/150\n",
      "872/872 [==============================] - 34s 39ms/step - loss: 0.1110 - accuracy: 0.9674\n",
      "Epoch 47/150\n",
      "872/872 [==============================] - 33s 38ms/step - loss: 0.1104 - accuracy: 0.9672\n",
      "Epoch 48/150\n",
      "872/872 [==============================] - 33s 38ms/step - loss: 0.1110 - accuracy: 0.9673\n",
      "Epoch 49/150\n",
      "872/872 [==============================] - 33s 38ms/step - loss: 0.1132 - accuracy: 0.9670\n",
      "Epoch 50/150\n",
      "872/872 [==============================] - 33s 37ms/step - loss: 0.1376 - accuracy: 0.9614\n",
      "Epoch 51/150\n",
      "872/872 [==============================] - 33s 38ms/step - loss: 0.1570 - accuracy: 0.9580\n",
      "Epoch 52/150\n",
      "872/872 [==============================] - 33s 37ms/step - loss: 0.1170 - accuracy: 0.9662\n"
     ]
    },
    {
     "data": {
      "image/png": "[encoded data removed]",
      "text/plain": [
       "<Figure size 640x480 with 1 Axes>"
      ]
     },
     "metadata": {},
     "output_type": "display_data"
    }
   ],
   "source": [
    "# 3-GRU\n",
    "arabic_gru_check_point_1 = check_point('Arabic_GRU1')\n",
    "gru_model = tf.keras.layers.GRU(units= 128, return_sequences=False)\n",
    "GRU_1 = nlp_model_word(input_dim = all_words, output_dim = 100, input_length = max_length_word, unit = all_words, model = gru_model)\n",
    "model_compile_word(model =GRU_1, optimizer=tf.keras.optimizers.legacy.Adam(), loss=tf.keras.losses.CategoricalCrossentropy(), metrics=['accuracy'])\n",
    "history = model_fit(model=GRU_1, Data=train, Label=label, epochs=150, early_stop=early_stop_, checkpoint=arabic_gru_check_point_1 , batch_size=32)\n",
    "plot_word_model_change(history=history)"
   ]
  },
  {
   "cell_type": "markdown",
   "metadata": {},
   "source": [
    "*Testing The Model*"
   ]
  },
  {
   "cell_type": "code",
   "execution_count": 12,
   "metadata": {},
   "outputs": [
    {
     "data": {
      "text/plain": [
       "'تناول الخيميائي بيده كتاباً كان قد أحضره أحد أفراد القافلة لم يكن للكتاب غلاف ولكنه استطاع على الرغم من ذلك التعرف على اسم الكاتب أوسكار وايلد وهو يقلب صفحاته وقع نظره على قصة كانت تتحدث عن نرجس لاشك أن الخيميائي يعرف أسطورة نرجس هذا الشاب الوسيم الذي يذهب كل يوم ليتأمل بهاءه'"
      ]
     },
     "execution_count": 12,
     "metadata": {},
     "output_type": "execute_result"
    }
   ],
   "source": [
    "# 1-LSTM\n",
    "model_testing_word(text = 'تناول الخيميائي ', number_of_words = 50, text_normalization = text_normalization, text_to_sequence = text_to_sequence, words_index = words_index, pad_sequences = pad_sequences, checkpoint_filepath='Arabic_Lstm_1_model_checkpoint.h5', max_length = max_length_word, index_to_words = index_to_words, word_sequence_to_text = word_sequence_to_text, all_words=all_words)"
   ]
  },
  {
   "cell_type": "code",
   "execution_count": 13,
   "metadata": {},
   "outputs": [
    {
     "data": {
      "text/plain": [
       "'رأى تاجر الزجاجيّات شروق الشمس فأحس بالغم الذي كان يكابده عند مطلع كل صباح فهو في المكان نفسه منذ مايقارب الثلاثين عاماً وكان متجره يقع في قمّة طريق منحدرة ومن النادر مرور زبون واحد من هناك وقد فات الأوان على التاجر كي يغيّر مهنته فكل ماكان قد تعلّمه عبر حياته كلّها هو بيع وشراء'"
      ]
     },
     "execution_count": 13,
     "metadata": {},
     "output_type": "execute_result"
    }
   ],
   "source": [
    "# 2-Bidirectional LSTM\n",
    "model_testing_word(text = 'رأى تاجر الزجاجيّات شروق ', number_of_words = 50, text_normalization = text_normalization, text_to_sequence = text_to_sequence, words_index = words_index, pad_sequences = pad_sequences, checkpoint_filepath='Arabic_Bidirectional_1_model_checkpoint.h5', max_length = max_length_word, index_to_words = index_to_words, word_sequence_to_text = word_sequence_to_text, all_words=all_words)"
   ]
  },
  {
   "cell_type": "code",
   "execution_count": 15,
   "metadata": {},
   "outputs": [
    {
     "data": {
      "text/plain": [
       "'إن مافهمه في تلك اللحظة هو انه أمام امرأة حياته وعليها أن تعلم ذلك دونما أية ضرورة للكلام كان متأكداً من هذا أكثر من تأكده من أي شيء آخر في العالم على الرغم من أن آبائه وآباء آبائه كانوا قد قالوا إن على الانسان أن يحب أولاً ثم يخطب أن يعرف الآخر وأن يملك المال'"
      ]
     },
     "execution_count": 15,
     "metadata": {},
     "output_type": "execute_result"
    }
   ],
   "source": [
    "# 3-GRU\n",
    "model_testing_word(text = 'إن مافهمه في تلك اللحظة ', number_of_words = 50, text_normalization = text_normalization, text_to_sequence = text_to_sequence, words_index = words_index, pad_sequences = pad_sequences, checkpoint_filepath='Arabic_GRU1_model_checkpoint.h5', max_length = max_length_word, index_to_words = index_to_words, word_sequence_to_text = word_sequence_to_text, all_words=all_words)"
   ]
  },
  {
   "cell_type": "markdown",
   "metadata": {},
   "source": [
    "**2-Token Based On Character**"
   ]
  },
  {
   "cell_type": "code",
   "execution_count": 16,
   "metadata": {},
   "outputs": [
    {
     "data": {
      "text/plain": [
       "45"
      ]
     },
     "execution_count": 16,
     "metadata": {},
     "output_type": "execute_result"
    }
   ],
   "source": [
    "# Generate Char To Index, Index To Char, And Find Count Of All Char\n",
    "all_chars, chars_index, index_chars = index_the_char(Corpus)\n",
    "all_chars"
   ]
  },
  {
   "cell_type": "code",
   "execution_count": 17,
   "metadata": {},
   "outputs": [
    {
     "data": {
      "text/plain": [
       "{' ': 0,\n",
       " 'ء': 1,\n",
       " 'آ': 2,\n",
       " 'أ': 3,\n",
       " 'ؤ': 4,\n",
       " 'إ': 5,\n",
       " 'ئ': 6,\n",
       " 'ا': 7,\n",
       " 'ب': 8,\n",
       " 'ة': 9,\n",
       " 'ت': 10,\n",
       " 'ث': 11,\n",
       " 'ج': 12,\n",
       " 'ح': 13,\n",
       " 'خ': 14,\n",
       " 'د': 15,\n",
       " 'ذ': 16,\n",
       " 'ر': 17,\n",
       " 'ز': 18,\n",
       " 'س': 19,\n",
       " 'ش': 20,\n",
       " 'ص': 21,\n",
       " 'ض': 22,\n",
       " 'ط': 23,\n",
       " 'ظ': 24,\n",
       " 'ع': 25,\n",
       " 'غ': 26,\n",
       " 'ف': 27,\n",
       " 'ق': 28,\n",
       " 'ك': 29,\n",
       " 'ل': 30,\n",
       " 'م': 31,\n",
       " 'ن': 32,\n",
       " 'ه': 33,\n",
       " 'و': 34,\n",
       " 'ى': 35,\n",
       " 'ي': 36,\n",
       " 'ً': 37,\n",
       " 'ٌ': 38,\n",
       " 'ٍ': 39,\n",
       " 'َ': 40,\n",
       " 'ُ': 41,\n",
       " 'ِ': 42,\n",
       " 'ّ': 43,\n",
       " 'ْ': 44,\n",
       " 'UNK': 45}"
      ]
     },
     "execution_count": 17,
     "metadata": {},
     "output_type": "execute_result"
    }
   ],
   "source": [
    "chars_index"
   ]
  },
  {
   "cell_type": "code",
   "execution_count": 18,
   "metadata": {},
   "outputs": [
    {
     "data": {
      "text/plain": [
       "866"
      ]
     },
     "execution_count": 18,
     "metadata": {},
     "output_type": "execute_result"
    }
   ],
   "source": [
    "# Find The Max Length\n",
    "max_length_char = max([len(s) for s in Corpus])\n",
    "max_length_char"
   ]
  },
  {
   "cell_type": "code",
   "execution_count": 19,
   "metadata": {},
   "outputs": [],
   "source": [
    "# Generate Train And Label Data\n",
    "Train, Label = generate_train_label_char(Corpus, max_length_char)"
   ]
  },
  {
   "cell_type": "code",
   "execution_count": 20,
   "metadata": {},
   "outputs": [],
   "source": [
    "# Convert Words Into Number\n",
    "sequence_text_char_Train = text_to_sequence_char(chars_index, Train)\n",
    "sequence_text_char_Label = text_to_sequence_char(chars_index, Label)"
   ]
  },
  {
   "cell_type": "code",
   "execution_count": 21,
   "metadata": {},
   "outputs": [],
   "source": [
    "# Padding The The Input Sequence To Make All Sequence In Same Length\n",
    "Train = pad_sequences(input_sequence=sequence_text_char_Train, max_length=max_length_char, padding='post')\n",
    "# # Convert The Label Data\n",
    "Label = one_hot_encoding(sequence_text_char_Label, all_chars)"
   ]
  },
  {
   "cell_type": "markdown",
   "metadata": {},
   "source": [
    "**Deep Learning Model**"
   ]
  },
  {
   "cell_type": "code",
   "execution_count": null,
   "metadata": {},
   "outputs": [],
   "source": [
    "# 1-LSTM\n",
    "arabic_bidirectional_lstm_check_point_2 = check_point('Arabic_Bidirectional_2')\n",
    "lstm_model = tf.keras.layers.LSTM(units= 128, return_sequences=False)\n",
    "LSTM_2 = nlp_model_char(input_dim = all_chars, output_dim = 100, unit = all_chars, model = lstm_model, input_length=max_length_char)\n",
    "model_compile_char(model =LSTM_2, optiizer=tf.keras.optimizers.legacy.Adam(), loss=tf.keras.losses.CategoricalCrossentropy())\n",
    "history = model_fit(model=LSTM_2, Data=Train, Label=Label, epochs=150, early_stop=early_stop,  batch_size=32)\n",
    "plot_char_model_change(history=history)"
   ]
  },
  {
   "cell_type": "code",
   "execution_count": null,
   "metadata": {},
   "outputs": [],
   "source": [
    "# 2-Bidirectional_LSTM\n",
    "bidirectional_lstm_model = tf.keras.layers.Bidirectional(tf.keras.layers.LSTM(units= 128, return_sequences=False))\n",
    "Bidirectional_LSTM_2 = nlp_model_char(input_dim = all_chars, output_dim = 100, unit = all_chars, model = bidirectional_lstm_model, input_length=max_length_char)\n",
    "model_compile_char(model =Bidirectional_LSTM_2, optimizer=tf.keras.optimizers.legacy.Adam(), loss=tf.keras.losses.CategoricalCrossentropy())\n",
    "history = model_fit(model=Bidirectional_LSTM_2, Data=Train, Label=Label, epochs=150, early_stop=early_stop, batch_size=32)\n",
    "plot_char_model_change(history=history)"
   ]
  },
  {
   "cell_type": "code",
   "execution_count": null,
   "metadata": {},
   "outputs": [],
   "source": [
    "# 3-GRU\n",
    "gru_model = tf.keras.layers.GRU(units= 128, return_sequences=False)\n",
    "GRU_2 = nlp_model_char(input_dim = all_chars, output_dim = 100, unit = all_chars, model = gru_model, input_length=max_length_char)\n",
    "model_compile_char(model =GRU_2, optimizer=tf.keras.optimizers.legacy.Adam(), loss=tf.keras.losses.CategoricalCrossentropy())\n",
    "history = model_fit(model=GRU_2, Data=Train, Label=Label, epochs=150, early_stop=early_stop, batch_size=32)\n",
    "plot_char_model_change(history=history)"
   ]
  },
  {
   "cell_type": "markdown",
   "metadata": {},
   "source": [
    "**Model Testing**"
   ]
  },
  {
   "cell_type": "code",
   "execution_count": null,
   "metadata": {},
   "outputs": [],
   "source": [
    "# 1-LSTM\n",
    "model_testing_char(text = 'أضاءت أشعة القمر ', number_of_chars = 200, char_index = chars_index, pad_sequences = pad_sequences, model = LSTM_2, max_length = max_length_char, index_char = index_chars, text_to_sequence_char = text_to_sequence_char, all_chars=all_chars, char_sequence_to_text=char_sequence_to_text)"
   ]
  },
  {
   "cell_type": "code",
   "execution_count": null,
   "metadata": {},
   "outputs": [],
   "source": [
    "# 2-Bidirectional LSTM\n",
    "model_testing_char(text = 'أضاءت أشعة القمر ', number_of_chars = 200, char_index = chars_index, pad_sequences = pad_sequences, model = Bidirectional_LSTM_2, max_length = max_length_char, index_char = index_chars, text_to_sequence_char = text_to_sequence_char, all_chars=all_chars, char_sequence_to_text=char_sequence_to_text)"
   ]
  },
  {
   "cell_type": "code",
   "execution_count": null,
   "metadata": {},
   "outputs": [],
   "source": [
    "# 3-GRU\n",
    "model_testing_char(text = 'أضاءت أشعة القمر ', number_of_chars = 200, char_index = chars_index, pad_sequences = pad_sequences, model = GRU_2, max_length = max_length_char, index_char = index_chars, text_to_sequence_char = text_to_sequence_char, all_chars=all_chars, char_sequence_to_text=char_sequence_to_text)"
   ]
  },
  {
   "cell_type": "markdown",
   "metadata": {},
   "source": [
    "**3-Transformers**"
   ]
  },
  {
   "cell_type": "code",
   "execution_count": null,
   "metadata": {},
   "outputs": [],
   "source": [
    "# Transformers Model Name\n",
    "import torch\n",
    "model_name_ = 'gpt2'\n",
    "# Model And Tokenizer For Transformers\n",
    "tokenizer, model = transformes_model(model_name_)\n",
    "# Data Used For Train Transformers\n",
    "train_dataset = load_dataset('Cleaned_Corpus.txt', tokenizer)\n",
    "# Convert Data Into Batches\n",
    "collator = data_collator(tokenizer)\n",
    "# Set Arguments For Train The Transformers\n",
    "train_args = train_arguments(epochs = 1)\n",
    "# Train The Transformers\n",
    "training_(model=model, training_args=train_args, collator = collator, data = train_dataset)\n",
    "# Save The Model\n",
    "save_model_tokenizer(model = model, tokenizer = tokenizer)\n",
    "# Testing The Transformers Model\n",
    "transformer_testing(input_text='إنني خيميائي ', tokenizer=tokenizer, model=model, text_normalization = text_normalization)\n",
    " "
   ]
  },
  {
   "cell_type": "code",
   "execution_count": null,
   "metadata": {},
   "outputs": [],
   "source": []
  }
 ],
 "metadata": {
  "kernelspec": {
   "display_name": "Python 3",
   "language": "python",
   "name": "python3"
  },
  "language_info": {
   "codemirror_mode": {
    "name": "ipython",
    "version": 3
   },
   "file_extension": ".py",
   "mimetype": "text/x-python",
   "name": "python",
   "nbconvert_exporter": "python",
   "pygments_lexer": "ipython3",
   "version": "3.11.9"
  }
 },
 "nbformat": 4,
 "nbformat_minor": 2
}
