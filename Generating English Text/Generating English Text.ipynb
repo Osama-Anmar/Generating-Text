{
 "cells": [
  {
   "cell_type": "markdown",
   "metadata": {},
   "source": [
    "# Import Libraries"
   ]
  },
  {
   "cell_type": "code",
   "execution_count": 1,
   "metadata": {},
   "outputs": [],
   "source": [
    "import tensorflow as tf\n",
    "import numpy as np\n",
    "import warnings\n",
    "import os\n",
    "from english_text_normalization import text_normalization\n",
    "import matplotlib.pyplot as plt\n",
    "tf.keras.utils.set_random_seed(42)"
   ]
  },
  {
   "cell_type": "markdown",
   "metadata": {},
   "source": [
    "# Ignore Warnings"
   ]
  },
  {
   "cell_type": "code",
   "execution_count": 2,
   "metadata": {},
   "outputs": [],
   "source": [
    "os.environ['TF_CPP_MIN_LOG_LEVEL'] = '3'\n",
    "warnings.filterwarnings(action='ignore')"
   ]
  },
  {
   "cell_type": "markdown",
   "metadata": {},
   "source": [
    "# Read Data"
   ]
  },
  {
   "cell_type": "code",
   "execution_count": 3,
   "metadata": {},
   "outputs": [
    {
     "data": {
      "text/plain": [
       "4747"
      ]
     },
     "execution_count": 3,
     "metadata": {},
     "output_type": "execute_result"
    }
   ],
   "source": [
    "Corpus = open(\"Dracula's Guest.txt\", encoding='utf-8-sig').read().lower().split(\"\\n\")\n",
    "Corpus =  list(map(text_normalization, Corpus))\n",
    "len(Corpus)"
   ]
  },
  {
   "cell_type": "markdown",
   "metadata": {},
   "source": [
    "# Preprocessing Data For Deep Learning Model"
   ]
  },
  {
   "cell_type": "code",
   "execution_count": 4,
   "metadata": {},
   "outputs": [
    {
     "data": {
      "text/plain": [
       "6494"
      ]
     },
     "execution_count": 4,
     "metadata": {},
     "output_type": "execute_result"
    }
   ],
   "source": [
    "tokenizer = tf.keras.preprocessing.text.Tokenizer()\n",
    "tokenizer.fit_on_texts(Corpus)\n",
    "all_words = len(tokenizer.word_index) + 1\n",
    "all_words"
   ]
  },
  {
   "cell_type": "markdown",
   "metadata": {},
   "source": [
    "# Generate Input Sequences"
   ]
  },
  {
   "cell_type": "code",
   "execution_count": 5,
   "metadata": {},
   "outputs": [],
   "source": [
    "input_sequence_ = []\n",
    "for line in Corpus:\n",
    "    token = tokenizer.texts_to_sequences([line])[0]\n",
    "    for i in range(1, len(token)):\n",
    "        n_grams = token[:i+1]\n",
    "        input_sequence_.append(n_grams)\n",
    "        \n",
    "max_length =  max([len(x) for x in input_sequence_])\n",
    "input_sequence_ = np.array(tf.keras.utils.pad_sequences(input_sequence_, maxlen= max_length, padding='pre'))"
   ]
  },
  {
   "cell_type": "code",
   "execution_count": 6,
   "metadata": {},
   "outputs": [
    {
     "data": {
      "text/plain": [
       "18"
      ]
     },
     "execution_count": 6,
     "metadata": {},
     "output_type": "execute_result"
    }
   ],
   "source": [
    "max_length"
   ]
  },
  {
   "cell_type": "markdown",
   "metadata": {},
   "source": [
    "# Generate Train And Label Data For Model"
   ]
  },
  {
   "cell_type": "code",
   "execution_count": 7,
   "metadata": {},
   "outputs": [],
   "source": [
    "train, label = input_sequence_[:,:-1], input_sequence_[:,-1]"
   ]
  },
  {
   "cell_type": "markdown",
   "metadata": {},
   "source": [
    "# Convert Label Data"
   ]
  },
  {
   "cell_type": "code",
   "execution_count": 8,
   "metadata": {},
   "outputs": [],
   "source": [
    "label = tf.keras.utils.to_categorical(label, num_classes=all_words)"
   ]
  },
  {
   "cell_type": "markdown",
   "metadata": {},
   "source": [
    "# Deep Learning Models"
   ]
  },
  {
   "cell_type": "code",
   "execution_count": 9,
   "metadata": {},
   "outputs": [],
   "source": [
    "early_stop = tf.keras.callbacks.EarlyStopping(\n",
    "    monitor='loss',\n",
    "    patience=5,\n",
    "    mode = 'min',\n",
    "    restore_best_weights=True,\n",
    ")"
   ]
  },
  {
   "cell_type": "markdown",
   "metadata": {},
   "source": [
    "**1-LSTM**"
   ]
  },
  {
   "cell_type": "code",
   "execution_count": 13,
   "metadata": {},
   "outputs": [],
   "source": [
    "LSTM = tf.keras.Sequential([\n",
    "                tf.keras.layers.Embedding(input_dim = all_words, output_dim=100, input_length=max_length-1),\n",
    "                tf.keras.layers.LSTM(128, return_sequences=False),\n",
    "                tf.keras.layers.Dense(all_words, activation= 'softmax')\n",
    "                ])     "
   ]
  },
  {
   "cell_type": "code",
   "execution_count": 14,
   "metadata": {},
   "outputs": [],
   "source": [
    "LSTM.compile(\n",
    "    loss=tf.keras.losses.CategoricalCrossentropy(), \n",
    "    optimizer=tf.keras.optimizers.legacy.Adam(), \n",
    "    metrics=['accuracy'])"
   ]
  },
  {
   "cell_type": "code",
   "execution_count": 15,
   "metadata": {},
   "outputs": [
    {
     "name": "stdout",
     "output_type": "stream",
     "text": [
      "Epoch 1/150\n",
      "1639/1639 [==============================] - 29s 17ms/step - loss: 6.4506 - accuracy: 0.0799\n",
      "Epoch 2/150\n",
      "1639/1639 [==============================] - 29s 17ms/step - loss: 5.8570 - accuracy: 0.1129\n",
      "Epoch 3/150\n",
      "1639/1639 [==============================] - 28s 17ms/step - loss: 5.5433 - accuracy: 0.1293\n",
      "Epoch 4/150\n",
      "1639/1639 [==============================] - 27s 16ms/step - loss: 5.2596 - accuracy: 0.1442\n",
      "Epoch 5/150\n",
      "1639/1639 [==============================] - 27s 16ms/step - loss: 4.9913 - accuracy: 0.1605\n",
      "Epoch 6/150\n",
      "1639/1639 [==============================] - 27s 16ms/step - loss: 4.7367 - accuracy: 0.1755\n",
      "Epoch 7/150\n",
      "1639/1639 [==============================] - 26s 16ms/step - loss: 4.4938 - accuracy: 0.1899\n",
      "Epoch 8/150\n",
      "1639/1639 [==============================] - 27s 16ms/step - loss: 4.2561 - accuracy: 0.2076\n",
      "Epoch 9/150\n",
      "1639/1639 [==============================] - 26s 16ms/step - loss: 4.0221 - accuracy: 0.2306\n",
      "Epoch 10/150\n",
      "1639/1639 [==============================] - 26s 16ms/step - loss: 3.7904 - accuracy: 0.2550\n",
      "Epoch 11/150\n",
      "1639/1639 [==============================] - 26s 16ms/step - loss: 3.5668 - accuracy: 0.2857\n",
      "Epoch 12/150\n",
      "1639/1639 [==============================] - 26s 16ms/step - loss: 3.3518 - accuracy: 0.3160\n",
      "Epoch 13/150\n",
      "1639/1639 [==============================] - 26s 16ms/step - loss: 3.1469 - accuracy: 0.3505\n",
      "Epoch 14/150\n",
      "1639/1639 [==============================] - 26s 16ms/step - loss: 2.9544 - accuracy: 0.3857\n",
      "Epoch 15/150\n",
      "1639/1639 [==============================] - 26s 16ms/step - loss: 2.7765 - accuracy: 0.4169\n",
      "Epoch 16/150\n",
      "1639/1639 [==============================] - 26s 16ms/step - loss: 2.6100 - accuracy: 0.4477\n",
      "Epoch 17/150\n",
      "1639/1639 [==============================] - 26s 16ms/step - loss: 2.4533 - accuracy: 0.4798\n",
      "Epoch 18/150\n",
      "1639/1639 [==============================] - 28s 17ms/step - loss: 2.3078 - accuracy: 0.5077\n",
      "Epoch 19/150\n",
      "1639/1639 [==============================] - 27s 17ms/step - loss: 2.1726 - accuracy: 0.5346\n",
      "Epoch 20/150\n",
      "1639/1639 [==============================] - 27s 16ms/step - loss: 2.0466 - accuracy: 0.5598\n",
      "Epoch 21/150\n",
      "1639/1639 [==============================] - 27s 16ms/step - loss: 1.9276 - accuracy: 0.5846\n",
      "Epoch 22/150\n",
      "1639/1639 [==============================] - 26s 16ms/step - loss: 1.8168 - accuracy: 0.6102\n",
      "Epoch 23/150\n",
      "1639/1639 [==============================] - 28s 17ms/step - loss: 1.7132 - accuracy: 0.6320\n",
      "Epoch 24/150\n",
      "1639/1639 [==============================] - 30s 19ms/step - loss: 1.6170 - accuracy: 0.6522\n",
      "Epoch 25/150\n",
      "1639/1639 [==============================] - 28s 17ms/step - loss: 1.5262 - accuracy: 0.6719\n",
      "Epoch 26/150\n",
      "1639/1639 [==============================] - 26s 16ms/step - loss: 1.4418 - accuracy: 0.6890\n",
      "Epoch 27/150\n",
      "1639/1639 [==============================] - 27s 16ms/step - loss: 1.3623 - accuracy: 0.7080\n",
      "Epoch 28/150\n",
      "1639/1639 [==============================] - 27s 16ms/step - loss: 1.2899 - accuracy: 0.7239\n",
      "Epoch 29/150\n",
      "1639/1639 [==============================] - 28s 17ms/step - loss: 1.2220 - accuracy: 0.7361\n",
      "Epoch 30/150\n",
      "1639/1639 [==============================] - 27s 16ms/step - loss: 1.1568 - accuracy: 0.7517\n",
      "Epoch 31/150\n",
      "1639/1639 [==============================] - 27s 16ms/step - loss: 1.0966 - accuracy: 0.7651\n",
      "Epoch 32/150\n",
      "1639/1639 [==============================] - 26s 16ms/step - loss: 1.0391 - accuracy: 0.7792\n",
      "Epoch 33/150\n",
      "1639/1639 [==============================] - 28s 17ms/step - loss: 0.9870 - accuracy: 0.7886\n",
      "Epoch 34/150\n",
      "1639/1639 [==============================] - 26s 16ms/step - loss: 0.9361 - accuracy: 0.8000\n",
      "Epoch 35/150\n",
      "1639/1639 [==============================] - 26s 16ms/step - loss: 0.8924 - accuracy: 0.8084\n",
      "Epoch 36/150\n",
      "1639/1639 [==============================] - 26s 16ms/step - loss: 0.8474 - accuracy: 0.8195\n",
      "Epoch 37/150\n",
      "1639/1639 [==============================] - 26s 16ms/step - loss: 0.8081 - accuracy: 0.8289\n",
      "Epoch 38/150\n",
      "1639/1639 [==============================] - 26s 16ms/step - loss: 0.7723 - accuracy: 0.8366\n",
      "Epoch 39/150\n",
      "1639/1639 [==============================] - 26s 16ms/step - loss: 0.7365 - accuracy: 0.8433\n",
      "Epoch 40/150\n",
      "1639/1639 [==============================] - 26s 16ms/step - loss: 0.7039 - accuracy: 0.8497\n",
      "Epoch 41/150\n",
      "1639/1639 [==============================] - 26s 16ms/step - loss: 0.6729 - accuracy: 0.8573\n",
      "Epoch 42/150\n",
      "1639/1639 [==============================] - 26s 16ms/step - loss: 0.6436 - accuracy: 0.8628\n",
      "Epoch 43/150\n",
      "1639/1639 [==============================] - 25s 16ms/step - loss: 0.6182 - accuracy: 0.8698\n",
      "Epoch 44/150\n",
      "1639/1639 [==============================] - 26s 16ms/step - loss: 0.5960 - accuracy: 0.8726\n",
      "Epoch 45/150\n",
      "1639/1639 [==============================] - 26s 16ms/step - loss: 0.5707 - accuracy: 0.8790\n",
      "Epoch 46/150\n",
      "1639/1639 [==============================] - 28s 17ms/step - loss: 0.5510 - accuracy: 0.8823\n",
      "Epoch 47/150\n",
      "1639/1639 [==============================] - 28s 17ms/step - loss: 0.5322 - accuracy: 0.8861\n",
      "Epoch 48/150\n",
      "1639/1639 [==============================] - 26s 16ms/step - loss: 0.5107 - accuracy: 0.8902\n",
      "Epoch 49/150\n",
      "1639/1639 [==============================] - 25s 16ms/step - loss: 0.4954 - accuracy: 0.8938\n",
      "Epoch 50/150\n",
      "1639/1639 [==============================] - 25s 16ms/step - loss: 0.4805 - accuracy: 0.8960\n",
      "Epoch 51/150\n",
      "1639/1639 [==============================] - 26s 16ms/step - loss: 0.4646 - accuracy: 0.8987\n",
      "Epoch 52/150\n",
      "1639/1639 [==============================] - 26s 16ms/step - loss: 0.4517 - accuracy: 0.9011\n",
      "Epoch 53/150\n",
      "1639/1639 [==============================] - 26s 16ms/step - loss: 0.4385 - accuracy: 0.9046\n",
      "Epoch 54/150\n",
      "1639/1639 [==============================] - 25s 16ms/step - loss: 0.4293 - accuracy: 0.9057\n",
      "Epoch 55/150\n",
      "1639/1639 [==============================] - 26s 16ms/step - loss: 0.4192 - accuracy: 0.9064\n",
      "Epoch 56/150\n",
      "1639/1639 [==============================] - 25s 15ms/step - loss: 0.4059 - accuracy: 0.9092\n",
      "Epoch 57/150\n",
      "1639/1639 [==============================] - 25s 15ms/step - loss: 0.3993 - accuracy: 0.9099\n",
      "Epoch 58/150\n",
      "1639/1639 [==============================] - 25s 15ms/step - loss: 0.3901 - accuracy: 0.9116\n",
      "Epoch 59/150\n",
      "1639/1639 [==============================] - 25s 15ms/step - loss: 0.3811 - accuracy: 0.9130\n",
      "Epoch 60/150\n",
      "1639/1639 [==============================] - 25s 15ms/step - loss: 0.3763 - accuracy: 0.9131\n",
      "Epoch 61/150\n",
      "1639/1639 [==============================] - 25s 15ms/step - loss: 0.3680 - accuracy: 0.9143\n",
      "Epoch 62/150\n",
      "1639/1639 [==============================] - 25s 15ms/step - loss: 0.3614 - accuracy: 0.9150\n",
      "Epoch 63/150\n",
      "1639/1639 [==============================] - 25s 15ms/step - loss: 0.3538 - accuracy: 0.9174\n",
      "Epoch 64/150\n",
      "1639/1639 [==============================] - 25s 15ms/step - loss: 0.3514 - accuracy: 0.9170\n",
      "Epoch 65/150\n",
      "1639/1639 [==============================] - 25s 15ms/step - loss: 0.3462 - accuracy: 0.9181\n",
      "Epoch 66/150\n",
      "1639/1639 [==============================] - 25s 16ms/step - loss: 0.3449 - accuracy: 0.9164\n",
      "Epoch 67/150\n",
      "1639/1639 [==============================] - 25s 15ms/step - loss: 0.3336 - accuracy: 0.9201\n",
      "Epoch 68/150\n",
      "1639/1639 [==============================] - 25s 15ms/step - loss: 0.3362 - accuracy: 0.9175\n",
      "Epoch 69/150\n",
      "1639/1639 [==============================] - 25s 15ms/step - loss: 0.3267 - accuracy: 0.9197\n",
      "Epoch 70/150\n",
      "1639/1639 [==============================] - 25s 15ms/step - loss: 0.3206 - accuracy: 0.9208\n",
      "Epoch 71/150\n",
      "1639/1639 [==============================] - 25s 15ms/step - loss: 0.3271 - accuracy: 0.9189\n",
      "Epoch 72/150\n",
      "1639/1639 [==============================] - 25s 15ms/step - loss: 0.3197 - accuracy: 0.9208\n",
      "Epoch 73/150\n",
      "1639/1639 [==============================] - 25s 15ms/step - loss: 0.3123 - accuracy: 0.9220\n",
      "Epoch 74/150\n",
      "1639/1639 [==============================] - 25s 15ms/step - loss: 0.3167 - accuracy: 0.9196\n",
      "Epoch 75/150\n",
      "1639/1639 [==============================] - 25s 15ms/step - loss: 0.3138 - accuracy: 0.9202\n",
      "Epoch 76/150\n",
      "1639/1639 [==============================] - 25s 15ms/step - loss: 0.3058 - accuracy: 0.9213\n",
      "Epoch 77/150\n",
      "1639/1639 [==============================] - 25s 15ms/step - loss: 0.3035 - accuracy: 0.9225\n",
      "Epoch 78/150\n",
      "1639/1639 [==============================] - 25s 15ms/step - loss: 0.3089 - accuracy: 0.9197\n",
      "Epoch 79/150\n",
      "1639/1639 [==============================] - 25s 15ms/step - loss: 0.3050 - accuracy: 0.9206\n",
      "Epoch 80/150\n",
      "1639/1639 [==============================] - 25s 15ms/step - loss: 0.2991 - accuracy: 0.9230\n",
      "Epoch 81/150\n",
      "1639/1639 [==============================] - 25s 15ms/step - loss: 0.2957 - accuracy: 0.9229\n",
      "Epoch 82/150\n",
      "1639/1639 [==============================] - 27s 17ms/step - loss: 0.2986 - accuracy: 0.9211\n",
      "Epoch 83/150\n",
      "1639/1639 [==============================] - 27s 17ms/step - loss: 0.2943 - accuracy: 0.9229\n",
      "Epoch 84/150\n",
      "1639/1639 [==============================] - 27s 16ms/step - loss: 0.2916 - accuracy: 0.9233\n",
      "Epoch 85/150\n",
      "1639/1639 [==============================] - 27s 17ms/step - loss: 0.2920 - accuracy: 0.9228\n",
      "Epoch 86/150\n",
      "1639/1639 [==============================] - 26s 16ms/step - loss: 0.2949 - accuracy: 0.9215\n",
      "Epoch 87/150\n",
      "1639/1639 [==============================] - 26s 16ms/step - loss: 0.2922 - accuracy: 0.9221\n",
      "Epoch 88/150\n",
      "1639/1639 [==============================] - 26s 16ms/step - loss: 0.2838 - accuracy: 0.9247\n",
      "Epoch 89/150\n",
      "1639/1639 [==============================] - 26s 16ms/step - loss: 0.2884 - accuracy: 0.9226\n",
      "Epoch 90/150\n",
      "1639/1639 [==============================] - 26s 16ms/step - loss: 0.2831 - accuracy: 0.9232\n",
      "Epoch 91/150\n",
      "1639/1639 [==============================] - 26s 16ms/step - loss: 0.2825 - accuracy: 0.9241\n",
      "Epoch 92/150\n",
      "1639/1639 [==============================] - 26s 16ms/step - loss: 0.2820 - accuracy: 0.9237\n",
      "Epoch 93/150\n",
      "1639/1639 [==============================] - 26s 16ms/step - loss: 0.2820 - accuracy: 0.9236\n",
      "Epoch 94/150\n",
      "1639/1639 [==============================] - 26s 16ms/step - loss: 0.2888 - accuracy: 0.9216\n",
      "Epoch 95/150\n",
      "1639/1639 [==============================] - 26s 16ms/step - loss: 0.2786 - accuracy: 0.9239\n",
      "Epoch 96/150\n",
      "1639/1639 [==============================] - 26s 16ms/step - loss: 0.2791 - accuracy: 0.9231\n",
      "Epoch 97/150\n",
      "1639/1639 [==============================] - 26s 16ms/step - loss: 0.2762 - accuracy: 0.9243\n",
      "Epoch 98/150\n",
      "1639/1639 [==============================] - 26s 16ms/step - loss: 0.2794 - accuracy: 0.9232\n",
      "Epoch 99/150\n",
      "1639/1639 [==============================] - 26s 16ms/step - loss: 0.2806 - accuracy: 0.9221\n",
      "Epoch 100/150\n",
      "1639/1639 [==============================] - 26s 16ms/step - loss: 0.2802 - accuracy: 0.9226\n",
      "Epoch 101/150\n",
      "1639/1639 [==============================] - 26s 16ms/step - loss: 0.2794 - accuracy: 0.9223\n",
      "Epoch 102/150\n",
      "1639/1639 [==============================] - 26s 16ms/step - loss: 0.2784 - accuracy: 0.9222\n"
     ]
    }
   ],
   "source": [
    "with tf.device('gpu'):\n",
    "    history = LSTM.fit(train, label, epochs=150, callbacks=[early_stop])"
   ]
  },
  {
   "cell_type": "code",
   "execution_count": 16,
   "metadata": {},
   "outputs": [],
   "source": [
    "accuracy = history.history['accuracy']\n",
    "loss = history.history['loss']  "
   ]
  },
  {
   "cell_type": "code",
   "execution_count": 17,
   "metadata": {},
   "outputs": [
    {
     "data": {
      "image/png": "[encoded data removed]",
      "text/plain": [
       "<Figure size 640x480 with 1 Axes>"
      ]
     },
     "metadata": {},
     "output_type": "display_data"
    }
   ],
   "source": [
    "plt.plot(accuracy, label='Accuracy')\n",
    "plt.plot(loss, label='Loss')\n",
    "plt.legend()\n",
    "plt.show()"
   ]
  },
  {
   "cell_type": "markdown",
   "metadata": {},
   "source": [
    "**2-Bidirectional LSTM**"
   ]
  },
  {
   "cell_type": "code",
   "execution_count": 18,
   "metadata": {},
   "outputs": [],
   "source": [
    "Bidirectional_LSTM = tf.keras.Sequential([\n",
    "                tf.keras.layers.Embedding(input_dim = all_words, output_dim=100, input_length=max_length-1),\n",
    "                tf.keras.layers.Bidirectional(tf.keras.layers.LSTM(128, return_sequences=False)),\n",
    "                tf.keras.layers.Dense(all_words, activation= 'softmax')\n",
    "                ])   "
   ]
  },
  {
   "cell_type": "code",
   "execution_count": 19,
   "metadata": {},
   "outputs": [],
   "source": [
    "Bidirectional_LSTM.compile(\n",
    "    loss=tf.keras.losses.CategoricalCrossentropy(), \n",
    "    optimizer=tf.keras.optimizers.legacy.Adam(), \n",
    "    metrics=['accuracy'])"
   ]
  },
  {
   "cell_type": "code",
   "execution_count": 20,
   "metadata": {},
   "outputs": [
    {
     "name": "stdout",
     "output_type": "stream",
     "text": [
      "Epoch 1/150\n",
      "1639/1639 [==============================] - 39s 22ms/step - loss: 6.4106 - accuracy: 0.0845\n",
      "Epoch 2/150\n",
      "1639/1639 [==============================] - 36s 22ms/step - loss: 5.7894 - accuracy: 0.1173\n",
      "Epoch 3/150\n",
      "1639/1639 [==============================] - 36s 22ms/step - loss: 5.4446 - accuracy: 0.1330\n",
      "Epoch 4/150\n",
      "1639/1639 [==============================] - 36s 22ms/step - loss: 5.1219 - accuracy: 0.1504\n",
      "Epoch 5/150\n",
      "1639/1639 [==============================] - 38s 23ms/step - loss: 4.8127 - accuracy: 0.1674\n",
      "Epoch 6/150\n",
      "1639/1639 [==============================] - 38s 23ms/step - loss: 4.5172 - accuracy: 0.1846\n",
      "Epoch 7/150\n",
      "1639/1639 [==============================] - 35s 21ms/step - loss: 4.2312 - accuracy: 0.2055\n",
      "Epoch 8/150\n",
      "1639/1639 [==============================] - 35s 21ms/step - loss: 3.9459 - accuracy: 0.2325\n",
      "Epoch 9/150\n",
      "1639/1639 [==============================] - 37s 23ms/step - loss: 3.6624 - accuracy: 0.2686\n",
      "Epoch 10/150\n",
      "1639/1639 [==============================] - 37s 22ms/step - loss: 3.3858 - accuracy: 0.3095\n",
      "Epoch 11/150\n",
      "1639/1639 [==============================] - 36s 22ms/step - loss: 3.1247 - accuracy: 0.3515\n",
      "Epoch 12/150\n",
      "1639/1639 [==============================] - 36s 22ms/step - loss: 2.8812 - accuracy: 0.3925\n",
      "Epoch 13/150\n",
      "1639/1639 [==============================] - 36s 22ms/step - loss: 2.6497 - accuracy: 0.4347\n",
      "Epoch 14/150\n",
      "1639/1639 [==============================] - 36s 22ms/step - loss: 2.4350 - accuracy: 0.4757\n",
      "Epoch 15/150\n",
      "1639/1639 [==============================] - 36s 22ms/step - loss: 2.2330 - accuracy: 0.5154\n",
      "Epoch 16/150\n",
      "1639/1639 [==============================] - 36s 22ms/step - loss: 2.0474 - accuracy: 0.5522\n",
      "Epoch 17/150\n",
      "1639/1639 [==============================] - 36s 22ms/step - loss: 1.8726 - accuracy: 0.5904\n",
      "Epoch 18/150\n",
      "1639/1639 [==============================] - 36s 22ms/step - loss: 1.7129 - accuracy: 0.6250\n",
      "Epoch 19/150\n",
      "1639/1639 [==============================] - 37s 22ms/step - loss: 1.5648 - accuracy: 0.6572\n",
      "Epoch 20/150\n",
      "1639/1639 [==============================] - 37s 22ms/step - loss: 1.4288 - accuracy: 0.6883\n",
      "Epoch 21/150\n",
      "1639/1639 [==============================] - 38s 23ms/step - loss: 1.3025 - accuracy: 0.7169\n",
      "Epoch 22/150\n",
      "1639/1639 [==============================] - 38s 23ms/step - loss: 1.1876 - accuracy: 0.7421\n",
      "Epoch 23/150\n",
      "1639/1639 [==============================] - 39s 24ms/step - loss: 1.0843 - accuracy: 0.7667\n",
      "Epoch 24/150\n",
      "1639/1639 [==============================] - 45s 28ms/step - loss: 0.9906 - accuracy: 0.7895\n",
      "Epoch 25/150\n",
      "1639/1639 [==============================] - 42s 26ms/step - loss: 0.9040 - accuracy: 0.8077\n",
      "Epoch 26/150\n",
      "1639/1639 [==============================] - 41s 25ms/step - loss: 0.8323 - accuracy: 0.8242\n",
      "Epoch 27/150\n",
      "1639/1639 [==============================] - 37s 23ms/step - loss: 0.7618 - accuracy: 0.8400\n",
      "Epoch 28/150\n",
      "1639/1639 [==============================] - 37s 23ms/step - loss: 0.7014 - accuracy: 0.8533\n",
      "Epoch 29/150\n",
      "1639/1639 [==============================] - 37s 23ms/step - loss: 0.6473 - accuracy: 0.8646\n",
      "Epoch 30/150\n",
      "1639/1639 [==============================] - 37s 22ms/step - loss: 0.6005 - accuracy: 0.8735\n",
      "Epoch 31/150\n",
      "1639/1639 [==============================] - 37s 23ms/step - loss: 0.5611 - accuracy: 0.8815\n",
      "Epoch 32/150\n",
      "1639/1639 [==============================] - 37s 22ms/step - loss: 0.5247 - accuracy: 0.8889\n",
      "Epoch 33/150\n",
      "1639/1639 [==============================] - 37s 23ms/step - loss: 0.4920 - accuracy: 0.8959\n",
      "Epoch 34/150\n",
      "1639/1639 [==============================] - 37s 23ms/step - loss: 0.4648 - accuracy: 0.9016\n",
      "Epoch 35/150\n",
      "1639/1639 [==============================] - 37s 23ms/step - loss: 0.4430 - accuracy: 0.9039\n",
      "Epoch 36/150\n",
      "1639/1639 [==============================] - 37s 23ms/step - loss: 0.4264 - accuracy: 0.9066\n",
      "Epoch 37/150\n",
      "1639/1639 [==============================] - 37s 22ms/step - loss: 0.4066 - accuracy: 0.9102\n",
      "Epoch 38/150\n",
      "1639/1639 [==============================] - 37s 23ms/step - loss: 0.3922 - accuracy: 0.9126\n",
      "Epoch 39/150\n",
      "1639/1639 [==============================] - 38s 23ms/step - loss: 0.3770 - accuracy: 0.9146\n",
      "Epoch 40/150\n",
      "1639/1639 [==============================] - 37s 22ms/step - loss: 0.3690 - accuracy: 0.9153\n",
      "Epoch 41/150\n",
      "1639/1639 [==============================] - 37s 23ms/step - loss: 0.3584 - accuracy: 0.9174\n",
      "Epoch 42/150\n",
      "1639/1639 [==============================] - 37s 23ms/step - loss: 0.3502 - accuracy: 0.9179\n",
      "Epoch 43/150\n",
      "1639/1639 [==============================] - 39s 24ms/step - loss: 0.3457 - accuracy: 0.9178\n",
      "Epoch 44/150\n",
      "1639/1639 [==============================] - 39s 24ms/step - loss: 0.3365 - accuracy: 0.9194\n",
      "Epoch 45/150\n",
      "1639/1639 [==============================] - 44s 27ms/step - loss: 0.3282 - accuracy: 0.9205\n",
      "Epoch 46/150\n",
      "1639/1639 [==============================] - 43s 26ms/step - loss: 0.3263 - accuracy: 0.9204\n",
      "Epoch 47/150\n",
      "1639/1639 [==============================] - 41s 25ms/step - loss: 0.3213 - accuracy: 0.9216\n",
      "Epoch 48/150\n",
      "1639/1639 [==============================] - 40s 24ms/step - loss: 0.3165 - accuracy: 0.9217\n",
      "Epoch 49/150\n",
      "1639/1639 [==============================] - 36s 22ms/step - loss: 0.3125 - accuracy: 0.9218\n",
      "Epoch 50/150\n",
      "1639/1639 [==============================] - 36s 22ms/step - loss: 0.3137 - accuracy: 0.9207\n",
      "Epoch 51/150\n",
      "1639/1639 [==============================] - 36s 22ms/step - loss: 0.3040 - accuracy: 0.9227\n",
      "Epoch 52/150\n",
      "1639/1639 [==============================] - 36s 22ms/step - loss: 0.3044 - accuracy: 0.9227\n",
      "Epoch 53/150\n",
      "1639/1639 [==============================] - 37s 23ms/step - loss: 0.3019 - accuracy: 0.9225\n",
      "Epoch 54/150\n",
      "1639/1639 [==============================] - 38s 23ms/step - loss: 0.2988 - accuracy: 0.9225\n",
      "Epoch 55/150\n",
      "1639/1639 [==============================] - 37s 23ms/step - loss: 0.2932 - accuracy: 0.9235\n",
      "Epoch 56/150\n",
      "1639/1639 [==============================] - 38s 23ms/step - loss: 0.2952 - accuracy: 0.9225\n",
      "Epoch 57/150\n",
      "1639/1639 [==============================] - 40s 25ms/step - loss: 0.2957 - accuracy: 0.9215\n",
      "Epoch 58/150\n",
      "1639/1639 [==============================] - 36s 22ms/step - loss: 0.2932 - accuracy: 0.9232\n",
      "Epoch 59/150\n",
      "1639/1639 [==============================] - 36s 22ms/step - loss: 0.2861 - accuracy: 0.9236\n",
      "Epoch 60/150\n",
      "1639/1639 [==============================] - 36s 22ms/step - loss: 0.2870 - accuracy: 0.9234\n",
      "Epoch 61/150\n",
      "1639/1639 [==============================] - 36s 22ms/step - loss: 0.2892 - accuracy: 0.9225\n",
      "Epoch 62/150\n",
      "1639/1639 [==============================] - 36s 22ms/step - loss: 0.2872 - accuracy: 0.9224\n",
      "Epoch 63/150\n",
      "1639/1639 [==============================] - 36s 22ms/step - loss: 0.2847 - accuracy: 0.9232\n",
      "Epoch 64/150\n",
      "1639/1639 [==============================] - 36s 22ms/step - loss: 0.2848 - accuracy: 0.9221\n",
      "Epoch 65/150\n",
      "1639/1639 [==============================] - 36s 22ms/step - loss: 0.2787 - accuracy: 0.9245\n",
      "Epoch 66/150\n",
      "1639/1639 [==============================] - 37s 23ms/step - loss: 0.2808 - accuracy: 0.9230\n",
      "Epoch 67/150\n",
      "1639/1639 [==============================] - 37s 23ms/step - loss: 0.2815 - accuracy: 0.9239\n",
      "Epoch 68/150\n",
      "1639/1639 [==============================] - 37s 23ms/step - loss: 0.2820 - accuracy: 0.9220\n",
      "Epoch 69/150\n",
      "1639/1639 [==============================] - 36s 22ms/step - loss: 0.2748 - accuracy: 0.9245\n",
      "Epoch 70/150\n",
      "1639/1639 [==============================] - 36s 22ms/step - loss: 0.2783 - accuracy: 0.9228\n",
      "Epoch 71/150\n",
      "1639/1639 [==============================] - 37s 23ms/step - loss: 0.2756 - accuracy: 0.9237\n",
      "Epoch 72/150\n",
      "1639/1639 [==============================] - 40s 25ms/step - loss: 0.2769 - accuracy: 0.9228\n",
      "Epoch 73/150\n",
      "1639/1639 [==============================] - 36s 22ms/step - loss: 0.2710 - accuracy: 0.9247\n",
      "Epoch 74/150\n",
      "1639/1639 [==============================] - 37s 23ms/step - loss: 0.2727 - accuracy: 0.9240\n",
      "Epoch 75/150\n",
      "1639/1639 [==============================] - 36s 22ms/step - loss: 0.2754 - accuracy: 0.9235\n",
      "Epoch 76/150\n",
      "1639/1639 [==============================] - 38s 23ms/step - loss: 0.2755 - accuracy: 0.9226\n",
      "Epoch 77/150\n",
      "1639/1639 [==============================] - 36s 22ms/step - loss: 0.2707 - accuracy: 0.9231\n",
      "Epoch 78/150\n",
      "1639/1639 [==============================] - 40s 24ms/step - loss: 0.2671 - accuracy: 0.9249\n",
      "Epoch 79/150\n",
      "1639/1639 [==============================] - 38s 23ms/step - loss: 0.2741 - accuracy: 0.9231\n",
      "Epoch 80/150\n",
      "1639/1639 [==============================] - 36s 22ms/step - loss: 0.2733 - accuracy: 0.9230\n",
      "Epoch 81/150\n",
      "1639/1639 [==============================] - 36s 22ms/step - loss: 0.2709 - accuracy: 0.9233\n",
      "Epoch 82/150\n",
      "1639/1639 [==============================] - 37s 22ms/step - loss: 0.2661 - accuracy: 0.9250\n",
      "Epoch 83/150\n",
      "1639/1639 [==============================] - 39s 23ms/step - loss: 0.2669 - accuracy: 0.9241\n",
      "Epoch 84/150\n",
      "1639/1639 [==============================] - 38s 23ms/step - loss: 0.2711 - accuracy: 0.9232\n",
      "Epoch 85/150\n",
      "1639/1639 [==============================] - 38s 23ms/step - loss: 0.2666 - accuracy: 0.9242\n",
      "Epoch 86/150\n",
      "1639/1639 [==============================] - 36s 22ms/step - loss: 0.2686 - accuracy: 0.9227\n",
      "Epoch 87/150\n",
      "1639/1639 [==============================] - 36s 22ms/step - loss: 0.2675 - accuracy: 0.9232\n"
     ]
    }
   ],
   "source": [
    "with tf.device('gpu'):\n",
    "    history = Bidirectional_LSTM.fit(train, label, epochs=150, callbacks=[early_stop])"
   ]
  },
  {
   "cell_type": "code",
   "execution_count": 21,
   "metadata": {},
   "outputs": [],
   "source": [
    "accuracy = history.history['accuracy']\n",
    "loss = history.history['loss']  "
   ]
  },
  {
   "cell_type": "code",
   "execution_count": 22,
   "metadata": {},
   "outputs": [
    {
     "data": {
      "image/png": "[encoded data removed]",
      "text/plain": [
       "<Figure size 640x480 with 1 Axes>"
      ]
     },
     "metadata": {},
     "output_type": "display_data"
    }
   ],
   "source": [
    "plt.plot(accuracy, label='Accuracy')\n",
    "plt.plot(loss, label='Loss')\n",
    "plt.legend()\n",
    "plt.show()"
   ]
  },
  {
   "cell_type": "markdown",
   "metadata": {},
   "source": [
    "**3-GRU**"
   ]
  },
  {
   "cell_type": "code",
   "execution_count": 23,
   "metadata": {},
   "outputs": [],
   "source": [
    "GRU = tf.keras.Sequential([\n",
    "                tf.keras.layers.Embedding(input_dim = all_words, output_dim=100, input_length=max_length-1),\n",
    "                tf.keras.layers.GRU(128, return_sequences=False),\n",
    "                tf.keras.layers.Dense(all_words, activation= 'softmax')\n",
    "                ])   "
   ]
  },
  {
   "cell_type": "code",
   "execution_count": 24,
   "metadata": {},
   "outputs": [],
   "source": [
    "GRU.compile(\n",
    "    loss=tf.keras.losses.CategoricalCrossentropy(), \n",
    "    optimizer=tf.keras.optimizers.legacy.Adam(), \n",
    "    metrics=['accuracy'])"
   ]
  },
  {
   "cell_type": "code",
   "execution_count": 25,
   "metadata": {},
   "outputs": [
    {
     "name": "stdout",
     "output_type": "stream",
     "text": [
      "Epoch 1/150\n",
      "1639/1639 [==============================] - 30s 17ms/step - loss: 6.3774 - accuracy: 0.0914\n",
      "Epoch 2/150\n",
      "1639/1639 [==============================] - 27s 17ms/step - loss: 5.6669 - accuracy: 0.1257\n",
      "Epoch 3/150\n",
      "1639/1639 [==============================] - 27s 17ms/step - loss: 5.2745 - accuracy: 0.1459\n",
      "Epoch 4/150\n",
      "1639/1639 [==============================] - 27s 17ms/step - loss: 4.8997 - accuracy: 0.1652\n",
      "Epoch 5/150\n",
      "1639/1639 [==============================] - 27s 17ms/step - loss: 4.5292 - accuracy: 0.1869\n",
      "Epoch 6/150\n",
      "1639/1639 [==============================] - 27s 17ms/step - loss: 4.1725 - accuracy: 0.2123\n",
      "Epoch 7/150\n",
      "1639/1639 [==============================] - 27s 17ms/step - loss: 3.8368 - accuracy: 0.2469\n",
      "Epoch 8/150\n",
      "1639/1639 [==============================] - 27s 17ms/step - loss: 3.5188 - accuracy: 0.2913\n",
      "Epoch 9/150\n",
      "1639/1639 [==============================] - 27s 17ms/step - loss: 3.2197 - accuracy: 0.3370\n",
      "Epoch 10/150\n",
      "1639/1639 [==============================] - 28s 17ms/step - loss: 2.9484 - accuracy: 0.3839\n",
      "Epoch 11/150\n",
      "1639/1639 [==============================] - 28s 17ms/step - loss: 2.7028 - accuracy: 0.4280\n",
      "Epoch 12/150\n",
      "1639/1639 [==============================] - 28s 17ms/step - loss: 2.4814 - accuracy: 0.4693\n",
      "Epoch 13/150\n",
      "1639/1639 [==============================] - 29s 18ms/step - loss: 2.2819 - accuracy: 0.5071\n",
      "Epoch 14/150\n",
      "1639/1639 [==============================] - 29s 18ms/step - loss: 2.1029 - accuracy: 0.5434\n",
      "Epoch 15/150\n",
      "1639/1639 [==============================] - 28s 17ms/step - loss: 1.9400 - accuracy: 0.5759\n",
      "Epoch 16/150\n",
      "1639/1639 [==============================] - 28s 17ms/step - loss: 1.7972 - accuracy: 0.6052\n",
      "Epoch 17/150\n",
      "1639/1639 [==============================] - 28s 17ms/step - loss: 1.6673 - accuracy: 0.6323\n",
      "Epoch 18/150\n",
      "1639/1639 [==============================] - 28s 17ms/step - loss: 1.5511 - accuracy: 0.6578\n",
      "Epoch 19/150\n",
      "1639/1639 [==============================] - 28s 17ms/step - loss: 1.4453 - accuracy: 0.6797\n",
      "Epoch 20/150\n",
      "1639/1639 [==============================] - 27s 17ms/step - loss: 1.3532 - accuracy: 0.7001\n",
      "Epoch 21/150\n",
      "1639/1639 [==============================] - 28s 17ms/step - loss: 1.2675 - accuracy: 0.7182\n",
      "Epoch 22/150\n",
      "1639/1639 [==============================] - 28s 17ms/step - loss: 1.1913 - accuracy: 0.7348\n",
      "Epoch 23/150\n",
      "1639/1639 [==============================] - 28s 17ms/step - loss: 1.1212 - accuracy: 0.7498\n",
      "Epoch 24/150\n",
      "1639/1639 [==============================] - 28s 17ms/step - loss: 1.0583 - accuracy: 0.7627\n",
      "Epoch 25/150\n",
      "1639/1639 [==============================] - 28s 17ms/step - loss: 1.0015 - accuracy: 0.7756\n",
      "Epoch 26/150\n",
      "1639/1639 [==============================] - 28s 17ms/step - loss: 0.9527 - accuracy: 0.7854\n",
      "Epoch 27/150\n",
      "1639/1639 [==============================] - 28s 17ms/step - loss: 0.9059 - accuracy: 0.7979\n",
      "Epoch 28/150\n",
      "1639/1639 [==============================] - 28s 17ms/step - loss: 0.8611 - accuracy: 0.8070\n",
      "Epoch 29/150\n",
      "1639/1639 [==============================] - 28s 17ms/step - loss: 0.8261 - accuracy: 0.8133\n",
      "Epoch 30/150\n",
      "1639/1639 [==============================] - 28s 17ms/step - loss: 0.7882 - accuracy: 0.8236\n",
      "Epoch 31/150\n",
      "1639/1639 [==============================] - 28s 17ms/step - loss: 0.7580 - accuracy: 0.8290\n",
      "Epoch 32/150\n",
      "1639/1639 [==============================] - 28s 17ms/step - loss: 0.7239 - accuracy: 0.8359\n",
      "Epoch 33/150\n",
      "1639/1639 [==============================] - 28s 17ms/step - loss: 0.6997 - accuracy: 0.8407\n",
      "Epoch 34/150\n",
      "1639/1639 [==============================] - 28s 17ms/step - loss: 0.6726 - accuracy: 0.8485\n",
      "Epoch 35/150\n",
      "1639/1639 [==============================] - 28s 17ms/step - loss: 0.6503 - accuracy: 0.8526\n",
      "Epoch 36/150\n",
      "1639/1639 [==============================] - 28s 17ms/step - loss: 0.6302 - accuracy: 0.8576\n",
      "Epoch 37/150\n",
      "1639/1639 [==============================] - 28s 17ms/step - loss: 0.6121 - accuracy: 0.8614\n",
      "Epoch 38/150\n",
      "1639/1639 [==============================] - 28s 17ms/step - loss: 0.5952 - accuracy: 0.8645\n",
      "Epoch 39/150\n",
      "1639/1639 [==============================] - 28s 17ms/step - loss: 0.5772 - accuracy: 0.8679\n",
      "Epoch 40/150\n",
      "1639/1639 [==============================] - 28s 17ms/step - loss: 0.5614 - accuracy: 0.8706\n",
      "Epoch 41/150\n",
      "1639/1639 [==============================] - 28s 17ms/step - loss: 0.5466 - accuracy: 0.8745\n",
      "Epoch 42/150\n",
      "1639/1639 [==============================] - 28s 17ms/step - loss: 0.5361 - accuracy: 0.8761\n",
      "Epoch 43/150\n",
      "1639/1639 [==============================] - 28s 17ms/step - loss: 0.5292 - accuracy: 0.8765\n",
      "Epoch 44/150\n",
      "1639/1639 [==============================] - 28s 17ms/step - loss: 0.5154 - accuracy: 0.8800\n",
      "Epoch 45/150\n",
      "1639/1639 [==============================] - 28s 17ms/step - loss: 0.5008 - accuracy: 0.8837\n",
      "Epoch 46/150\n",
      "1639/1639 [==============================] - 28s 17ms/step - loss: 0.4971 - accuracy: 0.8836\n",
      "Epoch 47/150\n",
      "1639/1639 [==============================] - 28s 17ms/step - loss: 0.4888 - accuracy: 0.8852\n",
      "Epoch 48/150\n",
      "1639/1639 [==============================] - 28s 17ms/step - loss: 0.4789 - accuracy: 0.8877\n",
      "Epoch 49/150\n",
      "1639/1639 [==============================] - 28s 17ms/step - loss: 0.4636 - accuracy: 0.8916\n",
      "Epoch 50/150\n",
      "1639/1639 [==============================] - 28s 17ms/step - loss: 0.4655 - accuracy: 0.8900\n",
      "Epoch 51/150\n",
      "1639/1639 [==============================] - 29s 18ms/step - loss: 0.4659 - accuracy: 0.8890\n",
      "Epoch 52/150\n",
      "1639/1639 [==============================] - 31s 19ms/step - loss: 0.4510 - accuracy: 0.8927\n",
      "Epoch 53/150\n",
      "1639/1639 [==============================] - 28s 17ms/step - loss: 0.4438 - accuracy: 0.8949\n",
      "Epoch 54/150\n",
      "1639/1639 [==============================] - 28s 17ms/step - loss: 0.4461 - accuracy: 0.8936\n",
      "Epoch 55/150\n",
      "1639/1639 [==============================] - 28s 17ms/step - loss: 0.4343 - accuracy: 0.8961\n",
      "Epoch 56/150\n",
      "1639/1639 [==============================] - 28s 17ms/step - loss: 0.4321 - accuracy: 0.8952\n",
      "Epoch 57/150\n",
      "1639/1639 [==============================] - 29s 18ms/step - loss: 0.4364 - accuracy: 0.8940\n",
      "Epoch 58/150\n",
      "1639/1639 [==============================] - 28s 17ms/step - loss: 0.4184 - accuracy: 0.8999\n",
      "Epoch 59/150\n",
      "1639/1639 [==============================] - 30s 18ms/step - loss: 0.4176 - accuracy: 0.8994\n",
      "Epoch 60/150\n",
      "1639/1639 [==============================] - 31s 19ms/step - loss: 0.4213 - accuracy: 0.8967\n",
      "Epoch 61/150\n",
      "1639/1639 [==============================] - 32s 19ms/step - loss: 0.4167 - accuracy: 0.8989\n",
      "Epoch 62/150\n",
      "1639/1639 [==============================] - 31s 19ms/step - loss: 0.4053 - accuracy: 0.9022\n",
      "Epoch 63/150\n",
      "1639/1639 [==============================] - 32s 19ms/step - loss: 0.4111 - accuracy: 0.8993\n",
      "Epoch 64/150\n",
      "1639/1639 [==============================] - 30s 18ms/step - loss: 0.3966 - accuracy: 0.9036\n",
      "Epoch 65/150\n",
      "1639/1639 [==============================] - 31s 19ms/step - loss: 0.4012 - accuracy: 0.9015\n",
      "Epoch 66/150\n",
      "1639/1639 [==============================] - 28s 17ms/step - loss: 0.4084 - accuracy: 0.8987\n",
      "Epoch 67/150\n",
      "1639/1639 [==============================] - 29s 17ms/step - loss: 0.3944 - accuracy: 0.9033\n",
      "Epoch 68/150\n",
      "1639/1639 [==============================] - 28s 17ms/step - loss: 0.3962 - accuracy: 0.9020\n",
      "Epoch 69/150\n",
      "1639/1639 [==============================] - 28s 17ms/step - loss: 0.3926 - accuracy: 0.9025\n",
      "Epoch 70/150\n",
      "1639/1639 [==============================] - 29s 18ms/step - loss: 0.3963 - accuracy: 0.9010\n",
      "Epoch 71/150\n",
      "1639/1639 [==============================] - 29s 18ms/step - loss: 0.3879 - accuracy: 0.9038\n",
      "Epoch 72/150\n",
      "1639/1639 [==============================] - 29s 18ms/step - loss: 0.3871 - accuracy: 0.9032\n",
      "Epoch 73/150\n",
      "1639/1639 [==============================] - 29s 18ms/step - loss: 0.3880 - accuracy: 0.9020\n",
      "Epoch 74/150\n",
      "1639/1639 [==============================] - 30s 18ms/step - loss: 0.3801 - accuracy: 0.9052\n",
      "Epoch 75/150\n",
      "1639/1639 [==============================] - 34s 21ms/step - loss: 0.3775 - accuracy: 0.9057\n",
      "Epoch 76/150\n",
      "1639/1639 [==============================] - 31s 19ms/step - loss: 0.3824 - accuracy: 0.9035\n",
      "Epoch 77/150\n",
      "1639/1639 [==============================] - 33s 20ms/step - loss: 0.3886 - accuracy: 0.9012\n",
      "Epoch 78/150\n",
      "1639/1639 [==============================] - 31s 19ms/step - loss: 0.3828 - accuracy: 0.9019\n",
      "Epoch 79/150\n",
      "1639/1639 [==============================] - 30s 18ms/step - loss: 0.3784 - accuracy: 0.9040\n",
      "Epoch 80/150\n",
      "1639/1639 [==============================] - 31s 19ms/step - loss: 0.3763 - accuracy: 0.9050\n",
      "Epoch 81/150\n",
      "1639/1639 [==============================] - 30s 19ms/step - loss: 0.3733 - accuracy: 0.9059\n",
      "Epoch 82/150\n",
      "1639/1639 [==============================] - 30s 18ms/step - loss: 0.3673 - accuracy: 0.9074\n",
      "Epoch 83/150\n",
      "1639/1639 [==============================] - 30s 18ms/step - loss: 0.3770 - accuracy: 0.9039\n",
      "Epoch 84/150\n",
      "1639/1639 [==============================] - 30s 18ms/step - loss: 0.3689 - accuracy: 0.9051\n",
      "Epoch 85/150\n",
      "1639/1639 [==============================] - 29s 18ms/step - loss: 0.3738 - accuracy: 0.9050\n",
      "Epoch 86/150\n",
      "1639/1639 [==============================] - 29s 18ms/step - loss: 0.3742 - accuracy: 0.9034\n",
      "Epoch 87/150\n",
      "1639/1639 [==============================] - 30s 18ms/step - loss: 0.3676 - accuracy: 0.9057\n"
     ]
    }
   ],
   "source": [
    "with tf.device('gpu'):\n",
    "    history = GRU.fit(train, label, epochs=150, callbacks=[early_stop])"
   ]
  },
  {
   "cell_type": "code",
   "execution_count": 26,
   "metadata": {},
   "outputs": [],
   "source": [
    "accuracy = history.history['accuracy']\n",
    "loss = history.history['loss']  "
   ]
  },
  {
   "cell_type": "code",
   "execution_count": 27,
   "metadata": {},
   "outputs": [
    {
     "data": {
      "image/png": "[encoded data removed]",
      "text/plain": [
       "<Figure size 640x480 with 1 Axes>"
      ]
     },
     "metadata": {},
     "output_type": "display_data"
    }
   ],
   "source": [
    "plt.plot(accuracy, label='Accuracy')\n",
    "plt.plot(loss, label='Loss')\n",
    "plt.legend()\n",
    "plt.show()"
   ]
  },
  {
   "cell_type": "markdown",
   "metadata": {},
   "source": [
    "# Testing The Model"
   ]
  },
  {
   "cell_type": "markdown",
   "metadata": {},
   "source": [
    "**1-LSTM**"
   ]
  },
  {
   "cell_type": "code",
   "execution_count": 28,
   "metadata": {},
   "outputs": [
    {
     "name": "stdout",
     "output_type": "stream",
     "text": [
      "The officer looked at\n",
      "The officer looked at my\n",
      "The officer looked at my throat\n",
      "The officer looked at my throat and\n",
      "The officer looked at my throat and replied\n",
      "The officer looked at my throat and replied and\n",
      "The officer looked at my throat and replied and as\n",
      "The officer looked at my throat and replied and as hungry\n",
      "The officer looked at my throat and replied and as hungry as\n",
      "The officer looked at my throat and replied and as hungry as a\n",
      " \n",
      "Full Generated Text: The officer looked at my throat and replied and as hungry as a\n"
     ]
    }
   ],
   "source": [
    "text = \"The officer looked\"\n",
    "number_of_words = 10\n",
    "  \n",
    "for _ in range(number_of_words): \n",
    "    token_list = tokenizer.texts_to_sequences([text])[0] \n",
    "    token_list = tf.keras.utils.pad_sequences([token_list], maxlen=max_length-1, padding='pre') \n",
    "    predicted_probs = LSTM.predict(token_list, verbose=0) \n",
    "    word = tokenizer.index_word[np.argmax(predicted_probs)] \n",
    "    text += \" \" + word \n",
    "    print(text)\n",
    "print(\" \")\n",
    "print(\"Full Generated Text:\", text) "
   ]
  },
  {
   "cell_type": "markdown",
   "metadata": {},
   "source": [
    "**2-Bidirectional LSTM**"
   ]
  },
  {
   "cell_type": "code",
   "execution_count": 29,
   "metadata": {},
   "outputs": [
    {
     "name": "stdout",
     "output_type": "stream",
     "text": [
      "The officer looked at\n",
      "The officer looked at my\n",
      "The officer looked at my throat\n",
      "The officer looked at my throat and\n",
      "The officer looked at my throat and replied\n",
      "The officer looked at my throat and replied is\n",
      "The officer looked at my throat and replied is the\n",
      "The officer looked at my throat and replied is the grim\n",
      "The officer looked at my throat and replied is the grim old\n",
      "The officer looked at my throat and replied is the grim old voice\n",
      "The officer looked at my throat and replied is the grim old voice or\n",
      "The officer looked at my throat and replied is the grim old voice or full\n",
      " \n",
      "Full Generated Text: The officer looked at my throat and replied is the grim old voice or full\n"
     ]
    }
   ],
   "source": [
    "text = \"The officer looked\"\n",
    "number_of_words = 12\n",
    "  \n",
    "for _ in range(number_of_words): \n",
    "    token_list = tokenizer.texts_to_sequences([text])[0] \n",
    "    token_list = tf.keras.utils.pad_sequences([token_list], maxlen=max_length-1, padding='pre') \n",
    "    predicted_probs = Bidirectional_LSTM.predict(token_list, verbose=0) \n",
    "    word = tokenizer.index_word[np.argmax(predicted_probs)] \n",
    "    text += \" \" + word\n",
    "    print(text)\n",
    "print(\" \")\n",
    "print(\"Full Generated Text:\", text) "
   ]
  },
  {
   "cell_type": "markdown",
   "metadata": {},
   "source": [
    "**3-GRU**"
   ]
  },
  {
   "cell_type": "code",
   "execution_count": 30,
   "metadata": {},
   "outputs": [
    {
     "name": "stdout",
     "output_type": "stream",
     "text": [
      "The officer looked at\n",
      "The officer looked at my\n",
      "The officer looked at my throat\n",
      "The officer looked at my throat and\n",
      "The officer looked at my throat and replied\n",
      "The officer looked at my throat and replied was\n",
      "The officer looked at my throat and replied was a\n",
      "The officer looked at my throat and replied was a very\n",
      "The officer looked at my throat and replied was a very away\n",
      "The officer looked at my throat and replied was a very away dreams\n",
      "The officer looked at my throat and replied was a very away dreams a\n",
      "The officer looked at my throat and replied was a very away dreams a gateway\n",
      " \n",
      "Full Generated Text: The officer looked at my throat and replied was a very away dreams a gateway\n"
     ]
    }
   ],
   "source": [
    "text = \"The officer looked\"\n",
    "number_of_words = 12\n",
    "for _ in range(number_of_words): \n",
    "    token_list = tokenizer.texts_to_sequences([text])[0] \n",
    "    token_list = tf.keras.utils.pad_sequences([token_list], maxlen=max_length-1, padding='pre') \n",
    "    predicted_probs = GRU.predict(token_list, verbose=0) \n",
    "    word = tokenizer.index_word[np.argmax(predicted_probs)] \n",
    "    text += \" \" + word \n",
    "    print(text)\n",
    "print(\" \")\n",
    "print(\"Full Generated Text:\", text) "
   ]
  },
  {
   "cell_type": "markdown",
   "metadata": {},
   "source": [
    "# Save The Models"
   ]
  },
  {
   "cell_type": "code",
   "execution_count": 31,
   "metadata": {},
   "outputs": [],
   "source": [
    "LSTM.save('English_LSTM.h5')"
   ]
  },
  {
   "cell_type": "code",
   "execution_count": 32,
   "metadata": {},
   "outputs": [],
   "source": [
    "Bidirectional_LSTM.save('English_Bidirectional_LSTM.h5')"
   ]
  },
  {
   "cell_type": "code",
   "execution_count": 33,
   "metadata": {},
   "outputs": [],
   "source": [
    "GRU.save('English_GRU.h5')"
   ]
  },
  {
   "cell_type": "markdown",
   "metadata": {},
   "source": [
    "# Save The Tokenizer"
   ]
  },
  {
   "cell_type": "code",
   "execution_count": 34,
   "metadata": {},
   "outputs": [],
   "source": [
    "import pickle\n",
    "with open('english_tokenizer.pickle', 'wb') as handle:\n",
    "    pickle.dump(tokenizer, handle, protocol=pickle.HIGHEST_PROTOCOL)"
   ]
  },
  {
   "cell_type": "code",
   "execution_count": null,
   "metadata": {},
   "outputs": [],
   "source": []
  }
 ],
 "metadata": {
  "kernelspec": {
   "display_name": "Python 3",
   "language": "python",
   "name": "python3"
  },
  "language_info": {
   "codemirror_mode": {
    "name": "ipython",
    "version": 3
   },
   "file_extension": ".py",
   "mimetype": "text/x-python",
   "name": "python",
   "nbconvert_exporter": "python",
   "pygments_lexer": "ipython3",
   "version": "3.11.9"
  }
 },
 "nbformat": 4,
 "nbformat_minor": 2
}
